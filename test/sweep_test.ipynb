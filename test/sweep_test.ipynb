{
 "cells": [
  {
   "cell_type": "code",
   "execution_count": 3,
   "metadata": {},
   "outputs": [
    {
     "name": "stdout",
     "output_type": "stream",
     "text": [
      "Accuracy: 55.56%\n",
      "Correct classifications: 5 out of 9\n",
      "\n",
      "Misclassifications:\n",
      "Step: Check stock availability\n",
      "  Ground Truth: BVA\n",
      "  GPT Classification: ValueCategory.VALUE_ADDING\n",
      "\n",
      "Step: Confirm order\n",
      "  Ground Truth: BVA\n",
      "  GPT Classification: ValueCategory.VALUE_ADDING\n",
      "\n",
      "Step: Get shipment address\n",
      "  Ground Truth: BVA\n",
      "  GPT Classification: ValueCategory.VALUE_ADDING\n",
      "\n",
      "Step: Archive order\n",
      "  Ground Truth: BVA\n",
      "  GPT Classification: ValueCategory.VALUE_ADDING\n",
      "\n"
     ]
    }
   ],
   "source": [
    "import sys  \n",
    "import os  \n",
    "  \n",
    "root_path = os.path.abspath(os.path.join(os.getcwd(), '..'))  \n",
    "sys.path.append(root_path)  \n",
    "\n",
    "from cleanup.evaluation import ValueClassificationGroundTruth\n",
    "from cleanup.value_classification import ValueClassificationGPTResponse\n",
    "from src.common.util import ValueClassificationComparator\n",
    "import json\n",
    "\n",
    "sectors = os.listdir(\"data\")\n",
    "SECTOR = sectors[0]\n",
    "print(f\"Analyzing sector: {SECTOR}\")\n",
    "\n",
    "activities = os.listdir(os.path.join(\"data\", SECTOR))\n",
    "ACTIVITY = activities[0]\n",
    "\n",
    "print(f\"Analyzing activity: {ACTIVITY}\")\n",
    "\n",
    "DIR_PATH = os.path.join(\"data\", SECTOR, ACTIVITY)\n",
    "TEST_PATH = os.path.join(\"test\", SECTOR, ACTIVITY)\n",
    "GPT_NAME = \"GPT-3.5-Value-Model\"\n",
    "\n",
    "GROUND_TRUTH_PATH = f\"{ACTIVITY}_value_analysis.json\"\n",
    "RESPONSE_PATH = f\"{GPT_NAME}_response.txt\"\n",
    "\n",
    "def read_process(dir_path, process):\n",
    "    with open(os.path.join(dir_path, process), \"r\") as file:\n",
    "        text = file.read()\n",
    "    return text\n",
    "\n",
    "def read_process_analysis(dir_path, process):\n",
    "    with open(os.path.join(dir_path, process), \"r\") as file:\n",
    "        data = json.load(file)\n",
    "    return data\n",
    "\n"
   ]
  },
  {
   "cell_type": "code",
   "execution_count": null,
   "metadata": {},
   "outputs": [],
   "source": [
    "ground_truth_json = read_process(DIR_PATH, GROUND_TRUTH_PATH)\n",
    "gpt_response_text = read_process(TEST_PATH, RESPONSE_PATH)\n",
    "\n",
    "ground_truth = ValueClassificationGroundTruth.from_json(ground_truth_json)\n",
    "gpt_response = ValueClassificationGPTResponse(gpt_response_text) \n",
    "\n",
    "# Compare the results\n",
    "comparator = ValueClassificationComparator(ground_truth, gpt_response)\n",
    "results = comparator.compare()\n",
    "\n",
    "# Print the results\n",
    "print(f\"Accuracy: {results['accuracy']:.2%}\")\n",
    "print(f\"Correct classifications: {results['correct_classifications']} out of {results['total_activities']}\")\n",
    "print(\"\\nMisclassifications:\")\n",
    "for misclassification in results['misclassifications']:\n",
    "    print(f\"Step: {misclassification['step']}\")\n",
    "    print(f\"  Ground Truth: {misclassification['ground_truth']}\")\n",
    "    print(f\"  GPT Classification: {misclassification['gpt_classification']}\")\n",
    "    print()"
   ]
  }
 ],
 "metadata": {
  "kernelspec": {
   "display_name": "nw3",
   "language": "python",
   "name": "python3"
  },
  "language_info": {
   "codemirror_mode": {
    "name": "ipython",
    "version": 3
   },
   "file_extension": ".py",
   "mimetype": "text/x-python",
   "name": "python",
   "nbconvert_exporter": "python",
   "pygments_lexer": "ipython3",
   "version": "3.9.15"
  }
 },
 "nbformat": 4,
 "nbformat_minor": 2
}

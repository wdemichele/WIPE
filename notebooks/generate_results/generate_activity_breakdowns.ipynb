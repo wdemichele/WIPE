{
 "cells": [
  {
   "cell_type": "code",
   "execution_count": 1,
   "metadata": {},
   "outputs": [],
   "source": [
    "import os\n",
    "import sys\n",
    "import json\n",
    "root_path = os.path.abspath(os.path.join(os.getcwd(), \"../..\"))\n",
    "sys.path.append(root_path)\n",
    "import logging\n",
    "from typing import List, Tuple, Dict\n",
    "\n",
    "ROOT_DIR = r\"C:\\Projects\\Research\\SWEEP\\SWEEP\"\n",
    "\n",
    "# Set up logging\n",
    "logging.basicConfig(level=logging.INFO, format='%(asctime)s - %(levelname)s - %(message)s')\n",
    "\n",
    "def get_sectors() -> List[str]:\n",
    "    data_path = os.path.join(ROOT_DIR, \"data\")\n",
    "    return [sector for sector in os.listdir(data_path) if os.path.isdir(os.path.join(data_path, sector))]\n",
    "\n",
    "def get_activities(sector: str) -> List[str]:\n",
    "    sector_path = os.path.join(ROOT_DIR, \"data\", sector)\n",
    "    return [activity for activity in os.listdir(sector_path) if os.path.isdir(os.path.join(sector_path, activity))]\n",
    "\n",
    "def get_file_paths(sector: str, activity: str, model_name: str) -> Tuple[str, str, str, str]:\n",
    "    dir_path = os.path.join(ROOT_DIR, \"data\", sector, activity)\n",
    "    test_path = os.path.join(ROOT_DIR, \"test\", \"results\", \"activity_breakdown\", sector, activity)\n",
    "    bpmn_model_path = os.path.join(ROOT_DIR, dir_path, f\"{activity}_model.txt\")\n",
    "    activity_breakdown_gt = os.path.join(ROOT_DIR, dir_path, f\"{activity}_activity_breakdown.json\")\n",
    "    response_path = os.path.join(ROOT_DIR, test_path, f\"{model_name}_response.json\")\n",
    "    return test_path, bpmn_model_path, activity_breakdown_gt, response_path"
   ]
  },
  {
   "cell_type": "code",
   "execution_count": 2,
   "metadata": {},
   "outputs": [],
   "source": [
    "from src.common.prompts.activity_breakdown.prompt_components import ABPromptComponents\n",
    "from src.activity_breakdown import ActivityBreakdownComponentsGPT, ActivityBreakdownEvaluation\n",
    "from src.common.models import ActivityBreakdown, BPMNModel\n",
    "from src.common.util import open_file\n",
    "\n",
    "activity_breakdown_evaluation: ActivityBreakdownEvaluation = ActivityBreakdownEvaluation()\n",
    "\n",
    "def breakdown_activity(sector: str, activity: str, activity_breakdown_gpt: ActivityBreakdownComponentsGPT, model_name: str) -> None:\n",
    "    logging.info(f\"Processing sector: {sector}, activity: {activity}\")\n",
    "    \n",
    "    try:\n",
    "        # Load activity breakdown and ground truth\n",
    "        test_path, bpmn_model_path, activity_breakdown_gt, response_path = get_file_paths(sector, activity, model_name)\n",
    "        \n",
    "        os.makedirs(test_path, exist_ok=True)\n",
    "        \n",
    "        bpmn_model = BPMNModel.from_text(bpmn_model_path)\n",
    "        ground_truth: ActivityBreakdown = ActivityBreakdown.from_json(activity_breakdown_gt)\n",
    "        \n",
    "        activity_breakdown_response = activity_breakdown_gpt.bpmn_activity_breakdown(bpmn_model.model)\n",
    "        model_activity_breakdown: ActivityBreakdown = ActivityBreakdown.from_dict(activity, activity_breakdown_response)\n",
    "        \n",
    "        # Compare results\n",
    "        comparison_data = activity_breakdown_evaluation.compare_activity_breakdowns(model_activity_breakdown.to_dict(), ground_truth.to_dict())\n",
    "        comparison_metrics = activity_breakdown_evaluation.evaluate_comparisons(comparison_data, plot=False)\n",
    "        \n",
    "        response_dict = {\n",
    "            \"model\": {\n",
    "                \"name\": model_name,\n",
    "                \"components\": activity_breakdown_gpt.prompt_components[\"_raw_input\"]\n",
    "            },\n",
    "            \"response\": model_activity_breakdown.to_dict(),\n",
    "            \"metrics\": comparison_metrics\n",
    "        }\n",
    "        \n",
    "        # Save results\n",
    "        with open(response_path, 'w') as f:\n",
    "            json.dump(response_dict, f, indent=4)\n",
    "        \n",
    "        logging.info(f\"Successfully processed and saved results for {sector}/{activity} with {model_name}\")\n",
    "    \n",
    "    except Exception as e:\n",
    "        logging.error(f\"Error processing {sector}/{activity}: {str(e)}\")\n",
    "        "
   ]
  },
  {
   "cell_type": "code",
   "execution_count": 3,
   "metadata": {},
   "outputs": [],
   "source": [
    "model_name = \"GPT-3.5-Activity-Breakdown-Subject_Matter_Expert_Detailed_Basic\"\n",
    "\n",
    "model_settings = {\n",
    "        'role_description': \"sme_detailed\",\n",
    "        'task_description': \"breakdown_substeps\",\n",
    "        'guidelines': \"standard_guidelines\",\n",
    "        'output_format': \"standard_output\",\n",
    "        # 'example_output': \"\",\n",
    "        # 'focus_shift': \"\",\n",
    "}\n",
    "\n",
    "model_components = ABPromptComponents.from_dict(model_settings)\n",
    "\n",
    "\n",
    "activity_breakdown_gpt = ActivityBreakdownComponentsGPT(model_components)"
   ]
  },
  {
   "cell_type": "code",
   "execution_count": 4,
   "metadata": {},
   "outputs": [
    {
     "name": "stderr",
     "output_type": "stream",
     "text": [
      "2024-09-26 14:22:20,072 - INFO - Processing with model: GPT-3.5-Activity-Breakdown-Subject_Matter_Expert_Detailed_Basic\n",
      "2024-09-26 14:22:20,312 - INFO - Processing sector: banking, activity: credit_application\n",
      "2024-09-26 14:22:26,874 - INFO - HTTP Request: POST https://datascience-openai-local.openai.azure.com//openai/deployments/gpt-35-turbo-16k/chat/completions?api-version=2024-05-01-preview \"HTTP/1.1 200 OK\"\n"
     ]
    },
    {
     "name": "stdout",
     "output_type": "stream",
     "text": [
      "Comparing activity 1...\n"
     ]
    },
    {
     "name": "stderr",
     "output_type": "stream",
     "text": [
      "2024-09-26 14:22:30,444 - INFO - HTTP Request: POST https://datascience-openai-local.openai.azure.com//openai/deployments/gpt-35-turbo-16k/chat/completions?api-version=2024-05-01-preview \"HTTP/1.1 200 OK\"\n"
     ]
    },
    {
     "name": "stdout",
     "output_type": "stream",
     "text": [
      "Comparing activity 2...\n"
     ]
    },
    {
     "name": "stderr",
     "output_type": "stream",
     "text": [
      "2024-09-26 14:22:34,051 - INFO - HTTP Request: POST https://datascience-openai-local.openai.azure.com//openai/deployments/gpt-35-turbo-16k/chat/completions?api-version=2024-05-01-preview \"HTTP/1.1 200 OK\"\n"
     ]
    },
    {
     "name": "stdout",
     "output_type": "stream",
     "text": [
      "Comparing activity 3...\n"
     ]
    },
    {
     "name": "stderr",
     "output_type": "stream",
     "text": [
      "2024-09-26 14:22:36,786 - INFO - HTTP Request: POST https://datascience-openai-local.openai.azure.com//openai/deployments/gpt-35-turbo-16k/chat/completions?api-version=2024-05-01-preview \"HTTP/1.1 200 OK\"\n"
     ]
    },
    {
     "name": "stdout",
     "output_type": "stream",
     "text": [
      "Comparing activity 4...\n"
     ]
    },
    {
     "name": "stderr",
     "output_type": "stream",
     "text": [
      "2024-09-26 14:22:39,911 - INFO - HTTP Request: POST https://datascience-openai-local.openai.azure.com//openai/deployments/gpt-35-turbo-16k/chat/completions?api-version=2024-05-01-preview \"HTTP/1.1 200 OK\"\n"
     ]
    },
    {
     "name": "stdout",
     "output_type": "stream",
     "text": [
      "Comparing activity 5...\n"
     ]
    },
    {
     "name": "stderr",
     "output_type": "stream",
     "text": [
      "2024-09-26 14:22:42,891 - INFO - HTTP Request: POST https://datascience-openai-local.openai.azure.com//openai/deployments/gpt-35-turbo-16k/chat/completions?api-version=2024-05-01-preview \"HTTP/1.1 200 OK\"\n"
     ]
    },
    {
     "name": "stdout",
     "output_type": "stream",
     "text": [
      "Comparing activity 6...\n"
     ]
    },
    {
     "name": "stderr",
     "output_type": "stream",
     "text": [
      "2024-09-26 14:22:46,031 - INFO - HTTP Request: POST https://datascience-openai-local.openai.azure.com//openai/deployments/gpt-35-turbo-16k/chat/completions?api-version=2024-05-01-preview \"HTTP/1.1 200 OK\"\n"
     ]
    },
    {
     "name": "stdout",
     "output_type": "stream",
     "text": [
      "Comparing activity 7...\n"
     ]
    },
    {
     "name": "stderr",
     "output_type": "stream",
     "text": [
      "2024-09-26 14:22:48,008 - INFO - HTTP Request: POST https://datascience-openai-local.openai.azure.com//openai/deployments/gpt-35-turbo-16k/chat/completions?api-version=2024-05-01-preview \"HTTP/1.1 200 OK\"\n"
     ]
    },
    {
     "name": "stdout",
     "output_type": "stream",
     "text": [
      "Comparing activity 8...\n"
     ]
    },
    {
     "name": "stderr",
     "output_type": "stream",
     "text": [
      "2024-09-26 14:22:51,372 - INFO - HTTP Request: POST https://datascience-openai-local.openai.azure.com//openai/deployments/gpt-35-turbo-16k/chat/completions?api-version=2024-05-01-preview \"HTTP/1.1 200 OK\"\n",
      "2024-09-26 14:22:51,375 - INFO - Successfully processed and saved results for banking/credit_application with GPT-3.5-Activity-Breakdown-Subject_Matter_Expert_Detailed_Basic\n",
      "2024-09-26 14:22:51,376 - INFO - Processing sector: banking, activity: credit_check\n"
     ]
    },
    {
     "name": "stdout",
     "output_type": "stream",
     "text": [
      "Quantitative Metrics:\n",
      "=====================\n",
      "Total Activities Evaluated: 3\n",
      "Average Overall Similarity Score: 40.83%\n",
      "Average Confidence Score: 45.83%\n",
      "Average Sequence Alignment Score: 67.71%\n",
      "Ground Truth Steps Coverage: 78.57%\n",
      "Response Steps Coverage: 57.14%\n",
      "\n",
      "Match Type Distribution:\n",
      "- Functional Equivalence: 4 matches (33.33%), Average Confidence: 82.50%\n",
      "- No Match: 5 matches (41.67%), Average Confidence: 0.00%\n",
      "- Granularity Difference: 3 matches (25.00%), Average Confidence: 73.33%\n",
      "\n",
      "\n",
      "Qualitative Analysis:\n",
      "=====================\n",
      "\n",
      "Examples of Matched Steps by Match Type:\n",
      "\n",
      "Match Type: Functional Equivalence\n",
      "Activity: Request Appointment\n",
      "Ground Truth Steps:\n",
      "  - [1] Initiate appointment request\n",
      "Response Steps:\n",
      "  - [1] Contact loan officer or financial institution\n",
      "Confidence: 80%\n",
      "Explanation: The ground truth step 'Initiate appointment request' is functionally equivalent to the response step 'Contact loan officer or financial institution'. Although the wording is different, both steps involve initiating contact with the relevant party to request an appointment.\n",
      "\n",
      "Activity: Request Appointment\n",
      "Ground Truth Steps:\n",
      "  - [2] Provide necessary details for appointment\n",
      "Response Steps:\n",
      "  - [2] Provide initial information for appointment request\n",
      "Confidence: 90%\n",
      "Explanation: The ground truth step 'Provide necessary details for appointment' is functionally equivalent to the response step 'Provide initial information for appointment request'. Both steps involve providing the required information to proceed with the appointment request.\n",
      "\n",
      "Activity: Hand In Credit Application\n",
      "Ground Truth Steps:\n",
      "  - [1] Submit credit application form\n",
      "Response Steps:\n",
      "  - [1] Review submitted application and documents\n",
      "Confidence: 80%\n",
      "Explanation: The response step 'Review submitted application and documents' is functionally equivalent to the ground truth step 'Submit credit application form'. Although the wording is different, both steps involve the review of the submitted application and documents.\n",
      "\n",
      "\n",
      "\n",
      "Match Type: No Match\n",
      "Activity: Request Appointment\n",
      "Ground Truth Steps:\n",
      "Response Steps:\n",
      "  - [3] Submit appointment request\n",
      "Confidence: 0%\n",
      "Explanation: There is no corresponding ground truth step for the response step 'Submit appointment request'. This step is not mentioned in the ground truth.\n",
      "\n",
      "Activity: Appointment Decision\n",
      "Ground Truth Steps:\n",
      "  - [1] Review appointment request\n",
      "Response Steps:\n",
      "  - [1] Review available time slots\n",
      "Confidence: 0%\n",
      "Explanation: The ground truth step 'Review appointment request' does not have a corresponding step in the response.\n",
      "\n",
      "Activity: Set Appointment\n",
      "Ground Truth Steps:\n",
      "  - [1] Schedule appointment date and time\n",
      "Response Steps:\n",
      "  - [1] Fill out credit application form\n",
      "Confidence: 0%\n",
      "Explanation: There is no meaningful match between 'Schedule appointment date and time' and 'Fill out credit application form'.\n",
      "\n",
      "\n",
      "\n",
      "Match Type: Granularity Difference\n",
      "Activity: Appointment Decision\n",
      "Ground Truth Steps:\n",
      "  - [2] Make decision on appointment approval or denial\n",
      "Response Steps:\n",
      "  - [2] Select suitable date and time\n",
      "  - [3] Confirm appointment with applicant\n",
      "Confidence: 70%\n",
      "Explanation: The ground truth step 'Make decision on appointment approval or denial' is more granular than the response steps. It corresponds to the combination of response steps 2 and 3.\n",
      "\n",
      "Activity: Verification Result\n",
      "Ground Truth Steps:\n",
      "  - [2] Determine next steps based on verification result\n",
      "Response Steps:\n",
      "  - [2] Conduct on-site inspection of collateral\n",
      "  - [3] Document collateral condition and value\n",
      "  - [4] Prepare assessment report\n",
      "Confidence: 70%\n",
      "Explanation: The ground truth step 'Determine next steps based on verification result' is more granular than the response steps. The response steps 'Conduct on-site inspection of collateral', 'Document collateral condition and value', and 'Prepare assessment report' collectively cover the actions involved in determining the next steps based on the verification result.\n",
      "\n",
      "Activity: Submit File to Underwriter\n",
      "Ground Truth Steps:\n",
      "  - [1] Send borrower's file to underwriter for evaluation\n",
      "Response Steps:\n",
      "  - [1] Compile all verified information and documents\n",
      "  - [2] Prepare summary of application for underwriter\n",
      "  - [3] Submit complete file to underwriting department\n",
      "Confidence: 80%\n",
      "Explanation: The ground truth step 'Send borrower's file to underwriter for evaluation' corresponds to the response steps 'Compile all verified information and documents', 'Prepare summary of application for underwriter', and 'Submit complete file to underwriting department'. The response steps provide a more detailed breakdown of the process.\n",
      "\n",
      "\n",
      "\n",
      "Analysis of Unmatched Ground Truth Steps:\n",
      "Activity: Set Appointment, Step: [1] Schedule appointment date and time\n",
      "Reason: There is no corresponding step in the response activity.\n",
      "\n",
      "Activity: Verify Borrower's Information, Step: [1] Validate borrower's personal and financial information\n",
      "Reason: There is no corresponding step in the response activity.\n",
      "\n",
      "Activity: Application Rejected, Step: [1] Inform borrower about application rejection\n",
      "Reason: There is no corresponding step in the response activity.\n",
      "\n",
      "Analysis of Unmatched Response Steps:\n",
      "Activity: Appointment Decision, Step: [1] Review available time slots\n",
      "Reason: There is no corresponding step in the ground truth.\n",
      "\n",
      "Activity: Appointment Decision, Step: [3] Confirm appointment with applicant\n",
      "Reason: There is no corresponding step in the ground truth.\n",
      "\n",
      "Activity: Set Appointment, Step: [1] Fill out credit application form\n",
      "Reason: There is no corresponding step in the ground truth activity.\n",
      "\n",
      "Activity: Set Appointment, Step: [2] Gather necessary supporting documents\n",
      "Reason: There is no corresponding step in the ground truth activity.\n",
      "\n",
      "Activity: Set Appointment, Step: [3] Submit completed application and documents\n",
      "Reason: There is no corresponding step in the ground truth activity.\n",
      "\n",
      "Granularity Issues Identified:\n",
      "Activity: Request Appointment\n",
      "Ground Truth Steps:\n",
      "Response Steps:\n",
      "  - [3] Submit appointment request\n",
      "Explanation: There is no corresponding ground truth step for the response step 'Submit appointment request'. This step is not mentioned in the ground truth.\n",
      "\n",
      "Activity: Appointment Decision\n",
      "Ground Truth Steps:\n",
      "  - [2] Make decision on appointment approval or denial\n",
      "Response Steps:\n",
      "  - [2] Select suitable date and time\n",
      "  - [3] Confirm appointment with applicant\n",
      "Explanation: The ground truth step 'Make decision on appointment approval or denial' is more granular than the response steps. It corresponds to the combination of response steps 2 and 3.\n",
      "\n",
      "Activity: Verification Result\n",
      "Ground Truth Steps:\n",
      "  - [2] Determine next steps based on verification result\n",
      "Response Steps:\n",
      "  - [2] Conduct on-site inspection of collateral\n",
      "  - [3] Document collateral condition and value\n",
      "  - [4] Prepare assessment report\n",
      "Explanation: The ground truth step 'Determine next steps based on verification result' is more granular than the response steps. The response steps 'Conduct on-site inspection of collateral', 'Document collateral condition and value', and 'Prepare assessment report' collectively cover the actions involved in determining the next steps based on the verification result.\n",
      "\n",
      "Activity: Submit File to Underwriter\n",
      "Ground Truth Steps:\n",
      "  - [1] Send borrower's file to underwriter for evaluation\n",
      "Response Steps:\n",
      "  - [1] Compile all verified information and documents\n",
      "  - [2] Prepare summary of application for underwriter\n",
      "  - [3] Submit complete file to underwriting department\n",
      "Explanation: The ground truth step 'Send borrower's file to underwriter for evaluation' corresponds to the response steps 'Compile all verified information and documents', 'Prepare summary of application for underwriter', and 'Submit complete file to underwriting department'. The response steps provide a more detailed breakdown of the process.\n",
      "\n",
      "Activity: Application Rejected\n",
      "Ground Truth Steps:\n",
      "  - [1] Inform borrower about application rejection\n",
      "Response Steps:\n",
      "  - [1] Review loan terms and conditions with applicant\n",
      "  - [2] Answer any questions from applicant\n",
      "  - [3] Obtain applicant's signature on loan agreement\n",
      "  - [4] Provide copy of signed agreement to applicant\n",
      "Explanation: There is no corresponding step in the response activity for the ground truth step 'Inform borrower about application rejection'.\n",
      "\n"
     ]
    },
    {
     "name": "stderr",
     "output_type": "stream",
     "text": [
      "2024-09-26 14:22:53,428 - INFO - HTTP Request: POST https://datascience-openai-local.openai.azure.com//openai/deployments/gpt-35-turbo-16k/chat/completions?api-version=2024-05-01-preview \"HTTP/1.1 200 OK\"\n"
     ]
    },
    {
     "name": "stdout",
     "output_type": "stream",
     "text": [
      "Comparing activity 1...\n"
     ]
    },
    {
     "name": "stderr",
     "output_type": "stream",
     "text": [
      "2024-09-26 14:22:55,284 - INFO - HTTP Request: POST https://datascience-openai-local.openai.azure.com//openai/deployments/gpt-35-turbo-16k/chat/completions?api-version=2024-05-01-preview \"HTTP/1.1 200 OK\"\n"
     ]
    },
    {
     "name": "stdout",
     "output_type": "stream",
     "text": [
      "Comparing activity 2...\n"
     ]
    },
    {
     "name": "stderr",
     "output_type": "stream",
     "text": [
      "2024-09-26 14:22:58,284 - INFO - HTTP Request: POST https://datascience-openai-local.openai.azure.com//openai/deployments/gpt-35-turbo-16k/chat/completions?api-version=2024-05-01-preview \"HTTP/1.1 200 OK\"\n"
     ]
    },
    {
     "name": "stdout",
     "output_type": "stream",
     "text": [
      "Comparing activity 3...\n"
     ]
    },
    {
     "name": "stderr",
     "output_type": "stream",
     "text": [
      "2024-09-26 14:23:00,275 - INFO - HTTP Request: POST https://datascience-openai-local.openai.azure.com//openai/deployments/gpt-35-turbo-16k/chat/completions?api-version=2024-05-01-preview \"HTTP/1.1 200 OK\"\n"
     ]
    },
    {
     "name": "stdout",
     "output_type": "stream",
     "text": [
      "Comparing activity 4...\n"
     ]
    },
    {
     "name": "stderr",
     "output_type": "stream",
     "text": [
      "2024-09-26 14:23:02,928 - INFO - HTTP Request: POST https://datascience-openai-local.openai.azure.com//openai/deployments/gpt-35-turbo-16k/chat/completions?api-version=2024-05-01-preview \"HTTP/1.1 200 OK\"\n"
     ]
    },
    {
     "name": "stdout",
     "output_type": "stream",
     "text": [
      "Comparing activity 5...\n"
     ]
    },
    {
     "name": "stderr",
     "output_type": "stream",
     "text": [
      "2024-09-26 14:23:06,075 - INFO - HTTP Request: POST https://datascience-openai-local.openai.azure.com//openai/deployments/gpt-35-turbo-16k/chat/completions?api-version=2024-05-01-preview \"HTTP/1.1 200 OK\"\n"
     ]
    },
    {
     "name": "stdout",
     "output_type": "stream",
     "text": [
      "Comparing activity 6...\n"
     ]
    },
    {
     "name": "stderr",
     "output_type": "stream",
     "text": [
      "2024-09-26 14:23:08,784 - INFO - HTTP Request: POST https://datascience-openai-local.openai.azure.com//openai/deployments/gpt-35-turbo-16k/chat/completions?api-version=2024-05-01-preview \"HTTP/1.1 200 OK\"\n",
      "2024-09-26 14:23:08,789 - INFO - Successfully processed and saved results for banking/credit_check with GPT-3.5-Activity-Breakdown-Subject_Matter_Expert_Detailed_Basic\n",
      "2024-09-26 14:23:08,790 - INFO - Processing sector: banking, activity: credit_score\n"
     ]
    },
    {
     "name": "stdout",
     "output_type": "stream",
     "text": [
      "Quantitative Metrics:\n",
      "=====================\n",
      "Total Activities Evaluated: 4\n",
      "Average Overall Similarity Score: 60.50%\n",
      "Average Confidence Score: 71.67%\n",
      "Average Sequence Alignment Score: 31.94%\n",
      "Ground Truth Steps Coverage: 85.71%\n",
      "Response Steps Coverage: 56.00%\n",
      "\n",
      "Match Type Distribution:\n",
      "- Granularity Difference: 3 matches (50.00%), Average Confidence: 80.00%\n",
      "- Functional Equivalence: 1 matches (16.67%), Average Confidence: 90.00%\n",
      "- No Match: 1 matches (16.67%), Average Confidence: 0.00%\n",
      "- Identical Match: 1 matches (16.67%), Average Confidence: 100.00%\n",
      "\n",
      "\n",
      "Qualitative Analysis:\n",
      "=====================\n",
      "\n",
      "Examples of Matched Steps by Match Type:\n",
      "\n",
      "Match Type: Granularity Difference\n",
      "Activity: Check completeness\n",
      "Ground Truth Steps:\n",
      "  - [1] Verify all required information is provided\n",
      "Response Steps:\n",
      "  - [1] Review all submitted application documents\n",
      "  - [2] Verify all required fields are filled\n",
      "  - [3] Ensure all necessary supporting documents are attached\n",
      "Confidence: 80%\n",
      "Explanation: Ground truth step 1 corresponds to response steps 1, 2, and 3. The response steps provide more detailed substeps to verify the completeness of the application.\n",
      "\n",
      "Activity: Check income sources\n",
      "Ground Truth Steps:\n",
      "  - [1] Collect income source information\n",
      "Response Steps:\n",
      "  - [1] Verify employment status\n",
      "  - [2] Review salary statements or tax returns\n",
      "  - [3] Assess stability and reliability of income sources\n",
      "Confidence: 80%\n",
      "Explanation: Ground truth step 1 corresponds to response steps 1, 2, and 3. The response steps provide more detailed substeps for collecting income source information.\n",
      "\n",
      "Activity: Assess application\n",
      "Ground Truth Steps:\n",
      "  - [1] Analyze credit history and income data\n",
      "Response Steps:\n",
      "  - [2] Analyze credit history findings\n",
      "  - [3] Evaluate income source information\n",
      "Confidence: 80%\n",
      "Explanation: Ground truth step 1 corresponds to response steps 2 and 3. The response steps provide a more detailed breakdown of the analysis process.\n",
      "\n",
      "\n",
      "\n",
      "Match Type: Functional Equivalence\n",
      "Activity: Check credit history\n",
      "Ground Truth Steps:\n",
      "  - [1] Retrieve credit history data\n",
      "Response Steps:\n",
      "  - [1] Request credit report from credit bureau\n",
      "Confidence: 90%\n",
      "Explanation: The ground truth step 'Retrieve credit history data' is functionally equivalent to the response step 'Request credit report from credit bureau'. Although the wording is different, both steps involve obtaining the credit history data.\n",
      "\n",
      "\n",
      "\n",
      "Match Type: No Match\n",
      "Activity: Make credit offer\n",
      "Ground Truth Steps:\n",
      "  - [1] Generate credit offer based on assessment\n",
      "Response Steps:\n",
      "  - [1] Determine credit limit\n",
      "  - [2] Set interest rate\n",
      "  - [3] Prepare credit offer document\n",
      "  - [4] Send offer to applicant\n",
      "Confidence: 0%\n",
      "Explanation: The ground truth step 'Generate credit offer based on assessment' does not have a corresponding step in the response.\n",
      "\n",
      "\n",
      "\n",
      "Match Type: Identical Match\n",
      "Activity: Notify rejection\n",
      "Ground Truth Steps:\n",
      "  - [1] Send rejection notification to applicant\n",
      "Response Steps:\n",
      "  - [3] Send rejection notification to applicant\n",
      "Confidence: 100%\n",
      "Explanation: The response step 'Send rejection notification to applicant' is an identical match to the ground truth step 'Send rejection notification to applicant'.\n",
      "\n",
      "\n",
      "\n",
      "Analysis of Unmatched Ground Truth Steps:\n",
      "Activity: Make credit offer, Step: [1] Generate credit offer based on assessment\n",
      "Reason: No corresponding step in the response\n",
      "\n",
      "Analysis of Unmatched Response Steps:\n",
      "Activity: Check credit history, Step: [2] Review credit score\n",
      "Reason: There is no corresponding step in the ground truth for 'Review credit score'.\n",
      "\n",
      "Activity: Check credit history, Step: [3] Analyze payment history and outstanding debts\n",
      "Reason: There is no corresponding step in the ground truth for 'Analyze payment history and outstanding debts'.\n",
      "\n",
      "Activity: Assess application, Step: [1] Review results of completeness check\n",
      "Reason: No corresponding step in the ground truth\n",
      "\n",
      "Activity: Assess application, Step: [4] Calculate debt-to-income ratio\n",
      "Reason: No corresponding step in the ground truth\n",
      "\n",
      "Activity: Assess application, Step: [5] Determine overall creditworthiness\n",
      "Reason: No corresponding step in the ground truth\n",
      "\n",
      "Granularity Issues Identified:\n",
      "Activity: Check completeness\n",
      "Ground Truth Steps:\n",
      "  - [1] Verify all required information is provided\n",
      "Response Steps:\n",
      "  - [1] Review all submitted application documents\n",
      "  - [2] Verify all required fields are filled\n",
      "  - [3] Ensure all necessary supporting documents are attached\n",
      "Explanation: Ground truth step 1 corresponds to response steps 1, 2, and 3. The response steps provide more detailed substeps to verify the completeness of the application.\n",
      "\n",
      "Activity: Check income sources\n",
      "Ground Truth Steps:\n",
      "  - [1] Collect income source information\n",
      "Response Steps:\n",
      "  - [1] Verify employment status\n",
      "  - [2] Review salary statements or tax returns\n",
      "  - [3] Assess stability and reliability of income sources\n",
      "Explanation: Ground truth step 1 corresponds to response steps 1, 2, and 3. The response steps provide more detailed substeps for collecting income source information.\n",
      "\n",
      "Activity: Assess application\n",
      "Ground Truth Steps:\n",
      "  - [1] Analyze credit history and income data\n",
      "Response Steps:\n",
      "  - [2] Analyze credit history findings\n",
      "  - [3] Evaluate income source information\n",
      "Explanation: Ground truth step 1 corresponds to response steps 2 and 3. The response steps provide a more detailed breakdown of the analysis process.\n",
      "\n",
      "Activity: Make credit offer\n",
      "Ground Truth Steps:\n",
      "  - [1] Generate credit offer based on assessment\n",
      "Response Steps:\n",
      "  - [1] Determine credit limit\n",
      "  - [2] Set interest rate\n",
      "  - [3] Prepare credit offer document\n",
      "  - [4] Send offer to applicant\n",
      "Explanation: The ground truth step 'Generate credit offer based on assessment' does not have a corresponding step in the response.\n",
      "\n"
     ]
    },
    {
     "name": "stderr",
     "output_type": "stream",
     "text": [
      "2024-09-26 14:23:16,103 - INFO - HTTP Request: POST https://datascience-openai-local.openai.azure.com//openai/deployments/gpt-35-turbo-16k/chat/completions?api-version=2024-05-01-preview \"HTTP/1.1 200 OK\"\n"
     ]
    },
    {
     "name": "stdout",
     "output_type": "stream",
     "text": [
      "Comparing activity 1...\n"
     ]
    },
    {
     "name": "stderr",
     "output_type": "stream",
     "text": [
      "2024-09-26 14:23:18,674 - INFO - HTTP Request: POST https://datascience-openai-local.openai.azure.com//openai/deployments/gpt-35-turbo-16k/chat/completions?api-version=2024-05-01-preview \"HTTP/1.1 200 OK\"\n"
     ]
    },
    {
     "name": "stdout",
     "output_type": "stream",
     "text": [
      "Comparing activity 2...\n"
     ]
    },
    {
     "name": "stderr",
     "output_type": "stream",
     "text": [
      "2024-09-26 14:23:21,051 - INFO - HTTP Request: POST https://datascience-openai-local.openai.azure.com//openai/deployments/gpt-35-turbo-16k/chat/completions?api-version=2024-05-01-preview \"HTTP/1.1 200 OK\"\n"
     ]
    },
    {
     "name": "stdout",
     "output_type": "stream",
     "text": [
      "Comparing activity 3...\n"
     ]
    },
    {
     "name": "stderr",
     "output_type": "stream",
     "text": [
      "2024-09-26 14:23:24,187 - INFO - HTTP Request: POST https://datascience-openai-local.openai.azure.com//openai/deployments/gpt-35-turbo-16k/chat/completions?api-version=2024-05-01-preview \"HTTP/1.1 200 OK\"\n"
     ]
    },
    {
     "name": "stdout",
     "output_type": "stream",
     "text": [
      "Comparing activity 4...\n"
     ]
    },
    {
     "name": "stderr",
     "output_type": "stream",
     "text": [
      "2024-09-26 14:23:27,099 - INFO - HTTP Request: POST https://datascience-openai-local.openai.azure.com//openai/deployments/gpt-35-turbo-16k/chat/completions?api-version=2024-05-01-preview \"HTTP/1.1 200 OK\"\n"
     ]
    },
    {
     "name": "stdout",
     "output_type": "stream",
     "text": [
      "Comparing activity 5...\n"
     ]
    },
    {
     "name": "stderr",
     "output_type": "stream",
     "text": [
      "2024-09-26 14:23:29,622 - INFO - HTTP Request: POST https://datascience-openai-local.openai.azure.com//openai/deployments/gpt-35-turbo-16k/chat/completions?api-version=2024-05-01-preview \"HTTP/1.1 200 OK\"\n"
     ]
    },
    {
     "name": "stdout",
     "output_type": "stream",
     "text": [
      "Comparing activity 6...\n"
     ]
    },
    {
     "name": "stderr",
     "output_type": "stream",
     "text": [
      "2024-09-26 14:23:32,235 - INFO - HTTP Request: POST https://datascience-openai-local.openai.azure.com//openai/deployments/gpt-35-turbo-16k/chat/completions?api-version=2024-05-01-preview \"HTTP/1.1 200 OK\"\n"
     ]
    },
    {
     "name": "stdout",
     "output_type": "stream",
     "text": [
      "Comparing activity 7...\n"
     ]
    },
    {
     "name": "stderr",
     "output_type": "stream",
     "text": [
      "2024-09-26 14:23:35,294 - INFO - HTTP Request: POST https://datascience-openai-local.openai.azure.com//openai/deployments/gpt-35-turbo-16k/chat/completions?api-version=2024-05-01-preview \"HTTP/1.1 200 OK\"\n"
     ]
    },
    {
     "name": "stdout",
     "output_type": "stream",
     "text": [
      "Comparing activity 8...\n"
     ]
    },
    {
     "name": "stderr",
     "output_type": "stream",
     "text": [
      "2024-09-26 14:23:38,435 - INFO - HTTP Request: POST https://datascience-openai-local.openai.azure.com//openai/deployments/gpt-35-turbo-16k/chat/completions?api-version=2024-05-01-preview \"HTTP/1.1 200 OK\"\n"
     ]
    },
    {
     "name": "stdout",
     "output_type": "stream",
     "text": [
      "Comparing activity 9...\n"
     ]
    },
    {
     "name": "stderr",
     "output_type": "stream",
     "text": [
      "2024-09-26 14:23:41,634 - INFO - HTTP Request: POST https://datascience-openai-local.openai.azure.com//openai/deployments/gpt-35-turbo-16k/chat/completions?api-version=2024-05-01-preview \"HTTP/1.1 200 OK\"\n",
      "2024-09-26 14:23:41,638 - INFO - Successfully processed and saved results for banking/credit_score with GPT-3.5-Activity-Breakdown-Subject_Matter_Expert_Detailed_Basic\n",
      "2024-09-26 14:23:41,639 - INFO - Processing sector: banking, activity: loan_application\n"
     ]
    },
    {
     "name": "stdout",
     "output_type": "stream",
     "text": [
      "Quantitative Metrics:\n",
      "=====================\n",
      "Total Activities Evaluated: 3\n",
      "Average Overall Similarity Score: 27.22%\n",
      "Average Confidence Score: 27.22%\n",
      "Average Sequence Alignment Score: 79.63%\n",
      "Ground Truth Steps Coverage: 69.23%\n",
      "Response Steps Coverage: 38.89%\n",
      "\n",
      "Match Type Distribution:\n",
      "- Functional Equivalence: 2 matches (22.22%), Average Confidence: 82.50%\n",
      "- No Match: 6 matches (66.67%), Average Confidence: 0.00%\n",
      "- Granularity Difference: 1 matches (11.11%), Average Confidence: 80.00%\n",
      "\n",
      "\n",
      "Qualitative Analysis:\n",
      "=====================\n",
      "\n",
      "Examples of Matched Steps by Match Type:\n",
      "\n",
      "Match Type: Functional Equivalence\n",
      "Activity: Start\n",
      "Ground Truth Steps:\n",
      "  - [1] Receive start signal\n",
      "Response Steps:\n",
      "  - [1] Receive incoming scoring request\n",
      "Confidence: 85%\n",
      "Explanation: The ground truth step 'Receive start signal' and the response step 'Receive incoming scoring request' describe the same action of receiving a request, but with different wording.\n",
      "\n",
      "Activity: Scoring request received\n",
      "Ground Truth Steps:\n",
      "  - [1] Receive scoring request\n",
      "Response Steps:\n",
      "  - [1] Prepare credit score request\n",
      "Confidence: 80%\n",
      "Explanation: The ground truth step 'Receive scoring request' is functionally equivalent to the response step 'Prepare credit score request'. Although the wording is different, both steps involve preparing the credit score request.\n",
      "\n",
      "\n",
      "\n",
      "Match Type: No Match\n",
      "Activity: Request credit score\n",
      "Ground Truth Steps:\n",
      "  - [1] Initiate credit score request\n",
      "Response Steps:\n",
      "  - [1] Receive credit score from Scoring Service\n",
      "Confidence: 0%\n",
      "Explanation: The ground truth step 'Initiate credit score request' does not have a corresponding step in the response.\n",
      "\n",
      "Activity: Credit score available?\n",
      "Ground Truth Steps:\n",
      "  - [1] Check if credit score is available\n",
      "Response Steps:\n",
      "  - [1] Receive delay notification from Scoring Service\n",
      "Confidence: 0%\n",
      "Explanation: The response step does not correspond to the ground truth step in any meaningful way.\n",
      "\n",
      "Activity: Credit score received\n",
      "Ground Truth Steps:\n",
      "  - [1] Receive credit score\n",
      "Response Steps:\n",
      "  - [1] Prepare delay report\n",
      "Confidence: 0%\n",
      "Explanation: There is no corresponding step in the response activity.\n",
      "\n",
      "\n",
      "\n",
      "Match Type: Granularity Difference\n",
      "Activity: Send credit score\n",
      "Ground Truth Steps:\n",
      "  - [1] Send credit score to requester\n",
      "Response Steps:\n",
      "  - [1] Prepare credit score response\n",
      "  - [2] Send score to main process\n",
      "Confidence: 80%\n",
      "Explanation: Ground truth step 1 corresponds to response steps 1 and 2. The response steps are more granular, with step 1 involving the preparation of the credit score response and step 2 involving sending the score to the main process.\n",
      "\n",
      "\n",
      "\n",
      "Analysis of Unmatched Ground Truth Steps:\n",
      "Activity: Request credit score, Step: [1] Initiate credit score request\n",
      "Reason: No corresponding step in the response\n",
      "\n",
      "Activity: Credit score available?, Step: [1] Check if credit score is available\n",
      "Reason: There is no corresponding step in the response.\n",
      "\n",
      "Activity: Report delay, Step: [1] Submit delay report\n",
      "Reason: There is no corresponding step in the response.\n",
      "\n",
      "Activity: Merge, Step: [1] Merge credit score and delay report\n",
      "Reason: No corresponding step in the response activity\n",
      "\n",
      "Analysis of Unmatched Response Steps:\n",
      "Activity: Start, Step: [2] Log receipt of request\n",
      "Reason: There is no corresponding step in the ground truth.\n",
      "\n",
      "Activity: Start, Step: [3] Validate request format and completeness\n",
      "Reason: There is no corresponding step in the ground truth.\n",
      "\n",
      "Activity: Scoring request received, Step: [2] Send request to Scoring Service\n",
      "Reason: There is no corresponding step in the ground truth for sending the request to the Scoring Service.\n",
      "\n",
      "Activity: Scoring request received, Step: [3] Log outgoing request\n",
      "Reason: There is no corresponding step in the ground truth for logging the outgoing request.\n",
      "\n",
      "Activity: Request credit score, Step: [1] Receive credit score from Scoring Service\n",
      "Reason: No corresponding step in the ground truth\n",
      "\n",
      "Granularity Issues Identified:\n",
      "Activity: Report delay\n",
      "Ground Truth Steps:\n",
      "  - [1] Submit delay report\n",
      "Response Steps:\n",
      "  - [1] Retrieve relevant financial data\n",
      "  - [2] Apply level 1 scoring algorithm\n",
      "  - [3] Generate initial credit score\n",
      "Explanation: There is no meaningful correspondence between 'Submit delay report' and the response steps.\n",
      "\n",
      "Activity: Merge\n",
      "Ground Truth Steps:\n",
      "  - [1] Merge credit score and delay report\n",
      "Response Steps:\n",
      "  - [1] Retrieve additional financial data\n",
      "  - [2] Apply level 2 scoring algorithm\n",
      "  - [3] Generate comprehensive credit score\n",
      "Explanation: The ground truth step 'Merge credit score and delay report' does not have a corresponding step in the response activity.\n",
      "\n",
      "Activity: Send credit score\n",
      "Ground Truth Steps:\n",
      "  - [1] Send credit score to requester\n",
      "Response Steps:\n",
      "  - [1] Prepare credit score response\n",
      "  - [2] Send score to main process\n",
      "Explanation: Ground truth step 1 corresponds to response steps 1 and 2. The response steps are more granular, with step 1 involving the preparation of the credit score response and step 2 involving sending the score to the main process.\n",
      "\n"
     ]
    },
    {
     "name": "stderr",
     "output_type": "stream",
     "text": [
      "2024-09-26 14:23:48,927 - INFO - HTTP Request: POST https://datascience-openai-local.openai.azure.com//openai/deployments/gpt-35-turbo-16k/chat/completions?api-version=2024-05-01-preview \"HTTP/1.1 200 OK\"\n"
     ]
    },
    {
     "name": "stdout",
     "output_type": "stream",
     "text": [
      "Comparing activity 1...\n"
     ]
    },
    {
     "name": "stderr",
     "output_type": "stream",
     "text": [
      "2024-09-26 14:23:53,018 - INFO - HTTP Request: POST https://datascience-openai-local.openai.azure.com//openai/deployments/gpt-35-turbo-16k/chat/completions?api-version=2024-05-01-preview \"HTTP/1.1 200 OK\"\n"
     ]
    },
    {
     "name": "stdout",
     "output_type": "stream",
     "text": [
      "Comparing activity 2...\n"
     ]
    },
    {
     "name": "stderr",
     "output_type": "stream",
     "text": [
      "2024-09-26 14:23:55,079 - INFO - HTTP Request: POST https://datascience-openai-local.openai.azure.com//openai/deployments/gpt-35-turbo-16k/chat/completions?api-version=2024-05-01-preview \"HTTP/1.1 200 OK\"\n"
     ]
    },
    {
     "name": "stdout",
     "output_type": "stream",
     "text": [
      "Comparing activity 3...\n"
     ]
    },
    {
     "name": "stderr",
     "output_type": "stream",
     "text": [
      "2024-09-26 14:23:57,382 - INFO - HTTP Request: POST https://datascience-openai-local.openai.azure.com//openai/deployments/gpt-35-turbo-16k/chat/completions?api-version=2024-05-01-preview \"HTTP/1.1 200 OK\"\n"
     ]
    },
    {
     "name": "stdout",
     "output_type": "stream",
     "text": [
      "Comparing activity 4...\n"
     ]
    },
    {
     "name": "stderr",
     "output_type": "stream",
     "text": [
      "2024-09-26 14:24:00,827 - INFO - HTTP Request: POST https://datascience-openai-local.openai.azure.com//openai/deployments/gpt-35-turbo-16k/chat/completions?api-version=2024-05-01-preview \"HTTP/1.1 200 OK\"\n"
     ]
    },
    {
     "name": "stdout",
     "output_type": "stream",
     "text": [
      "Comparing activity 5...\n"
     ]
    },
    {
     "name": "stderr",
     "output_type": "stream",
     "text": [
      "2024-09-26 14:24:04,679 - INFO - HTTP Request: POST https://datascience-openai-local.openai.azure.com//openai/deployments/gpt-35-turbo-16k/chat/completions?api-version=2024-05-01-preview \"HTTP/1.1 200 OK\"\n"
     ]
    },
    {
     "name": "stdout",
     "output_type": "stream",
     "text": [
      "Comparing activity 6...\n"
     ]
    },
    {
     "name": "stderr",
     "output_type": "stream",
     "text": [
      "2024-09-26 14:24:08,215 - INFO - HTTP Request: POST https://datascience-openai-local.openai.azure.com//openai/deployments/gpt-35-turbo-16k/chat/completions?api-version=2024-05-01-preview \"HTTP/1.1 200 OK\"\n"
     ]
    },
    {
     "name": "stdout",
     "output_type": "stream",
     "text": [
      "Comparing activity 7...\n"
     ]
    },
    {
     "name": "stderr",
     "output_type": "stream",
     "text": [
      "2024-09-26 14:24:10,933 - INFO - HTTP Request: POST https://datascience-openai-local.openai.azure.com//openai/deployments/gpt-35-turbo-16k/chat/completions?api-version=2024-05-01-preview \"HTTP/1.1 200 OK\"\n"
     ]
    },
    {
     "name": "stdout",
     "output_type": "stream",
     "text": [
      "Comparing activity 8...\n"
     ]
    },
    {
     "name": "stderr",
     "output_type": "stream",
     "text": [
      "2024-09-26 14:24:13,999 - INFO - HTTP Request: POST https://datascience-openai-local.openai.azure.com//openai/deployments/gpt-35-turbo-16k/chat/completions?api-version=2024-05-01-preview \"HTTP/1.1 200 OK\"\n"
     ]
    },
    {
     "name": "stdout",
     "output_type": "stream",
     "text": [
      "Comparing activity 9...\n"
     ]
    },
    {
     "name": "stderr",
     "output_type": "stream",
     "text": [
      "2024-09-26 14:24:17,456 - INFO - HTTP Request: POST https://datascience-openai-local.openai.azure.com//openai/deployments/gpt-35-turbo-16k/chat/completions?api-version=2024-05-01-preview \"HTTP/1.1 200 OK\"\n"
     ]
    },
    {
     "name": "stdout",
     "output_type": "stream",
     "text": [
      "Comparing activity 10...\n"
     ]
    },
    {
     "name": "stderr",
     "output_type": "stream",
     "text": [
      "2024-09-26 14:24:20,370 - INFO - HTTP Request: POST https://datascience-openai-local.openai.azure.com//openai/deployments/gpt-35-turbo-16k/chat/completions?api-version=2024-05-01-preview \"HTTP/1.1 200 OK\"\n"
     ]
    },
    {
     "name": "stdout",
     "output_type": "stream",
     "text": [
      "Comparing activity 11...\n"
     ]
    },
    {
     "name": "stderr",
     "output_type": "stream",
     "text": [
      "2024-09-26 14:24:22,596 - INFO - HTTP Request: POST https://datascience-openai-local.openai.azure.com//openai/deployments/gpt-35-turbo-16k/chat/completions?api-version=2024-05-01-preview \"HTTP/1.1 200 OK\"\n"
     ]
    },
    {
     "name": "stdout",
     "output_type": "stream",
     "text": [
      "Comparing activity 12...\n"
     ]
    },
    {
     "name": "stderr",
     "output_type": "stream",
     "text": [
      "2024-09-26 14:24:24,882 - INFO - HTTP Request: POST https://datascience-openai-local.openai.azure.com//openai/deployments/gpt-35-turbo-16k/chat/completions?api-version=2024-05-01-preview \"HTTP/1.1 200 OK\"\n"
     ]
    },
    {
     "name": "stdout",
     "output_type": "stream",
     "text": [
      "Comparing activity 13...\n"
     ]
    },
    {
     "name": "stderr",
     "output_type": "stream",
     "text": [
      "2024-09-26 14:24:27,239 - INFO - HTTP Request: POST https://datascience-openai-local.openai.azure.com//openai/deployments/gpt-35-turbo-16k/chat/completions?api-version=2024-05-01-preview \"HTTP/1.1 200 OK\"\n"
     ]
    },
    {
     "name": "stdout",
     "output_type": "stream",
     "text": [
      "Comparing activity 14...\n"
     ]
    },
    {
     "name": "stderr",
     "output_type": "stream",
     "text": [
      "2024-09-26 14:24:30,292 - INFO - HTTP Request: POST https://datascience-openai-local.openai.azure.com//openai/deployments/gpt-35-turbo-16k/chat/completions?api-version=2024-05-01-preview \"HTTP/1.1 200 OK\"\n"
     ]
    },
    {
     "name": "stdout",
     "output_type": "stream",
     "text": [
      "Comparing activity 15...\n"
     ]
    },
    {
     "name": "stderr",
     "output_type": "stream",
     "text": [
      "2024-09-26 14:24:32,501 - INFO - HTTP Request: POST https://datascience-openai-local.openai.azure.com//openai/deployments/gpt-35-turbo-16k/chat/completions?api-version=2024-05-01-preview \"HTTP/1.1 200 OK\"\n"
     ]
    },
    {
     "name": "stdout",
     "output_type": "stream",
     "text": [
      "Comparing activity 16...\n"
     ]
    },
    {
     "name": "stderr",
     "output_type": "stream",
     "text": [
      "2024-09-26 14:24:35,370 - INFO - HTTP Request: POST https://datascience-openai-local.openai.azure.com//openai/deployments/gpt-35-turbo-16k/chat/completions?api-version=2024-05-01-preview \"HTTP/1.1 200 OK\"\n"
     ]
    },
    {
     "name": "stdout",
     "output_type": "stream",
     "text": [
      "Comparing activity 17...\n"
     ]
    },
    {
     "name": "stderr",
     "output_type": "stream",
     "text": [
      "2024-09-26 14:24:39,658 - INFO - HTTP Request: POST https://datascience-openai-local.openai.azure.com//openai/deployments/gpt-35-turbo-16k/chat/completions?api-version=2024-05-01-preview \"HTTP/1.1 200 OK\"\n"
     ]
    },
    {
     "name": "stdout",
     "output_type": "stream",
     "text": [
      "Comparing activity 18...\n"
     ]
    },
    {
     "name": "stderr",
     "output_type": "stream",
     "text": [
      "2024-09-26 14:24:42,143 - INFO - HTTP Request: POST https://datascience-openai-local.openai.azure.com//openai/deployments/gpt-35-turbo-16k/chat/completions?api-version=2024-05-01-preview \"HTTP/1.1 200 OK\"\n",
      "2024-09-26 14:24:42,148 - INFO - Successfully processed and saved results for banking/loan_application with GPT-3.5-Activity-Breakdown-Subject_Matter_Expert_Detailed_Basic\n",
      "2024-09-26 14:24:42,149 - INFO - Processing sector: banking, activity: loan_risk_assessment\n"
     ]
    },
    {
     "name": "stdout",
     "output_type": "stream",
     "text": [
      "Quantitative Metrics:\n",
      "=====================\n",
      "Total Activities Evaluated: 3\n",
      "Average Overall Similarity Score: 18.89%\n",
      "Average Confidence Score: 22.22%\n",
      "Average Sequence Alignment Score: 69.91%\n",
      "Ground Truth Steps Coverage: 58.06%\n",
      "Response Steps Coverage: 43.21%\n",
      "\n",
      "Match Type Distribution:\n",
      "- Functional Equivalence: 3 matches (16.67%), Average Confidence: 80.00%\n",
      "- Granularity Difference: 2 matches (11.11%), Average Confidence: 80.00%\n",
      "- No Match: 13 matches (72.22%), Average Confidence: 0.00%\n",
      "\n",
      "\n",
      "Qualitative Analysis:\n",
      "=====================\n",
      "\n",
      "Examples of Matched Steps by Match Type:\n",
      "\n",
      "Match Type: Functional Equivalence\n",
      "Activity: Submit loan application\n",
      "Ground Truth Steps:\n",
      "  - [1] Applicant submits loan application\n",
      "Response Steps:\n",
      "  - [1] Fill out loan application form\n",
      "Confidence: 80%\n",
      "Explanation: The ground truth step 'Applicant submits loan application' is functionally equivalent to the response step 'Fill out loan application form'. Although the wording is different, both steps describe the action of completing the loan application.\n",
      "\n",
      "Activity: Check application details\n",
      "Ground Truth Steps:\n",
      "  - [1] Loan officer checks application details\n",
      "Response Steps:\n",
      "  - [1] Review applicant's personal information\n",
      "Confidence: 80%\n",
      "Explanation: The ground truth step 'Loan officer checks application details' is functionally equivalent to the response step 'Review applicant's personal information'. Although the wording is different, both steps involve examining the applicant's personal information.\n",
      "\n",
      "Activity: Check if home insurance quote is requested\n",
      "Ground Truth Steps:\n",
      "  - [1] Loan officer checks if home insurance quote is requested\n",
      "Response Steps:\n",
      "  - [1] Review application details\n",
      "Confidence: 80%\n",
      "Explanation: The response step 'Review application details' is functionally equivalent to the ground truth step 'Loan officer checks if home insurance quote is requested'. Although the wording is different, both steps involve assessing the application to determine if a home insurance quote is requested.\n",
      "\n",
      "\n",
      "\n",
      "Match Type: Granularity Difference\n",
      "Activity: Check application completeness\n",
      "Ground Truth Steps:\n",
      "  - [1] Loan officer checks if application is complete\n",
      "Response Steps:\n",
      "  - [1] Review all submitted documents\n",
      "  - [2] Verify all required fields are filled\n",
      "  - [3] Determine if application is complete or incomplete\n",
      "Confidence: 80%\n",
      "Explanation: Ground truth step 1 corresponds to response steps 1, 2, and 3. The response steps provide a more detailed breakdown of the actions involved in checking the application completeness.\n",
      "\n",
      "Activity: Return application to applicant\n",
      "Ground Truth Steps:\n",
      "  - [1] Loan officer returns incomplete application to applicant\n",
      "Response Steps:\n",
      "  - [1] Identify missing or incomplete information\n",
      "  - [2] Prepare return notice with required corrections\n",
      "  - [3] Send application back to applicant\n",
      "Confidence: 80%\n",
      "Explanation: Ground truth step 1 corresponds to response steps 1, 2, and 3. The response steps provide a more detailed breakdown of the actions involved in returning the application.\n",
      "\n",
      "\n",
      "\n",
      "Match Type: No Match\n",
      "Activity: Assess eligibility\n",
      "Ground Truth Steps:\n",
      "  - [1] Loan officer assesses applicant's eligibility\n",
      "Response Steps:\n",
      "  - [1] Request credit report from credit bureau\n",
      "  - [2] Review credit score and payment history\n",
      "  - [3] Prepare credit history report\n",
      "Confidence: 0%\n",
      "Explanation: There is no direct match between the ground truth step and any of the response steps.\n",
      "\n",
      "Activity: Reject application\n",
      "Ground Truth Steps:\n",
      "  - [1] Loan officer rejects the application\n",
      "Response Steps:\n",
      "  - [1] Review credit history report\n",
      "  - [2] Consult risk rules database\n",
      "  - [3] Calculate risk score\n",
      "  - [4] Prepare risk assessment report\n",
      "Confidence: 0%\n",
      "Explanation: There is no corresponding step in the response activity for the ground truth step 'Loan officer rejects the application'.\n",
      "\n",
      "Activity: Prepare acceptance pack\n",
      "Ground Truth Steps:\n",
      "  - [1] Loan officer prepares acceptance pack\n",
      "Response Steps:\n",
      "  - [1] Schedule property inspection\n",
      "  - [2] Conduct on-site property evaluation\n",
      "  - [3] Prepare property appraisal report\n",
      "Confidence: 0%\n",
      "Explanation: There is no meaningful match between the ground truth step and the response steps.\n",
      "\n",
      "\n",
      "\n",
      "Analysis of Unmatched Ground Truth Steps:\n",
      "Activity: Assess eligibility, Step: [1] Loan officer assesses applicant's eligibility\n",
      "Reason: There is no corresponding step in the response activity.\n",
      "\n",
      "Activity: Reject application, Step: [1] Loan officer rejects the application\n",
      "Reason: There is no corresponding step in the response activity.\n",
      "\n",
      "Activity: Prepare acceptance pack, Step: [1] Loan officer prepares acceptance pack\n",
      "Reason: There is no corresponding step in the response activity.\n",
      "\n",
      "Activity: Send home insurance quote, Step: [1] Loan officer sends home insurance quote\n",
      "Reason: There is no corresponding step in the response activity.\n",
      "\n",
      "Activity: Send acceptance pack, Step: [1] Loan officer sends acceptance pack\n",
      "Reason: No corresponding step in the response activity\n",
      "\n",
      "Analysis of Unmatched Response Steps:\n",
      "Activity: Submit loan application, Step: [2] Attach required documents\n",
      "Reason: There is no corresponding step in the ground truth for 'Attach required documents'. This step is not mentioned in the ground truth.\n",
      "\n",
      "Activity: Submit loan application, Step: [3] Submit application to Loan Officer\n",
      "Reason: There is no corresponding step in the ground truth for 'Submit application to Loan Officer'. This step is not mentioned in the ground truth.\n",
      "\n",
      "Activity: Check application details, Step: [2] Verify loan amount and purpose\n",
      "Reason: There is no corresponding step in the ground truth for 'Verify loan amount and purpose'.\n",
      "\n",
      "Activity: Check application details, Step: [3] Initiate credit history check\n",
      "Reason: There is no corresponding step in the ground truth for 'Initiate credit history check'.\n",
      "\n",
      "Activity: Check application details, Step: [4] Request property appraisal\n",
      "Reason: There is no corresponding step in the ground truth for 'Request property appraisal'.\n",
      "\n",
      "Granularity Issues Identified:\n",
      "Activity: Check application completeness\n",
      "Ground Truth Steps:\n",
      "  - [1] Loan officer checks if application is complete\n",
      "Response Steps:\n",
      "  - [1] Review all submitted documents\n",
      "  - [2] Verify all required fields are filled\n",
      "  - [3] Determine if application is complete or incomplete\n",
      "Explanation: Ground truth step 1 corresponds to response steps 1, 2, and 3. The response steps provide a more detailed breakdown of the actions involved in checking the application completeness.\n",
      "\n",
      "Activity: Return application to applicant\n",
      "Ground Truth Steps:\n",
      "  - [1] Loan officer returns incomplete application to applicant\n",
      "Response Steps:\n",
      "  - [1] Identify missing or incomplete information\n",
      "  - [2] Prepare return notice with required corrections\n",
      "  - [3] Send application back to applicant\n",
      "Explanation: Ground truth step 1 corresponds to response steps 1, 2, and 3. The response steps provide a more detailed breakdown of the actions involved in returning the application.\n",
      "\n",
      "Activity: Assess eligibility\n",
      "Ground Truth Steps:\n",
      "  - [1] Loan officer assesses applicant's eligibility\n",
      "Response Steps:\n",
      "  - [1] Request credit report from credit bureau\n",
      "  - [2] Review credit score and payment history\n",
      "  - [3] Prepare credit history report\n",
      "Explanation: There is no direct match between the ground truth step and any of the response steps.\n",
      "\n",
      "Activity: Reject application\n",
      "Ground Truth Steps:\n",
      "  - [1] Loan officer rejects the application\n",
      "Response Steps:\n",
      "  - [1] Review credit history report\n",
      "  - [2] Consult risk rules database\n",
      "  - [3] Calculate risk score\n",
      "  - [4] Prepare risk assessment report\n",
      "Explanation: There is no corresponding step in the response activity for the ground truth step 'Loan officer rejects the application'.\n",
      "\n",
      "Activity: Prepare acceptance pack\n",
      "Ground Truth Steps:\n",
      "  - [1] Loan officer prepares acceptance pack\n",
      "Response Steps:\n",
      "  - [1] Schedule property inspection\n",
      "  - [2] Conduct on-site property evaluation\n",
      "  - [3] Prepare property appraisal report\n",
      "Explanation: There is no meaningful match between the ground truth step and the response steps.\n",
      "\n"
     ]
    },
    {
     "name": "stderr",
     "output_type": "stream",
     "text": [
      "2024-09-26 14:24:47,944 - INFO - HTTP Request: POST https://datascience-openai-local.openai.azure.com//openai/deployments/gpt-35-turbo-16k/chat/completions?api-version=2024-05-01-preview \"HTTP/1.1 200 OK\"\n"
     ]
    },
    {
     "name": "stdout",
     "output_type": "stream",
     "text": [
      "Comparing activity 1...\n"
     ]
    },
    {
     "name": "stderr",
     "output_type": "stream",
     "text": [
      "2024-09-26 14:24:50,660 - INFO - HTTP Request: POST https://datascience-openai-local.openai.azure.com//openai/deployments/gpt-35-turbo-16k/chat/completions?api-version=2024-05-01-preview \"HTTP/1.1 200 OK\"\n"
     ]
    },
    {
     "name": "stdout",
     "output_type": "stream",
     "text": [
      "Comparing activity 2...\n"
     ]
    },
    {
     "name": "stderr",
     "output_type": "stream",
     "text": [
      "2024-09-26 14:24:53,034 - INFO - HTTP Request: POST https://datascience-openai-local.openai.azure.com//openai/deployments/gpt-35-turbo-16k/chat/completions?api-version=2024-05-01-preview \"HTTP/1.1 200 OK\"\n"
     ]
    },
    {
     "name": "stdout",
     "output_type": "stream",
     "text": [
      "Comparing activity 3...\n"
     ]
    },
    {
     "name": "stderr",
     "output_type": "stream",
     "text": [
      "2024-09-26 14:24:57,040 - INFO - HTTP Request: POST https://datascience-openai-local.openai.azure.com//openai/deployments/gpt-35-turbo-16k/chat/completions?api-version=2024-05-01-preview \"HTTP/1.1 200 OK\"\n"
     ]
    },
    {
     "name": "stdout",
     "output_type": "stream",
     "text": [
      "Comparing activity 4...\n"
     ]
    },
    {
     "name": "stderr",
     "output_type": "stream",
     "text": [
      "2024-09-26 14:25:01,792 - INFO - HTTP Request: POST https://datascience-openai-local.openai.azure.com//openai/deployments/gpt-35-turbo-16k/chat/completions?api-version=2024-05-01-preview \"HTTP/1.1 200 OK\"\n"
     ]
    },
    {
     "name": "stdout",
     "output_type": "stream",
     "text": [
      "Comparing activity 5...\n"
     ]
    },
    {
     "name": "stderr",
     "output_type": "stream",
     "text": [
      "2024-09-26 14:25:06,085 - INFO - HTTP Request: POST https://datascience-openai-local.openai.azure.com//openai/deployments/gpt-35-turbo-16k/chat/completions?api-version=2024-05-01-preview \"HTTP/1.1 200 OK\"\n"
     ]
    },
    {
     "name": "stdout",
     "output_type": "stream",
     "text": [
      "Comparing activity 6...\n"
     ]
    },
    {
     "name": "stderr",
     "output_type": "stream",
     "text": [
      "2024-09-26 14:25:09,341 - INFO - HTTP Request: POST https://datascience-openai-local.openai.azure.com//openai/deployments/gpt-35-turbo-16k/chat/completions?api-version=2024-05-01-preview \"HTTP/1.1 200 OK\"\n"
     ]
    },
    {
     "name": "stdout",
     "output_type": "stream",
     "text": [
      "Comparing activity 7...\n"
     ]
    },
    {
     "name": "stderr",
     "output_type": "stream",
     "text": [
      "2024-09-26 14:25:13,082 - INFO - HTTP Request: POST https://datascience-openai-local.openai.azure.com//openai/deployments/gpt-35-turbo-16k/chat/completions?api-version=2024-05-01-preview \"HTTP/1.1 200 OK\"\n"
     ]
    },
    {
     "name": "stdout",
     "output_type": "stream",
     "text": [
      "Comparing activity 8...\n"
     ]
    },
    {
     "name": "stderr",
     "output_type": "stream",
     "text": [
      "2024-09-26 14:25:18,894 - INFO - HTTP Request: POST https://datascience-openai-local.openai.azure.com//openai/deployments/gpt-35-turbo-16k/chat/completions?api-version=2024-05-01-preview \"HTTP/1.1 200 OK\"\n"
     ]
    },
    {
     "name": "stdout",
     "output_type": "stream",
     "text": [
      "Comparing activity 9...\n"
     ]
    },
    {
     "name": "stderr",
     "output_type": "stream",
     "text": [
      "2024-09-26 14:25:22,038 - INFO - HTTP Request: POST https://datascience-openai-local.openai.azure.com//openai/deployments/gpt-35-turbo-16k/chat/completions?api-version=2024-05-01-preview \"HTTP/1.1 200 OK\"\n",
      "2024-09-26 14:25:22,044 - INFO - Successfully processed and saved results for banking/loan_risk_assessment with GPT-3.5-Activity-Breakdown-Subject_Matter_Expert_Detailed_Basic\n",
      "2024-09-26 14:25:22,046 - INFO - Processing sector: banking, activity: mortgage_process\n"
     ]
    },
    {
     "name": "stdout",
     "output_type": "stream",
     "text": [
      "Quantitative Metrics:\n",
      "=====================\n",
      "Total Activities Evaluated: 4\n",
      "Average Overall Similarity Score: 25.04%\n",
      "Average Confidence Score: 35.83%\n",
      "Average Sequence Alignment Score: 58.33%\n",
      "Ground Truth Steps Coverage: 66.67%\n",
      "Response Steps Coverage: 44.90%\n",
      "\n",
      "Match Type Distribution:\n",
      "- Functional Equivalence: 3 matches (25.00%), Average Confidence: 85.00%\n",
      "- No Match: 7 matches (58.33%), Average Confidence: 0.00%\n",
      "- Identical Match: 1 matches (8.33%), Average Confidence: 100.00%\n",
      "- Granularity Difference: 1 matches (8.33%), Average Confidence: 75.00%\n",
      "\n",
      "\n",
      "Qualitative Analysis:\n",
      "=====================\n",
      "\n",
      "Examples of Matched Steps by Match Type:\n",
      "\n",
      "Match Type: Functional Equivalence\n",
      "Activity: Receive loan application\n",
      "Ground Truth Steps:\n",
      "  - [1] Receive loan application\n",
      "Response Steps:\n",
      "  - [1] Receive application from customer\n",
      "Confidence: 95%\n",
      "Explanation: The response step 'Receive application from customer' is functionally equivalent to the ground truth step 'Receive loan application'. Although the wording is slightly different, the core function of receiving the loan application is the same.\n",
      "\n",
      "Activity: Check applicant's income sources\n",
      "Ground Truth Steps:\n",
      "  - [1] Verify applicant's income sources\n",
      "Response Steps:\n",
      "  - [2] Analyze income sources\n",
      "Confidence: 80%\n",
      "Explanation: The response step 'Analyze income sources' is functionally equivalent to the ground truth step 'Verify applicant's income sources'. Although the wording is different, both steps involve examining the applicant's income sources.\n",
      "\n",
      "Activity: Merge\n",
      "Ground Truth Steps:\n",
      "  - [1] Merge credit check and income check results\n",
      "Response Steps:\n",
      "  - [1] Review all gathered information\n",
      "Confidence: 80%\n",
      "Explanation: The ground truth step 'Merge credit check and income check results' is functionally equivalent to the response step 'Review all gathered information'. Although the wording is different, both steps involve combining and analyzing relevant data.\n",
      "\n",
      "\n",
      "\n",
      "Match Type: No Match\n",
      "Activity: Initial eligibility check\n",
      "Ground Truth Steps:\n",
      "  - [1] Perform initial eligibility check\n",
      "Response Steps:\n",
      "  - [1] Review application for completeness\n",
      "  - [2] Verify loan amount against eligibility criteria\n",
      "  - [3] Make initial eligibility decision\n",
      "Confidence: 0%\n",
      "Explanation: The ground truth step 'Perform initial eligibility check' does not have a corresponding step in the response.\n",
      "\n",
      "Activity: Eligibility decision\n",
      "Ground Truth Steps:\n",
      "  - [1] Check if applicant is eligible\n",
      "Response Steps:\n",
      "  - [1] Request credit report from credit bureau\n",
      "  - [2] Review credit score\n",
      "  - [3] Analyse payment history\n",
      "  - [4] Check for bankruptcies or defaults\n",
      "Confidence: 0%\n",
      "Explanation: There is no direct match between the ground truth step 'Check if applicant is eligible' and any of the response steps.\n",
      "\n",
      "Activity: Parallel Split\n",
      "Ground Truth Steps:\n",
      "  - [1] Perform credit history check\n",
      "Response Steps:\n",
      "Confidence: 0%\n",
      "Explanation: There is no corresponding step in the response activity.\n",
      "\n",
      "\n",
      "\n",
      "Match Type: Identical Match\n",
      "Activity: Parallel Split\n",
      "Ground Truth Steps:\n",
      "  - [2] Check applicant's income sources\n",
      "Response Steps:\n",
      "  - [1] Review provided income documents\n",
      "  - [2] Verify employment status\n",
      "  - [3] Calculate total income\n",
      "  - [4] Assess income stability\n",
      "Confidence: 100%\n",
      "Explanation: The step 'Check applicant's income sources' in the ground truth activity is identical to the step 'Check applicant's income sources' in the response activity.\n",
      "\n",
      "\n",
      "\n",
      "Match Type: Granularity Difference\n",
      "Activity: Merge\n",
      "Ground Truth Steps:\n",
      "  - [2] Merge appraisal and credit assessment results\n",
      "Response Steps:\n",
      "  - [2] Analyse loan-to-value ratio\n",
      "  - [3] Evaluate overall financial profile\n",
      "Confidence: 75%\n",
      "Explanation: The ground truth step 'Merge appraisal and credit assessment results' is more granular than the response steps 'Analyse loan-to-value ratio' and 'Evaluate overall financial profile'. The response steps encompass the core functions of the ground truth step, but provide more detailed actions.\n",
      "\n",
      "\n",
      "\n",
      "Analysis of Unmatched Ground Truth Steps:\n",
      "Activity: Eligibility decision, Step: [1] Check if applicant is eligible\n",
      "Reason: There is no corresponding step in the response activity.\n",
      "\n",
      "Activity: Parallel Split, Step: [1] Perform credit history check\n",
      "Reason: There is no corresponding step in the response activity.\n",
      "\n",
      "Activity: Parallel Split, Step: [3] Appraise property to be mortgaged\n",
      "Reason: There is no corresponding step in the response activity.\n",
      "\n",
      "Activity: Credit history check, Step: [1] Check applicant's credit history\n",
      "Reason: There is no corresponding step in the response activity.\n",
      "\n",
      "Activity: Appraisal of property to be mortgaged, Step: [1] Conduct appraisal of property\n",
      "Reason: There is no corresponding match in the response steps.\n",
      "\n",
      "Analysis of Unmatched Response Steps:\n",
      "Activity: Receive loan application, Step: [2] Log application in system\n",
      "Reason: There is no corresponding ground truth step for 'Log application in system'.\n",
      "\n",
      "Activity: Receive loan application, Step: [3] Assign application ID\n",
      "Reason: There is no corresponding ground truth step for 'Assign application ID'.\n",
      "\n",
      "Activity: Initial eligibility check, Step: [1] Review application for completeness\n",
      "Reason: There is no corresponding ground truth step for this response step.\n",
      "\n",
      "Activity: Initial eligibility check, Step: [2] Verify loan amount against eligibility criteria\n",
      "Reason: There is no corresponding ground truth step for this response step.\n",
      "\n",
      "Activity: Initial eligibility check, Step: [3] Make initial eligibility decision\n",
      "Reason: There is no corresponding ground truth step for this response step.\n",
      "\n",
      "Granularity Issues Identified:\n",
      "Activity: Initial eligibility check\n",
      "Ground Truth Steps:\n",
      "  - [1] Perform initial eligibility check\n",
      "Response Steps:\n",
      "  - [1] Review application for completeness\n",
      "  - [2] Verify loan amount against eligibility criteria\n",
      "  - [3] Make initial eligibility decision\n",
      "Explanation: The ground truth step 'Perform initial eligibility check' does not have a corresponding step in the response.\n",
      "\n",
      "Activity: Eligibility decision\n",
      "Ground Truth Steps:\n",
      "  - [1] Check if applicant is eligible\n",
      "Response Steps:\n",
      "  - [1] Request credit report from credit bureau\n",
      "  - [2] Review credit score\n",
      "  - [3] Analyse payment history\n",
      "  - [4] Check for bankruptcies or defaults\n",
      "Explanation: There is no direct match between the ground truth step 'Check if applicant is eligible' and any of the response steps.\n",
      "\n",
      "Activity: Parallel Split\n",
      "Ground Truth Steps:\n",
      "  - [1] Perform credit history check\n",
      "Response Steps:\n",
      "Explanation: There is no corresponding step in the response activity.\n",
      "\n",
      "Activity: Parallel Split\n",
      "Ground Truth Steps:\n",
      "  - [2] Check applicant's income sources\n",
      "Response Steps:\n",
      "  - [1] Review provided income documents\n",
      "  - [2] Verify employment status\n",
      "  - [3] Calculate total income\n",
      "  - [4] Assess income stability\n",
      "Explanation: The step 'Check applicant's income sources' in the ground truth activity is identical to the step 'Check applicant's income sources' in the response activity.\n",
      "\n",
      "Activity: Parallel Split\n",
      "Ground Truth Steps:\n",
      "  - [3] Appraise property to be mortgaged\n",
      "Response Steps:\n",
      "Explanation: There is no corresponding step in the response activity.\n",
      "\n"
     ]
    },
    {
     "name": "stderr",
     "output_type": "stream",
     "text": [
      "2024-09-26 14:25:25,471 - INFO - HTTP Request: POST https://datascience-openai-local.openai.azure.com//openai/deployments/gpt-35-turbo-16k/chat/completions?api-version=2024-05-01-preview \"HTTP/1.1 200 OK\"\n"
     ]
    },
    {
     "name": "stdout",
     "output_type": "stream",
     "text": [
      "Comparing activity 1...\n"
     ]
    },
    {
     "name": "stderr",
     "output_type": "stream",
     "text": [
      "2024-09-26 14:25:28,031 - INFO - HTTP Request: POST https://datascience-openai-local.openai.azure.com//openai/deployments/gpt-35-turbo-16k/chat/completions?api-version=2024-05-01-preview \"HTTP/1.1 200 OK\"\n"
     ]
    },
    {
     "name": "stdout",
     "output_type": "stream",
     "text": [
      "Comparing activity 2...\n"
     ]
    },
    {
     "name": "stderr",
     "output_type": "stream",
     "text": [
      "2024-09-26 14:25:30,763 - INFO - HTTP Request: POST https://datascience-openai-local.openai.azure.com//openai/deployments/gpt-35-turbo-16k/chat/completions?api-version=2024-05-01-preview \"HTTP/1.1 200 OK\"\n"
     ]
    },
    {
     "name": "stdout",
     "output_type": "stream",
     "text": [
      "Comparing activity 3...\n"
     ]
    },
    {
     "name": "stderr",
     "output_type": "stream",
     "text": [
      "2024-09-26 14:25:34,918 - INFO - HTTP Request: POST https://datascience-openai-local.openai.azure.com//openai/deployments/gpt-35-turbo-16k/chat/completions?api-version=2024-05-01-preview \"HTTP/1.1 200 OK\"\n"
     ]
    },
    {
     "name": "stdout",
     "output_type": "stream",
     "text": [
      "Comparing activity 4...\n"
     ]
    },
    {
     "name": "stderr",
     "output_type": "stream",
     "text": [
      "2024-09-26 14:25:37,677 - INFO - HTTP Request: POST https://datascience-openai-local.openai.azure.com//openai/deployments/gpt-35-turbo-16k/chat/completions?api-version=2024-05-01-preview \"HTTP/1.1 200 OK\"\n",
      "2024-09-26 14:25:37,680 - INFO - Successfully processed and saved results for banking/mortgage_process with GPT-3.5-Activity-Breakdown-Subject_Matter_Expert_Detailed_Basic\n"
     ]
    },
    {
     "name": "stdout",
     "output_type": "stream",
     "text": [
      "Quantitative Metrics:\n",
      "=====================\n",
      "Total Activities Evaluated: 2\n",
      "Average Overall Similarity Score: 20.62%\n",
      "Average Confidence Score: 33.00%\n",
      "Average Sequence Alignment Score: 100.00%\n",
      "Ground Truth Steps Coverage: 71.43%\n",
      "Response Steps Coverage: 27.78%\n",
      "\n",
      "Match Type Distribution:\n",
      "- No Match: 3 matches (60.00%), Average Confidence: 0.00%\n",
      "- Functional Equivalence: 2 matches (40.00%), Average Confidence: 82.50%\n",
      "\n",
      "\n",
      "Qualitative Analysis:\n",
      "=====================\n",
      "\n",
      "Examples of Matched Steps by Match Type:\n",
      "\n",
      "Match Type: No Match\n",
      "Activity: Start\n",
      "Ground Truth Steps:\n",
      "  - [1] Initiate the process\n",
      "Response Steps:\n",
      "  - [1] Review applicant's financial information\n",
      "Confidence: 0%\n",
      "Explanation: There is no corresponding step in the response activity.\n",
      "\n",
      "Activity: CT1: Check financial coverage\n",
      "Ground Truth Steps:\n",
      "  - [1] Verify customer's financial information\n",
      "Response Steps:\n",
      "  - [1] Review property details\n",
      "Confidence: 0%\n",
      "Explanation: There is no corresponding step in the response activity.\n",
      "\n",
      "Activity: CT2: Check property\n",
      "Ground Truth Steps:\n",
      "  - [1] Assess property value and condition\n",
      "Response Steps:\n",
      "  - [1] Document reasons for rejection\n",
      "Confidence: 0%\n",
      "Explanation: There is no meaningful match between 'Assess property value and condition' and 'Document reasons for rejection'.\n",
      "\n",
      "\n",
      "\n",
      "Match Type: Functional Equivalence\n",
      "Activity: AC: Accept mortgage application\n",
      "Ground Truth Steps:\n",
      "  - [1] Evaluate financial coverage\n",
      "Response Steps:\n",
      "  - [1] Review overall application\n",
      "Confidence: 80%\n",
      "Explanation: The ground truth step 'Evaluate financial coverage' is functionally equivalent to the response step 'Review overall application'. Although the wording is different, both steps involve assessing the application to determine if it meets the necessary criteria.\n",
      "\n",
      "Activity: AC: Accept mortgage application\n",
      "Ground Truth Steps:\n",
      "  - [2] Proceed if financial coverage is sufficient\n",
      "Response Steps:\n",
      "  - [2] Confirm all criteria are met\n",
      "Confidence: 85%\n",
      "Explanation: The ground truth step 'Proceed if financial coverage is sufficient' is functionally equivalent to the response step 'Confirm all criteria are met'. Both steps involve verifying that all necessary conditions are satisfied before proceeding.\n",
      "\n",
      "\n",
      "\n",
      "Analysis of Unmatched Ground Truth Steps:\n",
      "Activity: CT1: Check financial coverage, Step: [1] Verify customer's financial information\n",
      "Reason: There is no corresponding step in the response activity.\n",
      "\n",
      "Activity: CT2: Check property, Step: [1] Assess property value and condition\n",
      "Reason: There is no meaningful match in the response steps.\n",
      "\n",
      "Analysis of Unmatched Response Steps:\n",
      "Activity: Start, Step: [2] Verify income sources\n",
      "Reason: There is no corresponding step in the ground truth activity.\n",
      "\n",
      "Activity: Start, Step: [3] Calculate debt-to-income ratio\n",
      "Reason: There is no corresponding step in the ground truth activity.\n",
      "\n",
      "Activity: Start, Step: [4] Assess ability to repay mortgage\n",
      "Reason: There is no corresponding step in the ground truth activity.\n",
      "\n",
      "Activity: CT1: Check financial coverage, Step: [1] Review property details\n",
      "Reason: There is no corresponding step in the ground truth activity.\n",
      "\n",
      "Activity: CT1: Check financial coverage, Step: [2] Verify property value\n",
      "Reason: There is no corresponding step in the ground truth activity.\n",
      "\n",
      "Granularity Issues Identified:\n"
     ]
    },
    {
     "name": "stderr",
     "output_type": "stream",
     "text": [
      "2024-09-26 14:25:37,928 - INFO - Processing sector: business, activity: advanced_b2b_sales\n",
      "2024-09-26 14:25:47,548 - INFO - HTTP Request: POST https://datascience-openai-local.openai.azure.com//openai/deployments/gpt-35-turbo-16k/chat/completions?api-version=2024-05-01-preview \"HTTP/1.1 200 OK\"\n"
     ]
    },
    {
     "name": "stdout",
     "output_type": "stream",
     "text": [
      "Comparing activity 1...\n"
     ]
    },
    {
     "name": "stderr",
     "output_type": "stream",
     "text": [
      "2024-09-26 14:25:50,716 - INFO - HTTP Request: POST https://datascience-openai-local.openai.azure.com//openai/deployments/gpt-35-turbo-16k/chat/completions?api-version=2024-05-01-preview \"HTTP/1.1 200 OK\"\n"
     ]
    },
    {
     "name": "stdout",
     "output_type": "stream",
     "text": [
      "Comparing activity 2...\n"
     ]
    },
    {
     "name": "stderr",
     "output_type": "stream",
     "text": [
      "2024-09-26 14:25:53,530 - INFO - HTTP Request: POST https://datascience-openai-local.openai.azure.com//openai/deployments/gpt-35-turbo-16k/chat/completions?api-version=2024-05-01-preview \"HTTP/1.1 200 OK\"\n"
     ]
    },
    {
     "name": "stdout",
     "output_type": "stream",
     "text": [
      "Comparing activity 3...\n"
     ]
    },
    {
     "name": "stderr",
     "output_type": "stream",
     "text": [
      "2024-09-26 14:25:56,840 - INFO - HTTP Request: POST https://datascience-openai-local.openai.azure.com//openai/deployments/gpt-35-turbo-16k/chat/completions?api-version=2024-05-01-preview \"HTTP/1.1 200 OK\"\n"
     ]
    },
    {
     "name": "stdout",
     "output_type": "stream",
     "text": [
      "Comparing activity 4...\n"
     ]
    },
    {
     "name": "stderr",
     "output_type": "stream",
     "text": [
      "2024-09-26 14:26:00,793 - INFO - HTTP Request: POST https://datascience-openai-local.openai.azure.com//openai/deployments/gpt-35-turbo-16k/chat/completions?api-version=2024-05-01-preview \"HTTP/1.1 200 OK\"\n"
     ]
    },
    {
     "name": "stdout",
     "output_type": "stream",
     "text": [
      "Comparing activity 5...\n"
     ]
    },
    {
     "name": "stderr",
     "output_type": "stream",
     "text": [
      "2024-09-26 14:26:06,028 - INFO - HTTP Request: POST https://datascience-openai-local.openai.azure.com//openai/deployments/gpt-35-turbo-16k/chat/completions?api-version=2024-05-01-preview \"HTTP/1.1 200 OK\"\n"
     ]
    },
    {
     "name": "stdout",
     "output_type": "stream",
     "text": [
      "Comparing activity 6...\n"
     ]
    },
    {
     "name": "stderr",
     "output_type": "stream",
     "text": [
      "2024-09-26 14:26:09,931 - INFO - HTTP Request: POST https://datascience-openai-local.openai.azure.com//openai/deployments/gpt-35-turbo-16k/chat/completions?api-version=2024-05-01-preview \"HTTP/1.1 200 OK\"\n"
     ]
    },
    {
     "name": "stdout",
     "output_type": "stream",
     "text": [
      "Comparing activity 7...\n"
     ]
    },
    {
     "name": "stderr",
     "output_type": "stream",
     "text": [
      "2024-09-26 14:26:14,852 - INFO - HTTP Request: POST https://datascience-openai-local.openai.azure.com//openai/deployments/gpt-35-turbo-16k/chat/completions?api-version=2024-05-01-preview \"HTTP/1.1 200 OK\"\n"
     ]
    },
    {
     "name": "stdout",
     "output_type": "stream",
     "text": [
      "Comparing activity 8...\n"
     ]
    },
    {
     "name": "stderr",
     "output_type": "stream",
     "text": [
      "2024-09-26 14:26:16,999 - INFO - HTTP Request: POST https://datascience-openai-local.openai.azure.com//openai/deployments/gpt-35-turbo-16k/chat/completions?api-version=2024-05-01-preview \"HTTP/1.1 200 OK\"\n"
     ]
    },
    {
     "name": "stdout",
     "output_type": "stream",
     "text": [
      "Comparing activity 9...\n"
     ]
    },
    {
     "name": "stderr",
     "output_type": "stream",
     "text": [
      "2024-09-26 14:26:20,630 - INFO - HTTP Request: POST https://datascience-openai-local.openai.azure.com//openai/deployments/gpt-35-turbo-16k/chat/completions?api-version=2024-05-01-preview \"HTTP/1.1 200 OK\"\n"
     ]
    },
    {
     "name": "stdout",
     "output_type": "stream",
     "text": [
      "Comparing activity 10...\n"
     ]
    },
    {
     "name": "stderr",
     "output_type": "stream",
     "text": [
      "2024-09-26 14:26:26,229 - INFO - HTTP Request: POST https://datascience-openai-local.openai.azure.com//openai/deployments/gpt-35-turbo-16k/chat/completions?api-version=2024-05-01-preview \"HTTP/1.1 200 OK\"\n"
     ]
    },
    {
     "name": "stdout",
     "output_type": "stream",
     "text": [
      "Comparing activity 11...\n"
     ]
    },
    {
     "name": "stderr",
     "output_type": "stream",
     "text": [
      "2024-09-26 14:26:30,154 - INFO - HTTP Request: POST https://datascience-openai-local.openai.azure.com//openai/deployments/gpt-35-turbo-16k/chat/completions?api-version=2024-05-01-preview \"HTTP/1.1 200 OK\"\n"
     ]
    },
    {
     "name": "stdout",
     "output_type": "stream",
     "text": [
      "Comparing activity 12...\n"
     ]
    },
    {
     "name": "stderr",
     "output_type": "stream",
     "text": [
      "2024-09-26 14:26:34,294 - INFO - HTTP Request: POST https://datascience-openai-local.openai.azure.com//openai/deployments/gpt-35-turbo-16k/chat/completions?api-version=2024-05-01-preview \"HTTP/1.1 200 OK\"\n"
     ]
    },
    {
     "name": "stdout",
     "output_type": "stream",
     "text": [
      "Comparing activity 13...\n"
     ]
    },
    {
     "name": "stderr",
     "output_type": "stream",
     "text": [
      "2024-09-26 14:26:37,324 - INFO - HTTP Request: POST https://datascience-openai-local.openai.azure.com//openai/deployments/gpt-35-turbo-16k/chat/completions?api-version=2024-05-01-preview \"HTTP/1.1 200 OK\"\n"
     ]
    },
    {
     "name": "stdout",
     "output_type": "stream",
     "text": [
      "Comparing activity 14...\n"
     ]
    },
    {
     "name": "stderr",
     "output_type": "stream",
     "text": [
      "2024-09-26 14:26:40,299 - INFO - HTTP Request: POST https://datascience-openai-local.openai.azure.com//openai/deployments/gpt-35-turbo-16k/chat/completions?api-version=2024-05-01-preview \"HTTP/1.1 200 OK\"\n"
     ]
    },
    {
     "name": "stdout",
     "output_type": "stream",
     "text": [
      "Comparing activity 15...\n"
     ]
    },
    {
     "name": "stderr",
     "output_type": "stream",
     "text": [
      "2024-09-26 14:26:44,033 - INFO - HTTP Request: POST https://datascience-openai-local.openai.azure.com//openai/deployments/gpt-35-turbo-16k/chat/completions?api-version=2024-05-01-preview \"HTTP/1.1 200 OK\"\n"
     ]
    },
    {
     "name": "stdout",
     "output_type": "stream",
     "text": [
      "Comparing activity 16...\n"
     ]
    },
    {
     "name": "stderr",
     "output_type": "stream",
     "text": [
      "2024-09-26 14:26:47,219 - INFO - HTTP Request: POST https://datascience-openai-local.openai.azure.com//openai/deployments/gpt-35-turbo-16k/chat/completions?api-version=2024-05-01-preview \"HTTP/1.1 200 OK\"\n",
      "2024-09-26 14:26:47,230 - INFO - Successfully processed and saved results for business/advanced_b2b_sales with GPT-3.5-Activity-Breakdown-Subject_Matter_Expert_Detailed_Basic\n",
      "2024-09-26 14:26:47,233 - INFO - Processing sector: business, activity: b2b_sales\n"
     ]
    },
    {
     "name": "stdout",
     "output_type": "stream",
     "text": [
      "Quantitative Metrics:\n",
      "=====================\n",
      "Total Activities Evaluated: 2\n",
      "Average Overall Similarity Score: 13.33%\n",
      "Average Confidence Score: 16.00%\n",
      "Average Sequence Alignment Score: 51.25%\n",
      "Ground Truth Steps Coverage: 58.82%\n",
      "Response Steps Coverage: 48.48%\n",
      "\n",
      "Match Type Distribution:\n",
      "- No Match: 16 matches (80.00%), Average Confidence: 0.00%\n",
      "- Functional Equivalence: 4 matches (20.00%), Average Confidence: 80.00%\n",
      "\n",
      "\n",
      "Qualitative Analysis:\n",
      "=====================\n",
      "\n",
      "Examples of Matched Steps by Match Type:\n",
      "\n",
      "Match Type: No Match\n",
      "Activity: Start\n",
      "Ground Truth Steps:\n",
      "  - [1] Receive application\n",
      "Response Steps:\n",
      "  - [1] Prepare relevant marketing materials\n",
      "  - [2] Customize information based on application\n",
      "  - [3] Send marketing package to applicant\n",
      "Confidence: 0%\n",
      "Explanation: There is no corresponding step in the response activity for the 'Receive application' step in the ground truth activity.\n",
      "\n",
      "Activity: Send marketing information\n",
      "Ground Truth Steps:\n",
      "  - [1] Send marketing information to applicant\n",
      "Response Steps:\n",
      "  - [1] Receive email response\n",
      "Confidence: 0%\n",
      "Explanation: There is no corresponding step in the response activity.\n",
      "\n",
      "Activity: Response type\n",
      "Ground Truth Steps:\n",
      "  - [1] Determine response type (Email, Post, No response)\n",
      "Response Steps:\n",
      "  - [1] Receive physical mail\n",
      "  - [2] Open and sort mail\n",
      "  - [3] Scan documents into system\n",
      "  - [4] Log response in system\n",
      "Confidence: 0%\n",
      "Explanation: The ground truth step 'Determine response type (Email, Post, No response)' does not have a corresponding step in the response.\n",
      "\n",
      "\n",
      "\n",
      "Match Type: Functional Equivalence\n",
      "Activity: Assess response\n",
      "Ground Truth Steps:\n",
      "  - [1] Assess the received response\n",
      "Response Steps:\n",
      "  - [1] Review final application details\n",
      "Confidence: 80%\n",
      "Explanation: The response step 'Review final application details' is functionally equivalent to the ground truth step 'Assess the received response'. Although the wording is different, both steps involve evaluating the details of the application.\n",
      "\n",
      "Activity: Application decision\n",
      "Ground Truth Steps:\n",
      "  - [2] Handle acceptance if application is OK\n",
      "Response Steps:\n",
      "  - [2] Log rejection in system\n",
      "Confidence: 80%\n",
      "Explanation: The response step 'Log rejection in system' is functionally equivalent to the ground truth step 'Handle acceptance if application is OK'.\n",
      "\n",
      "Activity: Application decision\n",
      "Ground Truth Steps:\n",
      "  - [3] Handle rejection if application is not OK\n",
      "Response Steps:\n",
      "  - [3] Update application status\n",
      "Confidence: 80%\n",
      "Explanation: The response step 'Update application status' is functionally equivalent to the ground truth step 'Handle rejection if application is not OK'.\n",
      "\n",
      "\n",
      "\n",
      "Analysis of Unmatched Ground Truth Steps:\n",
      "Activity: Send marketing information, Step: [1] Send marketing information to applicant\n",
      "Reason: There is no corresponding step in the response activity.\n",
      "\n",
      "Activity: Response type, Step: [1] Determine response type (Email, Post, No response)\n",
      "Reason: No corresponding step in the response\n",
      "\n",
      "Activity: Create electronic response, Step: [1] Create electronic response for Email\n",
      "Reason: There is no corresponding step in the response activity.\n",
      "\n",
      "Activity: Process post response, Step: [1] Process post response\n",
      "Reason: There is no corresponding step in the response activity.\n",
      "\n",
      "Activity: 1 week, Step: [1] Wait for 1 week\n",
      "Reason: There is no corresponding step in the response activity.\n",
      "\n",
      "Analysis of Unmatched Response Steps:\n",
      "Activity: Start, Step: [1] Prepare relevant marketing materials\n",
      "Reason: There is no corresponding step in the ground truth activity for the 'Prepare relevant marketing materials' step in the response activity.\n",
      "\n",
      "Activity: Start, Step: [2] Customize information based on application\n",
      "Reason: There is no corresponding step in the ground truth activity for the 'Customize information based on application' step in the response activity.\n",
      "\n",
      "Activity: Start, Step: [3] Send marketing package to applicant\n",
      "Reason: There is no corresponding step in the ground truth activity for the 'Send marketing package to applicant' step in the response activity.\n",
      "\n",
      "Activity: Send marketing information, Step: [1] Receive email response\n",
      "Reason: There is no corresponding step in the ground truth activity.\n",
      "\n",
      "Activity: Send marketing information, Step: [2] Log response in system\n",
      "Reason: There is no corresponding step in the ground truth activity.\n",
      "\n",
      "Granularity Issues Identified:\n",
      "Activity: Start\n",
      "Ground Truth Steps:\n",
      "  - [1] Receive application\n",
      "Response Steps:\n",
      "  - [1] Prepare relevant marketing materials\n",
      "  - [2] Customize information based on application\n",
      "  - [3] Send marketing package to applicant\n",
      "Explanation: There is no corresponding step in the response activity for the 'Receive application' step in the ground truth activity.\n",
      "\n",
      "Activity: Response type\n",
      "Ground Truth Steps:\n",
      "  - [1] Determine response type (Email, Post, No response)\n",
      "Response Steps:\n",
      "  - [1] Receive physical mail\n",
      "  - [2] Open and sort mail\n",
      "  - [3] Scan documents into system\n",
      "  - [4] Log response in system\n",
      "Explanation: The ground truth step 'Determine response type (Email, Post, No response)' does not have a corresponding step in the response.\n",
      "\n",
      "Activity: Create electronic response\n",
      "Ground Truth Steps:\n",
      "  - [1] Create electronic response for Email\n",
      "Response Steps:\n",
      "  - [1] Review response contents\n",
      "  - [2] Verify provided information\n",
      "  - [3] Evaluate completeness of response\n",
      "  - [4] Determine next steps based on assessment\n",
      "Explanation: There is no corresponding step in the response activity for the ground truth step 'Create electronic response for Email'.\n",
      "\n",
      "Activity: Process post response\n",
      "Ground Truth Steps:\n",
      "  - [1] Process post response\n",
      "Response Steps:\n",
      "  - [1] Identify available time slots\n",
      "  - [2] Contact applicant to schedule appointment\n",
      "  - [3] Confirm appointment details\n",
      "  - [4] Send appointment reminder\n",
      "Explanation: There is no meaningful match between the ground truth step 'Process post response' and any of the response steps.\n",
      "\n",
      "Activity: 1 week\n",
      "Ground Truth Steps:\n",
      "  - [1] Wait for 1 week\n",
      "Response Steps:\n",
      "  - [1] Document reasons for rejection\n",
      "  - [2] Draft rejection letter\n",
      "  - [3] Review rejection for accuracy and completeness\n",
      "Explanation: There is no meaningful match between the ground truth step 'Wait for 1 week' and any of the response steps.\n",
      "\n"
     ]
    },
    {
     "name": "stderr",
     "output_type": "stream",
     "text": [
      "2024-09-26 14:26:53,558 - INFO - HTTP Request: POST https://datascience-openai-local.openai.azure.com//openai/deployments/gpt-35-turbo-16k/chat/completions?api-version=2024-05-01-preview \"HTTP/1.1 200 OK\"\n"
     ]
    },
    {
     "name": "stdout",
     "output_type": "stream",
     "text": [
      "Comparing activity 1...\n"
     ]
    },
    {
     "name": "stderr",
     "output_type": "stream",
     "text": [
      "2024-09-26 14:26:56,290 - INFO - HTTP Request: POST https://datascience-openai-local.openai.azure.com//openai/deployments/gpt-35-turbo-16k/chat/completions?api-version=2024-05-01-preview \"HTTP/1.1 200 OK\"\n"
     ]
    },
    {
     "name": "stdout",
     "output_type": "stream",
     "text": [
      "Comparing activity 2...\n"
     ]
    },
    {
     "name": "stderr",
     "output_type": "stream",
     "text": [
      "2024-09-26 14:26:59,575 - INFO - HTTP Request: POST https://datascience-openai-local.openai.azure.com//openai/deployments/gpt-35-turbo-16k/chat/completions?api-version=2024-05-01-preview \"HTTP/1.1 200 OK\"\n"
     ]
    },
    {
     "name": "stdout",
     "output_type": "stream",
     "text": [
      "Comparing activity 3...\n"
     ]
    },
    {
     "name": "stderr",
     "output_type": "stream",
     "text": [
      "2024-09-26 14:27:03,241 - INFO - HTTP Request: POST https://datascience-openai-local.openai.azure.com//openai/deployments/gpt-35-turbo-16k/chat/completions?api-version=2024-05-01-preview \"HTTP/1.1 200 OK\"\n"
     ]
    },
    {
     "name": "stdout",
     "output_type": "stream",
     "text": [
      "Comparing activity 4...\n"
     ]
    },
    {
     "name": "stderr",
     "output_type": "stream",
     "text": [
      "2024-09-26 14:27:06,984 - INFO - HTTP Request: POST https://datascience-openai-local.openai.azure.com//openai/deployments/gpt-35-turbo-16k/chat/completions?api-version=2024-05-01-preview \"HTTP/1.1 200 OK\"\n"
     ]
    },
    {
     "name": "stdout",
     "output_type": "stream",
     "text": [
      "Comparing activity 5...\n"
     ]
    },
    {
     "name": "stderr",
     "output_type": "stream",
     "text": [
      "2024-09-26 14:27:10,164 - INFO - HTTP Request: POST https://datascience-openai-local.openai.azure.com//openai/deployments/gpt-35-turbo-16k/chat/completions?api-version=2024-05-01-preview \"HTTP/1.1 200 OK\"\n"
     ]
    },
    {
     "name": "stdout",
     "output_type": "stream",
     "text": [
      "Comparing activity 6...\n"
     ]
    },
    {
     "name": "stderr",
     "output_type": "stream",
     "text": [
      "2024-09-26 14:27:12,204 - INFO - HTTP Request: POST https://datascience-openai-local.openai.azure.com//openai/deployments/gpt-35-turbo-16k/chat/completions?api-version=2024-05-01-preview \"HTTP/1.1 200 OK\"\n"
     ]
    },
    {
     "name": "stdout",
     "output_type": "stream",
     "text": [
      "Comparing activity 7...\n"
     ]
    },
    {
     "name": "stderr",
     "output_type": "stream",
     "text": [
      "2024-09-26 14:27:15,002 - INFO - HTTP Request: POST https://datascience-openai-local.openai.azure.com//openai/deployments/gpt-35-turbo-16k/chat/completions?api-version=2024-05-01-preview \"HTTP/1.1 200 OK\"\n"
     ]
    },
    {
     "name": "stdout",
     "output_type": "stream",
     "text": [
      "Comparing activity 8...\n"
     ]
    },
    {
     "name": "stderr",
     "output_type": "stream",
     "text": [
      "2024-09-26 14:27:18,550 - INFO - HTTP Request: POST https://datascience-openai-local.openai.azure.com//openai/deployments/gpt-35-turbo-16k/chat/completions?api-version=2024-05-01-preview \"HTTP/1.1 200 OK\"\n",
      "2024-09-26 14:27:18,555 - INFO - Successfully processed and saved results for business/b2b_sales with GPT-3.5-Activity-Breakdown-Subject_Matter_Expert_Detailed_Basic\n",
      "2024-09-26 14:27:18,556 - INFO - Processing sector: business, activity: cost_planning\n"
     ]
    },
    {
     "name": "stdout",
     "output_type": "stream",
     "text": [
      "Quantitative Metrics:\n",
      "=====================\n",
      "Total Activities Evaluated: 3\n",
      "Average Overall Similarity Score: 38.75%\n",
      "Average Confidence Score: 35.38%\n",
      "Average Sequence Alignment Score: 73.96%\n",
      "Ground Truth Steps Coverage: 87.50%\n",
      "Response Steps Coverage: 52.94%\n",
      "\n",
      "Match Type Distribution:\n",
      "- No Match: 7 matches (53.85%), Average Confidence: 0.00%\n",
      "- Granularity Difference: 2 matches (15.38%), Average Confidence: 75.00%\n",
      "- Functional Equivalence: 4 matches (30.77%), Average Confidence: 77.50%\n",
      "\n",
      "\n",
      "Qualitative Analysis:\n",
      "=====================\n",
      "\n",
      "Examples of Matched Steps by Match Type:\n",
      "\n",
      "Match Type: No Match\n",
      "Activity: Start\n",
      "Ground Truth Steps:\n",
      "  - [1] Receive application\n",
      "Response Steps:\n",
      "  - [1] Prepare relevant marketing materials\n",
      "Confidence: 0%\n",
      "Explanation: There is no corresponding step in the response activity.\n",
      "\n",
      "Activity: Start\n",
      "Ground Truth Steps:\n",
      "  - [2] Record application details\n",
      "Response Steps:\n",
      "  - [2] Customize information based on application\n",
      "Confidence: 0%\n",
      "Explanation: There is no corresponding step in the response activity.\n",
      "\n",
      "Activity: Send marketing information\n",
      "Ground Truth Steps:\n",
      "  - [1] Prepare marketing materials\n",
      "Response Steps:\n",
      "  - [1] Monitor incoming communications\n",
      "Confidence: 0%\n",
      "Explanation: There is no corresponding step in the response activity.\n",
      "\n",
      "\n",
      "\n",
      "Match Type: Granularity Difference\n",
      "Activity: Send marketing information\n",
      "Ground Truth Steps:\n",
      "  - [2] Send marketing materials to applicant\n",
      "Response Steps:\n",
      "  - [2] Identify response from applicant\n",
      "  - [3] Log response method (email or post)\n",
      "Confidence: 70%\n",
      "Explanation: The ground truth step 'Send marketing materials to applicant' is more granular than the response steps. The response steps 'Identify response from applicant' and 'Log response method (email or post)' partially overlap with the ground truth step.\n",
      "\n",
      "Activity: Application OK\n",
      "Ground Truth Steps:\n",
      "  - [1] Proceed with next steps\n",
      "Response Steps:\n",
      "  - [1] Review application with applicant\n",
      "  - [2] Clarify any unclear points\n",
      "  - [3] Gather additional information if needed\n",
      "  - [4] Update application with new information\n",
      "Confidence: 80%\n",
      "Explanation: Ground truth step 1 corresponds to response steps 1, 2, 3, and 4.\n",
      "\n",
      "\n",
      "\n",
      "Match Type: Functional Equivalence\n",
      "Activity: Send rejection\n",
      "Ground Truth Steps:\n",
      "  - [1] No action required\n",
      "Response Steps:\n",
      "  - [1] Document reasons for rejection\n",
      "Confidence: 80%\n",
      "Explanation: The ground truth step 'No action required' is functionally equivalent to the response step 'Document reasons for rejection'. Although the wording is different, both steps involve recording the reasons for rejecting the application.\n",
      "\n",
      "Activity: Assess application\n",
      "Ground Truth Steps:\n",
      "  - [2] Evaluate applicant qualifications\n",
      "Response Steps:\n",
      "  - [2] Contact applicant to schedule appointment\n",
      "Confidence: 80%\n",
      "Explanation: The steps have different descriptions but share the same core function of interacting with the applicant.\n",
      "\n",
      "Activity: Application not OK\n",
      "Ground Truth Steps:\n",
      "  - [2] Send rejection letter to applicant\n",
      "Response Steps:\n",
      "  - [4] Send offer to applicant\n",
      "Confidence: 75%\n",
      "Explanation: The steps have different outcomes but involve sending a letter to the applicant.\n",
      "\n",
      "\n",
      "\n",
      "Analysis of Unmatched Ground Truth Steps:\n",
      "Activity: Receive response, Step: [1] Check email for response\n",
      "Reason: There is no corresponding step in the response.\n",
      "\n",
      "Activity: Receive response, Step: [2] Check mail for response\n",
      "Reason: There is no corresponding step in the response.\n",
      "\n",
      "Analysis of Unmatched Response Steps:\n",
      "Activity: Start, Step: [3] Send marketing package to applicant\n",
      "Reason: There is no corresponding step in the ground truth activity.\n",
      "\n",
      "Activity: Send marketing information, Step: [1] Monitor incoming communications\n",
      "Reason: There is no corresponding step in the ground truth activity.\n",
      "\n",
      "Activity: Send marketing information, Step: [3] Log response method (email or post)\n",
      "Reason: There is no corresponding step in the ground truth activity.\n",
      "\n",
      "Activity: Receive response, Step: [1] Review application details\n",
      "Reason: There is no corresponding step in the ground truth.\n",
      "\n",
      "Activity: Receive response, Step: [2] Verify provided information\n",
      "Reason: There is no corresponding step in the ground truth.\n",
      "\n",
      "Granularity Issues Identified:\n",
      "Activity: Send marketing information\n",
      "Ground Truth Steps:\n",
      "  - [2] Send marketing materials to applicant\n",
      "Response Steps:\n",
      "  - [2] Identify response from applicant\n",
      "  - [3] Log response method (email or post)\n",
      "Explanation: The ground truth step 'Send marketing materials to applicant' is more granular than the response steps. The response steps 'Identify response from applicant' and 'Log response method (email or post)' partially overlap with the ground truth step.\n",
      "\n",
      "Activity: Application OK\n",
      "Ground Truth Steps:\n",
      "  - [1] Proceed with next steps\n",
      "Response Steps:\n",
      "  - [1] Review application with applicant\n",
      "  - [2] Clarify any unclear points\n",
      "  - [3] Gather additional information if needed\n",
      "  - [4] Update application with new information\n",
      "Explanation: Ground truth step 1 corresponds to response steps 1, 2, 3, and 4.\n",
      "\n"
     ]
    },
    {
     "name": "stderr",
     "output_type": "stream",
     "text": [
      "2024-09-26 14:27:20,785 - INFO - HTTP Request: POST https://datascience-openai-local.openai.azure.com//openai/deployments/gpt-35-turbo-16k/chat/completions?api-version=2024-05-01-preview \"HTTP/1.1 200 OK\"\n"
     ]
    },
    {
     "name": "stdout",
     "output_type": "stream",
     "text": [
      "Comparing activity 1...\n"
     ]
    },
    {
     "name": "stderr",
     "output_type": "stream",
     "text": [
      "2024-09-26 14:27:24,137 - INFO - HTTP Request: POST https://datascience-openai-local.openai.azure.com//openai/deployments/gpt-35-turbo-16k/chat/completions?api-version=2024-05-01-preview \"HTTP/1.1 200 OK\"\n"
     ]
    },
    {
     "name": "stdout",
     "output_type": "stream",
     "text": [
      "Comparing activity 2...\n"
     ]
    },
    {
     "name": "stderr",
     "output_type": "stream",
     "text": [
      "2024-09-26 14:27:27,798 - INFO - HTTP Request: POST https://datascience-openai-local.openai.azure.com//openai/deployments/gpt-35-turbo-16k/chat/completions?api-version=2024-05-01-preview \"HTTP/1.1 200 OK\"\n"
     ]
    },
    {
     "name": "stdout",
     "output_type": "stream",
     "text": [
      "Comparing activity 3...\n"
     ]
    },
    {
     "name": "stderr",
     "output_type": "stream",
     "text": [
      "2024-09-26 14:27:30,281 - INFO - HTTP Request: POST https://datascience-openai-local.openai.azure.com//openai/deployments/gpt-35-turbo-16k/chat/completions?api-version=2024-05-01-preview \"HTTP/1.1 200 OK\"\n"
     ]
    },
    {
     "name": "stdout",
     "output_type": "stream",
     "text": [
      "Comparing activity 4...\n"
     ]
    },
    {
     "name": "stderr",
     "output_type": "stream",
     "text": [
      "2024-09-26 14:27:34,566 - INFO - HTTP Request: POST https://datascience-openai-local.openai.azure.com//openai/deployments/gpt-35-turbo-16k/chat/completions?api-version=2024-05-01-preview \"HTTP/1.1 200 OK\"\n",
      "2024-09-26 14:27:34,573 - INFO - Successfully processed and saved results for business/cost_planning with GPT-3.5-Activity-Breakdown-Subject_Matter_Expert_Detailed_Basic\n",
      "2024-09-26 14:27:34,575 - INFO - Processing sector: business, activity: declaration_approval\n"
     ]
    },
    {
     "name": "stdout",
     "output_type": "stream",
     "text": [
      "Quantitative Metrics:\n",
      "=====================\n",
      "Total Activities Evaluated: 3\n",
      "Average Overall Similarity Score: 61.25%\n",
      "Average Confidence Score: 66.00%\n",
      "Average Sequence Alignment Score: 44.58%\n",
      "Ground Truth Steps Coverage: 83.33%\n",
      "Response Steps Coverage: 61.90%\n",
      "\n",
      "Match Type Distribution:\n",
      "- Granularity Difference: 2 matches (40.00%), Average Confidence: 85.00%\n",
      "- Functional Equivalence: 2 matches (40.00%), Average Confidence: 80.00%\n",
      "- No Match: 1 matches (20.00%), Average Confidence: 0.00%\n",
      "\n",
      "\n",
      "Qualitative Analysis:\n",
      "=====================\n",
      "\n",
      "Examples of Matched Steps by Match Type:\n",
      "\n",
      "Match Type: Granularity Difference\n",
      "Activity: Start\n",
      "Ground Truth Steps:\n",
      "  - [1] Conduct cost planning\n",
      "Response Steps:\n",
      "  - [1] Gather relevant financial data\n",
      "  - [2] Estimate project costs\n",
      "  - [3] Create cost breakdown structure\n",
      "  - [4] Develop initial cost plan\n",
      "Confidence: 80%\n",
      "Explanation: The ground truth step 'Conduct cost planning' corresponds to multiple response steps: 'Gather relevant financial data', 'Estimate project costs', 'Create cost breakdown structure', and 'Develop initial cost plan'.\n",
      "\n",
      "Activity: Cost planning\n",
      "Ground Truth Steps:\n",
      "  - [2] Recalculate costs\n",
      "Response Steps:\n",
      "  - [3] Adjust cost estimates\n",
      "  - [4] Update cost plan\n",
      "Confidence: 90%\n",
      "Explanation: The ground truth step 'Recalculate costs' is more granular than the response steps. It encompasses the actions of adjusting cost estimates and updating the cost plan. Therefore, the response steps 3 and 4 are grouped together as a match for the ground truth step 2.\n",
      "\n",
      "\n",
      "\n",
      "Match Type: Functional Equivalence\n",
      "Activity: Cost planning\n",
      "Ground Truth Steps:\n",
      "  - [1] Plan data transfer\n",
      "Response Steps:\n",
      "  - [1] Review initial cost plan\n",
      "Confidence: 80%\n",
      "Explanation: The ground truth step 'Plan data transfer' is functionally equivalent to the response step 'Review initial cost plan'. Although the wording is different, both steps involve reviewing and analyzing the initial cost plan.\n",
      "\n",
      "Activity: Plan data transfer\n",
      "Ground Truth Steps:\n",
      "  - [1] Check if acceptable\n",
      "Response Steps:\n",
      "  - [1] Prepare cost plan data for transfer\n",
      "Confidence: 80%\n",
      "Explanation: The response step 'Prepare cost plan data for transfer' is functionally equivalent to the ground truth step 'Check if acceptable'. Although the wording is different, both steps involve preparing the cost plan data for transfer, indicating the same core function.\n",
      "\n",
      "\n",
      "\n",
      "Match Type: No Match\n",
      "Activity: Recalculation of costs\n",
      "Ground Truth Steps:\n",
      "  - [1] Check if acceptable\n",
      "Response Steps:\n",
      "  - [1] Compile finalized cost plan\n",
      "  - [2] Present cost plan to approving authority\n",
      "  - [3] Address any questions or concerns\n",
      "  - [4] Obtain formal approval for expenses\n",
      "  - [5] Document approval decision\n",
      "Confidence: 0%\n",
      "Explanation: There is no corresponding step in the response activity for the ground truth step 'Check if acceptable'.\n",
      "\n",
      "\n",
      "\n",
      "Analysis of Unmatched Ground Truth Steps:\n",
      "Activity: Recalculation of costs, Step: [1] Check if acceptable\n",
      "Reason: There is no corresponding step in the response activity.\n",
      "\n",
      "Analysis of Unmatched Response Steps:\n",
      "Activity: Cost planning, Step: [2] Identify areas for cost reduction or optimization\n",
      "Reason: There is no corresponding step in the ground truth for identifying areas for cost reduction or optimization.\n",
      "\n",
      "Activity: Plan data transfer, Step: [2] Identify relevant stakeholders for data sharing\n",
      "Reason: There is no corresponding ground truth step for this response step.\n",
      "\n",
      "Activity: Plan data transfer, Step: [3] Transfer cost plan data to appropriate systems or departments\n",
      "Reason: There is no corresponding ground truth step for this response step.\n",
      "\n",
      "Activity: Recalculation of costs, Step: [1] Compile finalized cost plan\n",
      "Reason: There is no corresponding step in the ground truth activity.\n",
      "\n",
      "Activity: Recalculation of costs, Step: [2] Present cost plan to approving authority\n",
      "Reason: There is no corresponding step in the ground truth activity.\n",
      "\n",
      "Granularity Issues Identified:\n",
      "Activity: Start\n",
      "Ground Truth Steps:\n",
      "  - [1] Conduct cost planning\n",
      "Response Steps:\n",
      "  - [1] Gather relevant financial data\n",
      "  - [2] Estimate project costs\n",
      "  - [3] Create cost breakdown structure\n",
      "  - [4] Develop initial cost plan\n",
      "Explanation: The ground truth step 'Conduct cost planning' corresponds to multiple response steps: 'Gather relevant financial data', 'Estimate project costs', 'Create cost breakdown structure', and 'Develop initial cost plan'.\n",
      "\n",
      "Activity: Cost planning\n",
      "Ground Truth Steps:\n",
      "  - [2] Recalculate costs\n",
      "Response Steps:\n",
      "  - [3] Adjust cost estimates\n",
      "  - [4] Update cost plan\n",
      "Explanation: The ground truth step 'Recalculate costs' is more granular than the response steps. It encompasses the actions of adjusting cost estimates and updating the cost plan. Therefore, the response steps 3 and 4 are grouped together as a match for the ground truth step 2.\n",
      "\n",
      "Activity: Recalculation of costs\n",
      "Ground Truth Steps:\n",
      "  - [1] Check if acceptable\n",
      "Response Steps:\n",
      "  - [1] Compile finalized cost plan\n",
      "  - [2] Present cost plan to approving authority\n",
      "  - [3] Address any questions or concerns\n",
      "  - [4] Obtain formal approval for expenses\n",
      "  - [5] Document approval decision\n",
      "Explanation: There is no corresponding step in the response activity for the ground truth step 'Check if acceptable'.\n",
      "\n"
     ]
    },
    {
     "name": "stderr",
     "output_type": "stream",
     "text": [
      "2024-09-26 14:27:40,750 - INFO - HTTP Request: POST https://datascience-openai-local.openai.azure.com//openai/deployments/gpt-35-turbo-16k/chat/completions?api-version=2024-05-01-preview \"HTTP/1.1 200 OK\"\n"
     ]
    },
    {
     "name": "stdout",
     "output_type": "stream",
     "text": [
      "Comparing activity 1...\n"
     ]
    },
    {
     "name": "stderr",
     "output_type": "stream",
     "text": [
      "2024-09-26 14:27:42,898 - INFO - HTTP Request: POST https://datascience-openai-local.openai.azure.com//openai/deployments/gpt-35-turbo-16k/chat/completions?api-version=2024-05-01-preview \"HTTP/1.1 200 OK\"\n"
     ]
    },
    {
     "name": "stdout",
     "output_type": "stream",
     "text": [
      "Comparing activity 2...\n"
     ]
    },
    {
     "name": "stderr",
     "output_type": "stream",
     "text": [
      "2024-09-26 14:27:47,026 - INFO - HTTP Request: POST https://datascience-openai-local.openai.azure.com//openai/deployments/gpt-35-turbo-16k/chat/completions?api-version=2024-05-01-preview \"HTTP/1.1 200 OK\"\n"
     ]
    },
    {
     "name": "stdout",
     "output_type": "stream",
     "text": [
      "Comparing activity 3...\n"
     ]
    },
    {
     "name": "stderr",
     "output_type": "stream",
     "text": [
      "2024-09-26 14:27:50,604 - INFO - HTTP Request: POST https://datascience-openai-local.openai.azure.com//openai/deployments/gpt-35-turbo-16k/chat/completions?api-version=2024-05-01-preview \"HTTP/1.1 200 OK\"\n"
     ]
    },
    {
     "name": "stdout",
     "output_type": "stream",
     "text": [
      "Comparing activity 4...\n"
     ]
    },
    {
     "name": "stderr",
     "output_type": "stream",
     "text": [
      "2024-09-26 14:27:52,779 - INFO - HTTP Request: POST https://datascience-openai-local.openai.azure.com//openai/deployments/gpt-35-turbo-16k/chat/completions?api-version=2024-05-01-preview \"HTTP/1.1 200 OK\"\n"
     ]
    },
    {
     "name": "stdout",
     "output_type": "stream",
     "text": [
      "Comparing activity 5...\n"
     ]
    },
    {
     "name": "stderr",
     "output_type": "stream",
     "text": [
      "2024-09-26 14:27:54,954 - INFO - HTTP Request: POST https://datascience-openai-local.openai.azure.com//openai/deployments/gpt-35-turbo-16k/chat/completions?api-version=2024-05-01-preview \"HTTP/1.1 200 OK\"\n"
     ]
    },
    {
     "name": "stdout",
     "output_type": "stream",
     "text": [
      "Comparing activity 6...\n"
     ]
    },
    {
     "name": "stderr",
     "output_type": "stream",
     "text": [
      "2024-09-26 14:27:57,790 - INFO - HTTP Request: POST https://datascience-openai-local.openai.azure.com//openai/deployments/gpt-35-turbo-16k/chat/completions?api-version=2024-05-01-preview \"HTTP/1.1 200 OK\"\n"
     ]
    },
    {
     "name": "stdout",
     "output_type": "stream",
     "text": [
      "Comparing activity 7...\n"
     ]
    },
    {
     "name": "stderr",
     "output_type": "stream",
     "text": [
      "2024-09-26 14:28:01,481 - INFO - HTTP Request: POST https://datascience-openai-local.openai.azure.com//openai/deployments/gpt-35-turbo-16k/chat/completions?api-version=2024-05-01-preview \"HTTP/1.1 200 OK\"\n"
     ]
    },
    {
     "name": "stdout",
     "output_type": "stream",
     "text": [
      "Comparing activity 8...\n"
     ]
    },
    {
     "name": "stderr",
     "output_type": "stream",
     "text": [
      "2024-09-26 14:28:04,660 - INFO - HTTP Request: POST https://datascience-openai-local.openai.azure.com//openai/deployments/gpt-35-turbo-16k/chat/completions?api-version=2024-05-01-preview \"HTTP/1.1 200 OK\"\n"
     ]
    },
    {
     "name": "stdout",
     "output_type": "stream",
     "text": [
      "Comparing activity 9...\n"
     ]
    },
    {
     "name": "stderr",
     "output_type": "stream",
     "text": [
      "2024-09-26 14:28:06,961 - INFO - HTTP Request: POST https://datascience-openai-local.openai.azure.com//openai/deployments/gpt-35-turbo-16k/chat/completions?api-version=2024-05-01-preview \"HTTP/1.1 200 OK\"\n"
     ]
    },
    {
     "name": "stdout",
     "output_type": "stream",
     "text": [
      "Comparing activity 10...\n"
     ]
    },
    {
     "name": "stderr",
     "output_type": "stream",
     "text": [
      "2024-09-26 14:28:10,212 - INFO - HTTP Request: POST https://datascience-openai-local.openai.azure.com//openai/deployments/gpt-35-turbo-16k/chat/completions?api-version=2024-05-01-preview \"HTTP/1.1 200 OK\"\n"
     ]
    },
    {
     "name": "stdout",
     "output_type": "stream",
     "text": [
      "Comparing activity 11...\n"
     ]
    },
    {
     "name": "stderr",
     "output_type": "stream",
     "text": [
      "2024-09-26 14:28:13,448 - INFO - HTTP Request: POST https://datascience-openai-local.openai.azure.com//openai/deployments/gpt-35-turbo-16k/chat/completions?api-version=2024-05-01-preview \"HTTP/1.1 200 OK\"\n"
     ]
    },
    {
     "name": "stdout",
     "output_type": "stream",
     "text": [
      "Comparing activity 12...\n"
     ]
    },
    {
     "name": "stderr",
     "output_type": "stream",
     "text": [
      "2024-09-26 14:28:15,871 - INFO - HTTP Request: POST https://datascience-openai-local.openai.azure.com//openai/deployments/gpt-35-turbo-16k/chat/completions?api-version=2024-05-01-preview \"HTTP/1.1 200 OK\"\n"
     ]
    },
    {
     "name": "stdout",
     "output_type": "stream",
     "text": [
      "Comparing activity 13...\n"
     ]
    },
    {
     "name": "stderr",
     "output_type": "stream",
     "text": [
      "2024-09-26 14:28:18,210 - INFO - HTTP Request: POST https://datascience-openai-local.openai.azure.com//openai/deployments/gpt-35-turbo-16k/chat/completions?api-version=2024-05-01-preview \"HTTP/1.1 200 OK\"\n"
     ]
    },
    {
     "name": "stdout",
     "output_type": "stream",
     "text": [
      "Comparing activity 14...\n"
     ]
    },
    {
     "name": "stderr",
     "output_type": "stream",
     "text": [
      "2024-09-26 14:28:21,031 - INFO - HTTP Request: POST https://datascience-openai-local.openai.azure.com//openai/deployments/gpt-35-turbo-16k/chat/completions?api-version=2024-05-01-preview \"HTTP/1.1 200 OK\"\n",
      "2024-09-26 14:28:21,035 - INFO - Successfully processed and saved results for business/declaration_approval with GPT-3.5-Activity-Breakdown-Subject_Matter_Expert_Detailed_Basic\n",
      "2024-09-26 14:28:21,036 - INFO - Processing sector: business, activity: hiring_process\n"
     ]
    },
    {
     "name": "stdout",
     "output_type": "stream",
     "text": [
      "Quantitative Metrics:\n",
      "=====================\n",
      "Total Activities Evaluated: 4\n",
      "Average Overall Similarity Score: 39.11%\n",
      "Average Confidence Score: 42.39%\n",
      "Average Sequence Alignment Score: 59.52%\n",
      "Ground Truth Steps Coverage: 80.77%\n",
      "Response Steps Coverage: 60.38%\n",
      "\n",
      "Match Type Distribution:\n",
      "- Granularity Difference: 2 matches (8.70%), Average Confidence: 80.00%\n",
      "- Functional Equivalence: 5 matches (21.74%), Average Confidence: 83.00%\n",
      "- Identical Match: 4 matches (17.39%), Average Confidence: 100.00%\n",
      "- No Match: 12 matches (52.17%), Average Confidence: 0.00%\n",
      "\n",
      "\n",
      "Qualitative Analysis:\n",
      "=====================\n",
      "\n",
      "Examples of Matched Steps by Match Type:\n",
      "\n",
      "Match Type: Granularity Difference\n",
      "Activity: Declaration SUBMITTED by EMPLOYEE\n",
      "Ground Truth Steps:\n",
      "  - [1] Employee submits declaration\n",
      "Response Steps:\n",
      "  - [1] Employee fills out declaration form\n",
      "  - [2] Employee attaches necessary documents\n",
      "  - [3] Employee submits declaration\n",
      "Confidence: 80%\n",
      "Explanation: Ground truth step 1 corresponds to response steps 1, 2, and 3. The response provides a more detailed breakdown of the substeps involved in submitting the declaration.\n",
      "\n",
      "Activity: Declaration REJECTED by MISSING\n",
      "Ground Truth Steps:\n",
      "  - [2] Declaration rejected due to missing info\n",
      "Response Steps:\n",
      "  - [2] System updates declaration status\n",
      "  - [3] Employee notified of missing information\n",
      "Confidence: 80%\n",
      "Explanation: The ground truth step 'Declaration rejected due to missing info' is more granular than the response steps. The response steps 'System updates declaration status' and 'Employee notified of missing information' together encompass the action of rejecting the declaration due to missing information.\n",
      "\n",
      "\n",
      "\n",
      "Match Type: Functional Equivalence\n",
      "Activity: Declaration FOR_APPROVAL by PRE_APPROVER\n",
      "Ground Truth Steps:\n",
      "  - [1] Pre-approver receives declaration\n",
      "Response Steps:\n",
      "  - [1] System routes declaration to pre-approver\n",
      "Confidence: 80%\n",
      "Explanation: Both steps describe the action of the declaration being received by the pre-approver, although the wording is slightly different.\n",
      "\n",
      "Activity: Declaration FOR_APPROVAL by SUPERVISOR\n",
      "Ground Truth Steps:\n",
      "  - [1] Supervisor receives declaration\n",
      "Response Steps:\n",
      "  - [1] System routes declaration to supervisor\n",
      "Confidence: 80%\n",
      "Explanation: Both steps describe the action of the supervisor receiving the declaration, although the response step includes additional information about the system routing the declaration.\n",
      "\n",
      "Activity: Declaration REJECTED by MISSING\n",
      "Ground Truth Steps:\n",
      "  - [1] Missing information identified\n",
      "Response Steps:\n",
      "  - [1] Reviewer identifies missing information\n",
      "Confidence: 95%\n",
      "Explanation: The ground truth step 'Missing information identified' and the response step 'Reviewer identifies missing information' describe the same action of identifying missing information, but with slightly different wording.\n",
      "\n",
      "\n",
      "\n",
      "Match Type: Identical Match\n",
      "Activity: Declaration FOR_APPROVAL by PRE_APPROVER\n",
      "Ground Truth Steps:\n",
      "  - [2] Pre-approver reviews declaration\n",
      "Response Steps:\n",
      "  - [3] Pre-approver reviews declaration\n",
      "Confidence: 100%\n",
      "Explanation: Both steps are identical in wording and meaning.\n",
      "\n",
      "Activity: Declaration FOR_APPROVAL by SUPERVISOR\n",
      "Ground Truth Steps:\n",
      "  - [2] Supervisor reviews declaration\n",
      "Response Steps:\n",
      "  - [3] Supervisor reviews declaration\n",
      "Confidence: 100%\n",
      "Explanation: Both steps are identical in wording and meaning.\n",
      "\n",
      "Activity: Declaration APPROVED by PRE_APPROVER\n",
      "Ground Truth Steps:\n",
      "  - [1] Pre-approver approves declaration\n",
      "Response Steps:\n",
      "  - [1] Pre-approver approves declaration\n",
      "Confidence: 100%\n",
      "Explanation: The ground truth step and response step are identical.\n",
      "\n",
      "\n",
      "\n",
      "Match Type: No Match\n",
      "Activity: Declaration FOR_APPROVAL by PRE_APPROVER\n",
      "Ground Truth Steps:\n",
      "  - [3] Pre-approver makes decision\n",
      "Response Steps:\n",
      "Confidence: 0%\n",
      "Explanation: There is no corresponding step in the response for the pre-approver making a decision.\n",
      "\n",
      "Activity: Declaration FOR_APPROVAL by SUPERVISOR\n",
      "Ground Truth Steps:\n",
      "  - [3] Supervisor makes decision\n",
      "Response Steps:\n",
      "Confidence: 0%\n",
      "Explanation: There is no corresponding step in the response for the ground truth step 'Supervisor makes decision'.\n",
      "\n",
      "Activity: Declaration APPROVED by PRE_APPROVER\n",
      "Ground Truth Steps:\n",
      "Response Steps:\n",
      "  - [2] System updates declaration status\n",
      "  - [3] Declaration forwarded to next approval stage\n",
      "Confidence: 0%\n",
      "Explanation: There are no corresponding ground truth steps for these response steps.\n",
      "\n",
      "\n",
      "\n",
      "Analysis of Unmatched Ground Truth Steps:\n",
      "Activity: Declaration REJECTED by SUPERVISOR, Step: [1] Supervisor rejects declaration\n",
      "Reason: There is no corresponding step in the response.\n",
      "\n",
      "Activity: Declaration APPROVED by ADMINISTRATION, Step: [1] Administration approves declaration\n",
      "Reason: No corresponding match in the response\n",
      "\n",
      "Activity: Declaration APPROVED by BUDGET OWNER, Step: [1] Budget owner approves declaration\n",
      "Reason: No corresponding step in the response\n",
      "\n",
      "Activity: Request Payment, Step: [1] Payment request is generated\n",
      "Reason: There is no corresponding step in the response activity.\n",
      "\n",
      "Activity: Payment Handled, Step: [1] Payment is processed and handled\n",
      "Reason: There is no corresponding step in the response activity.\n",
      "\n",
      "Analysis of Unmatched Response Steps:\n",
      "Activity: Declaration FOR_APPROVAL by PRE_APPROVER, Step: [2] Pre-approver notified of pending declaration\n",
      "Reason: There is no corresponding step in the ground truth for the pre-approver being notified of the pending declaration.\n",
      "\n",
      "Activity: Declaration FOR_APPROVAL by SUPERVISOR, Step: [2] Supervisor notified of pending declaration\n",
      "Reason: There is no corresponding step in the ground truth for the response step 'Supervisor notified of pending declaration'.\n",
      "\n",
      "Activity: Declaration REJECTED by SUPERVISOR, Step: [1] System routes declaration to administration\n",
      "Reason: There is no corresponding step in the ground truth.\n",
      "\n",
      "Activity: Declaration REJECTED by SUPERVISOR, Step: [2] Administration notified of pending declaration\n",
      "Reason: There is no corresponding step in the ground truth.\n",
      "\n",
      "Activity: Declaration REJECTED by SUPERVISOR, Step: [3] Administration reviews declaration\n",
      "Reason: There is no corresponding step in the ground truth.\n",
      "\n",
      "Granularity Issues Identified:\n",
      "Activity: Declaration SUBMITTED by EMPLOYEE\n",
      "Ground Truth Steps:\n",
      "  - [1] Employee submits declaration\n",
      "Response Steps:\n",
      "  - [1] Employee fills out declaration form\n",
      "  - [2] Employee attaches necessary documents\n",
      "  - [3] Employee submits declaration\n",
      "Explanation: Ground truth step 1 corresponds to response steps 1, 2, and 3. The response provides a more detailed breakdown of the substeps involved in submitting the declaration.\n",
      "\n",
      "Activity: Declaration FOR_APPROVAL by PRE_APPROVER\n",
      "Ground Truth Steps:\n",
      "  - [3] Pre-approver makes decision\n",
      "Response Steps:\n",
      "Explanation: There is no corresponding step in the response for the pre-approver making a decision.\n",
      "\n",
      "Activity: Declaration FOR_APPROVAL by SUPERVISOR\n",
      "Ground Truth Steps:\n",
      "  - [3] Supervisor makes decision\n",
      "Response Steps:\n",
      "Explanation: There is no corresponding step in the response for the ground truth step 'Supervisor makes decision'.\n",
      "\n",
      "Activity: Declaration APPROVED by PRE_APPROVER\n",
      "Ground Truth Steps:\n",
      "Response Steps:\n",
      "  - [2] System updates declaration status\n",
      "  - [3] Declaration forwarded to next approval stage\n",
      "Explanation: There are no corresponding ground truth steps for these response steps.\n",
      "\n",
      "Activity: Declaration REJECTED by PRE_APPROVER\n",
      "Ground Truth Steps:\n",
      "Response Steps:\n",
      "  - [2] System updates declaration status\n",
      "  - [3] Employee notified of rejection\n",
      "Explanation: There is no corresponding ground truth step for the response steps.\n",
      "\n"
     ]
    },
    {
     "name": "stderr",
     "output_type": "stream",
     "text": [
      "2024-09-26 14:28:31,599 - INFO - HTTP Request: POST https://datascience-openai-local.openai.azure.com//openai/deployments/gpt-35-turbo-16k/chat/completions?api-version=2024-05-01-preview \"HTTP/1.1 200 OK\"\n"
     ]
    },
    {
     "name": "stdout",
     "output_type": "stream",
     "text": [
      "Comparing activity 1...\n"
     ]
    },
    {
     "name": "stderr",
     "output_type": "stream",
     "text": [
      "2024-09-26 14:28:35,236 - INFO - HTTP Request: POST https://datascience-openai-local.openai.azure.com//openai/deployments/gpt-35-turbo-16k/chat/completions?api-version=2024-05-01-preview \"HTTP/1.1 200 OK\"\n"
     ]
    },
    {
     "name": "stdout",
     "output_type": "stream",
     "text": [
      "Comparing activity 2...\n"
     ]
    },
    {
     "name": "stderr",
     "output_type": "stream",
     "text": [
      "2024-09-26 14:28:38,874 - INFO - HTTP Request: POST https://datascience-openai-local.openai.azure.com//openai/deployments/gpt-35-turbo-16k/chat/completions?api-version=2024-05-01-preview \"HTTP/1.1 200 OK\"\n"
     ]
    },
    {
     "name": "stdout",
     "output_type": "stream",
     "text": [
      "Comparing activity 3...\n"
     ]
    },
    {
     "name": "stderr",
     "output_type": "stream",
     "text": [
      "2024-09-26 14:28:42,755 - INFO - HTTP Request: POST https://datascience-openai-local.openai.azure.com//openai/deployments/gpt-35-turbo-16k/chat/completions?api-version=2024-05-01-preview \"HTTP/1.1 200 OK\"\n"
     ]
    },
    {
     "name": "stdout",
     "output_type": "stream",
     "text": [
      "Comparing activity 4...\n"
     ]
    },
    {
     "name": "stderr",
     "output_type": "stream",
     "text": [
      "2024-09-26 14:28:45,382 - INFO - HTTP Request: POST https://datascience-openai-local.openai.azure.com//openai/deployments/gpt-35-turbo-16k/chat/completions?api-version=2024-05-01-preview \"HTTP/1.1 200 OK\"\n"
     ]
    },
    {
     "name": "stdout",
     "output_type": "stream",
     "text": [
      "Comparing activity 5...\n"
     ]
    },
    {
     "name": "stderr",
     "output_type": "stream",
     "text": [
      "2024-09-26 14:28:49,003 - INFO - HTTP Request: POST https://datascience-openai-local.openai.azure.com//openai/deployments/gpt-35-turbo-16k/chat/completions?api-version=2024-05-01-preview \"HTTP/1.1 200 OK\"\n"
     ]
    },
    {
     "name": "stdout",
     "output_type": "stream",
     "text": [
      "Comparing activity 6...\n"
     ]
    },
    {
     "name": "stderr",
     "output_type": "stream",
     "text": [
      "2024-09-26 14:28:52,193 - INFO - HTTP Request: POST https://datascience-openai-local.openai.azure.com//openai/deployments/gpt-35-turbo-16k/chat/completions?api-version=2024-05-01-preview \"HTTP/1.1 200 OK\"\n"
     ]
    },
    {
     "name": "stdout",
     "output_type": "stream",
     "text": [
      "Comparing activity 7...\n"
     ]
    },
    {
     "name": "stderr",
     "output_type": "stream",
     "text": [
      "2024-09-26 14:28:57,306 - INFO - HTTP Request: POST https://datascience-openai-local.openai.azure.com//openai/deployments/gpt-35-turbo-16k/chat/completions?api-version=2024-05-01-preview \"HTTP/1.1 200 OK\"\n"
     ]
    },
    {
     "name": "stdout",
     "output_type": "stream",
     "text": [
      "Comparing activity 8...\n"
     ]
    },
    {
     "name": "stderr",
     "output_type": "stream",
     "text": [
      "2024-09-26 14:29:01,256 - INFO - HTTP Request: POST https://datascience-openai-local.openai.azure.com//openai/deployments/gpt-35-turbo-16k/chat/completions?api-version=2024-05-01-preview \"HTTP/1.1 200 OK\"\n"
     ]
    },
    {
     "name": "stdout",
     "output_type": "stream",
     "text": [
      "Comparing activity 9...\n"
     ]
    },
    {
     "name": "stderr",
     "output_type": "stream",
     "text": [
      "2024-09-26 14:29:03,958 - INFO - HTTP Request: POST https://datascience-openai-local.openai.azure.com//openai/deployments/gpt-35-turbo-16k/chat/completions?api-version=2024-05-01-preview \"HTTP/1.1 200 OK\"\n"
     ]
    },
    {
     "name": "stdout",
     "output_type": "stream",
     "text": [
      "Comparing activity 10...\n"
     ]
    },
    {
     "name": "stderr",
     "output_type": "stream",
     "text": [
      "2024-09-26 14:29:07,083 - INFO - HTTP Request: POST https://datascience-openai-local.openai.azure.com//openai/deployments/gpt-35-turbo-16k/chat/completions?api-version=2024-05-01-preview \"HTTP/1.1 200 OK\"\n"
     ]
    },
    {
     "name": "stdout",
     "output_type": "stream",
     "text": [
      "Comparing activity 11...\n"
     ]
    },
    {
     "name": "stderr",
     "output_type": "stream",
     "text": [
      "2024-09-26 14:29:10,353 - INFO - HTTP Request: POST https://datascience-openai-local.openai.azure.com//openai/deployments/gpt-35-turbo-16k/chat/completions?api-version=2024-05-01-preview \"HTTP/1.1 200 OK\"\n"
     ]
    },
    {
     "name": "stdout",
     "output_type": "stream",
     "text": [
      "Comparing activity 12...\n"
     ]
    },
    {
     "name": "stderr",
     "output_type": "stream",
     "text": [
      "2024-09-26 14:29:15,385 - INFO - HTTP Request: POST https://datascience-openai-local.openai.azure.com//openai/deployments/gpt-35-turbo-16k/chat/completions?api-version=2024-05-01-preview \"HTTP/1.1 200 OK\"\n"
     ]
    },
    {
     "name": "stdout",
     "output_type": "stream",
     "text": [
      "Comparing activity 13...\n"
     ]
    },
    {
     "name": "stderr",
     "output_type": "stream",
     "text": [
      "2024-09-26 14:29:20,941 - INFO - HTTP Request: POST https://datascience-openai-local.openai.azure.com//openai/deployments/gpt-35-turbo-16k/chat/completions?api-version=2024-05-01-preview \"HTTP/1.1 200 OK\"\n",
      "2024-09-26 14:29:20,945 - INFO - Successfully processed and saved results for business/hiring_process with GPT-3.5-Activity-Breakdown-Subject_Matter_Expert_Detailed_Basic\n",
      "2024-09-26 14:29:20,947 - INFO - Processing sector: business, activity: manufacturing\n"
     ]
    },
    {
     "name": "stdout",
     "output_type": "stream",
     "text": [
      "Quantitative Metrics:\n",
      "=====================\n",
      "Total Activities Evaluated: 4\n",
      "Average Overall Similarity Score: 48.08%\n",
      "Average Confidence Score: 46.18%\n",
      "Average Sequence Alignment Score: 91.03%\n",
      "Ground Truth Steps Coverage: 84.44%\n",
      "Response Steps Coverage: 80.43%\n",
      "\n",
      "Match Type Distribution:\n",
      "- Functional Equivalence: 19 matches (50.00%), Average Confidence: 82.37%\n",
      "- No Match: 17 matches (44.74%), Average Confidence: 0.00%\n",
      "- Granularity Difference: 1 matches (2.63%), Average Confidence: 90.00%\n",
      "- Identical Match: 1 matches (2.63%), Average Confidence: 100.00%\n",
      "\n",
      "\n",
      "Qualitative Analysis:\n",
      "=====================\n",
      "\n",
      "Examples of Matched Steps by Match Type:\n",
      "\n",
      "Match Type: Functional Equivalence\n",
      "Activity: Hand In Job Application\n",
      "Ground Truth Steps:\n",
      "  - [1] Complete job application form\n",
      "Response Steps:\n",
      "  - [1] Candidate prepares application materials\n",
      "Confidence: 80%\n",
      "Explanation: The core function of completing the job application form is equivalent to the candidate preparing application materials.\n",
      "\n",
      "Activity: Initial Screening\n",
      "Ground Truth Steps:\n",
      "  - [1] Review application for basic qualifications\n",
      "Response Steps:\n",
      "  - [2] HR checks if candidate meets basic qualifications\n",
      "Confidence: 80%\n",
      "Explanation: The core function of reviewing the application for basic qualifications is the same as checking if the candidate meets basic qualifications.\n",
      "\n",
      "Activity: Initial Screening\n",
      "Ground Truth Steps:\n",
      "  - [2] Check for completeness and accuracy\n",
      "Response Steps:\n",
      "  - [1] HR reviews application for completeness\n",
      "Confidence: 80%\n",
      "Explanation: The core function of checking for completeness and accuracy is the same as reviewing the application for completeness.\n",
      "\n",
      "\n",
      "\n",
      "Match Type: No Match\n",
      "Activity: Hand In Job Application\n",
      "Ground Truth Steps:\n",
      "  - [2] Attach resume and cover letter\n",
      "Response Steps:\n",
      "Confidence: 0%\n",
      "Explanation: There is no corresponding step in the response for attaching the resume and cover letter.\n",
      "\n",
      "Activity: Application Rejected\n",
      "Ground Truth Steps:\n",
      "  - [1] Notify candidate of rejection\n",
      "Response Steps:\n",
      "  - [1] HR initiates background check process\n",
      "Confidence: 0%\n",
      "Explanation: There is no corresponding step in the response activity.\n",
      "\n",
      "Activity: Application Rejected\n",
      "Ground Truth Steps:\n",
      "  - [2] Provide feedback (optional)\n",
      "Response Steps:\n",
      "Confidence: 0%\n",
      "Explanation: There is no corresponding step in the response activity.\n",
      "\n",
      "\n",
      "\n",
      "Match Type: Granularity Difference\n",
      "Activity: Hand In Job Application\n",
      "Ground Truth Steps:\n",
      "  - [3] Submit application online\n",
      "Response Steps:\n",
      "  - [2] Candidate submits application\n",
      "  - [3] HR receives and logs application\n",
      "Confidence: 90%\n",
      "Explanation: The ground truth step of submitting the application online is more granular than the response steps. It encompasses both the candidate submitting the application and the HR receiving and logging the application.\n",
      "\n",
      "\n",
      "\n",
      "Match Type: Identical Match\n",
      "Activity: Screening Interview\n",
      "Ground Truth Steps:\n",
      "  - [2] Conduct screening interview\n",
      "Response Steps:\n",
      "  - [2] HR conducts screening interview\n",
      "Confidence: 100%\n",
      "Explanation: The steps are identical in wording and meaning.\n",
      "\n",
      "\n",
      "\n",
      "Analysis of Unmatched Ground Truth Steps:\n",
      "Activity: Hand In Job Application, Step: [2] Attach resume and cover letter\n",
      "Reason: There is no corresponding step in the response for attaching the resume and cover letter.\n",
      "\n",
      "Activity: Behavioral Interview, Step: [1] Schedule behavioral interview with candidate\n",
      "Reason: There is no corresponding step in the response activity.\n",
      "\n",
      "Activity: Behavioral Interview, Step: [2] Conduct behavioral interview\n",
      "Reason: There is no corresponding step in the response activity.\n",
      "\n",
      "Activity: Behavioral Interview, Step: [3] Assess candidate's interpersonal skills and cultural fit\n",
      "Reason: There is no corresponding step in the response activity.\n",
      "\n",
      "Activity: Make Job Offer, Step: [1] Prepare job offer package\n",
      "Reason: No corresponding step in the response activity\n",
      "\n",
      "Analysis of Unmatched Response Steps:\n",
      "Activity: Application Rejected, Step: [1] HR initiates background check process\n",
      "Reason: There is no corresponding step in the ground truth activity.\n",
      "\n",
      "Activity: Application Rejected, Step: [2] Third-party agency conducts check\n",
      "Reason: There is no corresponding step in the ground truth activity.\n",
      "\n",
      "Activity: Application Rejected, Step: [3] HR reviews background check results\n",
      "Reason: There is no corresponding step in the ground truth activity.\n",
      "\n",
      "Activity: Behavioral Interview, Step: [1] HR prepares job offer package\n",
      "Reason: There is no corresponding step in the ground truth activity.\n",
      "\n",
      "Activity: Behavioral Interview, Step: [2] HR presents offer to candidate\n",
      "Reason: There is no corresponding step in the ground truth activity.\n",
      "\n",
      "Granularity Issues Identified:\n",
      "Activity: Hand In Job Application\n",
      "Ground Truth Steps:\n",
      "  - [2] Attach resume and cover letter\n",
      "Response Steps:\n",
      "Explanation: There is no corresponding step in the response for attaching the resume and cover letter.\n",
      "\n",
      "Activity: Hand In Job Application\n",
      "Ground Truth Steps:\n",
      "  - [3] Submit application online\n",
      "Response Steps:\n",
      "  - [2] Candidate submits application\n",
      "  - [3] HR receives and logs application\n",
      "Explanation: The ground truth step of submitting the application online is more granular than the response steps. It encompasses both the candidate submitting the application and the HR receiving and logging the application.\n",
      "\n",
      "Activity: Application Rejected\n",
      "Ground Truth Steps:\n",
      "  - [2] Provide feedback (optional)\n",
      "Response Steps:\n",
      "Explanation: There is no corresponding step in the response activity.\n",
      "\n"
     ]
    },
    {
     "name": "stderr",
     "output_type": "stream",
     "text": [
      "2024-09-26 14:29:28,460 - INFO - HTTP Request: POST https://datascience-openai-local.openai.azure.com//openai/deployments/gpt-35-turbo-16k/chat/completions?api-version=2024-05-01-preview \"HTTP/1.1 200 OK\"\n"
     ]
    },
    {
     "name": "stdout",
     "output_type": "stream",
     "text": [
      "Comparing activity 1...\n"
     ]
    },
    {
     "name": "stderr",
     "output_type": "stream",
     "text": [
      "2024-09-26 14:29:31,151 - INFO - HTTP Request: POST https://datascience-openai-local.openai.azure.com//openai/deployments/gpt-35-turbo-16k/chat/completions?api-version=2024-05-01-preview \"HTTP/1.1 200 OK\"\n"
     ]
    },
    {
     "name": "stdout",
     "output_type": "stream",
     "text": [
      "Comparing activity 2...\n"
     ]
    },
    {
     "name": "stderr",
     "output_type": "stream",
     "text": [
      "2024-09-26 14:29:34,100 - INFO - HTTP Request: POST https://datascience-openai-local.openai.azure.com//openai/deployments/gpt-35-turbo-16k/chat/completions?api-version=2024-05-01-preview \"HTTP/1.1 200 OK\"\n"
     ]
    },
    {
     "name": "stdout",
     "output_type": "stream",
     "text": [
      "Comparing activity 3...\n"
     ]
    },
    {
     "name": "stderr",
     "output_type": "stream",
     "text": [
      "2024-09-26 14:29:36,003 - INFO - HTTP Request: POST https://datascience-openai-local.openai.azure.com//openai/deployments/gpt-35-turbo-16k/chat/completions?api-version=2024-05-01-preview \"HTTP/1.1 200 OK\"\n"
     ]
    },
    {
     "name": "stdout",
     "output_type": "stream",
     "text": [
      "Comparing activity 4...\n"
     ]
    },
    {
     "name": "stderr",
     "output_type": "stream",
     "text": [
      "2024-09-26 14:29:38,594 - INFO - HTTP Request: POST https://datascience-openai-local.openai.azure.com//openai/deployments/gpt-35-turbo-16k/chat/completions?api-version=2024-05-01-preview \"HTTP/1.1 200 OK\"\n"
     ]
    },
    {
     "name": "stdout",
     "output_type": "stream",
     "text": [
      "Comparing activity 5...\n"
     ]
    },
    {
     "name": "stderr",
     "output_type": "stream",
     "text": [
      "2024-09-26 14:29:40,959 - INFO - HTTP Request: POST https://datascience-openai-local.openai.azure.com//openai/deployments/gpt-35-turbo-16k/chat/completions?api-version=2024-05-01-preview \"HTTP/1.1 200 OK\"\n"
     ]
    },
    {
     "name": "stdout",
     "output_type": "stream",
     "text": [
      "Comparing activity 6...\n"
     ]
    },
    {
     "name": "stderr",
     "output_type": "stream",
     "text": [
      "2024-09-26 14:29:43,627 - INFO - HTTP Request: POST https://datascience-openai-local.openai.azure.com//openai/deployments/gpt-35-turbo-16k/chat/completions?api-version=2024-05-01-preview \"HTTP/1.1 200 OK\"\n"
     ]
    },
    {
     "name": "stdout",
     "output_type": "stream",
     "text": [
      "Comparing activity 7...\n"
     ]
    },
    {
     "name": "stderr",
     "output_type": "stream",
     "text": [
      "2024-09-26 14:29:46,697 - INFO - HTTP Request: POST https://datascience-openai-local.openai.azure.com//openai/deployments/gpt-35-turbo-16k/chat/completions?api-version=2024-05-01-preview \"HTTP/1.1 200 OK\"\n"
     ]
    },
    {
     "name": "stdout",
     "output_type": "stream",
     "text": [
      "Comparing activity 8...\n"
     ]
    },
    {
     "name": "stderr",
     "output_type": "stream",
     "text": [
      "2024-09-26 14:29:48,842 - INFO - HTTP Request: POST https://datascience-openai-local.openai.azure.com//openai/deployments/gpt-35-turbo-16k/chat/completions?api-version=2024-05-01-preview \"HTTP/1.1 200 OK\"\n"
     ]
    },
    {
     "name": "stdout",
     "output_type": "stream",
     "text": [
      "Comparing activity 9...\n"
     ]
    },
    {
     "name": "stderr",
     "output_type": "stream",
     "text": [
      "2024-09-26 14:29:51,248 - INFO - HTTP Request: POST https://datascience-openai-local.openai.azure.com//openai/deployments/gpt-35-turbo-16k/chat/completions?api-version=2024-05-01-preview \"HTTP/1.1 200 OK\"\n"
     ]
    },
    {
     "name": "stdout",
     "output_type": "stream",
     "text": [
      "Comparing activity 10...\n"
     ]
    },
    {
     "name": "stderr",
     "output_type": "stream",
     "text": [
      "2024-09-26 14:29:54,883 - INFO - HTTP Request: POST https://datascience-openai-local.openai.azure.com//openai/deployments/gpt-35-turbo-16k/chat/completions?api-version=2024-05-01-preview \"HTTP/1.1 200 OK\"\n"
     ]
    },
    {
     "name": "stdout",
     "output_type": "stream",
     "text": [
      "Comparing activity 11...\n"
     ]
    },
    {
     "name": "stderr",
     "output_type": "stream",
     "text": [
      "2024-09-26 14:29:57,209 - INFO - HTTP Request: POST https://datascience-openai-local.openai.azure.com//openai/deployments/gpt-35-turbo-16k/chat/completions?api-version=2024-05-01-preview \"HTTP/1.1 200 OK\"\n"
     ]
    },
    {
     "name": "stdout",
     "output_type": "stream",
     "text": [
      "Comparing activity 12...\n"
     ]
    },
    {
     "name": "stderr",
     "output_type": "stream",
     "text": [
      "2024-09-26 14:30:00,331 - INFO - HTTP Request: POST https://datascience-openai-local.openai.azure.com//openai/deployments/gpt-35-turbo-16k/chat/completions?api-version=2024-05-01-preview \"HTTP/1.1 200 OK\"\n"
     ]
    },
    {
     "name": "stdout",
     "output_type": "stream",
     "text": [
      "Comparing activity 13...\n"
     ]
    },
    {
     "name": "stderr",
     "output_type": "stream",
     "text": [
      "2024-09-26 14:30:03,538 - INFO - HTTP Request: POST https://datascience-openai-local.openai.azure.com//openai/deployments/gpt-35-turbo-16k/chat/completions?api-version=2024-05-01-preview \"HTTP/1.1 200 OK\"\n"
     ]
    },
    {
     "name": "stdout",
     "output_type": "stream",
     "text": [
      "Comparing activity 14...\n"
     ]
    },
    {
     "name": "stderr",
     "output_type": "stream",
     "text": [
      "2024-09-26 14:30:06,638 - INFO - HTTP Request: POST https://datascience-openai-local.openai.azure.com//openai/deployments/gpt-35-turbo-16k/chat/completions?api-version=2024-05-01-preview \"HTTP/1.1 200 OK\"\n",
      "2024-09-26 14:30:06,642 - INFO - Successfully processed and saved results for business/manufacturing with GPT-3.5-Activity-Breakdown-Subject_Matter_Expert_Detailed_Basic\n",
      "2024-09-26 14:30:06,644 - INFO - Processing sector: business, activity: order_to_cash\n"
     ]
    },
    {
     "name": "stdout",
     "output_type": "stream",
     "text": [
      "Quantitative Metrics:\n",
      "=====================\n",
      "Total Activities Evaluated: 3\n",
      "Average Overall Similarity Score: 49.29%\n",
      "Average Confidence Score: 43.12%\n",
      "Average Sequence Alignment Score: 51.79%\n",
      "Ground Truth Steps Coverage: 73.68%\n",
      "Response Steps Coverage: 58.06%\n",
      "\n",
      "Match Type Distribution:\n",
      "- Granularity Difference: 6 matches (37.50%), Average Confidence: 83.33%\n",
      "- No Match: 8 matches (50.00%), Average Confidence: 0.00%\n",
      "- Functional Equivalence: 2 matches (12.50%), Average Confidence: 95.00%\n",
      "\n",
      "\n",
      "Qualitative Analysis:\n",
      "=====================\n",
      "\n",
      "Examples of Matched Steps by Match Type:\n",
      "\n",
      "Match Type: Granularity Difference\n",
      "Activity: Check stock availability\n",
      "Ground Truth Steps:\n",
      "  - [1] Check if product is in stock\n",
      "Response Steps:\n",
      "  - [1] Access inventory management system\n",
      "  - [2] Search product in database\n",
      "  - [3] Verify current stock levels\n",
      "  - [4] Update stock status\n",
      "Confidence: 80%\n",
      "Explanation: Ground truth step 1 corresponds to response steps 1, 2, 3, and 4. The response steps provide a more detailed breakdown of the process.\n",
      "\n",
      "Activity: Retrieve product from warehouse\n",
      "Ground Truth Steps:\n",
      "  - [1] Retrieve product from warehouse\n",
      "Response Steps:\n",
      "  - [1] Generate pick list\n",
      "  - [2] Locate product in warehouse\n",
      "  - [3] Pick product from shelf\n",
      "  - [4] Update inventory records\n",
      "Confidence: 80%\n",
      "Explanation: The ground truth step 'Retrieve product from warehouse' corresponds to the response steps 1, 2, 3, and 4. The response steps provide a more detailed breakdown of the process.\n",
      "\n",
      "Activity: Check raw materials availability\n",
      "Ground Truth Steps:\n",
      "  - [1] Check if raw materials are available\n",
      "Response Steps:\n",
      "  - [1] Access raw materials inventory\n",
      "  - [2] Check quantity of each required material\n",
      "  - [3] Determine if sufficient materials are available\n",
      "  - [4] Identify materials that need to be sourced\n",
      "Confidence: 80%\n",
      "Explanation: Ground truth step 1 corresponds to response steps 1, 2, 3, and 4. The response steps provide a more detailed breakdown of the process.\n",
      "\n",
      "\n",
      "\n",
      "Match Type: No Match\n",
      "Activity: Request raw materials from Supplier 1\n",
      "Ground Truth Steps:\n",
      "Response Steps:\n",
      "  - [3] Confirm order receipt with Supplier 1\n",
      "  - [4] Schedule delivery of materials\n",
      "Confidence: 0%\n",
      "Explanation: There are no corresponding ground truth steps for response steps 3 and 4.\n",
      "\n",
      "Activity: Request raw materials from Supplier 2\n",
      "Ground Truth Steps:\n",
      "Response Steps:\n",
      "  - [3] Confirm order receipt with Supplier 2\n",
      "  - [4] Schedule delivery of materials\n",
      "Confidence: 0%\n",
      "Explanation: There are no corresponding ground truth steps for response steps 3 and 4.\n",
      "\n",
      "Activity: Merge\n",
      "Ground Truth Steps:\n",
      "  - [1] Merge the manufactured product with retrieved product\n",
      "Response Steps:\n",
      "  - [2] Verify product availability or completion\n",
      "Confidence: 0%\n",
      "Explanation: There is no corresponding step in the response activity that matches the ground truth step.\n",
      "\n",
      "\n",
      "\n",
      "Match Type: Functional Equivalence\n",
      "Activity: Obtain raw materials from Supplier 1\n",
      "Ground Truth Steps:\n",
      "  - [1] Receive raw materials from Supplier 1\n",
      "Response Steps:\n",
      "  - [1] Receive shipment from Supplier 1\n",
      "Confidence: 95%\n",
      "Explanation: The ground truth step 'Receive raw materials from Supplier 1' is functionally equivalent to the response step 'Receive shipment from Supplier 1'. The core function of receiving materials from the supplier is the same, even though the specific wording differs slightly.\n",
      "\n",
      "Activity: Obtain raw materials from Supplier 2\n",
      "Ground Truth Steps:\n",
      "  - [1] Receive raw materials from Supplier 2\n",
      "Response Steps:\n",
      "  - [1] Receive shipment from Supplier 2\n",
      "Confidence: 95%\n",
      "Explanation: The ground truth step 'Receive raw materials from Supplier 2' is functionally equivalent to the response step 'Receive shipment from Supplier 2'. The core function of receiving materials from the supplier is the same, even though the specific wording differs slightly.\n",
      "\n",
      "\n",
      "\n",
      "Analysis of Unmatched Ground Truth Steps:\n",
      "Activity: Merge, Step: [1] Merge the manufactured product with retrieved product\n",
      "Reason: There is no corresponding step in the response activity\n",
      "\n",
      "Activity: Confirm order, Step: [1] Confirm the order\n",
      "Reason: There is no corresponding step in the response activity.\n",
      "\n",
      "Activity: Emit invoice, Step: [1] Generate and send invoice\n",
      "Reason: There is no corresponding step in the response activity.\n",
      "\n",
      "Activity: Ship product, Step: [1] Prepare and ship the product\n",
      "Reason: There is no corresponding step in the response activity.\n",
      "\n",
      "Activity: Receive payment, Step: [1] Receive payment for the order\n",
      "Reason: No corresponding step in the response activity\n",
      "\n",
      "Analysis of Unmatched Response Steps:\n",
      "Activity: Obtain raw materials from Supplier 1, Step: [2] Inspect received materials\n",
      "Reason: There is no corresponding step in the ground truth for inspecting received materials.\n",
      "\n",
      "Activity: Obtain raw materials from Supplier 1, Step: [3] Update inventory with new materials\n",
      "Reason: There is no corresponding step in the ground truth for updating inventory with new materials.\n",
      "\n",
      "Activity: Obtain raw materials from Supplier 1, Step: [4] Store materials in appropriate location\n",
      "Reason: There is no corresponding step in the ground truth for storing materials in an appropriate location.\n",
      "\n",
      "Activity: Obtain raw materials from Supplier 2, Step: [2] Inspect received materials\n",
      "Reason: There is no corresponding step in the ground truth for inspecting received materials.\n",
      "\n",
      "Activity: Obtain raw materials from Supplier 2, Step: [3] Update inventory with new materials\n",
      "Reason: There is no corresponding step in the ground truth for updating inventory with new materials.\n",
      "\n",
      "Granularity Issues Identified:\n",
      "Activity: Check stock availability\n",
      "Ground Truth Steps:\n",
      "  - [1] Check if product is in stock\n",
      "Response Steps:\n",
      "  - [1] Access inventory management system\n",
      "  - [2] Search product in database\n",
      "  - [3] Verify current stock levels\n",
      "  - [4] Update stock status\n",
      "Explanation: Ground truth step 1 corresponds to response steps 1, 2, 3, and 4. The response steps provide a more detailed breakdown of the process.\n",
      "\n",
      "Activity: Retrieve product from warehouse\n",
      "Ground Truth Steps:\n",
      "  - [1] Retrieve product from warehouse\n",
      "Response Steps:\n",
      "  - [1] Generate pick list\n",
      "  - [2] Locate product in warehouse\n",
      "  - [3] Pick product from shelf\n",
      "  - [4] Update inventory records\n",
      "Explanation: The ground truth step 'Retrieve product from warehouse' corresponds to the response steps 1, 2, 3, and 4. The response steps provide a more detailed breakdown of the process.\n",
      "\n",
      "Activity: Check raw materials availability\n",
      "Ground Truth Steps:\n",
      "  - [1] Check if raw materials are available\n",
      "Response Steps:\n",
      "  - [1] Access raw materials inventory\n",
      "  - [2] Check quantity of each required material\n",
      "  - [3] Determine if sufficient materials are available\n",
      "  - [4] Identify materials that need to be sourced\n",
      "Explanation: Ground truth step 1 corresponds to response steps 1, 2, 3, and 4. The response steps provide a more detailed breakdown of the process.\n",
      "\n",
      "Activity: Request raw materials from Supplier 1\n",
      "Ground Truth Steps:\n",
      "  - [1] Send request to Supplier 1\n",
      "Response Steps:\n",
      "  - [1] Prepare purchase order for Supplier 1\n",
      "  - [2] Send purchase order to Supplier 1\n",
      "Explanation: Ground truth step 1 corresponds to response steps 1 and 2.\n",
      "\n",
      "Activity: Request raw materials from Supplier 1\n",
      "Ground Truth Steps:\n",
      "Response Steps:\n",
      "  - [3] Confirm order receipt with Supplier 1\n",
      "  - [4] Schedule delivery of materials\n",
      "Explanation: There are no corresponding ground truth steps for response steps 3 and 4.\n",
      "\n"
     ]
    },
    {
     "name": "stderr",
     "output_type": "stream",
     "text": [
      "2024-09-26 14:30:10,747 - INFO - HTTP Request: POST https://datascience-openai-local.openai.azure.com//openai/deployments/gpt-35-turbo-16k/chat/completions?api-version=2024-05-01-preview \"HTTP/1.1 200 OK\"\n"
     ]
    },
    {
     "name": "stdout",
     "output_type": "stream",
     "text": [
      "Comparing activity 1...\n"
     ]
    },
    {
     "name": "stderr",
     "output_type": "stream",
     "text": [
      "2024-09-26 14:30:12,629 - INFO - HTTP Request: POST https://datascience-openai-local.openai.azure.com//openai/deployments/gpt-35-turbo-16k/chat/completions?api-version=2024-05-01-preview \"HTTP/1.1 200 OK\"\n"
     ]
    },
    {
     "name": "stdout",
     "output_type": "stream",
     "text": [
      "Comparing activity 2...\n"
     ]
    },
    {
     "name": "stderr",
     "output_type": "stream",
     "text": [
      "2024-09-26 14:30:16,641 - INFO - HTTP Request: POST https://datascience-openai-local.openai.azure.com//openai/deployments/gpt-35-turbo-16k/chat/completions?api-version=2024-05-01-preview \"HTTP/1.1 200 OK\"\n"
     ]
    },
    {
     "name": "stdout",
     "output_type": "stream",
     "text": [
      "Comparing activity 3...\n"
     ]
    },
    {
     "name": "stderr",
     "output_type": "stream",
     "text": [
      "2024-09-26 14:30:19,038 - INFO - HTTP Request: POST https://datascience-openai-local.openai.azure.com//openai/deployments/gpt-35-turbo-16k/chat/completions?api-version=2024-05-01-preview \"HTTP/1.1 200 OK\"\n"
     ]
    },
    {
     "name": "stdout",
     "output_type": "stream",
     "text": [
      "Comparing activity 4...\n"
     ]
    },
    {
     "name": "stderr",
     "output_type": "stream",
     "text": [
      "2024-09-26 14:30:22,166 - INFO - HTTP Request: POST https://datascience-openai-local.openai.azure.com//openai/deployments/gpt-35-turbo-16k/chat/completions?api-version=2024-05-01-preview \"HTTP/1.1 200 OK\"\n"
     ]
    },
    {
     "name": "stdout",
     "output_type": "stream",
     "text": [
      "Comparing activity 5...\n"
     ]
    },
    {
     "name": "stderr",
     "output_type": "stream",
     "text": [
      "2024-09-26 14:30:24,823 - INFO - HTTP Request: POST https://datascience-openai-local.openai.azure.com//openai/deployments/gpt-35-turbo-16k/chat/completions?api-version=2024-05-01-preview \"HTTP/1.1 200 OK\"\n"
     ]
    },
    {
     "name": "stdout",
     "output_type": "stream",
     "text": [
      "Comparing activity 6...\n"
     ]
    },
    {
     "name": "stderr",
     "output_type": "stream",
     "text": [
      "2024-09-26 14:30:29,099 - INFO - HTTP Request: POST https://datascience-openai-local.openai.azure.com//openai/deployments/gpt-35-turbo-16k/chat/completions?api-version=2024-05-01-preview \"HTTP/1.1 200 OK\"\n"
     ]
    },
    {
     "name": "stdout",
     "output_type": "stream",
     "text": [
      "Comparing activity 7...\n"
     ]
    },
    {
     "name": "stderr",
     "output_type": "stream",
     "text": [
      "2024-09-26 14:30:32,072 - INFO - HTTP Request: POST https://datascience-openai-local.openai.azure.com//openai/deployments/gpt-35-turbo-16k/chat/completions?api-version=2024-05-01-preview \"HTTP/1.1 200 OK\"\n"
     ]
    },
    {
     "name": "stdout",
     "output_type": "stream",
     "text": [
      "Comparing activity 8...\n"
     ]
    },
    {
     "name": "stderr",
     "output_type": "stream",
     "text": [
      "2024-09-26 14:30:34,577 - INFO - HTTP Request: POST https://datascience-openai-local.openai.azure.com//openai/deployments/gpt-35-turbo-16k/chat/completions?api-version=2024-05-01-preview \"HTTP/1.1 200 OK\"\n"
     ]
    },
    {
     "name": "stdout",
     "output_type": "stream",
     "text": [
      "Comparing activity 9...\n"
     ]
    },
    {
     "name": "stderr",
     "output_type": "stream",
     "text": [
      "2024-09-26 14:30:37,866 - INFO - HTTP Request: POST https://datascience-openai-local.openai.azure.com//openai/deployments/gpt-35-turbo-16k/chat/completions?api-version=2024-05-01-preview \"HTTP/1.1 200 OK\"\n"
     ]
    },
    {
     "name": "stdout",
     "output_type": "stream",
     "text": [
      "Comparing activity 10...\n"
     ]
    },
    {
     "name": "stderr",
     "output_type": "stream",
     "text": [
      "2024-09-26 14:30:42,474 - INFO - HTTP Request: POST https://datascience-openai-local.openai.azure.com//openai/deployments/gpt-35-turbo-16k/chat/completions?api-version=2024-05-01-preview \"HTTP/1.1 200 OK\"\n"
     ]
    },
    {
     "name": "stdout",
     "output_type": "stream",
     "text": [
      "Comparing activity 11...\n"
     ]
    },
    {
     "name": "stderr",
     "output_type": "stream",
     "text": [
      "2024-09-26 14:30:45,247 - INFO - HTTP Request: POST https://datascience-openai-local.openai.azure.com//openai/deployments/gpt-35-turbo-16k/chat/completions?api-version=2024-05-01-preview \"HTTP/1.1 200 OK\"\n"
     ]
    },
    {
     "name": "stdout",
     "output_type": "stream",
     "text": [
      "Comparing activity 12...\n"
     ]
    },
    {
     "name": "stderr",
     "output_type": "stream",
     "text": [
      "2024-09-26 14:30:48,442 - INFO - HTTP Request: POST https://datascience-openai-local.openai.azure.com//openai/deployments/gpt-35-turbo-16k/chat/completions?api-version=2024-05-01-preview \"HTTP/1.1 200 OK\"\n"
     ]
    },
    {
     "name": "stdout",
     "output_type": "stream",
     "text": [
      "Comparing activity 13...\n"
     ]
    },
    {
     "name": "stderr",
     "output_type": "stream",
     "text": [
      "2024-09-26 14:30:50,929 - INFO - HTTP Request: POST https://datascience-openai-local.openai.azure.com//openai/deployments/gpt-35-turbo-16k/chat/completions?api-version=2024-05-01-preview \"HTTP/1.1 200 OK\"\n"
     ]
    },
    {
     "name": "stdout",
     "output_type": "stream",
     "text": [
      "Comparing activity 14...\n"
     ]
    },
    {
     "name": "stderr",
     "output_type": "stream",
     "text": [
      "2024-09-26 14:30:54,640 - INFO - HTTP Request: POST https://datascience-openai-local.openai.azure.com//openai/deployments/gpt-35-turbo-16k/chat/completions?api-version=2024-05-01-preview \"HTTP/1.1 200 OK\"\n"
     ]
    },
    {
     "name": "stdout",
     "output_type": "stream",
     "text": [
      "Comparing activity 15...\n"
     ]
    },
    {
     "name": "stderr",
     "output_type": "stream",
     "text": [
      "2024-09-26 14:30:56,861 - INFO - HTTP Request: POST https://datascience-openai-local.openai.azure.com//openai/deployments/gpt-35-turbo-16k/chat/completions?api-version=2024-05-01-preview \"HTTP/1.1 200 OK\"\n",
      "2024-09-26 14:30:56,865 - INFO - Successfully processed and saved results for business/order_to_cash with GPT-3.5-Activity-Breakdown-Subject_Matter_Expert_Detailed_Basic\n"
     ]
    },
    {
     "name": "stdout",
     "output_type": "stream",
     "text": [
      "Quantitative Metrics:\n",
      "=====================\n",
      "Total Activities Evaluated: 2\n",
      "Average Overall Similarity Score: 10.50%\n",
      "Average Confidence Score: 13.82%\n",
      "Average Sequence Alignment Score: 16.67%\n",
      "Ground Truth Steps Coverage: 64.29%\n",
      "Response Steps Coverage: 54.84%\n",
      "\n",
      "Match Type Distribution:\n",
      "- Granularity Difference: 3 matches (17.65%), Average Confidence: 78.33%\n",
      "- No Match: 14 matches (82.35%), Average Confidence: 0.00%\n",
      "\n",
      "\n",
      "Qualitative Analysis:\n",
      "=====================\n",
      "\n",
      "Examples of Matched Steps by Match Type:\n",
      "\n",
      "Match Type: Granularity Difference\n",
      "Activity: Purchase order received\n",
      "Ground Truth Steps:\n",
      "  - [1] Check stock availability\n",
      "Response Steps:\n",
      "  - [1] Access inventory management system\n",
      "  - [2] Search for ordered product\n",
      "  - [3] Verify current stock levels\n",
      "Confidence: 80%\n",
      "Explanation: The ground truth step 'Check stock availability' corresponds to the response steps 'Access inventory management system', 'Search for ordered product', and 'Verify current stock levels'. The response steps provide a more detailed breakdown of the process.\n",
      "\n",
      "Activity: Check stock availability\n",
      "Ground Truth Steps:\n",
      "  - [1] Retrieve product from warehouse\n",
      "Response Steps:\n",
      "  - [1] Generate pick list\n",
      "  - [2] Locate product in warehouse\n",
      "  - [3] Pick product from shelf\n",
      "  - [4] Update inventory records\n",
      "Confidence: 80%\n",
      "Explanation: Ground truth step 1 corresponds to response steps 1, 2, 3, and 4. The response steps provide a more detailed breakdown of the retrieval process.\n",
      "\n",
      "Activity: Check materials availability\n",
      "Ground Truth Steps:\n",
      "  - [2] Request raw materials from suppliers\n",
      "Response Steps:\n",
      "  - [1] Identify needed materials\n",
      "  - [2] Select appropriate suppliers\n",
      "  - [3] Generate purchase orders\n",
      "  - [4] Send purchase orders to suppliers\n",
      "Confidence: 75%\n",
      "Explanation: The ground truth step 'Request raw materials from suppliers' is more granular than the response steps. It encompasses the steps 'Identify needed materials', 'Select appropriate suppliers', 'Generate purchase orders', and 'Send purchase orders to suppliers'.\n",
      "\n",
      "\n",
      "\n",
      "Match Type: No Match\n",
      "Activity: Check stock availability\n",
      "Ground Truth Steps:\n",
      "  - [2] Check materials availability\n",
      "Response Steps:\n",
      "Confidence: 0%\n",
      "Explanation: There is no corresponding step in the response for ground truth step 2.\n",
      "\n",
      "Activity: Retrieve product from warehouse\n",
      "Ground Truth Steps:\n",
      "Response Steps:\n",
      "  - [1] Access raw materials inventory\n",
      "  - [2] Check quantity of required materials\n",
      "  - [3] Determine if sufficient materials are available\n",
      "Confidence: 0%\n",
      "Explanation: There are no corresponding steps in the ground truth for the response steps.\n",
      "\n",
      "Activity: Check materials availability\n",
      "Ground Truth Steps:\n",
      "  - [1] Manufacture product\n",
      "Response Steps:\n",
      "Confidence: 0%\n",
      "Explanation: There is no corresponding step in the response activity.\n",
      "\n",
      "\n",
      "\n",
      "Analysis of Unmatched Ground Truth Steps:\n",
      "Activity: Check materials availability, Step: [1] Manufacture product\n",
      "Reason: There is no corresponding step in the response activity.\n",
      "\n",
      "Activity: Request raw materials from suppliers, Step: [1] Obtain raw materials\n",
      "Reason: There is no corresponding step in the response activity.\n",
      "\n",
      "Activity: Emit invoice, Step: [1] Receive payment\n",
      "Reason: No corresponding step in the response\n",
      "\n",
      "Activity: Receive payment, Step: [1] Archive order\n",
      "Reason: There is no corresponding step in the response.\n",
      "\n",
      "Activity: Determine cancellation penalty, Step: [1] Notify penalty to customer\n",
      "Reason: No corresponding step in the response\n",
      "\n",
      "Analysis of Unmatched Response Steps:\n",
      "Activity: Check stock availability, Step: [3] Pick product from shelf\n",
      "Reason: There is no corresponding step in the ground truth for response step 3.\n",
      "\n",
      "Activity: Check stock availability, Step: [4] Update inventory records\n",
      "Reason: There is no corresponding step in the ground truth for response step 4.\n",
      "\n",
      "Activity: Retrieve product from warehouse, Step: [1] Access raw materials inventory\n",
      "Reason: There is no corresponding step in the ground truth.\n",
      "\n",
      "Activity: Retrieve product from warehouse, Step: [2] Check quantity of required materials\n",
      "Reason: There is no corresponding step in the ground truth.\n",
      "\n",
      "Activity: Retrieve product from warehouse, Step: [3] Determine if sufficient materials are available\n",
      "Reason: There is no corresponding step in the ground truth.\n",
      "\n",
      "Granularity Issues Identified:\n",
      "Activity: Purchase order received\n",
      "Ground Truth Steps:\n",
      "  - [1] Check stock availability\n",
      "Response Steps:\n",
      "  - [1] Access inventory management system\n",
      "  - [2] Search for ordered product\n",
      "  - [3] Verify current stock levels\n",
      "Explanation: The ground truth step 'Check stock availability' corresponds to the response steps 'Access inventory management system', 'Search for ordered product', and 'Verify current stock levels'. The response steps provide a more detailed breakdown of the process.\n",
      "\n",
      "Activity: Check stock availability\n",
      "Ground Truth Steps:\n",
      "  - [1] Retrieve product from warehouse\n",
      "Response Steps:\n",
      "  - [1] Generate pick list\n",
      "  - [2] Locate product in warehouse\n",
      "  - [3] Pick product from shelf\n",
      "  - [4] Update inventory records\n",
      "Explanation: Ground truth step 1 corresponds to response steps 1, 2, 3, and 4. The response steps provide a more detailed breakdown of the retrieval process.\n",
      "\n",
      "Activity: Check stock availability\n",
      "Ground Truth Steps:\n",
      "  - [2] Check materials availability\n",
      "Response Steps:\n",
      "Explanation: There is no corresponding step in the response for ground truth step 2.\n",
      "\n",
      "Activity: Retrieve product from warehouse\n",
      "Ground Truth Steps:\n",
      "Response Steps:\n",
      "  - [1] Access raw materials inventory\n",
      "  - [2] Check quantity of required materials\n",
      "  - [3] Determine if sufficient materials are available\n",
      "Explanation: There are no corresponding steps in the ground truth for the response steps.\n",
      "\n",
      "Activity: Check materials availability\n",
      "Ground Truth Steps:\n",
      "  - [1] Manufacture product\n",
      "Response Steps:\n",
      "Explanation: There is no corresponding step in the response activity.\n",
      "\n"
     ]
    },
    {
     "name": "stderr",
     "output_type": "stream",
     "text": [
      "2024-09-26 14:30:57,114 - INFO - Processing sector: customer_service, activity: complaint_handling\n",
      "2024-09-26 14:31:02,984 - INFO - HTTP Request: POST https://datascience-openai-local.openai.azure.com//openai/deployments/gpt-35-turbo-16k/chat/completions?api-version=2024-05-01-preview \"HTTP/1.1 200 OK\"\n"
     ]
    },
    {
     "name": "stdout",
     "output_type": "stream",
     "text": [
      "Comparing activity 1...\n"
     ]
    },
    {
     "name": "stderr",
     "output_type": "stream",
     "text": [
      "2024-09-26 14:31:07,426 - INFO - HTTP Request: POST https://datascience-openai-local.openai.azure.com//openai/deployments/gpt-35-turbo-16k/chat/completions?api-version=2024-05-01-preview \"HTTP/1.1 200 OK\"\n"
     ]
    },
    {
     "name": "stdout",
     "output_type": "stream",
     "text": [
      "Comparing activity 2...\n"
     ]
    },
    {
     "name": "stderr",
     "output_type": "stream",
     "text": [
      "2024-09-26 14:31:11,236 - INFO - HTTP Request: POST https://datascience-openai-local.openai.azure.com//openai/deployments/gpt-35-turbo-16k/chat/completions?api-version=2024-05-01-preview \"HTTP/1.1 200 OK\"\n"
     ]
    },
    {
     "name": "stdout",
     "output_type": "stream",
     "text": [
      "Comparing activity 3...\n"
     ]
    },
    {
     "name": "stderr",
     "output_type": "stream",
     "text": [
      "2024-09-26 14:31:14,703 - INFO - HTTP Request: POST https://datascience-openai-local.openai.azure.com//openai/deployments/gpt-35-turbo-16k/chat/completions?api-version=2024-05-01-preview \"HTTP/1.1 200 OK\"\n"
     ]
    },
    {
     "name": "stdout",
     "output_type": "stream",
     "text": [
      "Comparing activity 4...\n"
     ]
    },
    {
     "name": "stderr",
     "output_type": "stream",
     "text": [
      "2024-09-26 14:31:18,796 - INFO - HTTP Request: POST https://datascience-openai-local.openai.azure.com//openai/deployments/gpt-35-turbo-16k/chat/completions?api-version=2024-05-01-preview \"HTTP/1.1 200 OK\"\n"
     ]
    },
    {
     "name": "stdout",
     "output_type": "stream",
     "text": [
      "Comparing activity 5...\n"
     ]
    },
    {
     "name": "stderr",
     "output_type": "stream",
     "text": [
      "2024-09-26 14:31:21,560 - INFO - HTTP Request: POST https://datascience-openai-local.openai.azure.com//openai/deployments/gpt-35-turbo-16k/chat/completions?api-version=2024-05-01-preview \"HTTP/1.1 200 OK\"\n"
     ]
    },
    {
     "name": "stdout",
     "output_type": "stream",
     "text": [
      "Comparing activity 6...\n"
     ]
    },
    {
     "name": "stderr",
     "output_type": "stream",
     "text": [
      "2024-09-26 14:31:23,928 - INFO - HTTP Request: POST https://datascience-openai-local.openai.azure.com//openai/deployments/gpt-35-turbo-16k/chat/completions?api-version=2024-05-01-preview \"HTTP/1.1 200 OK\"\n"
     ]
    },
    {
     "name": "stdout",
     "output_type": "stream",
     "text": [
      "Comparing activity 7...\n"
     ]
    },
    {
     "name": "stderr",
     "output_type": "stream",
     "text": [
      "2024-09-26 14:31:26,937 - INFO - HTTP Request: POST https://datascience-openai-local.openai.azure.com//openai/deployments/gpt-35-turbo-16k/chat/completions?api-version=2024-05-01-preview \"HTTP/1.1 200 OK\"\n"
     ]
    },
    {
     "name": "stdout",
     "output_type": "stream",
     "text": [
      "Comparing activity 8...\n"
     ]
    },
    {
     "name": "stderr",
     "output_type": "stream",
     "text": [
      "2024-09-26 14:31:30,960 - INFO - HTTP Request: POST https://datascience-openai-local.openai.azure.com//openai/deployments/gpt-35-turbo-16k/chat/completions?api-version=2024-05-01-preview \"HTTP/1.1 200 OK\"\n"
     ]
    },
    {
     "name": "stdout",
     "output_type": "stream",
     "text": [
      "Comparing activity 9...\n"
     ]
    },
    {
     "name": "stderr",
     "output_type": "stream",
     "text": [
      "2024-09-26 14:31:35,738 - INFO - HTTP Request: POST https://datascience-openai-local.openai.azure.com//openai/deployments/gpt-35-turbo-16k/chat/completions?api-version=2024-05-01-preview \"HTTP/1.1 200 OK\"\n",
      "2024-09-26 14:31:35,742 - INFO - Successfully processed and saved results for customer_service/complaint_handling with GPT-3.5-Activity-Breakdown-Subject_Matter_Expert_Detailed_Basic\n",
      "2024-09-26 14:31:35,743 - INFO - Processing sector: customer_service, activity: complaint_handling_v2\n"
     ]
    },
    {
     "name": "stdout",
     "output_type": "stream",
     "text": [
      "Quantitative Metrics:\n",
      "=====================\n",
      "Total Activities Evaluated: 3\n",
      "Average Overall Similarity Score: 32.00%\n",
      "Average Confidence Score: 35.00%\n",
      "Average Sequence Alignment Score: 85.19%\n",
      "Ground Truth Steps Coverage: 90.48%\n",
      "Response Steps Coverage: 71.43%\n",
      "\n",
      "Match Type Distribution:\n",
      "- Functional Equivalence: 6 matches (31.58%), Average Confidence: 82.50%\n",
      "- Granularity Difference: 2 matches (10.53%), Average Confidence: 85.00%\n",
      "- No Match: 11 matches (57.89%), Average Confidence: 0.00%\n",
      "\n",
      "\n",
      "Qualitative Analysis:\n",
      "=====================\n",
      "\n",
      "Examples of Matched Steps by Match Type:\n",
      "\n",
      "Match Type: Functional Equivalence\n",
      "Activity: Incoming call\n",
      "Ground Truth Steps:\n",
      "  - [1] Answer the call\n",
      "Response Steps:\n",
      "  - [1] Answer incoming call\n",
      "Confidence: 95%\n",
      "Explanation: The steps describe the same action of answering an incoming call, but use slightly different wording.\n",
      "\n",
      "Activity: Incoming call\n",
      "Ground Truth Steps:\n",
      "  - [2] Gather customer information\n",
      "Response Steps:\n",
      "  - [2] Record caller's information\n",
      "Confidence: 90%\n",
      "Explanation: The steps have the same core function of collecting information from the caller, but use different wording.\n",
      "\n",
      "Activity: Complaint analysis\n",
      "Ground Truth Steps:\n",
      "  - [1] Review complaint details\n",
      "Response Steps:\n",
      "  - [1] Prepare response based on complaint analysis\n",
      "Confidence: 80%\n",
      "Explanation: The response step 'Prepare response based on complaint analysis' is functionally equivalent to the ground truth step 'Review complaint details'. Although the wording is different, both steps involve analyzing the complaint to prepare a response.\n",
      "\n",
      "\n",
      "\n",
      "Match Type: Granularity Difference\n",
      "Activity: Incoming call\n",
      "Ground Truth Steps:\n",
      "  - [3] Identify reason for the call\n",
      "Response Steps:\n",
      "  - [3] Categorise call type (complaint, external referral, internal referral)\n",
      "Confidence: 80%\n",
      "Explanation: The steps have a similar objective of determining the purpose of the call, but the response step includes additional details about categorizing the call type.\n",
      "\n",
      "Activity: Complaint analysis\n",
      "Ground Truth Steps:\n",
      "  - [2] Analyze complaint for resolution\n",
      "Response Steps:\n",
      "  - [2] Contact complainant via preferred method\n",
      "  - [3] Discuss findings and proposed resolution\n",
      "Confidence: 90%\n",
      "Explanation: The ground truth step 'Analyze complaint for resolution' is more granular than the response steps. The response steps 'Contact complainant via preferred method' and 'Discuss findings and proposed resolution' encompass the process of analyzing the complaint and reaching a resolution.\n",
      "\n",
      "\n",
      "\n",
      "Match Type: No Match\n",
      "Activity: Call registration\n",
      "Ground Truth Steps:\n",
      "  - [1] Create a new case\n",
      "Response Steps:\n",
      "  - [1] Review complaint details\n",
      "Confidence: 0%\n",
      "Explanation: The ground truth step 'Create a new case' does not have a corresponding step in the response.\n",
      "\n",
      "Activity: Call registration\n",
      "Ground Truth Steps:\n",
      "  - [2] Record customer details\n",
      "Response Steps:\n",
      "  - [2] Assess severity and urgency\n",
      "Confidence: 0%\n",
      "Explanation: The ground truth step 'Record customer details' does not have a corresponding step in the response.\n",
      "\n",
      "Activity: Contact complainant\n",
      "Ground Truth Steps:\n",
      "  - [1] Reach out to the complainant\n",
      "Response Steps:\n",
      "  - [1] Complete form B4 with relevant information\n",
      "Confidence: 0%\n",
      "Explanation: The ground truth step 'Reach out to the complainant' does not have a corresponding step in the response.\n",
      "\n",
      "\n",
      "\n",
      "Analysis of Unmatched Ground Truth Steps:\n",
      "Activity: Telephone confirmation to external party, Step: [1] Contact external party\n",
      "Reason: There is no corresponding step in the response activity.\n",
      "\n",
      "Activity: Telephone confirmation to external party, Step: [2] Confirm details of referral\n",
      "Reason: There is no corresponding step in the response activity.\n",
      "\n",
      "Analysis of Unmatched Response Steps:\n",
      "Activity: Call registration, Step: [3] Determine appropriate action\n",
      "Reason: There is no corresponding step in the ground truth.\n",
      "\n",
      "Activity: Call registration, Step: [4] Document analysis findings\n",
      "Reason: There is no corresponding step in the ground truth.\n",
      "\n",
      "Activity: Contact complainant, Step: [3] Send form B4 to external party\n",
      "Reason: There is no corresponding step in the ground truth.\n",
      "\n",
      "Activity: Internal referral with form B2, Step: [1] Compile all case documents\n",
      "Reason: There is no corresponding step in the ground truth.\n",
      "\n",
      "Activity: Internal referral with form B2, Step: [3] Store physical documents (if any)\n",
      "Reason: There is no corresponding step in the ground truth.\n",
      "\n",
      "Granularity Issues Identified:\n",
      "Activity: Complaint analysis\n",
      "Ground Truth Steps:\n",
      "  - [2] Analyze complaint for resolution\n",
      "Response Steps:\n",
      "  - [2] Contact complainant via preferred method\n",
      "  - [3] Discuss findings and proposed resolution\n",
      "Explanation: The ground truth step 'Analyze complaint for resolution' is more granular than the response steps. The response steps 'Contact complainant via preferred method' and 'Discuss findings and proposed resolution' encompass the process of analyzing the complaint and reaching a resolution.\n",
      "\n"
     ]
    },
    {
     "name": "stderr",
     "output_type": "stream",
     "text": [
      "2024-09-26 14:31:40,561 - INFO - HTTP Request: POST https://datascience-openai-local.openai.azure.com//openai/deployments/gpt-35-turbo-16k/chat/completions?api-version=2024-05-01-preview \"HTTP/1.1 200 OK\"\n"
     ]
    },
    {
     "name": "stdout",
     "output_type": "stream",
     "text": [
      "Comparing activity 1...\n"
     ]
    },
    {
     "name": "stderr",
     "output_type": "stream",
     "text": [
      "2024-09-26 14:31:44,143 - INFO - HTTP Request: POST https://datascience-openai-local.openai.azure.com//openai/deployments/gpt-35-turbo-16k/chat/completions?api-version=2024-05-01-preview \"HTTP/1.1 200 OK\"\n"
     ]
    },
    {
     "name": "stdout",
     "output_type": "stream",
     "text": [
      "Comparing activity 2...\n"
     ]
    },
    {
     "name": "stderr",
     "output_type": "stream",
     "text": [
      "2024-09-26 14:31:48,172 - INFO - HTTP Request: POST https://datascience-openai-local.openai.azure.com//openai/deployments/gpt-35-turbo-16k/chat/completions?api-version=2024-05-01-preview \"HTTP/1.1 200 OK\"\n"
     ]
    },
    {
     "name": "stdout",
     "output_type": "stream",
     "text": [
      "Comparing activity 3...\n"
     ]
    },
    {
     "name": "stderr",
     "output_type": "stream",
     "text": [
      "2024-09-26 14:31:52,350 - INFO - HTTP Request: POST https://datascience-openai-local.openai.azure.com//openai/deployments/gpt-35-turbo-16k/chat/completions?api-version=2024-05-01-preview \"HTTP/1.1 200 OK\"\n"
     ]
    },
    {
     "name": "stdout",
     "output_type": "stream",
     "text": [
      "Comparing activity 4...\n"
     ]
    },
    {
     "name": "stderr",
     "output_type": "stream",
     "text": [
      "2024-09-26 14:31:56,818 - INFO - HTTP Request: POST https://datascience-openai-local.openai.azure.com//openai/deployments/gpt-35-turbo-16k/chat/completions?api-version=2024-05-01-preview \"HTTP/1.1 200 OK\"\n"
     ]
    },
    {
     "name": "stdout",
     "output_type": "stream",
     "text": [
      "Comparing activity 5...\n"
     ]
    },
    {
     "name": "stderr",
     "output_type": "stream",
     "text": [
      "2024-09-26 14:32:00,708 - INFO - HTTP Request: POST https://datascience-openai-local.openai.azure.com//openai/deployments/gpt-35-turbo-16k/chat/completions?api-version=2024-05-01-preview \"HTTP/1.1 200 OK\"\n"
     ]
    },
    {
     "name": "stdout",
     "output_type": "stream",
     "text": [
      "Comparing activity 6...\n"
     ]
    },
    {
     "name": "stderr",
     "output_type": "stream",
     "text": [
      "2024-09-26 14:32:04,934 - INFO - HTTP Request: POST https://datascience-openai-local.openai.azure.com//openai/deployments/gpt-35-turbo-16k/chat/completions?api-version=2024-05-01-preview \"HTTP/1.1 200 OK\"\n"
     ]
    },
    {
     "name": "stdout",
     "output_type": "stream",
     "text": [
      "Comparing activity 7...\n"
     ]
    },
    {
     "name": "stderr",
     "output_type": "stream",
     "text": [
      "2024-09-26 14:32:12,538 - INFO - HTTP Request: POST https://datascience-openai-local.openai.azure.com//openai/deployments/gpt-35-turbo-16k/chat/completions?api-version=2024-05-01-preview \"HTTP/1.1 200 OK\"\n",
      "2024-09-26 14:32:12,542 - INFO - Successfully processed and saved results for customer_service/complaint_handling_v2 with GPT-3.5-Activity-Breakdown-Subject_Matter_Expert_Detailed_Basic\n",
      "2024-09-26 14:32:12,543 - INFO - Processing sector: customer_service, activity: purchase_order\n"
     ]
    },
    {
     "name": "stdout",
     "output_type": "stream",
     "text": [
      "Quantitative Metrics:\n",
      "=====================\n",
      "Total Activities Evaluated: 4\n",
      "Average Overall Similarity Score: 79.19%\n",
      "Average Confidence Score: 78.64%\n",
      "Average Sequence Alignment Score: 71.90%\n",
      "Ground Truth Steps Coverage: 100.00%\n",
      "Response Steps Coverage: 83.33%\n",
      "\n",
      "Match Type Distribution:\n",
      "- Functional Equivalence: 15 matches (68.18%), Average Confidence: 83.00%\n",
      "- Granularity Difference: 5 matches (22.73%), Average Confidence: 77.00%\n",
      "- Identical Match: 1 matches (4.55%), Average Confidence: 100.00%\n",
      "- No Match: 1 matches (4.55%), Average Confidence: 0.00%\n",
      "\n",
      "\n",
      "Qualitative Analysis:\n",
      "=====================\n",
      "\n",
      "Examples of Matched Steps by Match Type:\n",
      "\n",
      "Match Type: Functional Equivalence\n",
      "Activity: Send automatic reply to customer\n",
      "Ground Truth Steps:\n",
      "  - [1] Receive complaint from customer\n",
      "Response Steps:\n",
      "  - [1] Receive complaint notification\n",
      "Confidence: 95%\n",
      "Explanation: The ground truth step 'Receive complaint from customer' is functionally equivalent to the response step 'Receive complaint notification'. The core function of receiving a complaint is the same, even though the wording is slightly different.\n",
      "\n",
      "Activity: Send automatic reply to customer\n",
      "Ground Truth Steps:\n",
      "  - [2] Generate automatic reply\n",
      "Response Steps:\n",
      "  - [2] Generate automatic acknowledgement message\n",
      "Confidence: 90%\n",
      "Explanation: The ground truth step 'Generate automatic reply' is functionally equivalent to the response step 'Generate automatic acknowledgement message'. Both steps involve generating an automated message, although the specific content or purpose of the message may differ.\n",
      "\n",
      "Activity: Send automatic reply to customer\n",
      "Ground Truth Steps:\n",
      "  - [3] Send automatic reply to customer\n",
      "Response Steps:\n",
      "  - [3] Send acknowledgement to customer's contact email\n",
      "Confidence: 85%\n",
      "Explanation: The ground truth step 'Send automatic reply to customer' is functionally equivalent to the response step 'Send acknowledgement to customer's contact email'. Both steps involve sending a message to the customer, although the specific type of message or recipient may differ.\n",
      "\n",
      "\n",
      "\n",
      "Match Type: Granularity Difference\n",
      "Activity: Discuss solution\n",
      "Ground Truth Steps:\n",
      "  - [2] Identify potential solutions\n",
      "Response Steps:\n",
      "  - [3] Brainstorm potential solutions\n",
      "Confidence: 80%\n",
      "Explanation: The response step 3 encompasses the ground truth step 2 by including brainstorming as part of the process of identifying potential solutions.\n",
      "\n",
      "Activity: Discuss solution\n",
      "Ground Truth Steps:\n",
      "  - [3] Discuss potential solutions with team\n",
      "Response Steps:\n",
      "  - [2] Consult relevant team members or departments\n",
      "Confidence: 80%\n",
      "Explanation: The response step 2 encompasses the ground truth step 3 by including consulting relevant team members or departments as part of the process of discussing potential solutions.\n",
      "\n",
      "Activity: Send apology\n",
      "Ground Truth Steps:\n",
      "  - [2] Craft apology message\n",
      "Response Steps:\n",
      "  - [2] Have apology reviewed by appropriate authority\n",
      "Confidence: 70%\n",
      "Explanation: The ground truth step 'Craft apology message' is more granular than the response step 'Have apology reviewed by appropriate authority'. The response step encompasses the process of crafting the apology message and includes an additional step of having it reviewed by the appropriate authority.\n",
      "\n",
      "\n",
      "\n",
      "Match Type: Identical Match\n",
      "Activity: Send apology\n",
      "Ground Truth Steps:\n",
      "  - [3] Send apology to customer\n",
      "Response Steps:\n",
      "  - [3] Send apology to customer\n",
      "Confidence: 100%\n",
      "Explanation: The ground truth step 'Send apology to customer' is an identical match to the response step 'Send apology to customer'. Both steps describe the same action of sending the apology to the customer.\n",
      "\n",
      "\n",
      "\n",
      "Match Type: No Match\n",
      "Activity: Go to court\n",
      "Ground Truth Steps:\n",
      "Response Steps:\n",
      "  - [5] Update complaint status to 'In Litigation'\n",
      "Confidence: 0%\n",
      "Explanation: There is no corresponding ground truth step for the response step 'Update complaint status to 'In Litigation''. This step is not mentioned in the ground truth activity.\n",
      "\n",
      "\n",
      "\n",
      "Analysis of Unmatched Ground Truth Steps:\n",
      "Analysis of Unmatched Response Steps:\n",
      "Activity: Discuss solution, Step: [4] Evaluate feasibility and effectiveness of solutions\n",
      "Reason: There is no corresponding step in the ground truth.\n",
      "\n",
      "Activity: Discuss solution, Step: [5] Select most appropriate solution\n",
      "Reason: There is no corresponding step in the ground truth.\n",
      "\n",
      "Activity: Execute solution, Step: [2] Assign tasks to relevant team members\n",
      "Reason: There is no corresponding ground truth step for this response step.\n",
      "\n",
      "Activity: Execute solution, Step: [4] Verify solution implementation\n",
      "Reason: There is no corresponding ground truth step for this response step.\n",
      "\n",
      "Activity: Execute solution, Step: [5] Follow up with customer to ensure satisfaction\n",
      "Reason: There is no corresponding ground truth step for this response step.\n",
      "\n",
      "Granularity Issues Identified:\n",
      "Activity: Evaluate acceptable alternative\n",
      "Ground Truth Steps:\n",
      "  - [3] Identify alternative solutions\n",
      "Response Steps:\n",
      "  - [3] Brainstorm alternative solutions\n",
      "  - [4] Assess viability of alternative solutions\n",
      "  - [5] Select best alternative solution if available\n",
      "Explanation: The ground truth step of identifying alternative solutions is more granular than the response steps. The response steps include brainstorming, assessing viability, and selecting the best alternative solution, which are all part of the process of identifying alternatives.\n",
      "\n",
      "Activity: Go to court\n",
      "Ground Truth Steps:\n",
      "  - [3] Initiate legal proceedings\n",
      "Response Steps:\n",
      "  - [3] File legal action\n",
      "  - [4] Engage in legal proceedings\n",
      "Explanation: The ground truth step 'Initiate legal proceedings' is more granular than the response steps 'File legal action' and 'Engage in legal proceedings'. The ground truth step encompasses both the act of filing legal action and actively participating in the legal process.\n",
      "\n",
      "Activity: Go to court\n",
      "Ground Truth Steps:\n",
      "Response Steps:\n",
      "  - [5] Update complaint status to 'In Litigation'\n",
      "Explanation: There is no corresponding ground truth step for the response step 'Update complaint status to 'In Litigation''. This step is not mentioned in the ground truth activity.\n",
      "\n"
     ]
    },
    {
     "name": "stderr",
     "output_type": "stream",
     "text": [
      "2024-09-26 14:32:17,757 - INFO - HTTP Request: POST https://datascience-openai-local.openai.azure.com//openai/deployments/gpt-35-turbo-16k/chat/completions?api-version=2024-05-01-preview \"HTTP/1.1 200 OK\"\n"
     ]
    },
    {
     "name": "stdout",
     "output_type": "stream",
     "text": [
      "Comparing activity 1...\n"
     ]
    },
    {
     "name": "stderr",
     "output_type": "stream",
     "text": [
      "2024-09-26 14:32:20,468 - INFO - HTTP Request: POST https://datascience-openai-local.openai.azure.com//openai/deployments/gpt-35-turbo-16k/chat/completions?api-version=2024-05-01-preview \"HTTP/1.1 200 OK\"\n"
     ]
    },
    {
     "name": "stdout",
     "output_type": "stream",
     "text": [
      "Comparing activity 2...\n"
     ]
    },
    {
     "name": "stderr",
     "output_type": "stream",
     "text": [
      "2024-09-26 14:32:23,105 - INFO - HTTP Request: POST https://datascience-openai-local.openai.azure.com//openai/deployments/gpt-35-turbo-16k/chat/completions?api-version=2024-05-01-preview \"HTTP/1.1 200 OK\"\n"
     ]
    },
    {
     "name": "stdout",
     "output_type": "stream",
     "text": [
      "Comparing activity 3...\n"
     ]
    },
    {
     "name": "stderr",
     "output_type": "stream",
     "text": [
      "2024-09-26 14:32:27,481 - INFO - HTTP Request: POST https://datascience-openai-local.openai.azure.com//openai/deployments/gpt-35-turbo-16k/chat/completions?api-version=2024-05-01-preview \"HTTP/1.1 200 OK\"\n"
     ]
    },
    {
     "name": "stdout",
     "output_type": "stream",
     "text": [
      "Comparing activity 4...\n"
     ]
    },
    {
     "name": "stderr",
     "output_type": "stream",
     "text": [
      "2024-09-26 14:32:30,567 - INFO - HTTP Request: POST https://datascience-openai-local.openai.azure.com//openai/deployments/gpt-35-turbo-16k/chat/completions?api-version=2024-05-01-preview \"HTTP/1.1 200 OK\"\n"
     ]
    },
    {
     "name": "stdout",
     "output_type": "stream",
     "text": [
      "Comparing activity 5...\n"
     ]
    },
    {
     "name": "stderr",
     "output_type": "stream",
     "text": [
      "2024-09-26 14:32:33,015 - INFO - HTTP Request: POST https://datascience-openai-local.openai.azure.com//openai/deployments/gpt-35-turbo-16k/chat/completions?api-version=2024-05-01-preview \"HTTP/1.1 200 OK\"\n"
     ]
    },
    {
     "name": "stdout",
     "output_type": "stream",
     "text": [
      "Comparing activity 6...\n"
     ]
    },
    {
     "name": "stderr",
     "output_type": "stream",
     "text": [
      "2024-09-26 14:32:36,330 - INFO - HTTP Request: POST https://datascience-openai-local.openai.azure.com//openai/deployments/gpt-35-turbo-16k/chat/completions?api-version=2024-05-01-preview \"HTTP/1.1 200 OK\"\n"
     ]
    },
    {
     "name": "stdout",
     "output_type": "stream",
     "text": [
      "Comparing activity 7...\n"
     ]
    },
    {
     "name": "stderr",
     "output_type": "stream",
     "text": [
      "2024-09-26 14:32:38,833 - INFO - HTTP Request: POST https://datascience-openai-local.openai.azure.com//openai/deployments/gpt-35-turbo-16k/chat/completions?api-version=2024-05-01-preview \"HTTP/1.1 200 OK\"\n"
     ]
    },
    {
     "name": "stdout",
     "output_type": "stream",
     "text": [
      "Comparing activity 8...\n"
     ]
    },
    {
     "name": "stderr",
     "output_type": "stream",
     "text": [
      "2024-09-26 14:32:42,429 - INFO - HTTP Request: POST https://datascience-openai-local.openai.azure.com//openai/deployments/gpt-35-turbo-16k/chat/completions?api-version=2024-05-01-preview \"HTTP/1.1 200 OK\"\n"
     ]
    },
    {
     "name": "stdout",
     "output_type": "stream",
     "text": [
      "Comparing activity 9...\n"
     ]
    },
    {
     "name": "stderr",
     "output_type": "stream",
     "text": [
      "2024-09-26 14:32:44,778 - INFO - HTTP Request: POST https://datascience-openai-local.openai.azure.com//openai/deployments/gpt-35-turbo-16k/chat/completions?api-version=2024-05-01-preview \"HTTP/1.1 200 OK\"\n",
      "2024-09-26 14:32:44,782 - INFO - Successfully processed and saved results for customer_service/purchase_order with GPT-3.5-Activity-Breakdown-Subject_Matter_Expert_Detailed_Basic\n",
      "2024-09-26 14:32:44,783 - INFO - Processing sector: customer_service, activity: purchase_request\n"
     ]
    },
    {
     "name": "stdout",
     "output_type": "stream",
     "text": [
      "Quantitative Metrics:\n",
      "=====================\n",
      "Total Activities Evaluated: 3\n",
      "Average Overall Similarity Score: 66.11%\n",
      "Average Confidence Score: 54.29%\n",
      "Average Sequence Alignment Score: 58.33%\n",
      "Ground Truth Steps Coverage: 92.31%\n",
      "Response Steps Coverage: 67.65%\n",
      "\n",
      "Match Type Distribution:\n",
      "- Functional Equivalence: 5 matches (35.71%), Average Confidence: 86.00%\n",
      "- Granularity Difference: 4 matches (28.57%), Average Confidence: 82.50%\n",
      "- No Match: 5 matches (35.71%), Average Confidence: 0.00%\n",
      "\n",
      "\n",
      "Qualitative Analysis:\n",
      "=====================\n",
      "\n",
      "Examples of Matched Steps by Match Type:\n",
      "\n",
      "Match Type: Functional Equivalence\n",
      "Activity: Check stock availability\n",
      "Ground Truth Steps:\n",
      "  - [1] Check if product is in stock\n",
      "Response Steps:\n",
      "  - [1] Query inventory database\n",
      "Confidence: 90%\n",
      "Explanation: The ground truth step 'Check if product is in stock' is functionally equivalent to the response step 'Query inventory database'. Both steps involve checking the availability of the product.\n",
      "\n",
      "Activity: Retrieve product from warehouse\n",
      "Ground Truth Steps:\n",
      "  - [1] Locate product in the warehouse\n",
      "Response Steps:\n",
      "  - [1] Locate product in warehouse\n",
      "Confidence: 95%\n",
      "Explanation: The ground truth step 'Locate product in the warehouse' and the response step 'Locate product in warehouse' describe the same action using slightly different wording.\n",
      "\n",
      "Activity: Confirm order\n",
      "Ground Truth Steps:\n",
      "  - [1] Verify order details\n",
      "Response Steps:\n",
      "  - [1] Generate order confirmation\n",
      "Confidence: 80%\n",
      "Explanation: The ground truth step 'Verify order details' and the response step 'Generate order confirmation' have the same core function of confirming the order, but use different wording.\n",
      "\n",
      "\n",
      "\n",
      "Match Type: Granularity Difference\n",
      "Activity: Reject order\n",
      "Ground Truth Steps:\n",
      "  - [1] Notify customer about order rejection\n",
      "Response Steps:\n",
      "  - [1] Generate rejection notification\n",
      "  - [2] Send rejection email to customer\n",
      "Confidence: 90%\n",
      "Explanation: Ground truth step 1 corresponds to response steps 1 and 2.\n",
      "\n",
      "Activity: Retrieve product from warehouse\n",
      "Ground Truth Steps:\n",
      "  - [2] Retrieve product from the designated location\n",
      "Response Steps:\n",
      "  - [2] Pick product from shelf\n",
      "  - [3] Verify product details and quantity\n",
      "  - [4] Prepare product for shipping\n",
      "Confidence: 80%\n",
      "Explanation: The ground truth step 'Retrieve product from the designated location' is more granular than the response steps. The response steps 'Pick product from shelf', 'Verify product details and quantity', and 'Prepare product for shipping' collectively cover the actions involved in retrieving the product.\n",
      "\n",
      "Activity: Get shipment address\n",
      "Ground Truth Steps:\n",
      "  - [1] Request customer's shipment address\n",
      "Response Steps:\n",
      "  - [1] Retrieve customer address from database\n",
      "  - [2] Validate address format\n",
      "  - [3] Confirm shipping address with customer\n",
      "Confidence: 80%\n",
      "Explanation: Ground truth step 1 corresponds to response steps 1, 2, and 3. The response steps provide a more detailed breakdown of the process of getting the shipment address.\n",
      "\n",
      "\n",
      "\n",
      "Match Type: No Match\n",
      "Activity: Reject order\n",
      "Ground Truth Steps:\n",
      "Response Steps:\n",
      "  - [3] Update order status in system\n",
      "Confidence: 0%\n",
      "Explanation: There is no corresponding step in the ground truth for response step 3.\n",
      "\n",
      "Activity: Emit invoice\n",
      "Ground Truth Steps:\n",
      "  - [1] Generate invoice for the order\n",
      "Response Steps:\n",
      "  - [1] Package product securely\n",
      "  - [2] Generate shipping label\n",
      "  - [3] Arrange pickup with courier\n",
      "  - [4] Update order status to shipped\n",
      "Confidence: 0%\n",
      "Explanation: There is no corresponding step in the response activity for generating an invoice.\n",
      "\n",
      "Activity: Ship product\n",
      "Ground Truth Steps:\n",
      "  - [1] Package the product for shipment\n",
      "Response Steps:\n",
      "  - [1] Generate invoice with order details\n",
      "Confidence: 0%\n",
      "Explanation: There is no corresponding step in the response activity.\n",
      "\n",
      "\n",
      "\n",
      "Analysis of Unmatched Ground Truth Steps:\n",
      "Activity: Emit invoice, Step: [1] Generate invoice for the order\n",
      "Reason: There is no corresponding step in the response activity.\n",
      "\n",
      "Analysis of Unmatched Response Steps:\n",
      "Activity: Check stock availability, Step: [2] Compare requested quantity with available stock\n",
      "Reason: There is no corresponding step in the ground truth for 'Compare requested quantity with available stock'. This step is not directly related to the ground truth step of checking stock availability.\n",
      "\n",
      "Activity: Check stock availability, Step: [3] Update stock status\n",
      "Reason: There is no corresponding step in the ground truth for 'Update stock status'. This step is not directly related to the ground truth step of checking stock availability.\n",
      "\n",
      "Activity: Confirm order, Step: [2] Send confirmation email to customer\n",
      "Reason: There is no corresponding step in the ground truth for sending a confirmation email to the customer.\n",
      "\n",
      "Activity: Emit invoice, Step: [1] Package product securely\n",
      "Reason: There is no corresponding step in the ground truth activity.\n",
      "\n",
      "Activity: Emit invoice, Step: [2] Generate shipping label\n",
      "Reason: There is no corresponding step in the ground truth activity.\n",
      "\n",
      "Granularity Issues Identified:\n",
      "Activity: Reject order\n",
      "Ground Truth Steps:\n",
      "  - [1] Notify customer about order rejection\n",
      "Response Steps:\n",
      "  - [1] Generate rejection notification\n",
      "  - [2] Send rejection email to customer\n",
      "Explanation: Ground truth step 1 corresponds to response steps 1 and 2.\n",
      "\n",
      "Activity: Reject order\n",
      "Ground Truth Steps:\n",
      "Response Steps:\n",
      "  - [3] Update order status in system\n",
      "Explanation: There is no corresponding step in the ground truth for response step 3.\n",
      "\n",
      "Activity: Retrieve product from warehouse\n",
      "Ground Truth Steps:\n",
      "  - [2] Retrieve product from the designated location\n",
      "Response Steps:\n",
      "  - [2] Pick product from shelf\n",
      "  - [3] Verify product details and quantity\n",
      "  - [4] Prepare product for shipping\n",
      "Explanation: The ground truth step 'Retrieve product from the designated location' is more granular than the response steps. The response steps 'Pick product from shelf', 'Verify product details and quantity', and 'Prepare product for shipping' collectively cover the actions involved in retrieving the product.\n",
      "\n",
      "Activity: Get shipment address\n",
      "Ground Truth Steps:\n",
      "  - [1] Request customer's shipment address\n",
      "Response Steps:\n",
      "  - [1] Retrieve customer address from database\n",
      "  - [2] Validate address format\n",
      "  - [3] Confirm shipping address with customer\n",
      "Explanation: Ground truth step 1 corresponds to response steps 1, 2, and 3. The response steps provide a more detailed breakdown of the process of getting the shipment address.\n",
      "\n",
      "Activity: Emit invoice\n",
      "Ground Truth Steps:\n",
      "  - [1] Generate invoice for the order\n",
      "Response Steps:\n",
      "  - [1] Package product securely\n",
      "  - [2] Generate shipping label\n",
      "  - [3] Arrange pickup with courier\n",
      "  - [4] Update order status to shipped\n",
      "Explanation: There is no corresponding step in the response activity for generating an invoice.\n",
      "\n"
     ]
    },
    {
     "name": "stderr",
     "output_type": "stream",
     "text": [
      "2024-09-26 14:33:00,782 - INFO - HTTP Request: POST https://datascience-openai-local.openai.azure.com//openai/deployments/gpt-35-turbo-16k/chat/completions?api-version=2024-05-01-preview \"HTTP/1.1 200 OK\"\n"
     ]
    },
    {
     "name": "stdout",
     "output_type": "stream",
     "text": [
      "Comparing activity 1...\n"
     ]
    },
    {
     "name": "stderr",
     "output_type": "stream",
     "text": [
      "2024-09-26 14:33:04,651 - INFO - HTTP Request: POST https://datascience-openai-local.openai.azure.com//openai/deployments/gpt-35-turbo-16k/chat/completions?api-version=2024-05-01-preview \"HTTP/1.1 200 OK\"\n"
     ]
    },
    {
     "name": "stdout",
     "output_type": "stream",
     "text": [
      "Comparing activity 2...\n"
     ]
    },
    {
     "name": "stderr",
     "output_type": "stream",
     "text": [
      "2024-09-26 14:33:07,769 - INFO - HTTP Request: POST https://datascience-openai-local.openai.azure.com//openai/deployments/gpt-35-turbo-16k/chat/completions?api-version=2024-05-01-preview \"HTTP/1.1 200 OK\"\n"
     ]
    },
    {
     "name": "stdout",
     "output_type": "stream",
     "text": [
      "Comparing activity 3...\n"
     ]
    },
    {
     "name": "stderr",
     "output_type": "stream",
     "text": [
      "2024-09-26 14:33:11,246 - INFO - HTTP Request: POST https://datascience-openai-local.openai.azure.com//openai/deployments/gpt-35-turbo-16k/chat/completions?api-version=2024-05-01-preview \"HTTP/1.1 200 OK\"\n"
     ]
    },
    {
     "name": "stdout",
     "output_type": "stream",
     "text": [
      "Comparing activity 4...\n"
     ]
    },
    {
     "name": "stderr",
     "output_type": "stream",
     "text": [
      "2024-09-26 14:33:14,311 - INFO - HTTP Request: POST https://datascience-openai-local.openai.azure.com//openai/deployments/gpt-35-turbo-16k/chat/completions?api-version=2024-05-01-preview \"HTTP/1.1 200 OK\"\n"
     ]
    },
    {
     "name": "stdout",
     "output_type": "stream",
     "text": [
      "Comparing activity 5...\n"
     ]
    },
    {
     "name": "stderr",
     "output_type": "stream",
     "text": [
      "2024-09-26 14:33:17,223 - INFO - HTTP Request: POST https://datascience-openai-local.openai.azure.com//openai/deployments/gpt-35-turbo-16k/chat/completions?api-version=2024-05-01-preview \"HTTP/1.1 200 OK\"\n"
     ]
    },
    {
     "name": "stdout",
     "output_type": "stream",
     "text": [
      "Comparing activity 6...\n"
     ]
    },
    {
     "name": "stderr",
     "output_type": "stream",
     "text": [
      "2024-09-26 14:33:20,967 - INFO - HTTP Request: POST https://datascience-openai-local.openai.azure.com//openai/deployments/gpt-35-turbo-16k/chat/completions?api-version=2024-05-01-preview \"HTTP/1.1 200 OK\"\n"
     ]
    },
    {
     "name": "stdout",
     "output_type": "stream",
     "text": [
      "Comparing activity 7...\n"
     ]
    },
    {
     "name": "stderr",
     "output_type": "stream",
     "text": [
      "2024-09-26 14:33:24,376 - INFO - HTTP Request: POST https://datascience-openai-local.openai.azure.com//openai/deployments/gpt-35-turbo-16k/chat/completions?api-version=2024-05-01-preview \"HTTP/1.1 200 OK\"\n"
     ]
    },
    {
     "name": "stdout",
     "output_type": "stream",
     "text": [
      "Comparing activity 8...\n"
     ]
    },
    {
     "name": "stderr",
     "output_type": "stream",
     "text": [
      "2024-09-26 14:33:27,094 - INFO - HTTP Request: POST https://datascience-openai-local.openai.azure.com//openai/deployments/gpt-35-turbo-16k/chat/completions?api-version=2024-05-01-preview \"HTTP/1.1 200 OK\"\n"
     ]
    },
    {
     "name": "stdout",
     "output_type": "stream",
     "text": [
      "Comparing activity 9...\n"
     ]
    },
    {
     "name": "stderr",
     "output_type": "stream",
     "text": [
      "2024-09-26 14:33:30,517 - INFO - HTTP Request: POST https://datascience-openai-local.openai.azure.com//openai/deployments/gpt-35-turbo-16k/chat/completions?api-version=2024-05-01-preview \"HTTP/1.1 200 OK\"\n"
     ]
    },
    {
     "name": "stdout",
     "output_type": "stream",
     "text": [
      "Comparing activity 10...\n"
     ]
    },
    {
     "name": "stderr",
     "output_type": "stream",
     "text": [
      "2024-09-26 14:33:34,041 - INFO - HTTP Request: POST https://datascience-openai-local.openai.azure.com//openai/deployments/gpt-35-turbo-16k/chat/completions?api-version=2024-05-01-preview \"HTTP/1.1 200 OK\"\n"
     ]
    },
    {
     "name": "stdout",
     "output_type": "stream",
     "text": [
      "Comparing activity 11...\n"
     ]
    },
    {
     "name": "stderr",
     "output_type": "stream",
     "text": [
      "2024-09-26 14:33:37,041 - INFO - HTTP Request: POST https://datascience-openai-local.openai.azure.com//openai/deployments/gpt-35-turbo-16k/chat/completions?api-version=2024-05-01-preview \"HTTP/1.1 200 OK\"\n"
     ]
    },
    {
     "name": "stdout",
     "output_type": "stream",
     "text": [
      "Comparing activity 12...\n"
     ]
    },
    {
     "name": "stderr",
     "output_type": "stream",
     "text": [
      "2024-09-26 14:33:42,753 - INFO - HTTP Request: POST https://datascience-openai-local.openai.azure.com//openai/deployments/gpt-35-turbo-16k/chat/completions?api-version=2024-05-01-preview \"HTTP/1.1 200 OK\"\n"
     ]
    },
    {
     "name": "stdout",
     "output_type": "stream",
     "text": [
      "Comparing activity 13...\n"
     ]
    },
    {
     "name": "stderr",
     "output_type": "stream",
     "text": [
      "2024-09-26 14:33:46,171 - INFO - HTTP Request: POST https://datascience-openai-local.openai.azure.com//openai/deployments/gpt-35-turbo-16k/chat/completions?api-version=2024-05-01-preview \"HTTP/1.1 200 OK\"\n"
     ]
    },
    {
     "name": "stdout",
     "output_type": "stream",
     "text": [
      "Comparing activity 14...\n"
     ]
    },
    {
     "name": "stderr",
     "output_type": "stream",
     "text": [
      "2024-09-26 14:33:50,527 - INFO - HTTP Request: POST https://datascience-openai-local.openai.azure.com//openai/deployments/gpt-35-turbo-16k/chat/completions?api-version=2024-05-01-preview \"HTTP/1.1 200 OK\"\n"
     ]
    },
    {
     "name": "stdout",
     "output_type": "stream",
     "text": [
      "Comparing activity 15...\n"
     ]
    },
    {
     "name": "stderr",
     "output_type": "stream",
     "text": [
      "2024-09-26 14:33:54,825 - INFO - HTTP Request: POST https://datascience-openai-local.openai.azure.com//openai/deployments/gpt-35-turbo-16k/chat/completions?api-version=2024-05-01-preview \"HTTP/1.1 200 OK\"\n"
     ]
    },
    {
     "name": "stdout",
     "output_type": "stream",
     "text": [
      "Comparing activity 16...\n"
     ]
    },
    {
     "name": "stderr",
     "output_type": "stream",
     "text": [
      "2024-09-26 14:33:58,483 - INFO - HTTP Request: POST https://datascience-openai-local.openai.azure.com//openai/deployments/gpt-35-turbo-16k/chat/completions?api-version=2024-05-01-preview \"HTTP/1.1 200 OK\"\n"
     ]
    },
    {
     "name": "stdout",
     "output_type": "stream",
     "text": [
      "Comparing activity 17...\n"
     ]
    },
    {
     "name": "stderr",
     "output_type": "stream",
     "text": [
      "2024-09-26 14:34:02,443 - INFO - HTTP Request: POST https://datascience-openai-local.openai.azure.com//openai/deployments/gpt-35-turbo-16k/chat/completions?api-version=2024-05-01-preview \"HTTP/1.1 200 OK\"\n"
     ]
    },
    {
     "name": "stdout",
     "output_type": "stream",
     "text": [
      "Comparing activity 18...\n"
     ]
    },
    {
     "name": "stderr",
     "output_type": "stream",
     "text": [
      "2024-09-26 14:34:06,157 - INFO - HTTP Request: POST https://datascience-openai-local.openai.azure.com//openai/deployments/gpt-35-turbo-16k/chat/completions?api-version=2024-05-01-preview \"HTTP/1.1 200 OK\"\n"
     ]
    },
    {
     "name": "stdout",
     "output_type": "stream",
     "text": [
      "Comparing activity 19...\n"
     ]
    },
    {
     "name": "stderr",
     "output_type": "stream",
     "text": [
      "2024-09-26 14:34:08,447 - INFO - HTTP Request: POST https://datascience-openai-local.openai.azure.com//openai/deployments/gpt-35-turbo-16k/chat/completions?api-version=2024-05-01-preview \"HTTP/1.1 200 OK\"\n"
     ]
    },
    {
     "name": "stdout",
     "output_type": "stream",
     "text": [
      "Comparing activity 20...\n"
     ]
    },
    {
     "name": "stderr",
     "output_type": "stream",
     "text": [
      "2024-09-26 14:34:13,641 - INFO - HTTP Request: POST https://datascience-openai-local.openai.azure.com//openai/deployments/gpt-35-turbo-16k/chat/completions?api-version=2024-05-01-preview \"HTTP/1.1 200 OK\"\n"
     ]
    },
    {
     "name": "stdout",
     "output_type": "stream",
     "text": [
      "Comparing activity 21...\n"
     ]
    },
    {
     "name": "stderr",
     "output_type": "stream",
     "text": [
      "2024-09-26 14:34:17,290 - INFO - HTTP Request: POST https://datascience-openai-local.openai.azure.com//openai/deployments/gpt-35-turbo-16k/chat/completions?api-version=2024-05-01-preview \"HTTP/1.1 200 OK\"\n"
     ]
    },
    {
     "name": "stdout",
     "output_type": "stream",
     "text": [
      "Comparing activity 22...\n"
     ]
    },
    {
     "name": "stderr",
     "output_type": "stream",
     "text": [
      "2024-09-26 14:34:20,076 - INFO - HTTP Request: POST https://datascience-openai-local.openai.azure.com//openai/deployments/gpt-35-turbo-16k/chat/completions?api-version=2024-05-01-preview \"HTTP/1.1 200 OK\"\n"
     ]
    },
    {
     "name": "stdout",
     "output_type": "stream",
     "text": [
      "Comparing activity 23...\n"
     ]
    },
    {
     "name": "stderr",
     "output_type": "stream",
     "text": [
      "2024-09-26 14:34:23,744 - INFO - HTTP Request: POST https://datascience-openai-local.openai.azure.com//openai/deployments/gpt-35-turbo-16k/chat/completions?api-version=2024-05-01-preview \"HTTP/1.1 200 OK\"\n"
     ]
    },
    {
     "name": "stdout",
     "output_type": "stream",
     "text": [
      "Comparing activity 24...\n"
     ]
    },
    {
     "name": "stderr",
     "output_type": "stream",
     "text": [
      "2024-09-26 14:34:26,426 - INFO - HTTP Request: POST https://datascience-openai-local.openai.azure.com//openai/deployments/gpt-35-turbo-16k/chat/completions?api-version=2024-05-01-preview \"HTTP/1.1 200 OK\"\n"
     ]
    },
    {
     "name": "stdout",
     "output_type": "stream",
     "text": [
      "Comparing activity 25...\n"
     ]
    },
    {
     "name": "stderr",
     "output_type": "stream",
     "text": [
      "2024-09-26 14:34:28,804 - INFO - HTTP Request: POST https://datascience-openai-local.openai.azure.com//openai/deployments/gpt-35-turbo-16k/chat/completions?api-version=2024-05-01-preview \"HTTP/1.1 200 OK\"\n"
     ]
    },
    {
     "name": "stdout",
     "output_type": "stream",
     "text": [
      "Comparing activity 26...\n"
     ]
    },
    {
     "name": "stderr",
     "output_type": "stream",
     "text": [
      "2024-09-26 14:34:31,507 - INFO - HTTP Request: POST https://datascience-openai-local.openai.azure.com//openai/deployments/gpt-35-turbo-16k/chat/completions?api-version=2024-05-01-preview \"HTTP/1.1 200 OK\"\n"
     ]
    },
    {
     "name": "stdout",
     "output_type": "stream",
     "text": [
      "Comparing activity 27...\n"
     ]
    },
    {
     "name": "stderr",
     "output_type": "stream",
     "text": [
      "2024-09-26 14:34:35,270 - INFO - HTTP Request: POST https://datascience-openai-local.openai.azure.com//openai/deployments/gpt-35-turbo-16k/chat/completions?api-version=2024-05-01-preview \"HTTP/1.1 200 OK\"\n",
      "2024-09-26 14:34:35,274 - INFO - Successfully processed and saved results for customer_service/purchase_request with GPT-3.5-Activity-Breakdown-Subject_Matter_Expert_Detailed_Basic\n",
      "2024-09-26 14:34:35,275 - INFO - Processing sector: customer_service, activity: rental_request\n"
     ]
    },
    {
     "name": "stdout",
     "output_type": "stream",
     "text": [
      "Quantitative Metrics:\n",
      "=====================\n",
      "Total Activities Evaluated: 4\n",
      "Average Overall Similarity Score: 20.72%\n",
      "Average Confidence Score: 21.27%\n",
      "Average Sequence Alignment Score: 70.37%\n",
      "Ground Truth Steps Coverage: 82.09%\n",
      "Response Steps Coverage: 61.17%\n",
      "\n",
      "Match Type Distribution:\n",
      "- Functional Equivalence: 7 matches (12.73%), Average Confidence: 88.57%\n",
      "- No Match: 41 matches (74.55%), Average Confidence: 0.00%\n",
      "- Identical Match: 1 matches (1.82%), Average Confidence: 100.00%\n",
      "- Granularity Difference: 6 matches (10.91%), Average Confidence: 75.00%\n",
      "\n",
      "\n",
      "Qualitative Analysis:\n",
      "=====================\n",
      "\n",
      "Examples of Matched Steps by Match Type:\n",
      "\n",
      "Match Type: Functional Equivalence\n",
      "Activity: Fill purchase request form\n",
      "Ground Truth Steps:\n",
      "  - [1] Open purchase request form\n",
      "Response Steps:\n",
      "  - [1] Access purchase request form\n",
      "Confidence: 95%\n",
      "Explanation: The response step 'Access purchase request form' is functionally equivalent to the ground truth step 'Open purchase request form'. Although the wording is different, both steps describe the action of accessing the purchase request form.\n",
      "\n",
      "Activity: Fill purchase request form\n",
      "Ground Truth Steps:\n",
      "  - [2] Enter required information\n",
      "Response Steps:\n",
      "  - [2] Input initial request details\n",
      "Confidence: 90%\n",
      "Explanation: The response step 'Input initial request details' is functionally equivalent to the ground truth step 'Enter required information'. Both steps describe the action of providing the necessary details for the purchase request.\n",
      "\n",
      "Activity: Collect vendor quotes\n",
      "Ground Truth Steps:\n",
      "  - [1] Research and identify potential vendors\n",
      "Response Steps:\n",
      "  - [1] Identify potential vendors\n",
      "Confidence: 90%\n",
      "Explanation: The steps describe the same action of identifying potential vendors, but use slightly different wording.\n",
      "\n",
      "\n",
      "\n",
      "Match Type: No Match\n",
      "Activity: Fill purchase request form\n",
      "Ground Truth Steps:\n",
      "  - [3] Save and submit the form\n",
      "Response Steps:\n",
      "Confidence: 0%\n",
      "Explanation: There is no corresponding response step for the ground truth step 'Save and submit the form'. This step is unmatched in the response.\n",
      "\n",
      "Activity: Complete form\n",
      "Ground Truth Steps:\n",
      "  - [3] Validate the form for completeness\n",
      "Response Steps:\n",
      "  - [3] Attach supporting documents\n",
      "Confidence: 0%\n",
      "Explanation: There is no clear correspondence between validating the form and attaching supporting documents.\n",
      "\n",
      "Activity: Approved?\n",
      "Ground Truth Steps:\n",
      "  - [1] Check if the purchase request is approved\n",
      "Response Steps:\n",
      "  - [1] Review supervisor feedback\n",
      "  - [2] Make necessary modifications\n",
      "  - [3] Resubmit for approval\n",
      "Confidence: 0%\n",
      "Explanation: The ground truth step 'Check if the purchase request is approved' does not have a corresponding step in the response activity.\n",
      "\n",
      "\n",
      "\n",
      "Match Type: Identical Match\n",
      "Activity: Collect vendor quotes\n",
      "Ground Truth Steps:\n",
      "  - [2] Request quotes from vendors\n",
      "Response Steps:\n",
      "  - [2] Request quotes from vendors\n",
      "Confidence: 100%\n",
      "Explanation: The steps are identical in wording and meaning.\n",
      "\n",
      "\n",
      "\n",
      "Match Type: Granularity Difference\n",
      "Activity: Collect vendor quotes\n",
      "Ground Truth Steps:\n",
      "  - [3] Receive and review vendor quotes\n",
      "Response Steps:\n",
      "  - [3] Compile received quotes\n",
      "Confidence: 80%\n",
      "Explanation: The response step is more granular, as it focuses on compiling the received quotes, while the ground truth step includes both receiving and reviewing the quotes.\n",
      "\n",
      "Activity: Get supervisor approvals\n",
      "Ground Truth Steps:\n",
      "  - [2] Wait for supervisor review and approval\n",
      "Response Steps:\n",
      "  - [2] Supervisor reviews request\n",
      "  - [3] Supervisor makes approval decision\n",
      "Confidence: 80%\n",
      "Explanation: The ground truth step 2 is more granular than the response steps. The response steps encompass the waiting, reviewing, and approval decision-making process.\n",
      "\n",
      "Activity: Send PO to vendor\n",
      "Ground Truth Steps:\n",
      "  - [2] Send the purchase order to the vendor\n",
      "Response Steps:\n",
      "  - [1] Count received items\n",
      "  - [2] Inspect quality of goods\n",
      "  - [3] Compare with PO specifications\n",
      "Confidence: 70%\n",
      "Explanation: The ground truth step 'Send the purchase order to the vendor' corresponds to multiple response steps: 'Count received items', 'Inspect quality of goods', and 'Compare with PO specifications'.\n",
      "\n",
      "\n",
      "\n",
      "Analysis of Unmatched Ground Truth Steps:\n",
      "Activity: Approved?, Step: [1] Check if the purchase request is approved\n",
      "Reason: No corresponding step in the response activity\n",
      "\n",
      "Activity: Forward to Purchasing Dept, Step: [1] Send the approved form to the Purchasing Department\n",
      "Reason: No corresponding step in the response activity\n",
      "\n",
      "Activity: Complete?, Step: [1] Check if the form is complete\n",
      "Reason: No corresponding step in the response activity\n",
      "\n",
      "Activity: Return to employee, Step: [1] Notify the employee about incomplete form\n",
      "Reason: There is no corresponding step in the response activity.\n",
      "\n",
      "Activity: Return to employee, Step: [2] Return the form to the employee for completion\n",
      "Reason: There is no corresponding step in the response activity.\n",
      "\n",
      "Analysis of Unmatched Response Steps:\n",
      "Activity: Fill purchase request form, Step: [3] Save and submit the form\n",
      "Reason: There is no corresponding ground truth step for the response step 'Save and submit the form'. This step is unmatched in the ground truth.\n",
      "\n",
      "Activity: Approved?, Step: [1] Review supervisor feedback\n",
      "Reason: No corresponding step in the ground truth activity\n",
      "\n",
      "Activity: Approved?, Step: [2] Make necessary modifications\n",
      "Reason: No corresponding step in the ground truth activity\n",
      "\n",
      "Activity: Approved?, Step: [3] Resubmit for approval\n",
      "Reason: No corresponding step in the ground truth activity\n",
      "\n",
      "Activity: Modify and resubmit, Step: [1] Prepare approved request for forwarding\n",
      "Reason: There is no corresponding step in the ground truth activity.\n",
      "\n",
      "Granularity Issues Identified:\n",
      "Activity: Fill purchase request form\n",
      "Ground Truth Steps:\n",
      "  - [3] Save and submit the form\n",
      "Response Steps:\n",
      "Explanation: There is no corresponding response step for the ground truth step 'Save and submit the form'. This step is unmatched in the response.\n",
      "\n",
      "Activity: Get supervisor approvals\n",
      "Ground Truth Steps:\n",
      "  - [2] Wait for supervisor review and approval\n",
      "Response Steps:\n",
      "  - [2] Supervisor reviews request\n",
      "  - [3] Supervisor makes approval decision\n",
      "Explanation: The ground truth step 2 is more granular than the response steps. The response steps encompass the waiting, reviewing, and approval decision-making process.\n",
      "\n",
      "Activity: Approved?\n",
      "Ground Truth Steps:\n",
      "  - [1] Check if the purchase request is approved\n",
      "Response Steps:\n",
      "  - [1] Review supervisor feedback\n",
      "  - [2] Make necessary modifications\n",
      "  - [3] Resubmit for approval\n",
      "Explanation: The ground truth step 'Check if the purchase request is approved' does not have a corresponding step in the response activity.\n",
      "\n",
      "Activity: Modify and resubmit\n",
      "Ground Truth Steps:\n",
      "  - [3] Resubmit the modified form\n",
      "Response Steps:\n",
      "Explanation: There is no corresponding step in the response activity.\n",
      "\n",
      "Activity: Forward to Purchasing Dept\n",
      "Ground Truth Steps:\n",
      "  - [1] Send the approved form to the Purchasing Department\n",
      "Response Steps:\n",
      "  - [1] Review received request\n",
      "  - [2] Verify all required information is present\n",
      "  - [3] Determine if request is complete\n",
      "Explanation: The ground truth step 'Send the approved form to the Purchasing Department' does not have a corresponding step in the response activity.\n",
      "\n"
     ]
    },
    {
     "name": "stderr",
     "output_type": "stream",
     "text": [
      "2024-09-26 14:34:39,642 - INFO - HTTP Request: POST https://datascience-openai-local.openai.azure.com//openai/deployments/gpt-35-turbo-16k/chat/completions?api-version=2024-05-01-preview \"HTTP/1.1 200 OK\"\n"
     ]
    },
    {
     "name": "stdout",
     "output_type": "stream",
     "text": [
      "Comparing activity 1...\n"
     ]
    },
    {
     "name": "stderr",
     "output_type": "stream",
     "text": [
      "2024-09-26 14:34:43,077 - INFO - HTTP Request: POST https://datascience-openai-local.openai.azure.com//openai/deployments/gpt-35-turbo-16k/chat/completions?api-version=2024-05-01-preview \"HTTP/1.1 200 OK\"\n"
     ]
    },
    {
     "name": "stdout",
     "output_type": "stream",
     "text": [
      "Comparing activity 2...\n"
     ]
    },
    {
     "name": "stderr",
     "output_type": "stream",
     "text": [
      "2024-09-26 14:34:46,363 - INFO - HTTP Request: POST https://datascience-openai-local.openai.azure.com//openai/deployments/gpt-35-turbo-16k/chat/completions?api-version=2024-05-01-preview \"HTTP/1.1 200 OK\"\n"
     ]
    },
    {
     "name": "stdout",
     "output_type": "stream",
     "text": [
      "Comparing activity 3...\n"
     ]
    },
    {
     "name": "stderr",
     "output_type": "stream",
     "text": [
      "2024-09-26 14:34:49,618 - INFO - HTTP Request: POST https://datascience-openai-local.openai.azure.com//openai/deployments/gpt-35-turbo-16k/chat/completions?api-version=2024-05-01-preview \"HTTP/1.1 200 OK\"\n"
     ]
    },
    {
     "name": "stdout",
     "output_type": "stream",
     "text": [
      "Comparing activity 4...\n"
     ]
    },
    {
     "name": "stderr",
     "output_type": "stream",
     "text": [
      "2024-09-26 14:34:53,195 - INFO - HTTP Request: POST https://datascience-openai-local.openai.azure.com//openai/deployments/gpt-35-turbo-16k/chat/completions?api-version=2024-05-01-preview \"HTTP/1.1 200 OK\"\n"
     ]
    },
    {
     "name": "stdout",
     "output_type": "stream",
     "text": [
      "Comparing activity 5...\n"
     ]
    },
    {
     "name": "stderr",
     "output_type": "stream",
     "text": [
      "2024-09-26 14:34:57,204 - INFO - HTTP Request: POST https://datascience-openai-local.openai.azure.com//openai/deployments/gpt-35-turbo-16k/chat/completions?api-version=2024-05-01-preview \"HTTP/1.1 200 OK\"\n",
      "2024-09-26 14:34:57,208 - INFO - Successfully processed and saved results for customer_service/rental_request with GPT-3.5-Activity-Breakdown-Subject_Matter_Expert_Detailed_Basic\n",
      "2024-09-26 14:34:57,209 - INFO - Processing sector: customer_service, activity: special_order\n"
     ]
    },
    {
     "name": "stdout",
     "output_type": "stream",
     "text": [
      "Quantitative Metrics:\n",
      "=====================\n",
      "Total Activities Evaluated: 2\n",
      "Average Overall Similarity Score: 45.13%\n",
      "Average Confidence Score: 46.79%\n",
      "Average Sequence Alignment Score: 66.67%\n",
      "Ground Truth Steps Coverage: 87.50%\n",
      "Response Steps Coverage: 91.67%\n",
      "\n",
      "Match Type Distribution:\n",
      "- Functional Equivalence: 8 matches (57.14%), Average Confidence: 81.88%\n",
      "- No Match: 6 matches (42.86%), Average Confidence: 0.00%\n",
      "\n",
      "\n",
      "Qualitative Analysis:\n",
      "=====================\n",
      "\n",
      "Examples of Matched Steps by Match Type:\n",
      "\n",
      "Match Type: Functional Equivalence\n",
      "Activity: Submit equipment rental request\n",
      "Ground Truth Steps:\n",
      "  - [1] Fill out rental request form\n",
      "Response Steps:\n",
      "  - [1] Fill request\n",
      "Confidence: 80%\n",
      "Explanation: The core function of filling out the rental request form is equivalent to filling the request.\n",
      "\n",
      "Activity: Submit equipment rental request\n",
      "Ground Truth Steps:\n",
      "  - [3] Submit request\n",
      "Response Steps:\n",
      "  - [2] Send request to clerk\n",
      "Confidence: 70%\n",
      "Explanation: The core function of submitting the request is equivalent to sending the request to the clerk.\n",
      "\n",
      "Activity: Select suitable equipment\n",
      "Ground Truth Steps:\n",
      "  - [1] Review equipment options\n",
      "Response Steps:\n",
      "  - [1] Open and read request\n",
      "Confidence: 80%\n",
      "Explanation: The response step 'Open and read request' is functionally equivalent to the ground truth step 'Review equipment options'. Although the wording is different, both steps involve gathering information about the equipment.\n",
      "\n",
      "\n",
      "\n",
      "Match Type: No Match\n",
      "Activity: Submit equipment rental request\n",
      "Ground Truth Steps:\n",
      "  - [2] Attach necessary documents\n",
      "Response Steps:\n",
      "Confidence: 0%\n",
      "Explanation: There is no corresponding step in the response for attaching necessary documents.\n",
      "\n",
      "Activity: Select suitable equipment\n",
      "Ground Truth Steps:\n",
      "  - [2] Consider equipment specifications\n",
      "Response Steps:\n",
      "Confidence: 0%\n",
      "Explanation: There is no corresponding step in the response for the ground truth step 'Consider equipment specifications'.\n",
      "\n",
      "Activity: Check availability\n",
      "Ground Truth Steps:\n",
      "  - [2] Verify equipment availability\n",
      "Response Steps:\n",
      "  - [2] Record recommended equipment & supplier\n",
      "Confidence: 0%\n",
      "Explanation: There is no corresponding step in the response for verifying equipment availability.\n",
      "\n",
      "\n",
      "\n",
      "Analysis of Unmatched Ground Truth Steps:\n",
      "Activity: Submit equipment rental request, Step: [2] Attach necessary documents\n",
      "Reason: There is no corresponding step in the response for attaching necessary documents.\n",
      "\n",
      "Activity: Select suitable equipment, Step: [2] Consider equipment specifications\n",
      "Reason: There is no corresponding step in the response.\n",
      "\n",
      "Analysis of Unmatched Response Steps:\n",
      "Activity: Create PO, Step: [1] Forward request back to clerk\n",
      "Reason: There is no corresponding step in the ground truth for the response step 1.\n",
      "\n",
      "Granularity Issues Identified:\n",
      "Activity: Submit equipment rental request\n",
      "Ground Truth Steps:\n",
      "  - [2] Attach necessary documents\n",
      "Response Steps:\n",
      "Explanation: There is no corresponding step in the response for attaching necessary documents.\n",
      "\n",
      "Activity: Select suitable equipment\n",
      "Ground Truth Steps:\n",
      "  - [2] Consider equipment specifications\n",
      "Response Steps:\n",
      "Explanation: There is no corresponding step in the response for the ground truth step 'Consider equipment specifications'.\n",
      "\n",
      "Activity: Create PO\n",
      "Ground Truth Steps:\n",
      "  - [2] Include rental details\n",
      "Response Steps:\n",
      "Explanation: There is no corresponding step in the response for the ground truth step 2.\n",
      "\n"
     ]
    },
    {
     "name": "stderr",
     "output_type": "stream",
     "text": [
      "2024-09-26 14:35:01,879 - INFO - HTTP Request: POST https://datascience-openai-local.openai.azure.com//openai/deployments/gpt-35-turbo-16k/chat/completions?api-version=2024-05-01-preview \"HTTP/1.1 200 OK\"\n"
     ]
    },
    {
     "name": "stdout",
     "output_type": "stream",
     "text": [
      "Comparing activity 1...\n"
     ]
    },
    {
     "name": "stderr",
     "output_type": "stream",
     "text": [
      "2024-09-26 14:35:05,790 - INFO - HTTP Request: POST https://datascience-openai-local.openai.azure.com//openai/deployments/gpt-35-turbo-16k/chat/completions?api-version=2024-05-01-preview \"HTTP/1.1 200 OK\"\n"
     ]
    },
    {
     "name": "stdout",
     "output_type": "stream",
     "text": [
      "Comparing activity 2...\n"
     ]
    },
    {
     "name": "stderr",
     "output_type": "stream",
     "text": [
      "2024-09-26 14:35:08,651 - INFO - HTTP Request: POST https://datascience-openai-local.openai.azure.com//openai/deployments/gpt-35-turbo-16k/chat/completions?api-version=2024-05-01-preview \"HTTP/1.1 200 OK\"\n"
     ]
    },
    {
     "name": "stdout",
     "output_type": "stream",
     "text": [
      "Comparing activity 3...\n"
     ]
    },
    {
     "name": "stderr",
     "output_type": "stream",
     "text": [
      "2024-09-26 14:35:11,202 - INFO - HTTP Request: POST https://datascience-openai-local.openai.azure.com//openai/deployments/gpt-35-turbo-16k/chat/completions?api-version=2024-05-01-preview \"HTTP/1.1 200 OK\"\n"
     ]
    },
    {
     "name": "stdout",
     "output_type": "stream",
     "text": [
      "Comparing activity 4...\n"
     ]
    },
    {
     "name": "stderr",
     "output_type": "stream",
     "text": [
      "2024-09-26 14:35:12,938 - INFO - HTTP Request: POST https://datascience-openai-local.openai.azure.com//openai/deployments/gpt-35-turbo-16k/chat/completions?api-version=2024-05-01-preview \"HTTP/1.1 200 OK\"\n"
     ]
    },
    {
     "name": "stdout",
     "output_type": "stream",
     "text": [
      "Comparing activity 5...\n"
     ]
    },
    {
     "name": "stderr",
     "output_type": "stream",
     "text": [
      "2024-09-26 14:35:15,715 - INFO - HTTP Request: POST https://datascience-openai-local.openai.azure.com//openai/deployments/gpt-35-turbo-16k/chat/completions?api-version=2024-05-01-preview \"HTTP/1.1 200 OK\"\n"
     ]
    },
    {
     "name": "stdout",
     "output_type": "stream",
     "text": [
      "Comparing activity 6...\n"
     ]
    },
    {
     "name": "stderr",
     "output_type": "stream",
     "text": [
      "2024-09-26 14:35:18,940 - INFO - HTTP Request: POST https://datascience-openai-local.openai.azure.com//openai/deployments/gpt-35-turbo-16k/chat/completions?api-version=2024-05-01-preview \"HTTP/1.1 200 OK\"\n"
     ]
    },
    {
     "name": "stdout",
     "output_type": "stream",
     "text": [
      "Comparing activity 7...\n"
     ]
    },
    {
     "name": "stderr",
     "output_type": "stream",
     "text": [
      "2024-09-26 14:35:23,053 - INFO - HTTP Request: POST https://datascience-openai-local.openai.azure.com//openai/deployments/gpt-35-turbo-16k/chat/completions?api-version=2024-05-01-preview \"HTTP/1.1 200 OK\"\n"
     ]
    },
    {
     "name": "stdout",
     "output_type": "stream",
     "text": [
      "Comparing activity 8...\n"
     ]
    },
    {
     "name": "stderr",
     "output_type": "stream",
     "text": [
      "2024-09-26 14:35:26,153 - INFO - HTTP Request: POST https://datascience-openai-local.openai.azure.com//openai/deployments/gpt-35-turbo-16k/chat/completions?api-version=2024-05-01-preview \"HTTP/1.1 200 OK\"\n"
     ]
    },
    {
     "name": "stdout",
     "output_type": "stream",
     "text": [
      "Comparing activity 9...\n"
     ]
    },
    {
     "name": "stderr",
     "output_type": "stream",
     "text": [
      "2024-09-26 14:35:28,463 - INFO - HTTP Request: POST https://datascience-openai-local.openai.azure.com//openai/deployments/gpt-35-turbo-16k/chat/completions?api-version=2024-05-01-preview \"HTTP/1.1 200 OK\"\n"
     ]
    },
    {
     "name": "stdout",
     "output_type": "stream",
     "text": [
      "Comparing activity 10...\n"
     ]
    },
    {
     "name": "stderr",
     "output_type": "stream",
     "text": [
      "2024-09-26 14:35:30,639 - INFO - HTTP Request: POST https://datascience-openai-local.openai.azure.com//openai/deployments/gpt-35-turbo-16k/chat/completions?api-version=2024-05-01-preview \"HTTP/1.1 200 OK\"\n"
     ]
    },
    {
     "name": "stdout",
     "output_type": "stream",
     "text": [
      "Comparing activity 11...\n"
     ]
    },
    {
     "name": "stderr",
     "output_type": "stream",
     "text": [
      "2024-09-26 14:35:33,697 - INFO - HTTP Request: POST https://datascience-openai-local.openai.azure.com//openai/deployments/gpt-35-turbo-16k/chat/completions?api-version=2024-05-01-preview \"HTTP/1.1 200 OK\"\n"
     ]
    },
    {
     "name": "stdout",
     "output_type": "stream",
     "text": [
      "Comparing activity 12...\n"
     ]
    },
    {
     "name": "stderr",
     "output_type": "stream",
     "text": [
      "2024-09-26 14:35:36,893 - INFO - HTTP Request: POST https://datascience-openai-local.openai.azure.com//openai/deployments/gpt-35-turbo-16k/chat/completions?api-version=2024-05-01-preview \"HTTP/1.1 200 OK\"\n",
      "2024-09-26 14:35:36,897 - INFO - Successfully processed and saved results for customer_service/special_order with GPT-3.5-Activity-Breakdown-Subject_Matter_Expert_Detailed_Basic\n",
      "2024-09-26 14:35:36,899 - INFO - Processing sector: customer_service, activity: training_course\n"
     ]
    },
    {
     "name": "stdout",
     "output_type": "stream",
     "text": [
      "Quantitative Metrics:\n",
      "=====================\n",
      "Total Activities Evaluated: 1\n",
      "Average Overall Similarity Score: 0.00%\n",
      "Average Confidence Score: 0.00%\n",
      "Average Sequence Alignment Score: 0.00%\n",
      "Ground Truth Steps Coverage: 0.00%\n",
      "Response Steps Coverage: 50.00%\n",
      "\n",
      "Match Type Distribution:\n",
      "- No Match: 12 matches (100.00%), Average Confidence: 0.00%\n",
      "\n",
      "\n",
      "Qualitative Analysis:\n",
      "=====================\n",
      "\n",
      "Examples of Matched Steps by Match Type:\n",
      "\n",
      "Match Type: No Match\n",
      "Activity: Special order received\n",
      "Ground Truth Steps:\n",
      "Response Steps:\n",
      "  - [1] Receive special order request\n",
      "  - [2] Create new order entry in system\n",
      "  - [3] Assign unique order number\n",
      "  - [4] Record initial order details\n",
      "Confidence: 0%\n",
      "Explanation: There are no corresponding steps in the ground truth for the response steps.\n",
      "\n",
      "Activity: Register order\n",
      "Ground Truth Steps:\n",
      "Response Steps:\n",
      "  - [1] Review order specifications\n",
      "  - [2] Verify customer information\n",
      "  - [3] Confirm product customisation requirements\n",
      "Confidence: 0%\n",
      "Explanation: There are no corresponding steps in the ground truth for the response steps.\n",
      "\n",
      "Activity: Check order details\n",
      "Ground Truth Steps:\n",
      "Response Steps:\n",
      "  - [1] Create production order\n",
      "  - [2] Allocate resources and materials\n",
      "  - [3] Produce custom product\n",
      "Confidence: 0%\n",
      "Explanation: There are no corresponding steps in the ground truth for the response steps.\n",
      "\n",
      "\n",
      "\n",
      "Analysis of Unmatched Ground Truth Steps:\n",
      "Analysis of Unmatched Response Steps:\n",
      "Activity: Special order received, Step: [1] Receive special order request\n",
      "Reason: There is no corresponding step in the ground truth.\n",
      "\n",
      "Activity: Special order received, Step: [2] Create new order entry in system\n",
      "Reason: There is no corresponding step in the ground truth.\n",
      "\n",
      "Activity: Special order received, Step: [3] Assign unique order number\n",
      "Reason: There is no corresponding step in the ground truth.\n",
      "\n",
      "Activity: Special order received, Step: [4] Record initial order details\n",
      "Reason: There is no corresponding step in the ground truth.\n",
      "\n",
      "Activity: Register order, Step: [1] Review order specifications\n",
      "Reason: There is no corresponding step in the ground truth.\n",
      "\n",
      "Granularity Issues Identified:\n",
      "Activity: Special order received\n",
      "Ground Truth Steps:\n",
      "Response Steps:\n",
      "  - [1] Receive special order request\n",
      "  - [2] Create new order entry in system\n",
      "  - [3] Assign unique order number\n",
      "  - [4] Record initial order details\n",
      "Explanation: There are no corresponding steps in the ground truth for the response steps.\n",
      "\n",
      "Activity: Register order\n",
      "Ground Truth Steps:\n",
      "Response Steps:\n",
      "  - [1] Review order specifications\n",
      "  - [2] Verify customer information\n",
      "  - [3] Confirm product customisation requirements\n",
      "Explanation: There are no corresponding steps in the ground truth for the response steps.\n",
      "\n",
      "Activity: Check order details\n",
      "Ground Truth Steps:\n",
      "Response Steps:\n",
      "  - [1] Create production order\n",
      "  - [2] Allocate resources and materials\n",
      "  - [3] Produce custom product\n",
      "Explanation: There are no corresponding steps in the ground truth for the response steps.\n",
      "\n",
      "Activity: Order checked\n",
      "Ground Truth Steps:\n",
      "Response Steps:\n",
      "  - [1] Generate order confirmation document\n",
      "  - [2] Review order details with customer\n",
      "Explanation: There are no corresponding steps in the ground truth for the response steps.\n",
      "\n",
      "Activity: Parallel Split\n",
      "Ground Truth Steps:\n",
      "Response Steps:\n",
      "  - [1] Receive change request\n",
      "  - [2] Assess impact on current order\n",
      "  - [3] Communicate changes and implications to relevant departments\n",
      "  - [4] Update order details with approved changes\n",
      "Explanation: There are no matching steps in the ground truth for the response steps.\n",
      "\n"
     ]
    },
    {
     "name": "stderr",
     "output_type": "stream",
     "text": [
      "2024-09-26 14:35:44,254 - INFO - HTTP Request: POST https://datascience-openai-local.openai.azure.com//openai/deployments/gpt-35-turbo-16k/chat/completions?api-version=2024-05-01-preview \"HTTP/1.1 200 OK\"\n"
     ]
    },
    {
     "name": "stdout",
     "output_type": "stream",
     "text": [
      "Comparing activity 1...\n"
     ]
    },
    {
     "name": "stderr",
     "output_type": "stream",
     "text": [
      "2024-09-26 14:35:47,090 - INFO - HTTP Request: POST https://datascience-openai-local.openai.azure.com//openai/deployments/gpt-35-turbo-16k/chat/completions?api-version=2024-05-01-preview \"HTTP/1.1 200 OK\"\n"
     ]
    },
    {
     "name": "stdout",
     "output_type": "stream",
     "text": [
      "Comparing activity 2...\n"
     ]
    },
    {
     "name": "stderr",
     "output_type": "stream",
     "text": [
      "2024-09-26 14:35:51,319 - INFO - HTTP Request: POST https://datascience-openai-local.openai.azure.com//openai/deployments/gpt-35-turbo-16k/chat/completions?api-version=2024-05-01-preview \"HTTP/1.1 200 OK\"\n"
     ]
    },
    {
     "name": "stdout",
     "output_type": "stream",
     "text": [
      "Comparing activity 3...\n"
     ]
    },
    {
     "name": "stderr",
     "output_type": "stream",
     "text": [
      "2024-09-26 14:35:54,453 - INFO - HTTP Request: POST https://datascience-openai-local.openai.azure.com//openai/deployments/gpt-35-turbo-16k/chat/completions?api-version=2024-05-01-preview \"HTTP/1.1 200 OK\"\n"
     ]
    },
    {
     "name": "stdout",
     "output_type": "stream",
     "text": [
      "Comparing activity 4...\n"
     ]
    },
    {
     "name": "stderr",
     "output_type": "stream",
     "text": [
      "2024-09-26 14:35:57,975 - INFO - HTTP Request: POST https://datascience-openai-local.openai.azure.com//openai/deployments/gpt-35-turbo-16k/chat/completions?api-version=2024-05-01-preview \"HTTP/1.1 200 OK\"\n"
     ]
    },
    {
     "name": "stdout",
     "output_type": "stream",
     "text": [
      "Comparing activity 5...\n"
     ]
    },
    {
     "name": "stderr",
     "output_type": "stream",
     "text": [
      "2024-09-26 14:36:01,243 - INFO - HTTP Request: POST https://datascience-openai-local.openai.azure.com//openai/deployments/gpt-35-turbo-16k/chat/completions?api-version=2024-05-01-preview \"HTTP/1.1 200 OK\"\n"
     ]
    },
    {
     "name": "stdout",
     "output_type": "stream",
     "text": [
      "Comparing activity 6...\n"
     ]
    },
    {
     "name": "stderr",
     "output_type": "stream",
     "text": [
      "2024-09-26 14:36:05,904 - INFO - HTTP Request: POST https://datascience-openai-local.openai.azure.com//openai/deployments/gpt-35-turbo-16k/chat/completions?api-version=2024-05-01-preview \"HTTP/1.1 200 OK\"\n"
     ]
    },
    {
     "name": "stdout",
     "output_type": "stream",
     "text": [
      "Comparing activity 7...\n"
     ]
    },
    {
     "name": "stderr",
     "output_type": "stream",
     "text": [
      "2024-09-26 14:36:11,761 - INFO - HTTP Request: POST https://datascience-openai-local.openai.azure.com//openai/deployments/gpt-35-turbo-16k/chat/completions?api-version=2024-05-01-preview \"HTTP/1.1 200 OK\"\n"
     ]
    },
    {
     "name": "stdout",
     "output_type": "stream",
     "text": [
      "Comparing activity 8...\n"
     ]
    },
    {
     "name": "stderr",
     "output_type": "stream",
     "text": [
      "2024-09-26 14:36:15,024 - INFO - HTTP Request: POST https://datascience-openai-local.openai.azure.com//openai/deployments/gpt-35-turbo-16k/chat/completions?api-version=2024-05-01-preview \"HTTP/1.1 200 OK\"\n"
     ]
    },
    {
     "name": "stdout",
     "output_type": "stream",
     "text": [
      "Comparing activity 9...\n"
     ]
    },
    {
     "name": "stderr",
     "output_type": "stream",
     "text": [
      "2024-09-26 14:36:18,791 - INFO - HTTP Request: POST https://datascience-openai-local.openai.azure.com//openai/deployments/gpt-35-turbo-16k/chat/completions?api-version=2024-05-01-preview \"HTTP/1.1 200 OK\"\n"
     ]
    },
    {
     "name": "stdout",
     "output_type": "stream",
     "text": [
      "Comparing activity 10...\n"
     ]
    },
    {
     "name": "stderr",
     "output_type": "stream",
     "text": [
      "2024-09-26 14:36:26,037 - INFO - HTTP Request: POST https://datascience-openai-local.openai.azure.com//openai/deployments/gpt-35-turbo-16k/chat/completions?api-version=2024-05-01-preview \"HTTP/1.1 200 OK\"\n"
     ]
    },
    {
     "name": "stdout",
     "output_type": "stream",
     "text": [
      "Comparing activity 11...\n"
     ]
    },
    {
     "name": "stderr",
     "output_type": "stream",
     "text": [
      "2024-09-26 14:36:32,007 - INFO - HTTP Request: POST https://datascience-openai-local.openai.azure.com//openai/deployments/gpt-35-turbo-16k/chat/completions?api-version=2024-05-01-preview \"HTTP/1.1 200 OK\"\n"
     ]
    },
    {
     "name": "stdout",
     "output_type": "stream",
     "text": [
      "Comparing activity 12...\n"
     ]
    },
    {
     "name": "stderr",
     "output_type": "stream",
     "text": [
      "2024-09-26 14:36:34,873 - INFO - HTTP Request: POST https://datascience-openai-local.openai.azure.com//openai/deployments/gpt-35-turbo-16k/chat/completions?api-version=2024-05-01-preview \"HTTP/1.1 200 OK\"\n",
      "2024-09-26 14:36:34,877 - INFO - Successfully processed and saved results for customer_service/training_course with GPT-3.5-Activity-Breakdown-Subject_Matter_Expert_Detailed_Basic\n"
     ]
    },
    {
     "name": "stdout",
     "output_type": "stream",
     "text": [
      "Quantitative Metrics:\n",
      "=====================\n",
      "Total Activities Evaluated: 4\n",
      "Average Overall Similarity Score: 39.45%\n",
      "Average Confidence Score: 33.61%\n",
      "Average Sequence Alignment Score: 60.42%\n",
      "Ground Truth Steps Coverage: 78.05%\n",
      "Response Steps Coverage: 61.82%\n",
      "\n",
      "Match Type Distribution:\n",
      "- Granularity Difference: 6 matches (16.67%), Average Confidence: 83.33%\n",
      "- No Match: 22 matches (61.11%), Average Confidence: 0.00%\n",
      "- Functional Equivalence: 7 matches (19.44%), Average Confidence: 90.00%\n",
      "- Process Alternative: 1 matches (2.78%), Average Confidence: 80.00%\n",
      "\n",
      "\n",
      "Qualitative Analysis:\n",
      "=====================\n",
      "\n",
      "Examples of Matched Steps by Match Type:\n",
      "\n",
      "Match Type: Granularity Difference\n",
      "Activity: Review application and budget forms\n",
      "Ground Truth Steps:\n",
      "  - [1] Review application forms\n",
      "Response Steps:\n",
      "  - [1] Receive application and budget forms\n",
      "  - [2] Review application details\n",
      "Confidence: 80%\n",
      "Explanation: Ground truth step 1 corresponds to response steps 1 and 2. The response steps are more detailed and include receiving the forms.\n",
      "\n",
      "Activity: Room booking\n",
      "Ground Truth Steps:\n",
      "  - [3] Book the room\n",
      "Response Steps:\n",
      "  - [3] Reserve room for course dates\n",
      "  - [4] Confirm room booking\n",
      "Confidence: 80%\n",
      "Explanation: The ground truth step 'Book the room' is more granular than the response steps. It encompasses the actions of reserving the room for course dates and confirming the room booking.\n",
      "\n",
      "Activity: Registration website setup\n",
      "Ground Truth Steps:\n",
      "  - [1] Create registration form\n",
      "Response Steps:\n",
      "  - [2] Create registration form\n",
      "Confidence: 100%\n",
      "Explanation: Ground truth step 1 corresponds to response step 2.\n",
      "\n",
      "\n",
      "\n",
      "Match Type: No Match\n",
      "Activity: Review application and budget forms\n",
      "Ground Truth Steps:\n",
      "  - [2] Review budget forms\n",
      "Response Steps:\n",
      "  - [3] Examine budget information\n",
      "Confidence: 0%\n",
      "Explanation: There is no corresponding step in the response for reviewing budget forms.\n",
      "\n",
      "Activity: Set up account\n",
      "Ground Truth Steps:\n",
      "  - [2] Set up login credentials\n",
      "Response Steps:\n",
      "  - [2] Input course details\n",
      "Confidence: 0%\n",
      "Explanation: The ground truth step 'Set up login credentials' and the response step 'Input course details' do not correspond to each other in any meaningful way.\n",
      "\n",
      "Activity: Registration website setup\n",
      "Ground Truth Steps:\n",
      "  - [3] Configure registration settings\n",
      "Response Steps:\n",
      "Confidence: 0%\n",
      "Explanation: Ground truth step 3 has no corresponding step in the response.\n",
      "\n",
      "\n",
      "\n",
      "Match Type: Functional Equivalence\n",
      "Activity: Room booking\n",
      "Ground Truth Steps:\n",
      "  - [1] Search for available rooms\n",
      "Response Steps:\n",
      "  - [1] Check available rooms\n",
      "Confidence: 90%\n",
      "Explanation: The ground truth step 'Search for available rooms' and the response step 'Check available rooms' describe the same action of finding available rooms, but use different wording.\n",
      "\n",
      "Activity: Room booking\n",
      "Ground Truth Steps:\n",
      "  - [2] Select desired room\n",
      "Response Steps:\n",
      "  - [2] Select appropriate room\n",
      "Confidence: 90%\n",
      "Explanation: The ground truth step 'Select desired room' and the response step 'Select appropriate room' describe the same action of choosing a room, but use different wording.\n",
      "\n",
      "Activity: Set up account\n",
      "Ground Truth Steps:\n",
      "  - [1] Create user account\n",
      "Response Steps:\n",
      "  - [1] Create new account in system\n",
      "Confidence: 95%\n",
      "Explanation: The ground truth step 'Create user account' and the response step 'Create new account in system' describe the same action of creating an account, but use slightly different wording.\n",
      "\n",
      "\n",
      "\n",
      "Match Type: Process Alternative\n",
      "Activity: Promote course\n",
      "Ground Truth Steps:\n",
      "  - [2] Publish course on various platforms\n",
      "Response Steps:\n",
      "  - [3] Distribute promotional content\n",
      "Confidence: 80%\n",
      "Explanation: The steps represent different methods/approaches to achieve a similar goal of promoting the course.\n",
      "\n",
      "\n",
      "\n",
      "Analysis of Unmatched Ground Truth Steps:\n",
      "Activity: Handle payments, Step: [1] Receive payment from participants\n",
      "Reason: There is no corresponding step in the response activity.\n",
      "\n",
      "Activity: Handle payments, Step: [2] Verify payment details\n",
      "Reason: There is no corresponding step in the response activity.\n",
      "\n",
      "Activity: Handle payments, Step: [3] Update payment records\n",
      "Reason: There is no corresponding step in the response activity.\n",
      "\n",
      "Activity: Set up Blackboard website for students, Step: [1] Create Blackboard course shell\n",
      "Reason: There is no corresponding step in the response activity.\n",
      "\n",
      "Activity: Set up Blackboard website for students, Step: [2] Upload course materials\n",
      "Reason: There is no corresponding step in the response activity.\n",
      "\n",
      "Analysis of Unmatched Response Steps:\n",
      "Activity: Review application and budget forms, Step: [3] Examine budget information\n",
      "Reason: There is no corresponding step in the ground truth for examining budget information.\n",
      "\n",
      "Activity: Set up account, Step: [3] Assign account permissions\n",
      "Reason: There is no corresponding ground truth step for the response step 'Assign account permissions'.\n",
      "\n",
      "Activity: Set up course website, Step: [4] Publish website\n",
      "Reason: There is no corresponding step in the ground truth for publishing the website.\n",
      "\n",
      "Activity: Registration website setup, Step: [1] Create registration website\n",
      "Reason: No corresponding step in the ground truth\n",
      "\n",
      "Activity: Promote course, Step: [2] Identify target audience\n",
      "Reason: There is no corresponding step in the ground truth for identifying the target audience.\n",
      "\n",
      "Granularity Issues Identified:\n",
      "Activity: Review application and budget forms\n",
      "Ground Truth Steps:\n",
      "  - [1] Review application forms\n",
      "Response Steps:\n",
      "  - [1] Receive application and budget forms\n",
      "  - [2] Review application details\n",
      "Explanation: Ground truth step 1 corresponds to response steps 1 and 2. The response steps are more detailed and include receiving the forms.\n",
      "\n",
      "Activity: Room booking\n",
      "Ground Truth Steps:\n",
      "  - [3] Book the room\n",
      "Response Steps:\n",
      "  - [3] Reserve room for course dates\n",
      "  - [4] Confirm room booking\n",
      "Explanation: The ground truth step 'Book the room' is more granular than the response steps. It encompasses the actions of reserving the room for course dates and confirming the room booking.\n",
      "\n",
      "Activity: Registration website setup\n",
      "Ground Truth Steps:\n",
      "  - [3] Configure registration settings\n",
      "Response Steps:\n",
      "Explanation: Ground truth step 3 has no corresponding step in the response.\n",
      "\n",
      "Activity: Handle payments\n",
      "Ground Truth Steps:\n",
      "  - [1] Receive payment from participants\n",
      "Response Steps:\n",
      "Explanation: There is no corresponding step in the response activity.\n",
      "\n",
      "Activity: Handle payments\n",
      "Ground Truth Steps:\n",
      "  - [2] Verify payment details\n",
      "Response Steps:\n",
      "Explanation: There is no corresponding step in the response activity.\n",
      "\n"
     ]
    },
    {
     "name": "stderr",
     "output_type": "stream",
     "text": [
      "2024-09-26 14:36:35,134 - INFO - Processing sector: government, activity: fine_management\n",
      "2024-09-26 14:36:43,932 - INFO - HTTP Request: POST https://datascience-openai-local.openai.azure.com//openai/deployments/gpt-35-turbo-16k/chat/completions?api-version=2024-05-01-preview \"HTTP/1.1 200 OK\"\n"
     ]
    },
    {
     "name": "stdout",
     "output_type": "stream",
     "text": [
      "Comparing activity 1...\n"
     ]
    },
    {
     "name": "stderr",
     "output_type": "stream",
     "text": [
      "2024-09-26 14:36:46,616 - INFO - HTTP Request: POST https://datascience-openai-local.openai.azure.com//openai/deployments/gpt-35-turbo-16k/chat/completions?api-version=2024-05-01-preview \"HTTP/1.1 200 OK\"\n"
     ]
    },
    {
     "name": "stdout",
     "output_type": "stream",
     "text": [
      "Comparing activity 2...\n"
     ]
    },
    {
     "name": "stderr",
     "output_type": "stream",
     "text": [
      "2024-09-26 14:36:49,979 - INFO - HTTP Request: POST https://datascience-openai-local.openai.azure.com//openai/deployments/gpt-35-turbo-16k/chat/completions?api-version=2024-05-01-preview \"HTTP/1.1 200 OK\"\n"
     ]
    },
    {
     "name": "stdout",
     "output_type": "stream",
     "text": [
      "Comparing activity 3...\n"
     ]
    },
    {
     "name": "stderr",
     "output_type": "stream",
     "text": [
      "2024-09-26 14:36:53,087 - INFO - HTTP Request: POST https://datascience-openai-local.openai.azure.com//openai/deployments/gpt-35-turbo-16k/chat/completions?api-version=2024-05-01-preview \"HTTP/1.1 200 OK\"\n"
     ]
    },
    {
     "name": "stdout",
     "output_type": "stream",
     "text": [
      "Comparing activity 4...\n"
     ]
    },
    {
     "name": "stderr",
     "output_type": "stream",
     "text": [
      "2024-09-26 14:36:55,086 - INFO - HTTP Request: POST https://datascience-openai-local.openai.azure.com//openai/deployments/gpt-35-turbo-16k/chat/completions?api-version=2024-05-01-preview \"HTTP/1.1 200 OK\"\n"
     ]
    },
    {
     "name": "stdout",
     "output_type": "stream",
     "text": [
      "Comparing activity 5...\n"
     ]
    },
    {
     "name": "stderr",
     "output_type": "stream",
     "text": [
      "2024-09-26 14:36:58,124 - INFO - HTTP Request: POST https://datascience-openai-local.openai.azure.com//openai/deployments/gpt-35-turbo-16k/chat/completions?api-version=2024-05-01-preview \"HTTP/1.1 200 OK\"\n"
     ]
    },
    {
     "name": "stdout",
     "output_type": "stream",
     "text": [
      "Comparing activity 6...\n"
     ]
    },
    {
     "name": "stderr",
     "output_type": "stream",
     "text": [
      "2024-09-26 14:37:02,039 - INFO - HTTP Request: POST https://datascience-openai-local.openai.azure.com//openai/deployments/gpt-35-turbo-16k/chat/completions?api-version=2024-05-01-preview \"HTTP/1.1 200 OK\"\n"
     ]
    },
    {
     "name": "stdout",
     "output_type": "stream",
     "text": [
      "Comparing activity 7...\n"
     ]
    },
    {
     "name": "stderr",
     "output_type": "stream",
     "text": [
      "2024-09-26 14:37:05,475 - INFO - HTTP Request: POST https://datascience-openai-local.openai.azure.com//openai/deployments/gpt-35-turbo-16k/chat/completions?api-version=2024-05-01-preview \"HTTP/1.1 200 OK\"\n"
     ]
    },
    {
     "name": "stdout",
     "output_type": "stream",
     "text": [
      "Comparing activity 8...\n"
     ]
    },
    {
     "name": "stderr",
     "output_type": "stream",
     "text": [
      "2024-09-26 14:37:08,543 - INFO - HTTP Request: POST https://datascience-openai-local.openai.azure.com//openai/deployments/gpt-35-turbo-16k/chat/completions?api-version=2024-05-01-preview \"HTTP/1.1 200 OK\"\n"
     ]
    },
    {
     "name": "stdout",
     "output_type": "stream",
     "text": [
      "Comparing activity 9...\n"
     ]
    },
    {
     "name": "stderr",
     "output_type": "stream",
     "text": [
      "2024-09-26 14:37:13,133 - INFO - HTTP Request: POST https://datascience-openai-local.openai.azure.com//openai/deployments/gpt-35-turbo-16k/chat/completions?api-version=2024-05-01-preview \"HTTP/1.1 200 OK\"\n"
     ]
    },
    {
     "name": "stdout",
     "output_type": "stream",
     "text": [
      "Comparing activity 10...\n"
     ]
    },
    {
     "name": "stderr",
     "output_type": "stream",
     "text": [
      "2024-09-26 14:37:16,112 - INFO - HTTP Request: POST https://datascience-openai-local.openai.azure.com//openai/deployments/gpt-35-turbo-16k/chat/completions?api-version=2024-05-01-preview \"HTTP/1.1 200 OK\"\n"
     ]
    },
    {
     "name": "stdout",
     "output_type": "stream",
     "text": [
      "Comparing activity 11...\n"
     ]
    },
    {
     "name": "stderr",
     "output_type": "stream",
     "text": [
      "2024-09-26 14:37:21,073 - INFO - HTTP Request: POST https://datascience-openai-local.openai.azure.com//openai/deployments/gpt-35-turbo-16k/chat/completions?api-version=2024-05-01-preview \"HTTP/1.1 200 OK\"\n"
     ]
    },
    {
     "name": "stdout",
     "output_type": "stream",
     "text": [
      "Comparing activity 12...\n"
     ]
    },
    {
     "name": "stderr",
     "output_type": "stream",
     "text": [
      "2024-09-26 14:37:24,592 - INFO - HTTP Request: POST https://datascience-openai-local.openai.azure.com//openai/deployments/gpt-35-turbo-16k/chat/completions?api-version=2024-05-01-preview \"HTTP/1.1 200 OK\"\n",
      "2024-09-26 14:37:24,596 - INFO - Successfully processed and saved results for government/fine_management with GPT-3.5-Activity-Breakdown-Subject_Matter_Expert_Detailed_Basic\n",
      "2024-09-26 14:37:24,597 - INFO - Processing sector: government, activity: rental_process\n"
     ]
    },
    {
     "name": "stdout",
     "output_type": "stream",
     "text": [
      "Quantitative Metrics:\n",
      "=====================\n",
      "Total Activities Evaluated: 2\n",
      "Average Overall Similarity Score: 23.33%\n",
      "Average Confidence Score: 24.62%\n",
      "Average Sequence Alignment Score: 55.56%\n",
      "Ground Truth Steps Coverage: 61.90%\n",
      "Response Steps Coverage: 48.33%\n",
      "\n",
      "Match Type Distribution:\n",
      "- Functional Equivalence: 4 matches (30.77%), Average Confidence: 80.00%\n",
      "- No Match: 9 matches (69.23%), Average Confidence: 0.00%\n",
      "\n",
      "\n",
      "Qualitative Analysis:\n",
      "=====================\n",
      "\n",
      "Examples of Matched Steps by Match Type:\n",
      "\n",
      "Match Type: Functional Equivalence\n",
      "Activity: Create Fine\n",
      "Ground Truth Steps:\n",
      "  - [1] Initiate process\n",
      "Response Steps:\n",
      "  - [1] Record details of the offense\n",
      "Confidence: 80%\n",
      "Explanation: The ground truth step 'Initiate process' is functionally equivalent to the response step 'Record details of the offense'. Although the wording is different, both steps involve starting the process by gathering information about the offense.\n",
      "\n",
      "Activity: Payment\n",
      "Ground Truth Steps:\n",
      "  - [1] Process payment\n",
      "Response Steps:\n",
      "  - [1] Update system with fine notification details\n",
      "Confidence: 80%\n",
      "Explanation: The response step 'Update system with fine notification details' is functionally equivalent to the ground truth step 'Process payment'. Although the wording is different, both steps involve updating the system with payment-related information.\n",
      "\n",
      "Activity: Insert Fine Notification\n",
      "Ground Truth Steps:\n",
      "  - [1] Record fine notification\n",
      "Response Steps:\n",
      "  - [1] Prepare case for credit collection\n",
      "Confidence: 80%\n",
      "Explanation: The ground truth step 'Record fine notification' and the response step 'Prepare case for credit collection' describe the same action of initiating the process for credit collection, but with different wording.\n",
      "\n",
      "\n",
      "\n",
      "Match Type: No Match\n",
      "Activity: Create Fine\n",
      "Ground Truth Steps:\n",
      "  - [1] Generate fine record\n",
      "Response Steps:\n",
      "  - [1] Receive payment\n",
      "  - [2] Record payment in system\n",
      "  - [3] Issue payment receipt\n",
      "Confidence: 0%\n",
      "Explanation: There is no meaningful correspondence between 'Generate fine record' and the response steps.\n",
      "\n",
      "Activity: Payment Received?\n",
      "Ground Truth Steps:\n",
      "  - [1] Check if payment received\n",
      "Response Steps:\n",
      "  - [1] Prepare fine notification\n",
      "  - [2] Send notification to offender\n",
      "  - [3] Record notification sent in system\n",
      "Confidence: 0%\n",
      "Explanation: There is no meaningful correspondence between 'Check if payment received' and the response steps.\n",
      "\n",
      "Activity: Send Fine\n",
      "Ground Truth Steps:\n",
      "  - [1] Send fine notification\n",
      "Response Steps:\n",
      "  - [1] Calculate penalty amount\n",
      "  - [2] Add penalty to original fine\n",
      "  - [3] Update fine record in system\n",
      "Confidence: 0%\n",
      "Explanation: There is no corresponding step in the response activity for the ground truth step 'Send fine notification'.\n",
      "\n",
      "\n",
      "\n",
      "Analysis of Unmatched Ground Truth Steps:\n",
      "Activity: Create Fine, Step: [1] Generate fine record\n",
      "Reason: There is no corresponding step in the response.\n",
      "\n",
      "Activity: Payment Received?, Step: [1] Check if payment received\n",
      "Reason: There is no corresponding step in the response.\n",
      "\n",
      "Activity: Send Fine, Step: [1] Send fine notification\n",
      "Reason: There is no corresponding step in the response activity.\n",
      "\n",
      "Activity: Payment Received?, Step: [1] Check if payment received\n",
      "Reason: There is no corresponding step in the response activity.\n",
      "\n",
      "Activity: Add penalty, Step: [1] Apply penalty to fine\n",
      "Reason: There is no corresponding step in the response activity.\n",
      "\n",
      "Analysis of Unmatched Response Steps:\n",
      "Activity: Create Fine, Step: [2] Determine fine amount\n",
      "Reason: There is no corresponding ground truth step for 'Determine fine amount'. This step is not directly related to the 'Initiate process' step in the ground truth.\n",
      "\n",
      "Activity: Create Fine, Step: [3] Generate fine document\n",
      "Reason: There is no corresponding ground truth step for 'Generate fine document'. This step is not directly related to the 'Initiate process' step in the ground truth.\n",
      "\n",
      "Activity: Create Fine, Step: [1] Receive payment\n",
      "Reason: There is no corresponding step in the ground truth.\n",
      "\n",
      "Activity: Create Fine, Step: [2] Record payment in system\n",
      "Reason: There is no corresponding step in the ground truth.\n",
      "\n",
      "Activity: Create Fine, Step: [3] Issue payment receipt\n",
      "Reason: There is no corresponding step in the ground truth.\n",
      "\n",
      "Granularity Issues Identified:\n",
      "Activity: Create Fine\n",
      "Ground Truth Steps:\n",
      "  - [1] Generate fine record\n",
      "Response Steps:\n",
      "  - [1] Receive payment\n",
      "  - [2] Record payment in system\n",
      "  - [3] Issue payment receipt\n",
      "Explanation: There is no meaningful correspondence between 'Generate fine record' and the response steps.\n",
      "\n",
      "Activity: Payment Received?\n",
      "Ground Truth Steps:\n",
      "  - [1] Check if payment received\n",
      "Response Steps:\n",
      "  - [1] Prepare fine notification\n",
      "  - [2] Send notification to offender\n",
      "  - [3] Record notification sent in system\n",
      "Explanation: There is no meaningful correspondence between 'Check if payment received' and the response steps.\n",
      "\n",
      "Activity: Send Fine\n",
      "Ground Truth Steps:\n",
      "  - [1] Send fine notification\n",
      "Response Steps:\n",
      "  - [1] Calculate penalty amount\n",
      "  - [2] Add penalty to original fine\n",
      "  - [3] Update fine record in system\n",
      "Explanation: There is no corresponding step in the response activity for the ground truth step 'Send fine notification'.\n",
      "\n",
      "Activity: Payment Received?\n",
      "Ground Truth Steps:\n",
      "  - [1] Check if payment received\n",
      "Response Steps:\n",
      "  - [1] Prepare appeal documents\n",
      "  - [2] Submit appeal to prefecture\n",
      "  - [3] Record appeal submission in system\n",
      "Explanation: There is no meaningful match between 'Check if payment received' and the response steps.\n",
      "\n",
      "Activity: Payment Received?\n",
      "Ground Truth Steps:\n",
      "  - [1] Check if payment received\n",
      "Response Steps:\n",
      "  - [1] Prepare notification of appeal result\n",
      "  - [2] Send notification to offender\n",
      "  - [3] Record notification sent in system\n",
      "Explanation: There is no meaningful correspondence between 'Check if payment received' and the response steps.\n",
      "\n"
     ]
    },
    {
     "name": "stderr",
     "output_type": "stream",
     "text": [
      "2024-09-26 14:37:30,422 - INFO - HTTP Request: POST https://datascience-openai-local.openai.azure.com//openai/deployments/gpt-35-turbo-16k/chat/completions?api-version=2024-05-01-preview \"HTTP/1.1 200 OK\"\n"
     ]
    },
    {
     "name": "stdout",
     "output_type": "stream",
     "text": [
      "Comparing activity 1...\n"
     ]
    },
    {
     "name": "stderr",
     "output_type": "stream",
     "text": [
      "2024-09-26 14:37:33,594 - INFO - HTTP Request: POST https://datascience-openai-local.openai.azure.com//openai/deployments/gpt-35-turbo-16k/chat/completions?api-version=2024-05-01-preview \"HTTP/1.1 200 OK\"\n"
     ]
    },
    {
     "name": "stdout",
     "output_type": "stream",
     "text": [
      "Comparing activity 2...\n"
     ]
    },
    {
     "name": "stderr",
     "output_type": "stream",
     "text": [
      "2024-09-26 14:37:35,360 - INFO - HTTP Request: POST https://datascience-openai-local.openai.azure.com//openai/deployments/gpt-35-turbo-16k/chat/completions?api-version=2024-05-01-preview \"HTTP/1.1 200 OK\"\n"
     ]
    },
    {
     "name": "stdout",
     "output_type": "stream",
     "text": [
      "Comparing activity 3...\n"
     ]
    },
    {
     "name": "stderr",
     "output_type": "stream",
     "text": [
      "2024-09-26 14:37:39,361 - INFO - HTTP Request: POST https://datascience-openai-local.openai.azure.com//openai/deployments/gpt-35-turbo-16k/chat/completions?api-version=2024-05-01-preview \"HTTP/1.1 200 OK\"\n"
     ]
    },
    {
     "name": "stdout",
     "output_type": "stream",
     "text": [
      "Comparing activity 4...\n"
     ]
    },
    {
     "name": "stderr",
     "output_type": "stream",
     "text": [
      "2024-09-26 14:37:42,483 - INFO - HTTP Request: POST https://datascience-openai-local.openai.azure.com//openai/deployments/gpt-35-turbo-16k/chat/completions?api-version=2024-05-01-preview \"HTTP/1.1 200 OK\"\n"
     ]
    },
    {
     "name": "stdout",
     "output_type": "stream",
     "text": [
      "Comparing activity 5...\n"
     ]
    },
    {
     "name": "stderr",
     "output_type": "stream",
     "text": [
      "2024-09-26 14:37:46,159 - INFO - HTTP Request: POST https://datascience-openai-local.openai.azure.com//openai/deployments/gpt-35-turbo-16k/chat/completions?api-version=2024-05-01-preview \"HTTP/1.1 200 OK\"\n"
     ]
    },
    {
     "name": "stdout",
     "output_type": "stream",
     "text": [
      "Comparing activity 6...\n"
     ]
    },
    {
     "name": "stderr",
     "output_type": "stream",
     "text": [
      "2024-09-26 14:37:48,674 - INFO - HTTP Request: POST https://datascience-openai-local.openai.azure.com//openai/deployments/gpt-35-turbo-16k/chat/completions?api-version=2024-05-01-preview \"HTTP/1.1 200 OK\"\n"
     ]
    },
    {
     "name": "stdout",
     "output_type": "stream",
     "text": [
      "Comparing activity 7...\n"
     ]
    },
    {
     "name": "stderr",
     "output_type": "stream",
     "text": [
      "2024-09-26 14:37:50,604 - INFO - HTTP Request: POST https://datascience-openai-local.openai.azure.com//openai/deployments/gpt-35-turbo-16k/chat/completions?api-version=2024-05-01-preview \"HTTP/1.1 200 OK\"\n"
     ]
    },
    {
     "name": "stdout",
     "output_type": "stream",
     "text": [
      "Comparing activity 8...\n"
     ]
    },
    {
     "name": "stderr",
     "output_type": "stream",
     "text": [
      "2024-09-26 14:37:53,636 - INFO - HTTP Request: POST https://datascience-openai-local.openai.azure.com//openai/deployments/gpt-35-turbo-16k/chat/completions?api-version=2024-05-01-preview \"HTTP/1.1 200 OK\"\n"
     ]
    },
    {
     "name": "stdout",
     "output_type": "stream",
     "text": [
      "Comparing activity 9...\n"
     ]
    },
    {
     "name": "stderr",
     "output_type": "stream",
     "text": [
      "2024-09-26 14:37:56,606 - INFO - HTTP Request: POST https://datascience-openai-local.openai.azure.com//openai/deployments/gpt-35-turbo-16k/chat/completions?api-version=2024-05-01-preview \"HTTP/1.1 200 OK\"\n"
     ]
    },
    {
     "name": "stdout",
     "output_type": "stream",
     "text": [
      "Comparing activity 10...\n"
     ]
    },
    {
     "name": "stderr",
     "output_type": "stream",
     "text": [
      "2024-09-26 14:37:58,763 - INFO - HTTP Request: POST https://datascience-openai-local.openai.azure.com//openai/deployments/gpt-35-turbo-16k/chat/completions?api-version=2024-05-01-preview \"HTTP/1.1 200 OK\"\n"
     ]
    },
    {
     "name": "stdout",
     "output_type": "stream",
     "text": [
      "Comparing activity 11...\n"
     ]
    },
    {
     "name": "stderr",
     "output_type": "stream",
     "text": [
      "2024-09-26 14:38:01,312 - INFO - HTTP Request: POST https://datascience-openai-local.openai.azure.com//openai/deployments/gpt-35-turbo-16k/chat/completions?api-version=2024-05-01-preview \"HTTP/1.1 200 OK\"\n"
     ]
    },
    {
     "name": "stdout",
     "output_type": "stream",
     "text": [
      "Comparing activity 12...\n"
     ]
    },
    {
     "name": "stderr",
     "output_type": "stream",
     "text": [
      "2024-09-26 14:38:04,914 - INFO - HTTP Request: POST https://datascience-openai-local.openai.azure.com//openai/deployments/gpt-35-turbo-16k/chat/completions?api-version=2024-05-01-preview \"HTTP/1.1 200 OK\"\n"
     ]
    },
    {
     "name": "stdout",
     "output_type": "stream",
     "text": [
      "Comparing activity 13...\n"
     ]
    },
    {
     "name": "stderr",
     "output_type": "stream",
     "text": [
      "2024-09-26 14:38:08,495 - INFO - HTTP Request: POST https://datascience-openai-local.openai.azure.com//openai/deployments/gpt-35-turbo-16k/chat/completions?api-version=2024-05-01-preview \"HTTP/1.1 200 OK\"\n"
     ]
    },
    {
     "name": "stdout",
     "output_type": "stream",
     "text": [
      "Comparing activity 14...\n"
     ]
    },
    {
     "name": "stderr",
     "output_type": "stream",
     "text": [
      "2024-09-26 14:38:11,763 - INFO - HTTP Request: POST https://datascience-openai-local.openai.azure.com//openai/deployments/gpt-35-turbo-16k/chat/completions?api-version=2024-05-01-preview \"HTTP/1.1 200 OK\"\n"
     ]
    },
    {
     "name": "stdout",
     "output_type": "stream",
     "text": [
      "Comparing activity 15...\n"
     ]
    },
    {
     "name": "stderr",
     "output_type": "stream",
     "text": [
      "2024-09-26 14:38:14,114 - INFO - HTTP Request: POST https://datascience-openai-local.openai.azure.com//openai/deployments/gpt-35-turbo-16k/chat/completions?api-version=2024-05-01-preview \"HTTP/1.1 200 OK\"\n",
      "2024-09-26 14:38:14,118 - INFO - Successfully processed and saved results for government/rental_process with GPT-3.5-Activity-Breakdown-Subject_Matter_Expert_Detailed_Basic\n"
     ]
    },
    {
     "name": "stdout",
     "output_type": "stream",
     "text": [
      "Quantitative Metrics:\n",
      "=====================\n",
      "Total Activities Evaluated: 3\n",
      "Average Overall Similarity Score: 45.80%\n",
      "Average Confidence Score: 40.83%\n",
      "Average Sequence Alignment Score: 63.89%\n",
      "Ground Truth Steps Coverage: 87.50%\n",
      "Response Steps Coverage: 66.67%\n",
      "\n",
      "Match Type Distribution:\n",
      "- Functional Equivalence: 6 matches (25.00%), Average Confidence: 83.33%\n",
      "- No Match: 12 matches (50.00%), Average Confidence: 0.00%\n",
      "- Granularity Difference: 6 matches (25.00%), Average Confidence: 80.00%\n",
      "\n",
      "\n",
      "Qualitative Analysis:\n",
      "=====================\n",
      "\n",
      "Examples of Matched Steps by Match Type:\n",
      "\n",
      "Match Type: Functional Equivalence\n",
      "Activity: Apply for Viewing Appointment\n",
      "Ground Truth Steps:\n",
      "  - [1] Submit application form\n",
      "Response Steps:\n",
      "  - [1] Prospective tenant submits application for viewing\n",
      "Confidence: 90%\n",
      "Explanation: The core function of both steps is to submit an application form, although the wording differs slightly.\n",
      "\n",
      "Activity: Apply for Viewing Appointment\n",
      "Ground Truth Steps:\n",
      "  - [3] Wait for application acceptance\n",
      "Response Steps:\n",
      "  - [3] Initial review of application\n",
      "Confidence: 80%\n",
      "Explanation: Both steps involve the application being reviewed, although the specific action differs slightly.\n",
      "\n",
      "Activity: Check Paperwork\n",
      "Ground Truth Steps:\n",
      "  - [1] Review submitted paperwork\n",
      "Response Steps:\n",
      "  - [1] Review submitted documents for completeness\n",
      "Confidence: 95%\n",
      "Explanation: The response step 'Review submitted documents for completeness' is functionally equivalent to the ground truth step 'Review submitted paperwork'. The core function of reviewing the submitted paperwork is the same, but the response step provides more specific information about reviewing for completeness.\n",
      "\n",
      "\n",
      "\n",
      "Match Type: No Match\n",
      "Activity: Apply for Viewing Appointment\n",
      "Ground Truth Steps:\n",
      "  - [2] Provide required documents\n",
      "Response Steps:\n",
      "  - [2] Landlord/agent receives application\n",
      "Confidence: 0%\n",
      "Explanation: There is no clear correspondence between providing required documents and the landlord/agent receiving the application.\n",
      "\n",
      "Activity: Reject Prospective Tenant\n",
      "Ground Truth Steps:\n",
      "Response Steps:\n",
      "  - [3] Update application status in system\n",
      "Confidence: 0%\n",
      "Explanation: There is no corresponding step in the ground truth for response step 3.\n",
      "\n",
      "Activity: Check Paperwork\n",
      "Ground Truth Steps:\n",
      "Response Steps:\n",
      "  - [2] Verify information provided\n",
      "  - [3] Flag any discrepancies or missing information\n",
      "Confidence: 0%\n",
      "Explanation: There are no ground truth steps that correspond to the response steps 'Verify information provided' and 'Flag any discrepancies or missing information'. These response steps do not have a meaningful match in the ground truth.\n",
      "\n",
      "\n",
      "\n",
      "Match Type: Granularity Difference\n",
      "Activity: Set Appointment\n",
      "Ground Truth Steps:\n",
      "  - [1] Schedule viewing appointment\n",
      "Response Steps:\n",
      "  - [1] Check available time slots\n",
      "  - [2] Propose viewing time to prospective tenant\n",
      "  - [3] Confirm appointment\n",
      "Confidence: 80%\n",
      "Explanation: Ground truth step 1 corresponds to response steps 1, 2, and 3. The response steps provide a more detailed breakdown of the scheduling process.\n",
      "\n",
      "Activity: Reject Prospective Tenant\n",
      "Ground Truth Steps:\n",
      "  - [1] Notify applicant of rejection\n",
      "Response Steps:\n",
      "  - [1] Prepare rejection notification\n",
      "  - [2] Send notification to prospective tenant\n",
      "Confidence: 90%\n",
      "Explanation: Ground truth step 1 corresponds to response steps 1 and 2.\n",
      "\n",
      "Activity: View The Property\n",
      "Ground Truth Steps:\n",
      "  - [1] Visit the property for viewing\n",
      "Response Steps:\n",
      "  - [1] Landlord/agent prepares property for viewing\n",
      "  - [2] Conduct property tour with prospective tenant\n",
      "  - [3] Answer questions about the property\n",
      "Confidence: 80%\n",
      "Explanation: Ground truth step 1 corresponds to response steps 1, 2, and 3. The ground truth step is more general, while the response steps provide more specific details about the process of viewing the property.\n",
      "\n",
      "\n",
      "\n",
      "Analysis of Unmatched Ground Truth Steps:\n",
      "Activity: Pay Rent, Step: [1] Submit rent payment\n",
      "Reason: No corresponding match in the response steps\n",
      "\n",
      "Activity: Accept Late Payment, Step: [1] Receive and process late rent payment\n",
      "Reason: No corresponding step in the response activity\n",
      "\n",
      "Activity: Evict Tenant, Step: [1] Initiate eviction process\n",
      "Reason: There is no corresponding step in the response activity.\n",
      "\n",
      "Analysis of Unmatched Response Steps:\n",
      "Activity: Sign Contract, Step: [3] Request additional information if necessary\n",
      "Reason: There is no corresponding step in the ground truth activity.\n",
      "\n",
      "Activity: Sign Contract, Step: [4] Compile comprehensive screening report\n",
      "Reason: There is no corresponding step in the ground truth activity.\n",
      "\n",
      "Activity: Extensive Screening, Step: [3] Collect necessary signatures\n",
      "Reason: There is no corresponding ground truth step for 'Collect necessary signatures'.\n",
      "\n",
      "Activity: Extensive Screening, Step: [4] Provide copy of signed contract to tenant\n",
      "Reason: There is no corresponding ground truth step for 'Provide copy of signed contract to tenant'.\n",
      "\n",
      "Activity: Pay Rent, Step: [1] Send rent reminder to tenant\n",
      "Reason: No corresponding match in the ground truth steps\n",
      "\n",
      "Granularity Issues Identified:\n",
      "Activity: Set Appointment\n",
      "Ground Truth Steps:\n",
      "  - [1] Schedule viewing appointment\n",
      "Response Steps:\n",
      "  - [1] Check available time slots\n",
      "  - [2] Propose viewing time to prospective tenant\n",
      "  - [3] Confirm appointment\n",
      "Explanation: Ground truth step 1 corresponds to response steps 1, 2, and 3. The response steps provide a more detailed breakdown of the scheduling process.\n",
      "\n",
      "Activity: Reject Prospective Tenant\n",
      "Ground Truth Steps:\n",
      "  - [1] Notify applicant of rejection\n",
      "Response Steps:\n",
      "  - [1] Prepare rejection notification\n",
      "  - [2] Send notification to prospective tenant\n",
      "Explanation: Ground truth step 1 corresponds to response steps 1 and 2.\n",
      "\n",
      "Activity: Reject Prospective Tenant\n",
      "Ground Truth Steps:\n",
      "Response Steps:\n",
      "  - [3] Update application status in system\n",
      "Explanation: There is no corresponding step in the ground truth for response step 3.\n",
      "\n",
      "Activity: View The Property\n",
      "Ground Truth Steps:\n",
      "  - [1] Visit the property for viewing\n",
      "Response Steps:\n",
      "  - [1] Landlord/agent prepares property for viewing\n",
      "  - [2] Conduct property tour with prospective tenant\n",
      "  - [3] Answer questions about the property\n",
      "Explanation: Ground truth step 1 corresponds to response steps 1, 2, and 3. The ground truth step is more general, while the response steps provide more specific details about the process of viewing the property.\n",
      "\n",
      "Activity: Hand In The Paperwork\n",
      "Ground Truth Steps:\n",
      "  - [1] Submit completed paperwork\n",
      "Response Steps:\n",
      "  - [1] Provide necessary forms to prospective tenant\n",
      "  - [2] Prospective tenant completes required documents\n",
      "  - [3] Collect completed paperwork\n",
      "Explanation: Ground truth step 1 corresponds to response steps 1, 2, and 3. The response steps provide a more detailed breakdown of the process.\n",
      "\n"
     ]
    },
    {
     "name": "stderr",
     "output_type": "stream",
     "text": [
      "2024-09-26 14:38:14,356 - INFO - Processing sector: healthcare, activity: automated_prescription_fulfillment\n",
      "2024-09-26 14:38:17,657 - INFO - HTTP Request: POST https://datascience-openai-local.openai.azure.com//openai/deployments/gpt-35-turbo-16k/chat/completions?api-version=2024-05-01-preview \"HTTP/1.1 200 OK\"\n"
     ]
    },
    {
     "name": "stdout",
     "output_type": "stream",
     "text": [
      "Comparing activity 1...\n"
     ]
    },
    {
     "name": "stderr",
     "output_type": "stream",
     "text": [
      "2024-09-26 14:38:23,369 - INFO - HTTP Request: POST https://datascience-openai-local.openai.azure.com//openai/deployments/gpt-35-turbo-16k/chat/completions?api-version=2024-05-01-preview \"HTTP/1.1 200 OK\"\n"
     ]
    },
    {
     "name": "stdout",
     "output_type": "stream",
     "text": [
      "Comparing activity 2...\n"
     ]
    },
    {
     "name": "stderr",
     "output_type": "stream",
     "text": [
      "2024-09-26 14:38:29,198 - INFO - HTTP Request: POST https://datascience-openai-local.openai.azure.com//openai/deployments/gpt-35-turbo-16k/chat/completions?api-version=2024-05-01-preview \"HTTP/1.1 200 OK\"\n"
     ]
    },
    {
     "name": "stdout",
     "output_type": "stream",
     "text": [
      "Comparing activity 3...\n"
     ]
    },
    {
     "name": "stderr",
     "output_type": "stream",
     "text": [
      "2024-09-26 14:38:35,253 - INFO - HTTP Request: POST https://datascience-openai-local.openai.azure.com//openai/deployments/gpt-35-turbo-16k/chat/completions?api-version=2024-05-01-preview \"HTTP/1.1 200 OK\"\n"
     ]
    },
    {
     "name": "stdout",
     "output_type": "stream",
     "text": [
      "Comparing activity 4...\n"
     ]
    },
    {
     "name": "stderr",
     "output_type": "stream",
     "text": [
      "2024-09-26 14:38:38,638 - INFO - HTTP Request: POST https://datascience-openai-local.openai.azure.com//openai/deployments/gpt-35-turbo-16k/chat/completions?api-version=2024-05-01-preview \"HTTP/1.1 200 OK\"\n"
     ]
    },
    {
     "name": "stdout",
     "output_type": "stream",
     "text": [
      "Comparing activity 5...\n"
     ]
    },
    {
     "name": "stderr",
     "output_type": "stream",
     "text": [
      "2024-09-26 14:38:43,688 - INFO - HTTP Request: POST https://datascience-openai-local.openai.azure.com//openai/deployments/gpt-35-turbo-16k/chat/completions?api-version=2024-05-01-preview \"HTTP/1.1 200 OK\"\n"
     ]
    },
    {
     "name": "stdout",
     "output_type": "stream",
     "text": [
      "Comparing activity 6...\n"
     ]
    },
    {
     "name": "stderr",
     "output_type": "stream",
     "text": [
      "2024-09-26 14:38:47,889 - INFO - HTTP Request: POST https://datascience-openai-local.openai.azure.com//openai/deployments/gpt-35-turbo-16k/chat/completions?api-version=2024-05-01-preview \"HTTP/1.1 200 OK\"\n"
     ]
    },
    {
     "name": "stdout",
     "output_type": "stream",
     "text": [
      "Comparing activity 7...\n"
     ]
    },
    {
     "name": "stderr",
     "output_type": "stream",
     "text": [
      "2024-09-26 14:38:50,584 - INFO - HTTP Request: POST https://datascience-openai-local.openai.azure.com//openai/deployments/gpt-35-turbo-16k/chat/completions?api-version=2024-05-01-preview \"HTTP/1.1 200 OK\"\n",
      "2024-09-26 14:38:50,588 - INFO - Successfully processed and saved results for healthcare/automated_prescription_fulfillment with GPT-3.5-Activity-Breakdown-Subject_Matter_Expert_Detailed_Basic\n",
      "2024-09-26 14:38:50,589 - INFO - Processing sector: healthcare, activity: catheter_insertion\n"
     ]
    },
    {
     "name": "stdout",
     "output_type": "stream",
     "text": [
      "Quantitative Metrics:\n",
      "=====================\n",
      "Total Activities Evaluated: 3\n",
      "Average Overall Similarity Score: 23.36%\n",
      "Average Confidence Score: 25.28%\n",
      "Average Sequence Alignment Score: 79.52%\n",
      "Ground Truth Steps Coverage: 100.00%\n",
      "Response Steps Coverage: 55.56%\n",
      "\n",
      "Match Type Distribution:\n",
      "- Functional Equivalence: 4 matches (22.22%), Average Confidence: 78.75%\n",
      "- No Match: 12 matches (66.67%), Average Confidence: 0.00%\n",
      "- Granularity Difference: 2 matches (11.11%), Average Confidence: 70.00%\n",
      "\n",
      "\n",
      "Qualitative Analysis:\n",
      "=====================\n",
      "\n",
      "Examples of Matched Steps by Match Type:\n",
      "\n",
      "Match Type: Functional Equivalence\n",
      "Activity: Perform thorough check\n",
      "Ground Truth Steps:\n",
      "  - [1] Check prescription details\n",
      "Response Steps:\n",
      "  - [1] Receive prescription from customer\n",
      "Confidence: 80%\n",
      "Explanation: The ground truth step 'Check prescription details' is functionally equivalent to the response step 'Receive prescription from customer'. Although the wording is different, both steps involve obtaining the prescription information.\n",
      "\n",
      "Activity: Enter prescription details\n",
      "Ground Truth Steps:\n",
      "  - [1] Record patient information\n",
      "Response Steps:\n",
      "  - [1] Review prescription details\n",
      "Confidence: 80%\n",
      "Explanation: The response step 'Review prescription details' is functionally equivalent to the ground truth step 'Record patient information'. Although the wording is different, both steps involve gathering and reviewing information related to the prescription.\n",
      "\n",
      "Activity: Enter prescription details\n",
      "Ground Truth Steps:\n",
      "  - [3] Capture prescribing physician details\n",
      "Response Steps:\n",
      "  - [3] Consult with prescriber if necessary\n",
      "Confidence: 75%\n",
      "Explanation: The response step 'Consult with prescriber if necessary' is functionally equivalent to the ground truth step 'Capture prescribing physician details'. Both steps involve interacting with the prescriber to gather additional information or clarify details.\n",
      "\n",
      "\n",
      "\n",
      "Match Type: No Match\n",
      "Activity: Perform thorough check\n",
      "Ground Truth Steps:\n",
      "  - [2] Verify drug interactions\n",
      "Response Steps:\n",
      "  - [2] Log into pharmacy system\n",
      "Confidence: 0%\n",
      "Explanation: There is no meaningful match between the ground truth step 'Verify drug interactions' and the response step 'Log into pharmacy system'. These steps involve completely different actions.\n",
      "\n",
      "Activity: Perform thorough check\n",
      "Ground Truth Steps:\n",
      "  - [4] Check for allergies\n",
      "Response Steps:\n",
      "Confidence: 0%\n",
      "Explanation: There is no corresponding step in the response for the ground truth step 'Check for allergies'. This step is not addressed in the response activity.\n",
      "\n",
      "Activity: Check quality\n",
      "Ground Truth Steps:\n",
      "  - [1] Inspect drug packaging\n",
      "Response Steps:\n",
      "  - [1] Check for drug-drug interactions\n",
      "Confidence: 0%\n",
      "Explanation: There is no corresponding step in the response activity.\n",
      "\n",
      "\n",
      "\n",
      "Match Type: Granularity Difference\n",
      "Activity: Perform thorough check\n",
      "Ground Truth Steps:\n",
      "  - [3] Ensure correct dosage\n",
      "Response Steps:\n",
      "  - [4] Enter medication details (name, dosage, quantity)\n",
      "Confidence: 70%\n",
      "Explanation: The ground truth step 'Ensure correct dosage' is more granular than the response step 'Enter medication details (name, dosage, quantity)'. The response step encompasses the action of ensuring the correct dosage, but also includes additional information. Therefore, the ground truth step corresponds to a subset of the response step.\n",
      "\n",
      "Activity: Collect payment\n",
      "Ground Truth Steps:\n",
      "  - [2] Accept payment from patient\n",
      "Response Steps:\n",
      "  - [2] Verify medication name and strength\n",
      "  - [3] Check expiration date\n",
      "  - [4] Retrieve correct quantity\n",
      "  - [5] Label medication container\n",
      "Confidence: 70%\n",
      "Explanation: The response steps encompass the action of accepting payment from the patient, but also include additional steps related to collecting drugs from shelves.\n",
      "\n",
      "\n",
      "\n",
      "Analysis of Unmatched Ground Truth Steps:\n",
      "Analysis of Unmatched Response Steps:\n",
      "Activity: Perform thorough check, Step: [3] Input patient information\n",
      "Reason: There is no corresponding step in the ground truth for the response step 'Input patient information'. This step is not part of the ground truth activity.\n",
      "\n",
      "Activity: Perform thorough check, Step: [5] Input prescriber information\n",
      "Reason: There is no corresponding step in the ground truth for the response step 'Input prescriber information'. This step is not part of the ground truth activity.\n",
      "\n",
      "Activity: Check quality, Step: [3] Check for allergies\n",
      "Reason: There is no corresponding step in the ground truth activity.\n",
      "\n",
      "Activity: Check quality, Step: [4] Identify potential adverse effects\n",
      "Reason: There is no corresponding step in the ground truth activity.\n",
      "\n",
      "Activity: Enter prescription details, Step: [2] Evaluate DUR alarms\n",
      "Reason: There is no corresponding ground truth step for the response step 'Evaluate DUR alarms'. This step is not directly related to the ground truth activity of entering prescription details.\n",
      "\n",
      "Granularity Issues Identified:\n",
      "Activity: Perform thorough check\n",
      "Ground Truth Steps:\n",
      "  - [4] Check for allergies\n",
      "Response Steps:\n",
      "Explanation: There is no corresponding step in the response for the ground truth step 'Check for allergies'. This step is not addressed in the response activity.\n",
      "\n",
      "Activity: Collect payment\n",
      "Ground Truth Steps:\n",
      "  - [2] Accept payment from patient\n",
      "Response Steps:\n",
      "  - [2] Verify medication name and strength\n",
      "  - [3] Check expiration date\n",
      "  - [4] Retrieve correct quantity\n",
      "  - [5] Label medication container\n",
      "Explanation: The response steps encompass the action of accepting payment from the patient, but also include additional steps related to collecting drugs from shelves.\n",
      "\n"
     ]
    },
    {
     "name": "stderr",
     "output_type": "stream",
     "text": [
      "2024-09-26 14:39:10,343 - INFO - HTTP Request: POST https://datascience-openai-local.openai.azure.com//openai/deployments/gpt-35-turbo-16k/chat/completions?api-version=2024-05-01-preview \"HTTP/1.1 200 OK\"\n"
     ]
    },
    {
     "name": "stdout",
     "output_type": "stream",
     "text": [
      "Comparing activity 1...\n"
     ]
    },
    {
     "name": "stderr",
     "output_type": "stream",
     "text": [
      "2024-09-26 14:39:13,819 - INFO - HTTP Request: POST https://datascience-openai-local.openai.azure.com//openai/deployments/gpt-35-turbo-16k/chat/completions?api-version=2024-05-01-preview \"HTTP/1.1 200 OK\"\n"
     ]
    },
    {
     "name": "stdout",
     "output_type": "stream",
     "text": [
      "Comparing activity 2...\n"
     ]
    },
    {
     "name": "stderr",
     "output_type": "stream",
     "text": [
      "2024-09-26 14:39:20,370 - INFO - HTTP Request: POST https://datascience-openai-local.openai.azure.com//openai/deployments/gpt-35-turbo-16k/chat/completions?api-version=2024-05-01-preview \"HTTP/1.1 200 OK\"\n"
     ]
    },
    {
     "name": "stdout",
     "output_type": "stream",
     "text": [
      "Comparing activity 3...\n"
     ]
    },
    {
     "name": "stderr",
     "output_type": "stream",
     "text": [
      "2024-09-26 14:39:23,319 - INFO - HTTP Request: POST https://datascience-openai-local.openai.azure.com//openai/deployments/gpt-35-turbo-16k/chat/completions?api-version=2024-05-01-preview \"HTTP/1.1 200 OK\"\n"
     ]
    },
    {
     "name": "stdout",
     "output_type": "stream",
     "text": [
      "Comparing activity 4...\n"
     ]
    },
    {
     "name": "stderr",
     "output_type": "stream",
     "text": [
      "2024-09-26 14:39:26,496 - INFO - HTTP Request: POST https://datascience-openai-local.openai.azure.com//openai/deployments/gpt-35-turbo-16k/chat/completions?api-version=2024-05-01-preview \"HTTP/1.1 200 OK\"\n"
     ]
    },
    {
     "name": "stdout",
     "output_type": "stream",
     "text": [
      "Comparing activity 5...\n"
     ]
    },
    {
     "name": "stderr",
     "output_type": "stream",
     "text": [
      "2024-09-26 14:39:30,977 - INFO - HTTP Request: POST https://datascience-openai-local.openai.azure.com//openai/deployments/gpt-35-turbo-16k/chat/completions?api-version=2024-05-01-preview \"HTTP/1.1 200 OK\"\n"
     ]
    },
    {
     "name": "stdout",
     "output_type": "stream",
     "text": [
      "Comparing activity 6...\n"
     ]
    },
    {
     "name": "stderr",
     "output_type": "stream",
     "text": [
      "2024-09-26 14:39:33,404 - INFO - HTTP Request: POST https://datascience-openai-local.openai.azure.com//openai/deployments/gpt-35-turbo-16k/chat/completions?api-version=2024-05-01-preview \"HTTP/1.1 200 OK\"\n"
     ]
    },
    {
     "name": "stdout",
     "output_type": "stream",
     "text": [
      "Comparing activity 7...\n"
     ]
    },
    {
     "name": "stderr",
     "output_type": "stream",
     "text": [
      "2024-09-26 14:39:35,378 - INFO - HTTP Request: POST https://datascience-openai-local.openai.azure.com//openai/deployments/gpt-35-turbo-16k/chat/completions?api-version=2024-05-01-preview \"HTTP/1.1 200 OK\"\n"
     ]
    },
    {
     "name": "stdout",
     "output_type": "stream",
     "text": [
      "Comparing activity 8...\n"
     ]
    },
    {
     "name": "stderr",
     "output_type": "stream",
     "text": [
      "2024-09-26 14:39:38,417 - INFO - HTTP Request: POST https://datascience-openai-local.openai.azure.com//openai/deployments/gpt-35-turbo-16k/chat/completions?api-version=2024-05-01-preview \"HTTP/1.1 200 OK\"\n"
     ]
    },
    {
     "name": "stdout",
     "output_type": "stream",
     "text": [
      "Comparing activity 9...\n"
     ]
    },
    {
     "name": "stderr",
     "output_type": "stream",
     "text": [
      "2024-09-26 14:39:41,470 - INFO - HTTP Request: POST https://datascience-openai-local.openai.azure.com//openai/deployments/gpt-35-turbo-16k/chat/completions?api-version=2024-05-01-preview \"HTTP/1.1 200 OK\"\n"
     ]
    },
    {
     "name": "stdout",
     "output_type": "stream",
     "text": [
      "Comparing activity 10...\n"
     ]
    },
    {
     "name": "stderr",
     "output_type": "stream",
     "text": [
      "2024-09-26 14:39:45,224 - INFO - HTTP Request: POST https://datascience-openai-local.openai.azure.com//openai/deployments/gpt-35-turbo-16k/chat/completions?api-version=2024-05-01-preview \"HTTP/1.1 200 OK\"\n"
     ]
    },
    {
     "name": "stdout",
     "output_type": "stream",
     "text": [
      "Comparing activity 11...\n"
     ]
    },
    {
     "name": "stderr",
     "output_type": "stream",
     "text": [
      "2024-09-26 14:39:47,952 - INFO - HTTP Request: POST https://datascience-openai-local.openai.azure.com//openai/deployments/gpt-35-turbo-16k/chat/completions?api-version=2024-05-01-preview \"HTTP/1.1 200 OK\"\n"
     ]
    },
    {
     "name": "stdout",
     "output_type": "stream",
     "text": [
      "Comparing activity 12...\n"
     ]
    },
    {
     "name": "stderr",
     "output_type": "stream",
     "text": [
      "2024-09-26 14:39:51,699 - INFO - HTTP Request: POST https://datascience-openai-local.openai.azure.com//openai/deployments/gpt-35-turbo-16k/chat/completions?api-version=2024-05-01-preview \"HTTP/1.1 200 OK\"\n"
     ]
    },
    {
     "name": "stdout",
     "output_type": "stream",
     "text": [
      "Comparing activity 13...\n"
     ]
    },
    {
     "name": "stderr",
     "output_type": "stream",
     "text": [
      "2024-09-26 14:39:54,299 - INFO - HTTP Request: POST https://datascience-openai-local.openai.azure.com//openai/deployments/gpt-35-turbo-16k/chat/completions?api-version=2024-05-01-preview \"HTTP/1.1 200 OK\"\n"
     ]
    },
    {
     "name": "stdout",
     "output_type": "stream",
     "text": [
      "Comparing activity 14...\n"
     ]
    },
    {
     "name": "stderr",
     "output_type": "stream",
     "text": [
      "2024-09-26 14:39:57,727 - INFO - HTTP Request: POST https://datascience-openai-local.openai.azure.com//openai/deployments/gpt-35-turbo-16k/chat/completions?api-version=2024-05-01-preview \"HTTP/1.1 200 OK\"\n"
     ]
    },
    {
     "name": "stdout",
     "output_type": "stream",
     "text": [
      "Comparing activity 15...\n"
     ]
    },
    {
     "name": "stderr",
     "output_type": "stream",
     "text": [
      "2024-09-26 14:40:01,281 - INFO - HTTP Request: POST https://datascience-openai-local.openai.azure.com//openai/deployments/gpt-35-turbo-16k/chat/completions?api-version=2024-05-01-preview \"HTTP/1.1 200 OK\"\n"
     ]
    },
    {
     "name": "stdout",
     "output_type": "stream",
     "text": [
      "Comparing activity 16...\n"
     ]
    },
    {
     "name": "stderr",
     "output_type": "stream",
     "text": [
      "2024-09-26 14:40:04,451 - INFO - HTTP Request: POST https://datascience-openai-local.openai.azure.com//openai/deployments/gpt-35-turbo-16k/chat/completions?api-version=2024-05-01-preview \"HTTP/1.1 200 OK\"\n"
     ]
    },
    {
     "name": "stdout",
     "output_type": "stream",
     "text": [
      "Comparing activity 17...\n"
     ]
    },
    {
     "name": "stderr",
     "output_type": "stream",
     "text": [
      "2024-09-26 14:40:07,858 - INFO - HTTP Request: POST https://datascience-openai-local.openai.azure.com//openai/deployments/gpt-35-turbo-16k/chat/completions?api-version=2024-05-01-preview \"HTTP/1.1 200 OK\"\n"
     ]
    },
    {
     "name": "stdout",
     "output_type": "stream",
     "text": [
      "Comparing activity 18...\n"
     ]
    },
    {
     "name": "stderr",
     "output_type": "stream",
     "text": [
      "2024-09-26 14:40:10,795 - INFO - HTTP Request: POST https://datascience-openai-local.openai.azure.com//openai/deployments/gpt-35-turbo-16k/chat/completions?api-version=2024-05-01-preview \"HTTP/1.1 200 OK\"\n"
     ]
    },
    {
     "name": "stdout",
     "output_type": "stream",
     "text": [
      "Comparing activity 19...\n"
     ]
    },
    {
     "name": "stderr",
     "output_type": "stream",
     "text": [
      "2024-09-26 14:40:12,737 - INFO - HTTP Request: POST https://datascience-openai-local.openai.azure.com//openai/deployments/gpt-35-turbo-16k/chat/completions?api-version=2024-05-01-preview \"HTTP/1.1 200 OK\"\n"
     ]
    },
    {
     "name": "stdout",
     "output_type": "stream",
     "text": [
      "Comparing activity 20...\n"
     ]
    },
    {
     "name": "stderr",
     "output_type": "stream",
     "text": [
      "2024-09-26 14:40:15,761 - INFO - HTTP Request: POST https://datascience-openai-local.openai.azure.com//openai/deployments/gpt-35-turbo-16k/chat/completions?api-version=2024-05-01-preview \"HTTP/1.1 200 OK\"\n"
     ]
    },
    {
     "name": "stdout",
     "output_type": "stream",
     "text": [
      "Comparing activity 21...\n"
     ]
    },
    {
     "name": "stderr",
     "output_type": "stream",
     "text": [
      "2024-09-26 14:40:18,001 - INFO - HTTP Request: POST https://datascience-openai-local.openai.azure.com//openai/deployments/gpt-35-turbo-16k/chat/completions?api-version=2024-05-01-preview \"HTTP/1.1 200 OK\"\n"
     ]
    },
    {
     "name": "stdout",
     "output_type": "stream",
     "text": [
      "Comparing activity 22...\n"
     ]
    },
    {
     "name": "stderr",
     "output_type": "stream",
     "text": [
      "2024-09-26 14:40:20,907 - INFO - HTTP Request: POST https://datascience-openai-local.openai.azure.com//openai/deployments/gpt-35-turbo-16k/chat/completions?api-version=2024-05-01-preview \"HTTP/1.1 200 OK\"\n"
     ]
    },
    {
     "name": "stdout",
     "output_type": "stream",
     "text": [
      "Comparing activity 23...\n"
     ]
    },
    {
     "name": "stderr",
     "output_type": "stream",
     "text": [
      "2024-09-26 14:40:23,647 - INFO - HTTP Request: POST https://datascience-openai-local.openai.azure.com//openai/deployments/gpt-35-turbo-16k/chat/completions?api-version=2024-05-01-preview \"HTTP/1.1 200 OK\"\n"
     ]
    },
    {
     "name": "stdout",
     "output_type": "stream",
     "text": [
      "Comparing activity 24...\n"
     ]
    },
    {
     "name": "stderr",
     "output_type": "stream",
     "text": [
      "2024-09-26 14:40:25,421 - INFO - HTTP Request: POST https://datascience-openai-local.openai.azure.com//openai/deployments/gpt-35-turbo-16k/chat/completions?api-version=2024-05-01-preview \"HTTP/1.1 200 OK\"\n"
     ]
    },
    {
     "name": "stdout",
     "output_type": "stream",
     "text": [
      "Comparing activity 25...\n"
     ]
    },
    {
     "name": "stderr",
     "output_type": "stream",
     "text": [
      "2024-09-26 14:40:28,923 - INFO - HTTP Request: POST https://datascience-openai-local.openai.azure.com//openai/deployments/gpt-35-turbo-16k/chat/completions?api-version=2024-05-01-preview \"HTTP/1.1 200 OK\"\n"
     ]
    },
    {
     "name": "stdout",
     "output_type": "stream",
     "text": [
      "Comparing activity 26...\n"
     ]
    },
    {
     "name": "stderr",
     "output_type": "stream",
     "text": [
      "2024-09-26 14:40:32,490 - INFO - HTTP Request: POST https://datascience-openai-local.openai.azure.com//openai/deployments/gpt-35-turbo-16k/chat/completions?api-version=2024-05-01-preview \"HTTP/1.1 200 OK\"\n",
      "2024-09-26 14:40:32,494 - INFO - Successfully processed and saved results for healthcare/catheter_insertion with GPT-3.5-Activity-Breakdown-Subject_Matter_Expert_Detailed_Basic\n",
      "2024-09-26 14:40:32,495 - INFO - Processing sector: healthcare, activity: medical_delivery\n"
     ]
    },
    {
     "name": "stdout",
     "output_type": "stream",
     "text": [
      "Quantitative Metrics:\n",
      "=====================\n",
      "Total Activities Evaluated: 4\n",
      "Average Overall Similarity Score: 48.30%\n",
      "Average Confidence Score: 48.02%\n",
      "Average Sequence Alignment Score: 66.15%\n",
      "Ground Truth Steps Coverage: 85.45%\n",
      "Response Steps Coverage: 67.44%\n",
      "\n",
      "Match Type Distribution:\n",
      "- Functional Equivalence: 24 matches (45.28%), Average Confidence: 83.96%\n",
      "- Granularity Difference: 6 matches (11.32%), Average Confidence: 71.67%\n",
      "- Identical Match: 1 matches (1.89%), Average Confidence: 100.00%\n",
      "- No Match: 22 matches (41.51%), Average Confidence: 0.00%\n",
      "\n",
      "\n",
      "Qualitative Analysis:\n",
      "=====================\n",
      "\n",
      "Examples of Matched Steps by Match Type:\n",
      "\n",
      "Match Type: Functional Equivalence\n",
      "Activity: Prepare implements\n",
      "Ground Truth Steps:\n",
      "  - [1] Gather necessary implements\n",
      "Response Steps:\n",
      "  - [1] Gather necessary medical equipment\n",
      "Confidence: 80%\n",
      "Explanation: The steps describe the same action of gathering necessary items, but use different terminology ('implements' vs 'medical equipment').\n",
      "\n",
      "Activity: Prepare implements\n",
      "Ground Truth Steps:\n",
      "  - [2] Check implements for cleanliness\n",
      "Response Steps:\n",
      "  - [2] Verify equipment sterility\n",
      "Confidence: 75%\n",
      "Explanation: The steps have a similar function of ensuring the cleanliness or sterility of the items.\n",
      "\n",
      "Activity: Hand washing\n",
      "Ground Truth Steps:\n",
      "  - [1] Wet hands with water\n",
      "Response Steps:\n",
      "  - [2] Wash hands thoroughly following medical protocol\n",
      "Confidence: 80%\n",
      "Explanation: The response step describes the same action as the ground truth step, but with different wording.\n",
      "\n",
      "\n",
      "\n",
      "Match Type: Granularity Difference\n",
      "Activity: Prepare implements\n",
      "Ground Truth Steps:\n",
      "  - [3] Ensure implements are in working order\n",
      "Response Steps:\n",
      "  - [3] Arrange implements in order of use\n",
      "Confidence: 70%\n",
      "Explanation: The steps have a different level of granularity. The ground truth step focuses on the functionality of the implements, while the response step focuses on their arrangement.\n",
      "\n",
      "Activity: Hand washing\n",
      "Ground Truth Steps:\n",
      "  - [3] Scrub hands for at least 20 seconds\n",
      "Response Steps:\n",
      "  - [2] Wash hands thoroughly following medical protocol\n",
      "Confidence: 60%\n",
      "Explanation: The response step encompasses the action of scrubbing hands for at least 20 seconds, but also includes additional steps.\n",
      "\n",
      "Activity: Hand washing\n",
      "Ground Truth Steps:\n",
      "  - [4] Rinse hands thoroughly\n",
      "Response Steps:\n",
      "  - [2] Wash hands thoroughly following medical protocol\n",
      "Confidence: 60%\n",
      "Explanation: The response step encompasses the action of rinsing hands thoroughly, but also includes additional steps.\n",
      "\n",
      "\n",
      "\n",
      "Match Type: Identical Match\n",
      "Activity: Get in sterile clothes\n",
      "Ground Truth Steps:\n",
      "  - [2] Put on sterile gloves\n",
      "Response Steps:\n",
      "  - [2] Put on sterile gloves\n",
      "Confidence: 100%\n",
      "Explanation: The steps are identical in wording and meaning.\n",
      "\n",
      "\n",
      "\n",
      "Match Type: No Match\n",
      "Activity: Drap puncture area\n",
      "Ground Truth Steps:\n",
      "Response Steps:\n",
      "  - [3] Secure drapes in place\n",
      "Confidence: 0%\n",
      "Explanation: There is no corresponding step in the ground truth for securing the drapes in place.\n",
      "\n",
      "Activity: Gel in probe\n",
      "Ground Truth Steps:\n",
      "Response Steps:\n",
      "  - [2] Ensure even distribution of gel\n",
      "Confidence: 0%\n",
      "Explanation: There is no corresponding ground truth step for the response step 'Ensure even distribution of gel'.\n",
      "\n",
      "Activity: Cover probe\n",
      "Ground Truth Steps:\n",
      "Response Steps:\n",
      "  - [2] Secure cover in place\n",
      "  - [3] Verify integrity of sterile barrier\n",
      "Confidence: 0%\n",
      "Explanation: There are no corresponding ground truth steps for the response steps 'Secure cover in place' and 'Verify integrity of sterile barrier'. These steps do not have a meaningful match in the ground truth.\n",
      "\n",
      "\n",
      "\n",
      "Analysis of Unmatched Ground Truth Steps:\n",
      "Activity: Hand washing, Step: [3] Scrub hands for at least 20 seconds\n",
      "Reason: No corresponding step in the response\n",
      "\n",
      "Activity: Hand washing, Step: [4] Rinse hands thoroughly\n",
      "Reason: No corresponding step in the response\n",
      "\n",
      "Activity: Anatomic identification, Step: [1] Use anatomical landmarks to identify target\n",
      "Reason: There is no corresponding step in the response.\n",
      "\n",
      "Activity: Compression identification, Step: [1] Apply compression to identify target\n",
      "Reason: There is no corresponding step in the response activity.\n",
      "\n",
      "Activity: Compression identification, Step: [2] Observe for changes in blood flow\n",
      "Reason: There is no corresponding step in the response activity.\n",
      "\n",
      "Analysis of Unmatched Response Steps:\n",
      "Activity: Hand washing, Step: [1] Use appropriate antiseptic solution\n",
      "Reason: No corresponding step in the ground truth\n",
      "\n",
      "Activity: Clean puncture area, Step: [1] Identify appropriate puncture site\n",
      "Reason: There is no corresponding step in the ground truth for identifying the appropriate puncture site.\n",
      "\n",
      "Activity: Doppler identification, Step: [3] Confirm vessel identity\n",
      "Reason: There is no corresponding step in the ground truth activity.\n",
      "\n",
      "Activity: Anatomic identification, Step: [1] Apply gentle pressure with ultrasound probe\n",
      "Reason: There is no corresponding step in the ground truth.\n",
      "\n",
      "Activity: Anatomic identification, Step: [2] Observe vessel compression on ultrasound\n",
      "Reason: There is no corresponding step in the ground truth.\n",
      "\n",
      "Granularity Issues Identified:\n",
      "Activity: Drap puncture area\n",
      "Ground Truth Steps:\n",
      "Response Steps:\n",
      "  - [3] Secure drapes in place\n",
      "Explanation: There is no corresponding step in the ground truth for securing the drapes in place.\n",
      "\n",
      "Activity: Ultrasound configuration\n",
      "Ground Truth Steps:\n",
      "  - [2] Adjust settings for optimal image quality\n",
      "Response Steps:\n",
      "  - [2] Select appropriate settings for procedure\n",
      "  - [3] Adjust image quality as needed\n",
      "Explanation: The ground truth step 2 is more granular than the response steps. The response steps encompass the actions described in the ground truth step.\n",
      "\n",
      "Activity: Gel in probe\n",
      "Ground Truth Steps:\n",
      "Response Steps:\n",
      "  - [2] Ensure even distribution of gel\n",
      "Explanation: There is no corresponding ground truth step for the response step 'Ensure even distribution of gel'.\n",
      "\n",
      "Activity: Cover probe\n",
      "Ground Truth Steps:\n",
      "Response Steps:\n",
      "  - [2] Secure cover in place\n",
      "  - [3] Verify integrity of sterile barrier\n",
      "Explanation: There are no corresponding ground truth steps for the response steps 'Secure cover in place' and 'Verify integrity of sterile barrier'. These steps do not have a meaningful match in the ground truth.\n",
      "\n",
      "Activity: Put sterile gel\n",
      "Ground Truth Steps:\n",
      "Response Steps:\n",
      "  - [2] Ensure sufficient gel for good contact\n",
      "Explanation: There is no corresponding ground truth step for the response step 'Ensure sufficient gel for good contact'. This step is not mentioned in the ground truth.\n",
      "\n"
     ]
    },
    {
     "name": "stderr",
     "output_type": "stream",
     "text": [
      "2024-09-26 14:40:35,431 - INFO - HTTP Request: POST https://datascience-openai-local.openai.azure.com//openai/deployments/gpt-35-turbo-16k/chat/completions?api-version=2024-05-01-preview \"HTTP/1.1 200 OK\"\n"
     ]
    },
    {
     "name": "stdout",
     "output_type": "stream",
     "text": [
      "Comparing activity 1...\n"
     ]
    },
    {
     "name": "stderr",
     "output_type": "stream",
     "text": [
      "2024-09-26 14:40:38,430 - INFO - HTTP Request: POST https://datascience-openai-local.openai.azure.com//openai/deployments/gpt-35-turbo-16k/chat/completions?api-version=2024-05-01-preview \"HTTP/1.1 200 OK\"\n"
     ]
    },
    {
     "name": "stdout",
     "output_type": "stream",
     "text": [
      "Comparing activity 2...\n"
     ]
    },
    {
     "name": "stderr",
     "output_type": "stream",
     "text": [
      "2024-09-26 14:40:40,333 - INFO - HTTP Request: POST https://datascience-openai-local.openai.azure.com//openai/deployments/gpt-35-turbo-16k/chat/completions?api-version=2024-05-01-preview \"HTTP/1.1 200 OK\"\n"
     ]
    },
    {
     "name": "stdout",
     "output_type": "stream",
     "text": [
      "Comparing activity 3...\n"
     ]
    },
    {
     "name": "stderr",
     "output_type": "stream",
     "text": [
      "2024-09-26 14:40:41,834 - INFO - HTTP Request: POST https://datascience-openai-local.openai.azure.com//openai/deployments/gpt-35-turbo-16k/chat/completions?api-version=2024-05-01-preview \"HTTP/1.1 200 OK\"\n"
     ]
    },
    {
     "name": "stdout",
     "output_type": "stream",
     "text": [
      "Comparing activity 4...\n"
     ]
    },
    {
     "name": "stderr",
     "output_type": "stream",
     "text": [
      "2024-09-26 14:40:44,179 - INFO - HTTP Request: POST https://datascience-openai-local.openai.azure.com//openai/deployments/gpt-35-turbo-16k/chat/completions?api-version=2024-05-01-preview \"HTTP/1.1 200 OK\"\n"
     ]
    },
    {
     "name": "stdout",
     "output_type": "stream",
     "text": [
      "Comparing activity 5...\n"
     ]
    },
    {
     "name": "stderr",
     "output_type": "stream",
     "text": [
      "2024-09-26 14:40:46,124 - INFO - HTTP Request: POST https://datascience-openai-local.openai.azure.com//openai/deployments/gpt-35-turbo-16k/chat/completions?api-version=2024-05-01-preview \"HTTP/1.1 200 OK\"\n"
     ]
    },
    {
     "name": "stdout",
     "output_type": "stream",
     "text": [
      "Comparing activity 6...\n"
     ]
    },
    {
     "name": "stderr",
     "output_type": "stream",
     "text": [
      "2024-09-26 14:40:47,406 - INFO - HTTP Request: POST https://datascience-openai-local.openai.azure.com//openai/deployments/gpt-35-turbo-16k/chat/completions?api-version=2024-05-01-preview \"HTTP/1.1 200 OK\"\n"
     ]
    },
    {
     "name": "stdout",
     "output_type": "stream",
     "text": [
      "Comparing activity 7...\n"
     ]
    },
    {
     "name": "stderr",
     "output_type": "stream",
     "text": [
      "2024-09-26 14:40:48,656 - INFO - HTTP Request: POST https://datascience-openai-local.openai.azure.com//openai/deployments/gpt-35-turbo-16k/chat/completions?api-version=2024-05-01-preview \"HTTP/1.1 200 OK\"\n",
      "2024-09-26 14:40:48,662 - INFO - Successfully processed and saved results for healthcare/medical_delivery with GPT-3.5-Activity-Breakdown-Subject_Matter_Expert_Detailed_Basic\n",
      "2024-09-26 14:40:48,664 - INFO - Processing sector: healthcare, activity: medical_supplies\n"
     ]
    },
    {
     "name": "stdout",
     "output_type": "stream",
     "text": [
      "Quantitative Metrics:\n",
      "=====================\n",
      "Total Activities Evaluated: 3\n",
      "Average Overall Similarity Score: 72.14%\n",
      "Average Confidence Score: 64.44%\n",
      "Average Sequence Alignment Score: 88.10%\n",
      "Ground Truth Steps Coverage: 90.00%\n",
      "Response Steps Coverage: 81.82%\n",
      "\n",
      "Match Type Distribution:\n",
      "- No Match: 2 matches (22.22%), Average Confidence: 0.00%\n",
      "- Granularity Difference: 1 matches (11.11%), Average Confidence: 70.00%\n",
      "- Functional Equivalence: 6 matches (66.67%), Average Confidence: 85.00%\n",
      "\n",
      "\n",
      "Qualitative Analysis:\n",
      "=====================\n",
      "\n",
      "Examples of Matched Steps by Match Type:\n",
      "\n",
      "Match Type: No Match\n",
      "Activity: Check destination\n",
      "Ground Truth Steps:\n",
      "  - [1] Verify destination address\n",
      "Response Steps:\n",
      "  - [1] Unload package from pallet\n",
      "Confidence: 0%\n",
      "Explanation: The ground truth step 'Verify destination address' does not have a corresponding step in the response.\n",
      "\n",
      "Activity: Write details on package\n",
      "Ground Truth Steps:\n",
      "  - [2] Write destination address on package\n",
      "Response Steps:\n",
      "Confidence: 0%\n",
      "Explanation: There is no corresponding step in the response for writing the destination address on the package.\n",
      "\n",
      "\n",
      "\n",
      "Match Type: Granularity Difference\n",
      "Activity: Check destination\n",
      "Ground Truth Steps:\n",
      "  - [2] Confirm recipient information\n",
      "Response Steps:\n",
      "  - [2] Open package and pull out the packaging slip\n",
      "  - [3] Enter purchase order number into ERP to check destination\n",
      "Confidence: 70%\n",
      "Explanation: The ground truth step 'Confirm recipient information' corresponds to the response steps 'Open package and pull out the packaging slip' and 'Enter purchase order number into ERP to check destination'.\n",
      "\n",
      "\n",
      "\n",
      "Match Type: Functional Equivalence\n",
      "Activity: Set package as unknown\n",
      "Ground Truth Steps:\n",
      "  - [1] Mark package as unidentified\n",
      "Response Steps:\n",
      "  - [1] Record unknown package in ERP\n",
      "Confidence: 80%\n",
      "Explanation: The ground truth step 'Mark package as unidentified' and the response step 'Record unknown package in ERP' describe the same action of designating a package as unknown, but use different wording.\n",
      "\n",
      "Activity: Register package into ERP\n",
      "Ground Truth Steps:\n",
      "  - [1] Enter package details into ERP system\n",
      "Response Steps:\n",
      "  - [1] Enter information on packaging slip in ERP\n",
      "Confidence: 95%\n",
      "Explanation: The steps describe the same action of entering information into the ERP system, but use slightly different wording.\n",
      "\n",
      "Activity: Write details on package\n",
      "Ground Truth Steps:\n",
      "  - [1] Write recipient's name on package\n",
      "Response Steps:\n",
      "  - [1] Write area and/or room number on package\n",
      "Confidence: 80%\n",
      "Explanation: The response step describes a similar action of writing information on the package, but with a different specific detail.\n",
      "\n",
      "\n",
      "\n",
      "Analysis of Unmatched Ground Truth Steps:\n",
      "Activity: Print delivery form, Step: [2] Include package details on form\n",
      "Reason: There is no corresponding step in the response.\n",
      "\n",
      "Analysis of Unmatched Response Steps:\n",
      "Activity: Check destination, Step: [3] Enter purchase order number into ERP to check destination\n",
      "Reason: There is no corresponding step in the ground truth.\n",
      "\n",
      "Activity: Write details on package, Step: [1] Write area and/or room number on package\n",
      "Reason: There is no corresponding step in the ground truth for writing the area and/or room number on the package.\n",
      "\n",
      "Granularity Issues Identified:\n",
      "Activity: Check destination\n",
      "Ground Truth Steps:\n",
      "  - [2] Confirm recipient information\n",
      "Response Steps:\n",
      "  - [2] Open package and pull out the packaging slip\n",
      "  - [3] Enter purchase order number into ERP to check destination\n",
      "Explanation: The ground truth step 'Confirm recipient information' corresponds to the response steps 'Open package and pull out the packaging slip' and 'Enter purchase order number into ERP to check destination'.\n",
      "\n",
      "Activity: Write details on package\n",
      "Ground Truth Steps:\n",
      "  - [2] Write destination address on package\n",
      "Response Steps:\n",
      "Explanation: There is no corresponding step in the response for writing the destination address on the package.\n",
      "\n"
     ]
    },
    {
     "name": "stderr",
     "output_type": "stream",
     "text": [
      "2024-09-26 14:40:52,133 - INFO - HTTP Request: POST https://datascience-openai-local.openai.azure.com//openai/deployments/gpt-35-turbo-16k/chat/completions?api-version=2024-05-01-preview \"HTTP/1.1 200 OK\"\n"
     ]
    },
    {
     "name": "stdout",
     "output_type": "stream",
     "text": [
      "Comparing activity 1...\n"
     ]
    },
    {
     "name": "stderr",
     "output_type": "stream",
     "text": [
      "2024-09-26 14:40:58,312 - INFO - HTTP Request: POST https://datascience-openai-local.openai.azure.com//openai/deployments/gpt-35-turbo-16k/chat/completions?api-version=2024-05-01-preview \"HTTP/1.1 200 OK\"\n"
     ]
    },
    {
     "name": "stdout",
     "output_type": "stream",
     "text": [
      "Comparing activity 2...\n"
     ]
    },
    {
     "name": "stderr",
     "output_type": "stream",
     "text": [
      "2024-09-26 14:41:06,559 - INFO - HTTP Request: POST https://datascience-openai-local.openai.azure.com//openai/deployments/gpt-35-turbo-16k/chat/completions?api-version=2024-05-01-preview \"HTTP/1.1 200 OK\"\n"
     ]
    },
    {
     "name": "stdout",
     "output_type": "stream",
     "text": [
      "Comparing activity 3...\n"
     ]
    },
    {
     "name": "stderr",
     "output_type": "stream",
     "text": [
      "2024-09-26 14:41:09,964 - INFO - HTTP Request: POST https://datascience-openai-local.openai.azure.com//openai/deployments/gpt-35-turbo-16k/chat/completions?api-version=2024-05-01-preview \"HTTP/1.1 200 OK\"\n"
     ]
    },
    {
     "name": "stdout",
     "output_type": "stream",
     "text": [
      "Comparing activity 4...\n"
     ]
    },
    {
     "name": "stderr",
     "output_type": "stream",
     "text": [
      "2024-09-26 14:41:14,406 - INFO - HTTP Request: POST https://datascience-openai-local.openai.azure.com//openai/deployments/gpt-35-turbo-16k/chat/completions?api-version=2024-05-01-preview \"HTTP/1.1 200 OK\"\n",
      "2024-09-26 14:41:14,410 - INFO - Successfully processed and saved results for healthcare/medical_supplies with GPT-3.5-Activity-Breakdown-Subject_Matter_Expert_Detailed_Basic\n",
      "2024-09-26 14:41:14,410 - INFO - Processing sector: healthcare, activity: patient_intake\n"
     ]
    },
    {
     "name": "stdout",
     "output_type": "stream",
     "text": [
      "Quantitative Metrics:\n",
      "=====================\n",
      "Total Activities Evaluated: 3\n",
      "Average Overall Similarity Score: 38.17%\n",
      "Average Confidence Score: 35.00%\n",
      "Average Sequence Alignment Score: 58.33%\n",
      "Ground Truth Steps Coverage: 76.92%\n",
      "Response Steps Coverage: 53.33%\n",
      "\n",
      "Match Type Distribution:\n",
      "- Functional Equivalence: 3 matches (27.27%), Average Confidence: 80.00%\n",
      "- No Match: 6 matches (54.55%), Average Confidence: 0.00%\n",
      "- Granularity Difference: 2 matches (18.18%), Average Confidence: 72.50%\n",
      "\n",
      "\n",
      "Qualitative Analysis:\n",
      "=====================\n",
      "\n",
      "Examples of Matched Steps by Match Type:\n",
      "\n",
      "Match Type: Functional Equivalence\n",
      "Activity: Package receipt at dock\n",
      "Ground Truth Steps:\n",
      "  - [1] Receive package at dock\n",
      "Response Steps:\n",
      "  - [1] Unload package\n",
      "Confidence: 80%\n",
      "Explanation: The ground truth step 'Receive package at dock' is functionally equivalent to the response step 'Unload package'. Although the wording is different, both steps involve the action of taking the package off the delivery vehicle.\n",
      "\n",
      "Activity: Package processing in the rack room\n",
      "Ground Truth Steps:\n",
      "  - [1] Sort packages based on department\n",
      "Response Steps:\n",
      "  - [2] Sort package\n",
      "Confidence: 80%\n",
      "Explanation: The ground truth step 'Sort packages based on department' and the response step 'Sort package' describe the same action of sorting packages, but with slightly different wording.\n",
      "\n",
      "Activity: Package delivery to par location\n",
      "Ground Truth Steps:\n",
      "  - [1] Retrieve package from rack\n",
      "Response Steps:\n",
      "  - [1] Unload package from pallet\n",
      "Confidence: 80%\n",
      "Explanation: Both steps involve taking the package from a storage location.\n",
      "\n",
      "\n",
      "\n",
      "Match Type: No Match\n",
      "Activity: Package receipt at dock\n",
      "Ground Truth Steps:\n",
      "  - [2] Verify package details\n",
      "Response Steps:\n",
      "  - [2] Stockpile package\n",
      "Confidence: 0%\n",
      "Explanation: There is no meaningful match between the ground truth step 'Verify package details' and the response step 'Stockpile package'. These steps involve different actions and have different objectives.\n",
      "\n",
      "Activity: Package receipt at dock\n",
      "Ground Truth Steps:\n",
      "  - [3] Record package receipt in system\n",
      "Response Steps:\n",
      "  - [3] Move to pallets\n",
      "Confidence: 0%\n",
      "Explanation: There is no meaningful match between the ground truth step 'Record package receipt in system' and the response step 'Move to pallets'. These steps involve different actions and have different objectives.\n",
      "\n",
      "Activity: Package processing in the receiving room\n",
      "Ground Truth Steps:\n",
      "  - [1] Inspect package for damage\n",
      "Response Steps:\n",
      "  - [1] Move to workstation\n",
      "Confidence: 0%\n",
      "Explanation: The ground truth step 'Inspect package for damage' does not have a corresponding match in the response.\n",
      "\n",
      "\n",
      "\n",
      "Match Type: Granularity Difference\n",
      "Activity: Package processing in the rack room\n",
      "Ground Truth Steps:\n",
      "  - [2] Store packages in designated racks\n",
      "Response Steps:\n",
      "  - [1] Move to rack\n",
      "  - [3] Load package to designated pallet\n",
      "Confidence: 75%\n",
      "Explanation: The ground truth step 'Store packages in designated racks' is more granular than the response steps. The response steps 'Move to rack' and 'Load package to designated pallet' together encompass the action of storing packages in designated racks.\n",
      "\n",
      "Activity: Package delivery to par location\n",
      "Ground Truth Steps:\n",
      "  - [2] Deliver package to designated par location\n",
      "Response Steps:\n",
      "  - [2] Scan package\n",
      "  - [3] Discard package\n",
      "  - [4] Notify requester\n",
      "  - [5] Return to receiving room\n",
      "  - [6] Stock package\n",
      "Confidence: 70%\n",
      "Explanation: The ground truth step is more high-level, while the response steps provide a more detailed breakdown of the process.\n",
      "\n",
      "\n",
      "\n",
      "Analysis of Unmatched Ground Truth Steps:\n",
      "Activity: Package processing in the receiving room, Step: [1] Inspect package for damage\n",
      "Reason: No corresponding match in the response\n",
      "\n",
      "Activity: Package processing in the receiving room, Step: [2] Scan package barcode\n",
      "Reason: No corresponding match in the response\n",
      "\n",
      "Activity: Package processing in the receiving room, Step: [3] Assign package to appropriate department\n",
      "Reason: No corresponding match in the response\n",
      "\n",
      "Analysis of Unmatched Response Steps:\n",
      "Activity: Package receipt at dock, Step: [4] Wait until pallet is full\n",
      "Reason: This step in the response does not have a corresponding match in the ground truth.\n",
      "\n",
      "Activity: Package receipt at dock, Step: [5] Move to receiving room\n",
      "Reason: This step in the response does not have a corresponding match in the ground truth.\n",
      "\n",
      "Activity: Package processing in the receiving room, Step: [1] Move to workstation\n",
      "Reason: No corresponding match in the ground truth\n",
      "\n",
      "Activity: Package processing in the receiving room, Step: [2] Check destination\n",
      "Reason: No corresponding match in the ground truth\n",
      "\n",
      "Activity: Package processing in the receiving room, Step: [3] Set as unknown\n",
      "Reason: No corresponding match in the ground truth\n",
      "\n",
      "Granularity Issues Identified:\n",
      "Activity: Package processing in the rack room\n",
      "Ground Truth Steps:\n",
      "  - [2] Store packages in designated racks\n",
      "Response Steps:\n",
      "  - [1] Move to rack\n",
      "  - [3] Load package to designated pallet\n",
      "Explanation: The ground truth step 'Store packages in designated racks' is more granular than the response steps. The response steps 'Move to rack' and 'Load package to designated pallet' together encompass the action of storing packages in designated racks.\n",
      "\n",
      "Activity: Package processing in the rack room\n",
      "Ground Truth Steps:\n",
      "Response Steps:\n",
      "  - [4] Deliver to designated par location\n",
      "Explanation: There is no corresponding ground truth step for the response step 'Deliver to designated par location'.\n",
      "\n",
      "Activity: Package delivery to par location\n",
      "Ground Truth Steps:\n",
      "  - [2] Deliver package to designated par location\n",
      "Response Steps:\n",
      "  - [2] Scan package\n",
      "  - [3] Discard package\n",
      "  - [4] Notify requester\n",
      "  - [5] Return to receiving room\n",
      "  - [6] Stock package\n",
      "Explanation: The ground truth step is more high-level, while the response steps provide a more detailed breakdown of the process.\n",
      "\n"
     ]
    },
    {
     "name": "stderr",
     "output_type": "stream",
     "text": [
      "2024-09-26 14:41:22,011 - INFO - HTTP Request: POST https://datascience-openai-local.openai.azure.com//openai/deployments/gpt-35-turbo-16k/chat/completions?api-version=2024-05-01-preview \"HTTP/1.1 200 OK\"\n"
     ]
    },
    {
     "name": "stdout",
     "output_type": "stream",
     "text": [
      "Comparing activity 1...\n"
     ]
    },
    {
     "name": "stderr",
     "output_type": "stream",
     "text": [
      "2024-09-26 14:41:24,571 - INFO - HTTP Request: POST https://datascience-openai-local.openai.azure.com//openai/deployments/gpt-35-turbo-16k/chat/completions?api-version=2024-05-01-preview \"HTTP/1.1 200 OK\"\n"
     ]
    },
    {
     "name": "stdout",
     "output_type": "stream",
     "text": [
      "Comparing activity 2...\n"
     ]
    },
    {
     "name": "stderr",
     "output_type": "stream",
     "text": [
      "2024-09-26 14:41:26,671 - INFO - HTTP Request: POST https://datascience-openai-local.openai.azure.com//openai/deployments/gpt-35-turbo-16k/chat/completions?api-version=2024-05-01-preview \"HTTP/1.1 200 OK\"\n"
     ]
    },
    {
     "name": "stdout",
     "output_type": "stream",
     "text": [
      "Comparing activity 3...\n"
     ]
    },
    {
     "name": "stderr",
     "output_type": "stream",
     "text": [
      "2024-09-26 14:41:29,753 - INFO - HTTP Request: POST https://datascience-openai-local.openai.azure.com//openai/deployments/gpt-35-turbo-16k/chat/completions?api-version=2024-05-01-preview \"HTTP/1.1 200 OK\"\n"
     ]
    },
    {
     "name": "stdout",
     "output_type": "stream",
     "text": [
      "Comparing activity 4...\n"
     ]
    },
    {
     "name": "stderr",
     "output_type": "stream",
     "text": [
      "2024-09-26 14:41:33,035 - INFO - HTTP Request: POST https://datascience-openai-local.openai.azure.com//openai/deployments/gpt-35-turbo-16k/chat/completions?api-version=2024-05-01-preview \"HTTP/1.1 200 OK\"\n"
     ]
    },
    {
     "name": "stdout",
     "output_type": "stream",
     "text": [
      "Comparing activity 5...\n"
     ]
    },
    {
     "name": "stderr",
     "output_type": "stream",
     "text": [
      "2024-09-26 14:41:35,138 - INFO - HTTP Request: POST https://datascience-openai-local.openai.azure.com//openai/deployments/gpt-35-turbo-16k/chat/completions?api-version=2024-05-01-preview \"HTTP/1.1 200 OK\"\n"
     ]
    },
    {
     "name": "stdout",
     "output_type": "stream",
     "text": [
      "Comparing activity 6...\n"
     ]
    },
    {
     "name": "stderr",
     "output_type": "stream",
     "text": [
      "2024-09-26 14:41:37,572 - INFO - HTTP Request: POST https://datascience-openai-local.openai.azure.com//openai/deployments/gpt-35-turbo-16k/chat/completions?api-version=2024-05-01-preview \"HTTP/1.1 200 OK\"\n"
     ]
    },
    {
     "name": "stdout",
     "output_type": "stream",
     "text": [
      "Comparing activity 7...\n"
     ]
    },
    {
     "name": "stderr",
     "output_type": "stream",
     "text": [
      "2024-09-26 14:41:39,549 - INFO - HTTP Request: POST https://datascience-openai-local.openai.azure.com//openai/deployments/gpt-35-turbo-16k/chat/completions?api-version=2024-05-01-preview \"HTTP/1.1 200 OK\"\n"
     ]
    },
    {
     "name": "stdout",
     "output_type": "stream",
     "text": [
      "Comparing activity 8...\n"
     ]
    },
    {
     "name": "stderr",
     "output_type": "stream",
     "text": [
      "2024-09-26 14:41:41,806 - INFO - HTTP Request: POST https://datascience-openai-local.openai.azure.com//openai/deployments/gpt-35-turbo-16k/chat/completions?api-version=2024-05-01-preview \"HTTP/1.1 200 OK\"\n"
     ]
    },
    {
     "name": "stdout",
     "output_type": "stream",
     "text": [
      "Comparing activity 9...\n"
     ]
    },
    {
     "name": "stderr",
     "output_type": "stream",
     "text": [
      "2024-09-26 14:41:45,863 - INFO - HTTP Request: POST https://datascience-openai-local.openai.azure.com//openai/deployments/gpt-35-turbo-16k/chat/completions?api-version=2024-05-01-preview \"HTTP/1.1 200 OK\"\n"
     ]
    },
    {
     "name": "stdout",
     "output_type": "stream",
     "text": [
      "Comparing activity 10...\n"
     ]
    },
    {
     "name": "stderr",
     "output_type": "stream",
     "text": [
      "2024-09-26 14:41:47,644 - INFO - HTTP Request: POST https://datascience-openai-local.openai.azure.com//openai/deployments/gpt-35-turbo-16k/chat/completions?api-version=2024-05-01-preview \"HTTP/1.1 200 OK\"\n"
     ]
    },
    {
     "name": "stdout",
     "output_type": "stream",
     "text": [
      "Comparing activity 11...\n"
     ]
    },
    {
     "name": "stderr",
     "output_type": "stream",
     "text": [
      "2024-09-26 14:41:51,639 - INFO - HTTP Request: POST https://datascience-openai-local.openai.azure.com//openai/deployments/gpt-35-turbo-16k/chat/completions?api-version=2024-05-01-preview \"HTTP/1.1 200 OK\"\n"
     ]
    },
    {
     "name": "stdout",
     "output_type": "stream",
     "text": [
      "Comparing activity 12...\n"
     ]
    },
    {
     "name": "stderr",
     "output_type": "stream",
     "text": [
      "2024-09-26 14:41:53,690 - INFO - HTTP Request: POST https://datascience-openai-local.openai.azure.com//openai/deployments/gpt-35-turbo-16k/chat/completions?api-version=2024-05-01-preview \"HTTP/1.1 200 OK\"\n"
     ]
    },
    {
     "name": "stdout",
     "output_type": "stream",
     "text": [
      "Comparing activity 13...\n"
     ]
    },
    {
     "name": "stderr",
     "output_type": "stream",
     "text": [
      "2024-09-26 14:41:55,879 - INFO - HTTP Request: POST https://datascience-openai-local.openai.azure.com//openai/deployments/gpt-35-turbo-16k/chat/completions?api-version=2024-05-01-preview \"HTTP/1.1 200 OK\"\n"
     ]
    },
    {
     "name": "stdout",
     "output_type": "stream",
     "text": [
      "Comparing activity 14...\n"
     ]
    },
    {
     "name": "stderr",
     "output_type": "stream",
     "text": [
      "2024-09-26 14:41:58,811 - INFO - HTTP Request: POST https://datascience-openai-local.openai.azure.com//openai/deployments/gpt-35-turbo-16k/chat/completions?api-version=2024-05-01-preview \"HTTP/1.1 200 OK\"\n"
     ]
    },
    {
     "name": "stdout",
     "output_type": "stream",
     "text": [
      "Comparing activity 15...\n"
     ]
    },
    {
     "name": "stderr",
     "output_type": "stream",
     "text": [
      "2024-09-26 14:42:00,680 - INFO - HTTP Request: POST https://datascience-openai-local.openai.azure.com//openai/deployments/gpt-35-turbo-16k/chat/completions?api-version=2024-05-01-preview \"HTTP/1.1 200 OK\"\n"
     ]
    },
    {
     "name": "stdout",
     "output_type": "stream",
     "text": [
      "Comparing activity 16...\n"
     ]
    },
    {
     "name": "stderr",
     "output_type": "stream",
     "text": [
      "2024-09-26 14:42:02,665 - INFO - HTTP Request: POST https://datascience-openai-local.openai.azure.com//openai/deployments/gpt-35-turbo-16k/chat/completions?api-version=2024-05-01-preview \"HTTP/1.1 200 OK\"\n"
     ]
    },
    {
     "name": "stdout",
     "output_type": "stream",
     "text": [
      "Comparing activity 17...\n"
     ]
    },
    {
     "name": "stderr",
     "output_type": "stream",
     "text": [
      "2024-09-26 14:42:09,729 - INFO - HTTP Request: POST https://datascience-openai-local.openai.azure.com//openai/deployments/gpt-35-turbo-16k/chat/completions?api-version=2024-05-01-preview \"HTTP/1.1 200 OK\"\n"
     ]
    },
    {
     "name": "stdout",
     "output_type": "stream",
     "text": [
      "Comparing activity 18...\n"
     ]
    },
    {
     "name": "stderr",
     "output_type": "stream",
     "text": [
      "2024-09-26 14:42:11,968 - INFO - HTTP Request: POST https://datascience-openai-local.openai.azure.com//openai/deployments/gpt-35-turbo-16k/chat/completions?api-version=2024-05-01-preview \"HTTP/1.1 200 OK\"\n",
      "2024-09-26 14:42:11,971 - INFO - Successfully processed and saved results for healthcare/patient_intake with GPT-3.5-Activity-Breakdown-Subject_Matter_Expert_Detailed_Basic\n",
      "2024-09-26 14:42:11,972 - INFO - Processing sector: healthcare, activity: prescription_fulfillment\n"
     ]
    },
    {
     "name": "stdout",
     "output_type": "stream",
     "text": [
      "Quantitative Metrics:\n",
      "=====================\n",
      "Total Activities Evaluated: 3\n",
      "Average Overall Similarity Score: 74.86%\n",
      "Average Confidence Score: 61.67%\n",
      "Average Sequence Alignment Score: 31.67%\n",
      "Ground Truth Steps Coverage: 100.00%\n",
      "Response Steps Coverage: 90.41%\n",
      "\n",
      "Match Type Distribution:\n",
      "- Functional Equivalence: 5 matches (18.52%), Average Confidence: 87.00%\n",
      "- No Match: 7 matches (25.93%), Average Confidence: 0.00%\n",
      "- Granularity Difference: 15 matches (55.56%), Average Confidence: 82.00%\n",
      "\n",
      "\n",
      "Qualitative Analysis:\n",
      "=====================\n",
      "\n",
      "Examples of Matched Steps by Match Type:\n",
      "\n",
      "Match Type: Functional Equivalence\n",
      "Activity: Answer notice\n",
      "Ground Truth Steps:\n",
      "  - [1] Receive notice by phone\n",
      "Response Steps:\n",
      "  - [1] Receive phone call\n",
      "Confidence: 95%\n",
      "Explanation: The ground truth step 'Receive notice by phone' is functionally equivalent to the response step 'Receive phone call'.\n",
      "\n",
      "Activity: Store and print notice\n",
      "Ground Truth Steps:\n",
      "  - [1] Store notice information\n",
      "Response Steps:\n",
      "  - [1] Save notice in digital system\n",
      "Confidence: 90%\n",
      "Explanation: The ground truth step 'Store notice information' and the response step 'Save notice in digital system' describe the same action of storing the notice, but use different wording.\n",
      "\n",
      "Activity: Store and print notice\n",
      "Ground Truth Steps:\n",
      "  - [2] Print notice\n",
      "Response Steps:\n",
      "  - [2] Print physical copy of notice\n",
      "Confidence: 90%\n",
      "Explanation: The ground truth step 'Print notice' and the response step 'Print physical copy of notice' describe the same action of printing the notice, but use different wording.\n",
      "\n",
      "\n",
      "\n",
      "Match Type: No Match\n",
      "Activity: Answer notice\n",
      "Ground Truth Steps:\n",
      "Response Steps:\n",
      "  - [2] Greet caller\n",
      "  - [3] Listen to notice details\n",
      "Confidence: 0%\n",
      "Explanation: There are no corresponding ground truth steps for the response steps 'Greet caller' and 'Listen to notice details'.\n",
      "\n",
      "Activity: Store and print notice\n",
      "Ground Truth Steps:\n",
      "Response Steps:\n",
      "  - [3] File printed notice\n",
      "Confidence: 0%\n",
      "Explanation: There is no corresponding ground truth step for the response step 'File printed notice'.\n",
      "\n",
      "Activity: Ask for medical file\n",
      "Ground Truth Steps:\n",
      "  - [1] Check if medical file is required\n",
      "Response Steps:\n",
      "  - [1] Identify appropriate medical provider\n",
      "Confidence: 0%\n",
      "Explanation: The ground truth step 'Check if medical file is required' does not have a corresponding match in the response.\n",
      "\n",
      "\n",
      "\n",
      "Match Type: Granularity Difference\n",
      "Activity: Record notice\n",
      "Ground Truth Steps:\n",
      "  - [1] Record notice information\n",
      "Response Steps:\n",
      "  - [1] Open notice recording system\n",
      "  - [2] Input caller's information\n",
      "  - [3] Document notice details\n",
      "  - [4] Save notice record\n",
      "Confidence: 80%\n",
      "Explanation: The ground truth step 'Record notice information' corresponds to the response steps 1, 2, 3, and 4. The response steps provide a more detailed breakdown of the process of recording notice information.\n",
      "\n",
      "Activity: Create patient file\n",
      "Ground Truth Steps:\n",
      "  - [2] Create new patient file\n",
      "Response Steps:\n",
      "  - [2] Input new patient details\n",
      "  - [3] Assign unique patient ID\n",
      "  - [4] Save new patient file\n",
      "Confidence: 90%\n",
      "Explanation: The ground truth step 'Create new patient file' is more granular and corresponds to multiple response steps: 'Input new patient details', 'Assign unique patient ID', and 'Save new patient file'.\n",
      "\n",
      "Activity: Close case\n",
      "Ground Truth Steps:\n",
      "  - [1] Close the case\n",
      "Response Steps:\n",
      "  - [1] Review case details\n",
      "  - [2] Ensure all necessary information is recorded\n",
      "  - [3] Mark case as closed in system\n",
      "Confidence: 80%\n",
      "Explanation: The ground truth step 'Close the case' corresponds to the response steps 'Review case details', 'Ensure all necessary information is recorded', and 'Mark case as closed in system'. The response steps provide a more detailed breakdown of the actions involved in closing the case.\n",
      "\n",
      "\n",
      "\n",
      "Analysis of Unmatched Ground Truth Steps:\n",
      "Analysis of Unmatched Response Steps:\n",
      "Activity: Hand out cards, Step: [3] Confirm receipt of cards\n",
      "Reason: There is no corresponding step in the ground truth.\n",
      "\n",
      "Activity: Ask for medical file, Step: [1] Identify appropriate medical provider\n",
      "Reason: This response step does not have a corresponding match in the ground truth.\n",
      "\n",
      "Activity: Ask for medical file, Step: [3] Send request to medical provider\n",
      "Reason: This response step does not have a corresponding match in the ground truth.\n",
      "\n",
      "Activity: Ask for medical file, Step: [4] Log request in patient file\n",
      "Reason: This response step does not have a corresponding match in the ground truth.\n",
      "\n",
      "Activity: Complete file with 2nd information, Step: [2] Update patient file with new information\n",
      "Reason: There is no corresponding ground truth step for the response step 'Update patient file with new information'. This step is not part of the original ground truth activity.\n",
      "\n",
      "Granularity Issues Identified:\n",
      "Activity: Answer notice\n",
      "Ground Truth Steps:\n",
      "Response Steps:\n",
      "  - [2] Greet caller\n",
      "  - [3] Listen to notice details\n",
      "Explanation: There are no corresponding ground truth steps for the response steps 'Greet caller' and 'Listen to notice details'.\n",
      "\n",
      "Activity: Record notice\n",
      "Ground Truth Steps:\n",
      "  - [1] Record notice information\n",
      "Response Steps:\n",
      "  - [1] Open notice recording system\n",
      "  - [2] Input caller's information\n",
      "  - [3] Document notice details\n",
      "  - [4] Save notice record\n",
      "Explanation: The ground truth step 'Record notice information' corresponds to the response steps 1, 2, 3, and 4. The response steps provide a more detailed breakdown of the process of recording notice information.\n",
      "\n",
      "Activity: Store and print notice\n",
      "Ground Truth Steps:\n",
      "Response Steps:\n",
      "  - [3] File printed notice\n",
      "Explanation: There is no corresponding ground truth step for the response step 'File printed notice'.\n",
      "\n",
      "Activity: Create patient file\n",
      "Ground Truth Steps:\n",
      "  - [2] Create new patient file\n",
      "Response Steps:\n",
      "  - [2] Input new patient details\n",
      "  - [3] Assign unique patient ID\n",
      "  - [4] Save new patient file\n",
      "Explanation: The ground truth step 'Create new patient file' is more granular and corresponds to multiple response steps: 'Input new patient details', 'Assign unique patient ID', and 'Save new patient file'.\n",
      "\n",
      "Activity: Close case\n",
      "Ground Truth Steps:\n",
      "  - [1] Close the case\n",
      "Response Steps:\n",
      "  - [1] Review case details\n",
      "  - [2] Ensure all necessary information is recorded\n",
      "  - [3] Mark case as closed in system\n",
      "Explanation: The ground truth step 'Close the case' corresponds to the response steps 'Review case details', 'Ensure all necessary information is recorded', and 'Mark case as closed in system'. The response steps provide a more detailed breakdown of the actions involved in closing the case.\n",
      "\n"
     ]
    },
    {
     "name": "stderr",
     "output_type": "stream",
     "text": [
      "2024-09-26 14:42:27,203 - INFO - HTTP Request: POST https://datascience-openai-local.openai.azure.com//openai/deployments/gpt-35-turbo-16k/chat/completions?api-version=2024-05-01-preview \"HTTP/1.1 200 OK\"\n"
     ]
    },
    {
     "name": "stdout",
     "output_type": "stream",
     "text": [
      "Comparing activity 1...\n"
     ]
    },
    {
     "name": "stderr",
     "output_type": "stream",
     "text": [
      "2024-09-26 14:42:29,753 - INFO - HTTP Request: POST https://datascience-openai-local.openai.azure.com//openai/deployments/gpt-35-turbo-16k/chat/completions?api-version=2024-05-01-preview \"HTTP/1.1 200 OK\"\n"
     ]
    },
    {
     "name": "stdout",
     "output_type": "stream",
     "text": [
      "Comparing activity 2...\n"
     ]
    },
    {
     "name": "stderr",
     "output_type": "stream",
     "text": [
      "2024-09-26 14:42:32,082 - INFO - HTTP Request: POST https://datascience-openai-local.openai.azure.com//openai/deployments/gpt-35-turbo-16k/chat/completions?api-version=2024-05-01-preview \"HTTP/1.1 200 OK\"\n"
     ]
    },
    {
     "name": "stdout",
     "output_type": "stream",
     "text": [
      "Comparing activity 3...\n"
     ]
    },
    {
     "name": "stderr",
     "output_type": "stream",
     "text": [
      "2024-09-26 14:42:34,634 - INFO - HTTP Request: POST https://datascience-openai-local.openai.azure.com//openai/deployments/gpt-35-turbo-16k/chat/completions?api-version=2024-05-01-preview \"HTTP/1.1 200 OK\"\n"
     ]
    },
    {
     "name": "stdout",
     "output_type": "stream",
     "text": [
      "Comparing activity 4...\n"
     ]
    },
    {
     "name": "stderr",
     "output_type": "stream",
     "text": [
      "2024-09-26 14:42:36,730 - INFO - HTTP Request: POST https://datascience-openai-local.openai.azure.com//openai/deployments/gpt-35-turbo-16k/chat/completions?api-version=2024-05-01-preview \"HTTP/1.1 200 OK\"\n"
     ]
    },
    {
     "name": "stdout",
     "output_type": "stream",
     "text": [
      "Comparing activity 5...\n"
     ]
    },
    {
     "name": "stderr",
     "output_type": "stream",
     "text": [
      "2024-09-26 14:42:38,345 - INFO - HTTP Request: POST https://datascience-openai-local.openai.azure.com//openai/deployments/gpt-35-turbo-16k/chat/completions?api-version=2024-05-01-preview \"HTTP/1.1 200 OK\"\n"
     ]
    },
    {
     "name": "stdout",
     "output_type": "stream",
     "text": [
      "Comparing activity 6...\n"
     ]
    },
    {
     "name": "stderr",
     "output_type": "stream",
     "text": [
      "2024-09-26 14:42:40,174 - INFO - HTTP Request: POST https://datascience-openai-local.openai.azure.com//openai/deployments/gpt-35-turbo-16k/chat/completions?api-version=2024-05-01-preview \"HTTP/1.1 200 OK\"\n"
     ]
    },
    {
     "name": "stdout",
     "output_type": "stream",
     "text": [
      "Comparing activity 7...\n"
     ]
    },
    {
     "name": "stderr",
     "output_type": "stream",
     "text": [
      "2024-09-26 14:42:42,299 - INFO - HTTP Request: POST https://datascience-openai-local.openai.azure.com//openai/deployments/gpt-35-turbo-16k/chat/completions?api-version=2024-05-01-preview \"HTTP/1.1 200 OK\"\n"
     ]
    },
    {
     "name": "stdout",
     "output_type": "stream",
     "text": [
      "Comparing activity 8...\n"
     ]
    },
    {
     "name": "stderr",
     "output_type": "stream",
     "text": [
      "2024-09-26 14:42:45,116 - INFO - HTTP Request: POST https://datascience-openai-local.openai.azure.com//openai/deployments/gpt-35-turbo-16k/chat/completions?api-version=2024-05-01-preview \"HTTP/1.1 200 OK\"\n"
     ]
    },
    {
     "name": "stdout",
     "output_type": "stream",
     "text": [
      "Comparing activity 9...\n"
     ]
    },
    {
     "name": "stderr",
     "output_type": "stream",
     "text": [
      "2024-09-26 14:42:47,567 - INFO - HTTP Request: POST https://datascience-openai-local.openai.azure.com//openai/deployments/gpt-35-turbo-16k/chat/completions?api-version=2024-05-01-preview \"HTTP/1.1 200 OK\"\n"
     ]
    },
    {
     "name": "stdout",
     "output_type": "stream",
     "text": [
      "Comparing activity 10...\n"
     ]
    },
    {
     "name": "stderr",
     "output_type": "stream",
     "text": [
      "2024-09-26 14:42:50,510 - INFO - HTTP Request: POST https://datascience-openai-local.openai.azure.com//openai/deployments/gpt-35-turbo-16k/chat/completions?api-version=2024-05-01-preview \"HTTP/1.1 200 OK\"\n"
     ]
    },
    {
     "name": "stdout",
     "output_type": "stream",
     "text": [
      "Comparing activity 11...\n"
     ]
    },
    {
     "name": "stderr",
     "output_type": "stream",
     "text": [
      "2024-09-26 14:42:53,292 - INFO - HTTP Request: POST https://datascience-openai-local.openai.azure.com//openai/deployments/gpt-35-turbo-16k/chat/completions?api-version=2024-05-01-preview \"HTTP/1.1 200 OK\"\n"
     ]
    },
    {
     "name": "stdout",
     "output_type": "stream",
     "text": [
      "Comparing activity 12...\n"
     ]
    },
    {
     "name": "stderr",
     "output_type": "stream",
     "text": [
      "2024-09-26 14:42:55,830 - INFO - HTTP Request: POST https://datascience-openai-local.openai.azure.com//openai/deployments/gpt-35-turbo-16k/chat/completions?api-version=2024-05-01-preview \"HTTP/1.1 200 OK\"\n"
     ]
    },
    {
     "name": "stdout",
     "output_type": "stream",
     "text": [
      "Comparing activity 13...\n"
     ]
    },
    {
     "name": "stderr",
     "output_type": "stream",
     "text": [
      "2024-09-26 14:42:59,104 - INFO - HTTP Request: POST https://datascience-openai-local.openai.azure.com//openai/deployments/gpt-35-turbo-16k/chat/completions?api-version=2024-05-01-preview \"HTTP/1.1 200 OK\"\n"
     ]
    },
    {
     "name": "stdout",
     "output_type": "stream",
     "text": [
      "Comparing activity 14...\n"
     ]
    },
    {
     "name": "stderr",
     "output_type": "stream",
     "text": [
      "2024-09-26 14:43:02,143 - INFO - HTTP Request: POST https://datascience-openai-local.openai.azure.com//openai/deployments/gpt-35-turbo-16k/chat/completions?api-version=2024-05-01-preview \"HTTP/1.1 200 OK\"\n"
     ]
    },
    {
     "name": "stdout",
     "output_type": "stream",
     "text": [
      "Comparing activity 15...\n"
     ]
    },
    {
     "name": "stderr",
     "output_type": "stream",
     "text": [
      "2024-09-26 14:43:06,491 - INFO - HTTP Request: POST https://datascience-openai-local.openai.azure.com//openai/deployments/gpt-35-turbo-16k/chat/completions?api-version=2024-05-01-preview \"HTTP/1.1 200 OK\"\n"
     ]
    },
    {
     "name": "stdout",
     "output_type": "stream",
     "text": [
      "Comparing activity 16...\n"
     ]
    },
    {
     "name": "stderr",
     "output_type": "stream",
     "text": [
      "2024-09-26 14:43:10,046 - INFO - HTTP Request: POST https://datascience-openai-local.openai.azure.com//openai/deployments/gpt-35-turbo-16k/chat/completions?api-version=2024-05-01-preview \"HTTP/1.1 200 OK\"\n"
     ]
    },
    {
     "name": "stdout",
     "output_type": "stream",
     "text": [
      "Comparing activity 17...\n"
     ]
    },
    {
     "name": "stderr",
     "output_type": "stream",
     "text": [
      "2024-09-26 14:43:13,226 - INFO - HTTP Request: POST https://datascience-openai-local.openai.azure.com//openai/deployments/gpt-35-turbo-16k/chat/completions?api-version=2024-05-01-preview \"HTTP/1.1 200 OK\"\n"
     ]
    },
    {
     "name": "stdout",
     "output_type": "stream",
     "text": [
      "Comparing activity 18...\n"
     ]
    },
    {
     "name": "stderr",
     "output_type": "stream",
     "text": [
      "2024-09-26 14:43:16,760 - INFO - HTTP Request: POST https://datascience-openai-local.openai.azure.com//openai/deployments/gpt-35-turbo-16k/chat/completions?api-version=2024-05-01-preview \"HTTP/1.1 200 OK\"\n"
     ]
    },
    {
     "name": "stdout",
     "output_type": "stream",
     "text": [
      "Comparing activity 19...\n"
     ]
    },
    {
     "name": "stderr",
     "output_type": "stream",
     "text": [
      "2024-09-26 14:43:19,660 - INFO - HTTP Request: POST https://datascience-openai-local.openai.azure.com//openai/deployments/gpt-35-turbo-16k/chat/completions?api-version=2024-05-01-preview \"HTTP/1.1 200 OK\"\n"
     ]
    },
    {
     "name": "stdout",
     "output_type": "stream",
     "text": [
      "Comparing activity 20...\n"
     ]
    },
    {
     "name": "stderr",
     "output_type": "stream",
     "text": [
      "2024-09-26 14:43:22,540 - INFO - HTTP Request: POST https://datascience-openai-local.openai.azure.com//openai/deployments/gpt-35-turbo-16k/chat/completions?api-version=2024-05-01-preview \"HTTP/1.1 200 OK\"\n",
      "2024-09-26 14:43:22,544 - INFO - Successfully processed and saved results for healthcare/prescription_fulfillment with GPT-3.5-Activity-Breakdown-Subject_Matter_Expert_Detailed_Basic\n"
     ]
    },
    {
     "name": "stdout",
     "output_type": "stream",
     "text": [
      "Quantitative Metrics:\n",
      "=====================\n",
      "Total Activities Evaluated: 3\n",
      "Average Overall Similarity Score: 16.00%\n",
      "Average Confidence Score: 16.00%\n",
      "Average Sequence Alignment Score: 73.75%\n",
      "Ground Truth Steps Coverage: 58.82%\n",
      "Response Steps Coverage: 41.46%\n",
      "\n",
      "Match Type Distribution:\n",
      "- No Match: 16 matches (80.00%), Average Confidence: 0.00%\n",
      "- Functional Equivalence: 3 matches (15.00%), Average Confidence: 80.00%\n",
      "- Granularity Difference: 1 matches (5.00%), Average Confidence: 80.00%\n",
      "\n",
      "\n",
      "Qualitative Analysis:\n",
      "=====================\n",
      "\n",
      "Examples of Matched Steps by Match Type:\n",
      "\n",
      "Match Type: No Match\n",
      "Activity: Drop off prescription\n",
      "Ground Truth Steps:\n",
      "  - [1] Customer arrives at the pharmacy\n",
      "Response Steps:\n",
      "  - [1] Choose drop-off location (drive-through or front counter)\n",
      "  - [2] Hand over prescription to staff\n",
      "Confidence: 0%\n",
      "Explanation: The ground truth step 'Customer arrives at the pharmacy' does not have a corresponding step in the response.\n",
      "\n",
      "Activity: Drop-off location\n",
      "Ground Truth Steps:\n",
      "  - [1] Customer selects drive-through or front counter\n",
      "Response Steps:\n",
      "  - [1] Receive estimated wait time\n",
      "  - [2] Wait in designated area or return later\n",
      "Confidence: 0%\n",
      "Explanation: The ground truth step 'Customer selects drive-through or front counter' does not have a corresponding step in the response activity.\n",
      "\n",
      "Activity: Drop off prescription\n",
      "Ground Truth Steps:\n",
      "  - [1] Customer hands over prescription to pharmacy staff\n",
      "Response Steps:\n",
      "  - [1] Discuss available pickup times with staff\n",
      "Confidence: 0%\n",
      "Explanation: There is no corresponding step in the response activity.\n",
      "\n",
      "\n",
      "\n",
      "Match Type: Functional Equivalence\n",
      "Activity: Immediate fill?\n",
      "Ground Truth Steps:\n",
      "  - [1] Pharmacy staff checks if prescription can be filled immediately\n",
      "Response Steps:\n",
      "  - [1] Inquire about customer's preferred pickup time\n",
      "Confidence: 80%\n",
      "Explanation: The response step 'Inquire about customer's preferred pickup time' is functionally equivalent to the ground truth step 'Pharmacy staff checks if prescription can be filled immediately', as both steps involve gathering information about the customer's preferred pickup time.\n",
      "\n",
      "Activity: Nominate pickup time\n",
      "Ground Truth Steps:\n",
      "  - [1] Customer selects a specific time for prescription pickup\n",
      "Response Steps:\n",
      "  - [1] Identify current hour's time-labeled box\n",
      "Confidence: 80%\n",
      "Explanation: The response step 'Identify current hour's time-labeled box' is functionally equivalent to the ground truth step 'Customer selects a specific time for prescription pickup', as both steps involve identifying a specific time for prescription pickup.\n",
      "\n",
      "Activity: Call doctor to confirm\n",
      "Ground Truth Steps:\n",
      "  - [1] Pharmacist calls the doctor to confirm prescription details\n",
      "Response Steps:\n",
      "  - [1] Review prescription details\n",
      "Confidence: 80%\n",
      "Explanation: The response step 'Review prescription details' is functionally equivalent to the ground truth step 'Pharmacist calls the doctor to confirm prescription details'. Although the wording is different, both steps involve confirming prescription details.\n",
      "\n",
      "\n",
      "\n",
      "Match Type: Granularity Difference\n",
      "Activity: Wait 15min - 1h\n",
      "Ground Truth Steps:\n",
      "  - [1] Customer waits for prescription to be filled\n",
      "Response Steps:\n",
      "  - [1] Identify appropriate time-labeled box\n",
      "  - [2] Place prescription in correct box\n",
      "Confidence: 80%\n",
      "Explanation: Ground truth step 1 corresponds to response steps 1 and 2. The response steps provide more detailed actions within the waiting period.\n",
      "\n",
      "\n",
      "\n",
      "Analysis of Unmatched Ground Truth Steps:\n",
      "Activity: Drop off prescription, Step: [1] Customer arrives at the pharmacy\n",
      "Reason: No corresponding step in the response\n",
      "\n",
      "Activity: Drop-off location, Step: [1] Customer selects drive-through or front counter\n",
      "Reason: No corresponding step in the response activity\n",
      "\n",
      "Activity: Drop off prescription, Step: [1] Customer hands over prescription to pharmacy staff\n",
      "Reason: There is no corresponding step in the response activity.\n",
      "\n",
      "Activity: Place in time-labeled box, Step: [1] Technician puts prescription in a box labeled with pickup time\n",
      "Reason: There is no corresponding step in the response activity.\n",
      "\n",
      "Activity: Enter prescription details in system, Step: [1] Technician enters prescription information into the pharmacy system\n",
      "Reason: There is no corresponding step in the response activity.\n",
      "\n",
      "Analysis of Unmatched Response Steps:\n",
      "Activity: Drop off prescription, Step: [1] Choose drop-off location (drive-through or front counter)\n",
      "Reason: No corresponding step in the ground truth\n",
      "\n",
      "Activity: Drop off prescription, Step: [2] Hand over prescription to staff\n",
      "Reason: No corresponding step in the ground truth\n",
      "\n",
      "Activity: Drop-off location, Step: [1] Receive estimated wait time\n",
      "Reason: No corresponding step in the ground truth activity\n",
      "\n",
      "Activity: Drop-off location, Step: [2] Wait in designated area or return later\n",
      "Reason: No corresponding step in the ground truth activity\n",
      "\n",
      "Activity: Drop off prescription, Step: [1] Discuss available pickup times with staff\n",
      "Reason: There is no corresponding step in the ground truth activity.\n",
      "\n",
      "Granularity Issues Identified:\n",
      "Activity: Drop off prescription\n",
      "Ground Truth Steps:\n",
      "  - [1] Customer arrives at the pharmacy\n",
      "Response Steps:\n",
      "  - [1] Choose drop-off location (drive-through or front counter)\n",
      "  - [2] Hand over prescription to staff\n",
      "Explanation: The ground truth step 'Customer arrives at the pharmacy' does not have a corresponding step in the response.\n",
      "\n",
      "Activity: Drop-off location\n",
      "Ground Truth Steps:\n",
      "  - [1] Customer selects drive-through or front counter\n",
      "Response Steps:\n",
      "  - [1] Receive estimated wait time\n",
      "  - [2] Wait in designated area or return later\n",
      "Explanation: The ground truth step 'Customer selects drive-through or front counter' does not have a corresponding step in the response activity.\n",
      "\n",
      "Activity: Wait 15min - 1h\n",
      "Ground Truth Steps:\n",
      "  - [1] Customer waits for prescription to be filled\n",
      "Response Steps:\n",
      "  - [1] Identify appropriate time-labeled box\n",
      "  - [2] Place prescription in correct box\n",
      "Explanation: Ground truth step 1 corresponds to response steps 1 and 2. The response steps provide more detailed actions within the waiting period.\n",
      "\n",
      "Activity: Enter prescription details in system\n",
      "Ground Truth Steps:\n",
      "  - [1] Technician enters prescription information into the pharmacy system\n",
      "Response Steps:\n",
      "  - [1] Prepare relevant information for discussion\n",
      "  - [2] Contact prescribing doctor\n",
      "  - [3] Discuss concerns and confirm or modify prescription\n",
      "Explanation: There is no corresponding step in the response activity for the ground truth step.\n",
      "\n",
      "Activity: Pharmacist review\n",
      "Ground Truth Steps:\n",
      "  - [1] Pharmacist reviews prescriptions with DUR alarms\n",
      "Response Steps:\n",
      "  - [1] Prepare alternative drug options\n",
      "  - [2] Contact doctor or patient\n",
      "  - [3] Discuss replacement options and decide on alternative\n",
      "Explanation: There is no direct match between the ground truth step and any of the response steps.\n",
      "\n"
     ]
    },
    {
     "name": "stderr",
     "output_type": "stream",
     "text": [
      "2024-09-26 14:43:22,784 - INFO - Processing sector: insurance, activity: damage_compensation\n",
      "2024-09-26 14:43:27,570 - INFO - HTTP Request: POST https://datascience-openai-local.openai.azure.com//openai/deployments/gpt-35-turbo-16k/chat/completions?api-version=2024-05-01-preview \"HTTP/1.1 200 OK\"\n"
     ]
    },
    {
     "name": "stdout",
     "output_type": "stream",
     "text": [
      "Comparing activity 1...\n"
     ]
    },
    {
     "name": "stderr",
     "output_type": "stream",
     "text": [
      "2024-09-26 14:43:29,449 - INFO - HTTP Request: POST https://datascience-openai-local.openai.azure.com//openai/deployments/gpt-35-turbo-16k/chat/completions?api-version=2024-05-01-preview \"HTTP/1.1 200 OK\"\n"
     ]
    },
    {
     "name": "stdout",
     "output_type": "stream",
     "text": [
      "Comparing activity 2...\n"
     ]
    },
    {
     "name": "stderr",
     "output_type": "stream",
     "text": [
      "2024-09-26 14:43:32,093 - INFO - HTTP Request: POST https://datascience-openai-local.openai.azure.com//openai/deployments/gpt-35-turbo-16k/chat/completions?api-version=2024-05-01-preview \"HTTP/1.1 200 OK\"\n"
     ]
    },
    {
     "name": "stdout",
     "output_type": "stream",
     "text": [
      "Comparing activity 3...\n"
     ]
    },
    {
     "name": "stderr",
     "output_type": "stream",
     "text": [
      "2024-09-26 14:43:35,019 - INFO - HTTP Request: POST https://datascience-openai-local.openai.azure.com//openai/deployments/gpt-35-turbo-16k/chat/completions?api-version=2024-05-01-preview \"HTTP/1.1 200 OK\"\n"
     ]
    },
    {
     "name": "stdout",
     "output_type": "stream",
     "text": [
      "Comparing activity 4...\n"
     ]
    },
    {
     "name": "stderr",
     "output_type": "stream",
     "text": [
      "2024-09-26 14:43:37,753 - INFO - HTTP Request: POST https://datascience-openai-local.openai.azure.com//openai/deployments/gpt-35-turbo-16k/chat/completions?api-version=2024-05-01-preview \"HTTP/1.1 200 OK\"\n"
     ]
    },
    {
     "name": "stdout",
     "output_type": "stream",
     "text": [
      "Comparing activity 5...\n"
     ]
    },
    {
     "name": "stderr",
     "output_type": "stream",
     "text": [
      "2024-09-26 14:43:40,650 - INFO - HTTP Request: POST https://datascience-openai-local.openai.azure.com//openai/deployments/gpt-35-turbo-16k/chat/completions?api-version=2024-05-01-preview \"HTTP/1.1 200 OK\"\n"
     ]
    },
    {
     "name": "stdout",
     "output_type": "stream",
     "text": [
      "Comparing activity 6...\n"
     ]
    },
    {
     "name": "stderr",
     "output_type": "stream",
     "text": [
      "2024-09-26 14:43:43,687 - INFO - HTTP Request: POST https://datascience-openai-local.openai.azure.com//openai/deployments/gpt-35-turbo-16k/chat/completions?api-version=2024-05-01-preview \"HTTP/1.1 200 OK\"\n"
     ]
    },
    {
     "name": "stdout",
     "output_type": "stream",
     "text": [
      "Comparing activity 7...\n"
     ]
    },
    {
     "name": "stderr",
     "output_type": "stream",
     "text": [
      "2024-09-26 14:43:46,852 - INFO - HTTP Request: POST https://datascience-openai-local.openai.azure.com//openai/deployments/gpt-35-turbo-16k/chat/completions?api-version=2024-05-01-preview \"HTTP/1.1 200 OK\"\n"
     ]
    },
    {
     "name": "stdout",
     "output_type": "stream",
     "text": [
      "Comparing activity 8...\n"
     ]
    },
    {
     "name": "stderr",
     "output_type": "stream",
     "text": [
      "2024-09-26 14:43:50,011 - INFO - HTTP Request: POST https://datascience-openai-local.openai.azure.com//openai/deployments/gpt-35-turbo-16k/chat/completions?api-version=2024-05-01-preview \"HTTP/1.1 200 OK\"\n",
      "2024-09-26 14:43:50,015 - INFO - Successfully processed and saved results for insurance/damage_compensation with GPT-3.5-Activity-Breakdown-Subject_Matter_Expert_Detailed_Basic\n",
      "2024-09-26 14:43:50,016 - INFO - Processing sector: insurance, activity: handle_claim\n"
     ]
    },
    {
     "name": "stdout",
     "output_type": "stream",
     "text": [
      "Quantitative Metrics:\n",
      "=====================\n",
      "Total Activities Evaluated: 2\n",
      "Average Overall Similarity Score: 16.25%\n",
      "Average Confidence Score: 18.89%\n",
      "Average Sequence Alignment Score: 42.71%\n",
      "Ground Truth Steps Coverage: 60.00%\n",
      "Response Steps Coverage: 52.38%\n",
      "\n",
      "Match Type Distribution:\n",
      "- Functional Equivalence: 2 matches (22.22%), Average Confidence: 85.00%\n",
      "- No Match: 7 matches (77.78%), Average Confidence: 0.00%\n",
      "\n",
      "\n",
      "Qualitative Analysis:\n",
      "=====================\n",
      "\n",
      "Examples of Matched Steps by Match Type:\n",
      "\n",
      "Match Type: Functional Equivalence\n",
      "Activity: Start\n",
      "Ground Truth Steps:\n",
      "  - [1] Request for compensation\n",
      "Response Steps:\n",
      "  - [1] Receive request for compensation\n",
      "Confidence: 90%\n",
      "Explanation: The ground truth step 'Request for compensation' and the response step 'Receive request for compensation' describe the same action using different words.\n",
      "\n",
      "Activity: CheckCompliance\n",
      "Ground Truth Steps:\n",
      "  - [1] Check compliance\n",
      "Response Steps:\n",
      "  - [1] Record compliance status\n",
      "Confidence: 80%\n",
      "Explanation: The response step 'Record compliance status' is functionally equivalent to the ground truth step 'Check compliance'. Although the wording is different, both steps involve assessing the compliance status.\n",
      "\n",
      "\n",
      "\n",
      "Match Type: No Match\n",
      "Activity: CompensationReceived\n",
      "Ground Truth Steps:\n",
      "  - [1] Compensation request received\n",
      "Response Steps:\n",
      "  - [1] Access Premises files DB\n",
      "  - [2] Locate relevant file\n",
      "  - [3] Retrieve file from database\n",
      "Confidence: 0%\n",
      "Explanation: There is no meaningful correspondence between 'Compensation request received' and the response steps.\n",
      "\n",
      "Activity: RetrieveFile\n",
      "Ground Truth Steps:\n",
      "  - [1] Retrieve related file\n",
      "Response Steps:\n",
      "  - [1] Review request details\n",
      "  - [2] Compare against compliance criteria\n",
      "  - [3] Determine compliance status\n",
      "Confidence: 0%\n",
      "Explanation: There is no corresponding step in the response activity.\n",
      "\n",
      "Activity: CheckCompliance\n",
      "Ground Truth Steps:\n",
      "  - [1] Check compliance\n",
      "Response Steps:\n",
      "  - [2] Update request with additional information if necessary\n",
      "Confidence: 0%\n",
      "Explanation: There is no meaningful match between the ground truth step 'Check compliance' and the response step 'Update request with additional information if necessary'. These steps have different purposes and do not correspond to each other.\n",
      "\n",
      "\n",
      "\n",
      "Analysis of Unmatched Ground Truth Steps:\n",
      "Activity: CompensationReceived, Step: [1] Compensation request received\n",
      "Reason: There is no corresponding step in the response.\n",
      "\n",
      "Activity: RetrieveFile, Step: [1] Retrieve related file\n",
      "Reason: There is no corresponding step in the response activity.\n",
      "\n",
      "Activity: UpdateRequest, Step: [1] Update request\n",
      "Reason: There is no corresponding match in the response steps.\n",
      "\n",
      "Activity: CheckFeePayment, Step: [1] Check fee payment\n",
      "Reason: No corresponding step in the response activity\n",
      "\n",
      "Activity: ProduceFees, Step: [1] Produce fees notice\n",
      "Reason: There is no corresponding match in the response steps.\n",
      "\n",
      "Analysis of Unmatched Response Steps:\n",
      "Activity: Start, Step: [2] Log receipt of compensation request\n",
      "Reason: There is no corresponding ground truth step for this response step.\n",
      "\n",
      "Activity: CompensationReceived, Step: [1] Access Premises files DB\n",
      "Reason: There is no corresponding step in the ground truth.\n",
      "\n",
      "Activity: CompensationReceived, Step: [2] Locate relevant file\n",
      "Reason: There is no corresponding step in the ground truth.\n",
      "\n",
      "Activity: CompensationReceived, Step: [3] Retrieve file from database\n",
      "Reason: There is no corresponding step in the ground truth.\n",
      "\n",
      "Activity: RetrieveFile, Step: [1] Review request details\n",
      "Reason: There is no corresponding step in the ground truth activity.\n",
      "\n",
      "Granularity Issues Identified:\n",
      "Activity: CompensationReceived\n",
      "Ground Truth Steps:\n",
      "  - [1] Compensation request received\n",
      "Response Steps:\n",
      "  - [1] Access Premises files DB\n",
      "  - [2] Locate relevant file\n",
      "  - [3] Retrieve file from database\n",
      "Explanation: There is no meaningful correspondence between 'Compensation request received' and the response steps.\n",
      "\n",
      "Activity: RetrieveFile\n",
      "Ground Truth Steps:\n",
      "  - [1] Retrieve related file\n",
      "Response Steps:\n",
      "  - [1] Review request details\n",
      "  - [2] Compare against compliance criteria\n",
      "  - [3] Determine compliance status\n",
      "Explanation: There is no corresponding step in the response activity.\n",
      "\n",
      "Activity: UpdateRequest\n",
      "Ground Truth Steps:\n",
      "  - [1] Update request\n",
      "Response Steps:\n",
      "  - [1] Determine required fees\n",
      "  - [2] Verify received payments\n",
      "  - [3] Determine if fees are fully paid\n",
      "Explanation: There is no meaningful match between the ground truth step 'Update request' and any of the response steps.\n",
      "\n",
      "Activity: CheckFeePayment\n",
      "Ground Truth Steps:\n",
      "  - [1] Check fee payment\n",
      "Response Steps:\n",
      "  - [1] Calculate outstanding fees\n",
      "  - [2] Generate fees notice document\n",
      "  - [3] Send fees notice to requester\n",
      "Explanation: The ground truth step 'Check fee payment' does not have a corresponding step in the response activity.\n",
      "\n",
      "Activity: ProduceFees\n",
      "Ground Truth Steps:\n",
      "  - [1] Produce fees notice\n",
      "Response Steps:\n",
      "  - [1] Process additional fee payment\n",
      "  - [2] Generate receipt\n",
      "  - [3] Record receipt in system\n",
      "Explanation: There is no meaningful match between 'Produce fees notice' and the response steps.\n",
      "\n"
     ]
    },
    {
     "name": "stderr",
     "output_type": "stream",
     "text": [
      "2024-09-26 14:43:54,462 - INFO - HTTP Request: POST https://datascience-openai-local.openai.azure.com//openai/deployments/gpt-35-turbo-16k/chat/completions?api-version=2024-05-01-preview \"HTTP/1.1 200 OK\"\n"
     ]
    },
    {
     "name": "stdout",
     "output_type": "stream",
     "text": [
      "Comparing activity 1...\n"
     ]
    },
    {
     "name": "stderr",
     "output_type": "stream",
     "text": [
      "2024-09-26 14:43:57,637 - INFO - HTTP Request: POST https://datascience-openai-local.openai.azure.com//openai/deployments/gpt-35-turbo-16k/chat/completions?api-version=2024-05-01-preview \"HTTP/1.1 200 OK\"\n"
     ]
    },
    {
     "name": "stdout",
     "output_type": "stream",
     "text": [
      "Comparing activity 2...\n"
     ]
    },
    {
     "name": "stderr",
     "output_type": "stream",
     "text": [
      "2024-09-26 14:44:00,779 - INFO - HTTP Request: POST https://datascience-openai-local.openai.azure.com//openai/deployments/gpt-35-turbo-16k/chat/completions?api-version=2024-05-01-preview \"HTTP/1.1 200 OK\"\n"
     ]
    },
    {
     "name": "stdout",
     "output_type": "stream",
     "text": [
      "Comparing activity 3...\n"
     ]
    },
    {
     "name": "stderr",
     "output_type": "stream",
     "text": [
      "2024-09-26 14:44:05,384 - INFO - HTTP Request: POST https://datascience-openai-local.openai.azure.com//openai/deployments/gpt-35-turbo-16k/chat/completions?api-version=2024-05-01-preview \"HTTP/1.1 200 OK\"\n"
     ]
    },
    {
     "name": "stdout",
     "output_type": "stream",
     "text": [
      "Comparing activity 4...\n"
     ]
    },
    {
     "name": "stderr",
     "output_type": "stream",
     "text": [
      "2024-09-26 14:44:08,802 - INFO - HTTP Request: POST https://datascience-openai-local.openai.azure.com//openai/deployments/gpt-35-turbo-16k/chat/completions?api-version=2024-05-01-preview \"HTTP/1.1 200 OK\"\n"
     ]
    },
    {
     "name": "stdout",
     "output_type": "stream",
     "text": [
      "Comparing activity 5...\n"
     ]
    },
    {
     "name": "stderr",
     "output_type": "stream",
     "text": [
      "2024-09-26 14:44:13,849 - INFO - HTTP Request: POST https://datascience-openai-local.openai.azure.com//openai/deployments/gpt-35-turbo-16k/chat/completions?api-version=2024-05-01-preview \"HTTP/1.1 200 OK\"\n"
     ]
    },
    {
     "name": "stdout",
     "output_type": "stream",
     "text": [
      "Comparing activity 6...\n"
     ]
    },
    {
     "name": "stderr",
     "output_type": "stream",
     "text": [
      "2024-09-26 14:44:17,717 - INFO - HTTP Request: POST https://datascience-openai-local.openai.azure.com//openai/deployments/gpt-35-turbo-16k/chat/completions?api-version=2024-05-01-preview \"HTTP/1.1 200 OK\"\n"
     ]
    },
    {
     "name": "stdout",
     "output_type": "stream",
     "text": [
      "Comparing activity 7...\n"
     ]
    },
    {
     "name": "stderr",
     "output_type": "stream",
     "text": [
      "2024-09-26 14:44:21,223 - INFO - HTTP Request: POST https://datascience-openai-local.openai.azure.com//openai/deployments/gpt-35-turbo-16k/chat/completions?api-version=2024-05-01-preview \"HTTP/1.1 200 OK\"\n"
     ]
    },
    {
     "name": "stdout",
     "output_type": "stream",
     "text": [
      "Comparing activity 8...\n"
     ]
    },
    {
     "name": "stderr",
     "output_type": "stream",
     "text": [
      "2024-09-26 14:44:25,716 - INFO - HTTP Request: POST https://datascience-openai-local.openai.azure.com//openai/deployments/gpt-35-turbo-16k/chat/completions?api-version=2024-05-01-preview \"HTTP/1.1 200 OK\"\n"
     ]
    },
    {
     "name": "stdout",
     "output_type": "stream",
     "text": [
      "Comparing activity 9...\n"
     ]
    },
    {
     "name": "stderr",
     "output_type": "stream",
     "text": [
      "2024-09-26 14:44:29,697 - INFO - HTTP Request: POST https://datascience-openai-local.openai.azure.com//openai/deployments/gpt-35-turbo-16k/chat/completions?api-version=2024-05-01-preview \"HTTP/1.1 200 OK\"\n"
     ]
    },
    {
     "name": "stdout",
     "output_type": "stream",
     "text": [
      "Comparing activity 10...\n"
     ]
    },
    {
     "name": "stderr",
     "output_type": "stream",
     "text": [
      "2024-09-26 14:44:32,086 - INFO - HTTP Request: POST https://datascience-openai-local.openai.azure.com//openai/deployments/gpt-35-turbo-16k/chat/completions?api-version=2024-05-01-preview \"HTTP/1.1 200 OK\"\n",
      "2024-09-26 14:44:32,092 - INFO - Successfully processed and saved results for insurance/handle_claim with GPT-3.5-Activity-Breakdown-Subject_Matter_Expert_Detailed_Basic\n",
      "2024-09-26 14:44:32,094 - INFO - Processing sector: insurance, activity: handle_claim_v2\n"
     ]
    },
    {
     "name": "stdout",
     "output_type": "stream",
     "text": [
      "Quantitative Metrics:\n",
      "=====================\n",
      "Total Activities Evaluated: 4\n",
      "Average Overall Similarity Score: 81.80%\n",
      "Average Confidence Score: 75.80%\n",
      "Average Sequence Alignment Score: 51.67%\n",
      "Ground Truth Steps Coverage: 100.00%\n",
      "Response Steps Coverage: 94.12%\n",
      "\n",
      "Match Type Distribution:\n",
      "- Functional Equivalence: 13 matches (52.00%), Average Confidence: 86.54%\n",
      "- Granularity Difference: 7 matches (28.00%), Average Confidence: 81.43%\n",
      "- No Match: 3 matches (12.00%), Average Confidence: 0.00%\n",
      "- Identical Match: 2 matches (8.00%), Average Confidence: 100.00%\n",
      "\n",
      "\n",
      "Qualitative Analysis:\n",
      "=====================\n",
      "\n",
      "Examples of Matched Steps by Match Type:\n",
      "\n",
      "Match Type: Functional Equivalence\n",
      "Activity: Create claim\n",
      "Ground Truth Steps:\n",
      "  - [1] Receive claim details\n",
      "Response Steps:\n",
      "  - [1] Initialize new claim in system\n",
      "Confidence: 80%\n",
      "Explanation: Both steps involve starting the process of creating a claim, although the wording is different.\n",
      "\n",
      "Activity: Create claim\n",
      "Ground Truth Steps:\n",
      "  - [3] Assign claim number\n",
      "Response Steps:\n",
      "  - [2] Assign unique claim identifier\n",
      "Confidence: 90%\n",
      "Explanation: Both steps involve assigning a unique identifier to the claim, although the wording is slightly different.\n",
      "\n",
      "Activity: Record claim\n",
      "Ground Truth Steps:\n",
      "  - [1] Capture claim details\n",
      "Response Steps:\n",
      "  - [1] Review claim documentation\n",
      "Confidence: 80%\n",
      "Explanation: The ground truth step 'Capture claim details' and the response step 'Review claim documentation' describe the same action of examining the claim information.\n",
      "\n",
      "\n",
      "\n",
      "Match Type: Granularity Difference\n",
      "Activity: Create claim\n",
      "Ground Truth Steps:\n",
      "  - [2] Validate claim information\n",
      "Response Steps:\n",
      "  - [3] Input initial claim details\n",
      "Confidence: 70%\n",
      "Explanation: The response step is more granular, as it includes the specific action of inputting claim details, which is part of the validation process.\n",
      "\n",
      "Activity: Record claim\n",
      "Ground Truth Steps:\n",
      "  - [2] Verify claim documentation\n",
      "Response Steps:\n",
      "  - [2] Enter detailed claim information\n",
      "  - [3] Attach supporting documents to claim record\n",
      "Confidence: 90%\n",
      "Explanation: The ground truth step 'Verify claim documentation' is more granular than the response steps. It encompasses the actions of entering detailed claim information and attaching supporting documents to the claim record.\n",
      "\n",
      "Activity: Offer benefit\n",
      "Ground Truth Steps:\n",
      "  - [3] Communicate benefit offer\n",
      "Response Steps:\n",
      "  - [2] Prepare benefit offer document\n",
      "  - [3] Send benefit offer to claimant\n",
      "Confidence: 90%\n",
      "Explanation: The ground truth step 'Communicate benefit offer' is more granular than the response steps 'Prepare benefit offer document' and 'Send benefit offer to claimant'. The response steps together encompass the functionality of the ground truth step.\n",
      "\n",
      "\n",
      "\n",
      "Match Type: No Match\n",
      "Activity: Decide on claim\n",
      "Ground Truth Steps:\n",
      "Response Steps:\n",
      "  - [4] Make decision on claim acceptance or rejection\n",
      "Confidence: 0%\n",
      "Explanation: There is no corresponding ground truth step for response step 4.\n",
      "\n",
      "Activity: Prepare claim discharge\n",
      "Ground Truth Steps:\n",
      "Response Steps:\n",
      "  - [3] Send discharge document to claimant for signature\n",
      "Confidence: 0%\n",
      "Explanation: There is no corresponding ground truth step for the response step 'Send discharge document to claimant for signature'.\n",
      "\n",
      "Activity: Close claim\n",
      "Ground Truth Steps:\n",
      "Response Steps:\n",
      "  - [3] Archive claim documents\n",
      "Confidence: 0%\n",
      "Explanation: There is no corresponding step in the ground truth for archiving claim documents.\n",
      "\n",
      "\n",
      "\n",
      "Match Type: Identical Match\n",
      "Activity: Offer benefit\n",
      "Ground Truth Steps:\n",
      "  - [2] Calculate benefit amount\n",
      "Response Steps:\n",
      "  - [1] Calculate benefit amount\n",
      "Confidence: 100%\n",
      "Explanation: The step 'Calculate benefit amount' is identical in both the ground truth and response.\n",
      "\n",
      "Activity: Close claim\n",
      "Ground Truth Steps:\n",
      "  - [2] Update claim status to closed\n",
      "Response Steps:\n",
      "  - [2] Update claim status to 'Closed'\n",
      "Confidence: 100%\n",
      "Explanation: The steps are identical in wording and meaning.\n",
      "\n",
      "\n",
      "\n",
      "Analysis of Unmatched Ground Truth Steps:\n",
      "Analysis of Unmatched Response Steps:\n",
      "Activity: Operate outgoing payment, Step: [2] Verify payment details\n",
      "Reason: There is no corresponding step in the ground truth for verifying payment details.\n",
      "\n",
      "Activity: Operate outgoing payment, Step: [4] Confirm successful payment\n",
      "Reason: There is no corresponding step in the ground truth for confirming successful payment.\n",
      "\n",
      "Granularity Issues Identified:\n",
      "Activity: Record claim\n",
      "Ground Truth Steps:\n",
      "  - [2] Verify claim documentation\n",
      "Response Steps:\n",
      "  - [2] Enter detailed claim information\n",
      "  - [3] Attach supporting documents to claim record\n",
      "Explanation: The ground truth step 'Verify claim documentation' is more granular than the response steps. It encompasses the actions of entering detailed claim information and attaching supporting documents to the claim record.\n",
      "\n",
      "Activity: Decide on claim\n",
      "Ground Truth Steps:\n",
      "  - [1] Assess claim validity\n",
      "Response Steps:\n",
      "  - [1] Evaluate claim details\n",
      "  - [3] Determine claim validity\n",
      "Explanation: Ground truth step 1 is functionally equivalent to response steps 1 and 3.\n",
      "\n",
      "Activity: Decide on claim\n",
      "Ground Truth Steps:\n",
      "Response Steps:\n",
      "  - [4] Make decision on claim acceptance or rejection\n",
      "Explanation: There is no corresponding ground truth step for response step 4.\n",
      "\n",
      "Activity: Offer benefit\n",
      "Ground Truth Steps:\n",
      "  - [3] Communicate benefit offer\n",
      "Response Steps:\n",
      "  - [2] Prepare benefit offer document\n",
      "  - [3] Send benefit offer to claimant\n",
      "Explanation: The ground truth step 'Communicate benefit offer' is more granular than the response steps 'Prepare benefit offer document' and 'Send benefit offer to claimant'. The response steps together encompass the functionality of the ground truth step.\n",
      "\n",
      "Activity: Prepare claim discharge\n",
      "Ground Truth Steps:\n",
      "Response Steps:\n",
      "  - [3] Send discharge document to claimant for signature\n",
      "Explanation: There is no corresponding ground truth step for the response step 'Send discharge document to claimant for signature'.\n",
      "\n"
     ]
    },
    {
     "name": "stderr",
     "output_type": "stream",
     "text": [
      "2024-09-26 14:44:37,124 - INFO - HTTP Request: POST https://datascience-openai-local.openai.azure.com//openai/deployments/gpt-35-turbo-16k/chat/completions?api-version=2024-05-01-preview \"HTTP/1.1 200 OK\"\n"
     ]
    },
    {
     "name": "stdout",
     "output_type": "stream",
     "text": [
      "Comparing activity 1...\n"
     ]
    },
    {
     "name": "stderr",
     "output_type": "stream",
     "text": [
      "2024-09-26 14:44:39,802 - INFO - HTTP Request: POST https://datascience-openai-local.openai.azure.com//openai/deployments/gpt-35-turbo-16k/chat/completions?api-version=2024-05-01-preview \"HTTP/1.1 200 OK\"\n"
     ]
    },
    {
     "name": "stdout",
     "output_type": "stream",
     "text": [
      "Comparing activity 2...\n"
     ]
    },
    {
     "name": "stderr",
     "output_type": "stream",
     "text": [
      "2024-09-26 14:44:42,631 - INFO - HTTP Request: POST https://datascience-openai-local.openai.azure.com//openai/deployments/gpt-35-turbo-16k/chat/completions?api-version=2024-05-01-preview \"HTTP/1.1 200 OK\"\n"
     ]
    },
    {
     "name": "stdout",
     "output_type": "stream",
     "text": [
      "Comparing activity 3...\n"
     ]
    },
    {
     "name": "stderr",
     "output_type": "stream",
     "text": [
      "2024-09-26 14:44:45,507 - INFO - HTTP Request: POST https://datascience-openai-local.openai.azure.com//openai/deployments/gpt-35-turbo-16k/chat/completions?api-version=2024-05-01-preview \"HTTP/1.1 200 OK\"\n"
     ]
    },
    {
     "name": "stdout",
     "output_type": "stream",
     "text": [
      "Comparing activity 4...\n"
     ]
    },
    {
     "name": "stderr",
     "output_type": "stream",
     "text": [
      "2024-09-26 14:44:48,949 - INFO - HTTP Request: POST https://datascience-openai-local.openai.azure.com//openai/deployments/gpt-35-turbo-16k/chat/completions?api-version=2024-05-01-preview \"HTTP/1.1 200 OK\"\n",
      "2024-09-26 14:44:48,954 - INFO - Successfully processed and saved results for insurance/handle_claim_v2 with GPT-3.5-Activity-Breakdown-Subject_Matter_Expert_Detailed_Basic\n",
      "2024-09-26 14:44:48,955 - INFO - Processing sector: insurance, activity: motor_claim\n"
     ]
    },
    {
     "name": "stdout",
     "output_type": "stream",
     "text": [
      "Quantitative Metrics:\n",
      "=====================\n",
      "Total Activities Evaluated: 3\n",
      "Average Overall Similarity Score: 25.00%\n",
      "Average Confidence Score: 45.00%\n",
      "Average Sequence Alignment Score: 79.17%\n",
      "Ground Truth Steps Coverage: 80.00%\n",
      "Response Steps Coverage: 37.50%\n",
      "\n",
      "Match Type Distribution:\n",
      "- Identical Match: 1 matches (25.00%), Average Confidence: 100.00%\n",
      "- Granularity Difference: 1 matches (25.00%), Average Confidence: 80.00%\n",
      "- No Match: 2 matches (50.00%), Average Confidence: 0.00%\n",
      "\n",
      "\n",
      "Qualitative Analysis:\n",
      "=====================\n",
      "\n",
      "Examples of Matched Steps by Match Type:\n",
      "\n",
      "Match Type: Identical Match\n",
      "Activity: Start\n",
      "Ground Truth Steps:\n",
      "  - [1] Receive new claim\n",
      "Response Steps:\n",
      "  - [1] Receive new claim\n",
      "Confidence: 100%\n",
      "Explanation: The ground truth step 'Receive new claim' is identical to the response step 'Receive new claim'.\n",
      "\n",
      "\n",
      "\n",
      "Match Type: Granularity Difference\n",
      "Activity: Determine likelihood of the claim\n",
      "Ground Truth Steps:\n",
      "  - [1] Assess claim liability\n",
      "Response Steps:\n",
      "  - [1] Gather additional information if needed\n",
      "  - [2] Review claim details thoroughly\n",
      "  - [3] Verify policy terms and conditions\n",
      "  - [4] Evaluate evidence and documentation\n",
      "  - [5] Consult with relevant experts if necessary\n",
      "  - [6] Determine claim validity and value\n",
      "Confidence: 80%\n",
      "Explanation: Ground truth step 1 corresponds to response steps 1-6. The response provides a more detailed breakdown of the assessment process.\n",
      "\n",
      "\n",
      "\n",
      "Match Type: No Match\n",
      "Activity: Insured liable?\n",
      "Ground Truth Steps:\n",
      "  - [1] Check if insured is liable\n",
      "Response Steps:\n",
      "  - [1] Calculate payment amount\n",
      "Confidence: 0%\n",
      "Explanation: There is no corresponding step in the response activity.\n",
      "\n",
      "Activity: Assess claim\n",
      "Ground Truth Steps:\n",
      "  - [1] Evaluate claim details\n",
      "Response Steps:\n",
      "  - [1] Prepare communication detailing claim decision\n",
      "Confidence: 0%\n",
      "Explanation: There is no corresponding step in the response activity.\n",
      "\n",
      "\n",
      "\n",
      "Analysis of Unmatched Ground Truth Steps:\n",
      "Activity: Assess claim, Step: [1] Evaluate claim details\n",
      "Reason: There is no corresponding step in the response activity.\n",
      "\n",
      "Analysis of Unmatched Response Steps:\n",
      "Activity: Start, Step: [2] Review claim details\n",
      "Reason: No corresponding ground truth step\n",
      "\n",
      "Activity: Start, Step: [3] Analyze policy coverage\n",
      "Reason: No corresponding ground truth step\n",
      "\n",
      "Activity: Start, Step: [4] Evaluate initial evidence\n",
      "Reason: No corresponding ground truth step\n",
      "\n",
      "Activity: Start, Step: [5] Estimate probability of claim validity\n",
      "Reason: No corresponding ground truth step\n",
      "\n",
      "Activity: Insured liable?, Step: [1] Calculate payment amount\n",
      "Reason: There is no corresponding step in the ground truth activity.\n",
      "\n",
      "Granularity Issues Identified:\n",
      "Activity: Determine likelihood of the claim\n",
      "Ground Truth Steps:\n",
      "  - [1] Assess claim liability\n",
      "Response Steps:\n",
      "  - [1] Gather additional information if needed\n",
      "  - [2] Review claim details thoroughly\n",
      "  - [3] Verify policy terms and conditions\n",
      "  - [4] Evaluate evidence and documentation\n",
      "  - [5] Consult with relevant experts if necessary\n",
      "  - [6] Determine claim validity and value\n",
      "Explanation: Ground truth step 1 corresponds to response steps 1-6. The response provides a more detailed breakdown of the assessment process.\n",
      "\n"
     ]
    },
    {
     "name": "stderr",
     "output_type": "stream",
     "text": [
      "2024-09-26 14:44:55,300 - INFO - HTTP Request: POST https://datascience-openai-local.openai.azure.com//openai/deployments/gpt-35-turbo-16k/chat/completions?api-version=2024-05-01-preview \"HTTP/1.1 200 OK\"\n"
     ]
    },
    {
     "name": "stdout",
     "output_type": "stream",
     "text": [
      "Comparing activity 1...\n"
     ]
    },
    {
     "name": "stderr",
     "output_type": "stream",
     "text": [
      "2024-09-26 14:44:57,835 - INFO - HTTP Request: POST https://datascience-openai-local.openai.azure.com//openai/deployments/gpt-35-turbo-16k/chat/completions?api-version=2024-05-01-preview \"HTTP/1.1 200 OK\"\n"
     ]
    },
    {
     "name": "stdout",
     "output_type": "stream",
     "text": [
      "Comparing activity 2...\n"
     ]
    },
    {
     "name": "stderr",
     "output_type": "stream",
     "text": [
      "2024-09-26 14:45:02,060 - INFO - HTTP Request: POST https://datascience-openai-local.openai.azure.com//openai/deployments/gpt-35-turbo-16k/chat/completions?api-version=2024-05-01-preview \"HTTP/1.1 200 OK\"\n"
     ]
    },
    {
     "name": "stdout",
     "output_type": "stream",
     "text": [
      "Comparing activity 3...\n"
     ]
    },
    {
     "name": "stderr",
     "output_type": "stream",
     "text": [
      "2024-09-26 14:45:05,443 - INFO - HTTP Request: POST https://datascience-openai-local.openai.azure.com//openai/deployments/gpt-35-turbo-16k/chat/completions?api-version=2024-05-01-preview \"HTTP/1.1 200 OK\"\n"
     ]
    },
    {
     "name": "stdout",
     "output_type": "stream",
     "text": [
      "Comparing activity 4...\n"
     ]
    },
    {
     "name": "stderr",
     "output_type": "stream",
     "text": [
      "2024-09-26 14:45:08,551 - INFO - HTTP Request: POST https://datascience-openai-local.openai.azure.com//openai/deployments/gpt-35-turbo-16k/chat/completions?api-version=2024-05-01-preview \"HTTP/1.1 200 OK\"\n"
     ]
    },
    {
     "name": "stdout",
     "output_type": "stream",
     "text": [
      "Comparing activity 5...\n"
     ]
    },
    {
     "name": "stderr",
     "output_type": "stream",
     "text": [
      "2024-09-26 14:45:12,412 - INFO - HTTP Request: POST https://datascience-openai-local.openai.azure.com//openai/deployments/gpt-35-turbo-16k/chat/completions?api-version=2024-05-01-preview \"HTTP/1.1 200 OK\"\n"
     ]
    },
    {
     "name": "stdout",
     "output_type": "stream",
     "text": [
      "Comparing activity 6...\n"
     ]
    },
    {
     "name": "stderr",
     "output_type": "stream",
     "text": [
      "2024-09-26 14:45:15,630 - INFO - HTTP Request: POST https://datascience-openai-local.openai.azure.com//openai/deployments/gpt-35-turbo-16k/chat/completions?api-version=2024-05-01-preview \"HTTP/1.1 200 OK\"\n"
     ]
    },
    {
     "name": "stdout",
     "output_type": "stream",
     "text": [
      "Comparing activity 7...\n"
     ]
    },
    {
     "name": "stderr",
     "output_type": "stream",
     "text": [
      "2024-09-26 14:45:18,492 - INFO - HTTP Request: POST https://datascience-openai-local.openai.azure.com//openai/deployments/gpt-35-turbo-16k/chat/completions?api-version=2024-05-01-preview \"HTTP/1.1 200 OK\"\n"
     ]
    },
    {
     "name": "stdout",
     "output_type": "stream",
     "text": [
      "Comparing activity 8...\n"
     ]
    },
    {
     "name": "stderr",
     "output_type": "stream",
     "text": [
      "2024-09-26 14:45:24,935 - INFO - HTTP Request: POST https://datascience-openai-local.openai.azure.com//openai/deployments/gpt-35-turbo-16k/chat/completions?api-version=2024-05-01-preview \"HTTP/1.1 200 OK\"\n",
      "2024-09-26 14:45:24,939 - INFO - Successfully processed and saved results for insurance/motor_claim with GPT-3.5-Activity-Breakdown-Subject_Matter_Expert_Detailed_Basic\n",
      "2024-09-26 14:45:24,940 - INFO - Processing sector: insurance, activity: quote_submission\n"
     ]
    },
    {
     "name": "stdout",
     "output_type": "stream",
     "text": [
      "Quantitative Metrics:\n",
      "=====================\n",
      "Total Activities Evaluated: 3\n",
      "Average Overall Similarity Score: 31.41%\n",
      "Average Confidence Score: 48.46%\n",
      "Average Sequence Alignment Score: 73.96%\n",
      "Ground Truth Steps Coverage: 76.47%\n",
      "Response Steps Coverage: 54.05%\n",
      "\n",
      "Match Type Distribution:\n",
      "- Identical Match: 1 matches (7.69%), Average Confidence: 100.00%\n",
      "- Functional Equivalence: 7 matches (53.85%), Average Confidence: 75.71%\n",
      "- No Match: 5 matches (38.46%), Average Confidence: 0.00%\n",
      "\n",
      "\n",
      "Qualitative Analysis:\n",
      "=====================\n",
      "\n",
      "Examples of Matched Steps by Match Type:\n",
      "\n",
      "Match Type: Identical Match\n",
      "Activity: Start\n",
      "Ground Truth Steps:\n",
      "  - [1] Receive claim documentation from customer\n",
      "Response Steps:\n",
      "  - [1] Receive claim documentation from customer\n",
      "Confidence: 100%\n",
      "Explanation: The ground truth step and response step are identical in wording and meaning.\n",
      "\n",
      "\n",
      "\n",
      "Match Type: Functional Equivalence\n",
      "Activity: Claim Received\n",
      "Ground Truth Steps:\n",
      "  - [1] Check completeness of claim documentation\n",
      "Response Steps:\n",
      "  - [1] Review all submitted claim documents\n",
      "Confidence: 80%\n",
      "Explanation: The ground truth step 'Check completeness of claim documentation' is functionally equivalent to the response step 'Review all submitted claim documents'. Although the wording is different, both steps involve examining the claim documents for completeness.\n",
      "\n",
      "Activity: Claim Received\n",
      "Ground Truth Steps:\n",
      "  - [2] Register claim if documentation is complete\n",
      "Response Steps:\n",
      "  - [2] Verify all required information is provided\n",
      "Confidence: 70%\n",
      "Explanation: The ground truth step 'Register claim if documentation is complete' is functionally equivalent to the response step 'Verify all required information is provided'. Both steps involve ensuring that all necessary information is provided before proceeding with the claim.\n",
      "\n",
      "Activity: Claim Received\n",
      "Ground Truth Steps:\n",
      "  - [3] Reject claim if documentation is incomplete\n",
      "Response Steps:\n",
      "  - [3] Determine if claim is complete or incomplete\n",
      "Confidence: 75%\n",
      "Explanation: The ground truth step 'Reject claim if documentation is incomplete' is functionally equivalent to the response step 'Determine if claim is complete or incomplete'. Both steps involve making a decision based on the completeness of the claim documentation.\n",
      "\n",
      "\n",
      "\n",
      "Match Type: No Match\n",
      "Activity: Check completeness\n",
      "Ground Truth Steps:\n",
      "  - [1] Complete check of claim documentation\n",
      "Response Steps:\n",
      "  - [1] Assign unique claim identifier\n",
      "  - [2] Enter claim details into system\n",
      "  - [3] Forward registered claim to Handling Department\n",
      "Confidence: 0%\n",
      "Explanation: The ground truth step 'Complete check of claim documentation' does not have a corresponding step in the response activity.\n",
      "\n",
      "Activity: Complete?\n",
      "Ground Truth Steps:\n",
      "  - [1] Determine if claim documentation is complete\n",
      "Response Steps:\n",
      "  - [1] Document reason for rejection\n",
      "Confidence: 0%\n",
      "Explanation: There is no corresponding step in the response activity.\n",
      "\n",
      "Activity: Reject claim\n",
      "Ground Truth Steps:\n",
      "  - [1] Notify customer about rejected claim\n",
      "Response Steps:\n",
      "  - [1] Calculate approved payment amount\n",
      "  - [2] Determine payment date\n",
      "  - [3] Enter payment details into system\n",
      "Confidence: 0%\n",
      "Explanation: There is no corresponding step in the response activity for the ground truth step 'Notify customer about rejected claim'.\n",
      "\n",
      "\n",
      "\n",
      "Analysis of Unmatched Ground Truth Steps:\n",
      "Activity: Check completeness, Step: [1] Complete check of claim documentation\n",
      "Reason: No corresponding step in the response activity\n",
      "\n",
      "Activity: Complete?, Step: [1] Determine if claim documentation is complete\n",
      "Reason: There is no corresponding step in the response activity.\n",
      "\n",
      "Activity: Reject claim, Step: [1] Notify customer about rejected claim\n",
      "Reason: There is no corresponding step in the response activity.\n",
      "\n",
      "Activity: Assess claim, Step: [1] Assess the claim for validity and amount\n",
      "Reason: There is no corresponding step in the response activity.\n",
      "\n",
      "Analysis of Unmatched Response Steps:\n",
      "Activity: Start, Step: [2] Log receipt of claim in system\n",
      "Reason: There is no corresponding ground truth step for this response step.\n",
      "\n",
      "Activity: Check completeness, Step: [1] Assign unique claim identifier\n",
      "Reason: No corresponding step in the ground truth activity\n",
      "\n",
      "Activity: Check completeness, Step: [2] Enter claim details into system\n",
      "Reason: No corresponding step in the ground truth activity\n",
      "\n",
      "Activity: Check completeness, Step: [3] Forward registered claim to Handling Department\n",
      "Reason: No corresponding step in the ground truth activity\n",
      "\n",
      "Activity: Complete?, Step: [1] Document reason for rejection\n",
      "Reason: There is no corresponding step in the ground truth activity.\n",
      "\n",
      "Granularity Issues Identified:\n",
      "Activity: Check completeness\n",
      "Ground Truth Steps:\n",
      "  - [1] Complete check of claim documentation\n",
      "Response Steps:\n",
      "  - [1] Assign unique claim identifier\n",
      "  - [2] Enter claim details into system\n",
      "  - [3] Forward registered claim to Handling Department\n",
      "Explanation: The ground truth step 'Complete check of claim documentation' does not have a corresponding step in the response activity.\n",
      "\n",
      "Activity: Reject claim\n",
      "Ground Truth Steps:\n",
      "  - [1] Notify customer about rejected claim\n",
      "Response Steps:\n",
      "  - [1] Calculate approved payment amount\n",
      "  - [2] Determine payment date\n",
      "  - [3] Enter payment details into system\n",
      "Explanation: There is no corresponding step in the response activity for the ground truth step 'Notify customer about rejected claim'.\n",
      "\n",
      "Activity: Assess claim\n",
      "Ground Truth Steps:\n",
      "  - [1] Assess the claim for validity and amount\n",
      "Response Steps:\n",
      "  - [1] Prepare notification letter\n",
      "  - [2] Include claim status (rejected or approved)\n",
      "  - [3] Add payment details if claim approved\n",
      "  - [4] Send notification letter to customer\n",
      "Explanation: There is no direct match between the ground truth step 'Assess the claim for validity and amount' and any of the response steps.\n",
      "\n"
     ]
    },
    {
     "name": "stderr",
     "output_type": "stream",
     "text": [
      "2024-09-26 14:45:30,854 - INFO - HTTP Request: POST https://datascience-openai-local.openai.azure.com//openai/deployments/gpt-35-turbo-16k/chat/completions?api-version=2024-05-01-preview \"HTTP/1.1 200 OK\"\n"
     ]
    },
    {
     "name": "stdout",
     "output_type": "stream",
     "text": [
      "Comparing activity 1...\n"
     ]
    },
    {
     "name": "stderr",
     "output_type": "stream",
     "text": [
      "2024-09-26 14:45:33,007 - INFO - HTTP Request: POST https://datascience-openai-local.openai.azure.com//openai/deployments/gpt-35-turbo-16k/chat/completions?api-version=2024-05-01-preview \"HTTP/1.1 200 OK\"\n"
     ]
    },
    {
     "name": "stdout",
     "output_type": "stream",
     "text": [
      "Comparing activity 2...\n"
     ]
    },
    {
     "name": "stderr",
     "output_type": "stream",
     "text": [
      "2024-09-26 14:45:36,123 - INFO - HTTP Request: POST https://datascience-openai-local.openai.azure.com//openai/deployments/gpt-35-turbo-16k/chat/completions?api-version=2024-05-01-preview \"HTTP/1.1 200 OK\"\n"
     ]
    },
    {
     "name": "stdout",
     "output_type": "stream",
     "text": [
      "Comparing activity 3...\n"
     ]
    },
    {
     "name": "stderr",
     "output_type": "stream",
     "text": [
      "2024-09-26 14:45:44,445 - INFO - HTTP Request: POST https://datascience-openai-local.openai.azure.com//openai/deployments/gpt-35-turbo-16k/chat/completions?api-version=2024-05-01-preview \"HTTP/1.1 200 OK\"\n"
     ]
    },
    {
     "name": "stdout",
     "output_type": "stream",
     "text": [
      "Comparing activity 4...\n"
     ]
    },
    {
     "name": "stderr",
     "output_type": "stream",
     "text": [
      "2024-09-26 14:45:48,415 - INFO - HTTP Request: POST https://datascience-openai-local.openai.azure.com//openai/deployments/gpt-35-turbo-16k/chat/completions?api-version=2024-05-01-preview \"HTTP/1.1 200 OK\"\n"
     ]
    },
    {
     "name": "stdout",
     "output_type": "stream",
     "text": [
      "Comparing activity 5...\n"
     ]
    },
    {
     "name": "stderr",
     "output_type": "stream",
     "text": [
      "2024-09-26 14:45:50,844 - INFO - HTTP Request: POST https://datascience-openai-local.openai.azure.com//openai/deployments/gpt-35-turbo-16k/chat/completions?api-version=2024-05-01-preview \"HTTP/1.1 200 OK\"\n"
     ]
    },
    {
     "name": "stdout",
     "output_type": "stream",
     "text": [
      "Comparing activity 6...\n"
     ]
    },
    {
     "name": "stderr",
     "output_type": "stream",
     "text": [
      "2024-09-26 14:45:52,794 - INFO - HTTP Request: POST https://datascience-openai-local.openai.azure.com//openai/deployments/gpt-35-turbo-16k/chat/completions?api-version=2024-05-01-preview \"HTTP/1.1 200 OK\"\n"
     ]
    },
    {
     "name": "stdout",
     "output_type": "stream",
     "text": [
      "Comparing activity 7...\n"
     ]
    },
    {
     "name": "stderr",
     "output_type": "stream",
     "text": [
      "2024-09-26 14:45:56,827 - INFO - HTTP Request: POST https://datascience-openai-local.openai.azure.com//openai/deployments/gpt-35-turbo-16k/chat/completions?api-version=2024-05-01-preview \"HTTP/1.1 200 OK\"\n"
     ]
    },
    {
     "name": "stdout",
     "output_type": "stream",
     "text": [
      "Comparing activity 8...\n"
     ]
    },
    {
     "name": "stderr",
     "output_type": "stream",
     "text": [
      "2024-09-26 14:46:00,136 - INFO - HTTP Request: POST https://datascience-openai-local.openai.azure.com//openai/deployments/gpt-35-turbo-16k/chat/completions?api-version=2024-05-01-preview \"HTTP/1.1 200 OK\"\n"
     ]
    },
    {
     "name": "stdout",
     "output_type": "stream",
     "text": [
      "Comparing activity 9...\n"
     ]
    },
    {
     "name": "stderr",
     "output_type": "stream",
     "text": [
      "2024-09-26 14:46:02,878 - INFO - HTTP Request: POST https://datascience-openai-local.openai.azure.com//openai/deployments/gpt-35-turbo-16k/chat/completions?api-version=2024-05-01-preview \"HTTP/1.1 200 OK\"\n",
      "2024-09-26 14:46:02,882 - INFO - Successfully processed and saved results for insurance/quote_submission with GPT-3.5-Activity-Breakdown-Subject_Matter_Expert_Detailed_Basic\n"
     ]
    },
    {
     "name": "stdout",
     "output_type": "stream",
     "text": [
      "Quantitative Metrics:\n",
      "=====================\n",
      "Total Activities Evaluated: 4\n",
      "Average Overall Similarity Score: 59.07%\n",
      "Average Confidence Score: 55.71%\n",
      "Average Sequence Alignment Score: 69.44%\n",
      "Ground Truth Steps Coverage: 100.00%\n",
      "Response Steps Coverage: 62.16%\n",
      "\n",
      "Match Type Distribution:\n",
      "- Granularity Difference: 3 matches (21.43%), Average Confidence: 76.67%\n",
      "- Functional Equivalence: 6 matches (42.86%), Average Confidence: 80.00%\n",
      "- Process Alternative: 1 matches (7.14%), Average Confidence: 70.00%\n",
      "- No Match: 4 matches (28.57%), Average Confidence: 0.00%\n",
      "\n",
      "\n",
      "Qualitative Analysis:\n",
      "=====================\n",
      "\n",
      "Examples of Matched Steps by Match Type:\n",
      "\n",
      "Match Type: Granularity Difference\n",
      "Activity: Request insurance quote\n",
      "Ground Truth Steps:\n",
      "  - [1] Client requests insurance quote\n",
      "Response Steps:\n",
      "  - [1] Identify insurance needs\n",
      "  - [2] Gather necessary personal and property information\n",
      "  - [3] Contact insurer or fill out online quote request form\n",
      "  - [4] Submit quote request\n",
      "Confidence: 80%\n",
      "Explanation: The ground truth step 'Client requests insurance quote' is more granular than the response steps. It corresponds to the combination of response steps 1, 2, 3, and 4.\n",
      "\n",
      "Activity: Receive acceptance\n",
      "Ground Truth Steps:\n",
      "  - [2] Proceed to prepare insurance contract\n",
      "Response Steps:\n",
      "  - [2] Update quote status in system\n",
      "  - [3] Record reason for rejection if provided\n",
      "  - [4] Close quote request\n",
      "Confidence: 70%\n",
      "Explanation: The ground truth step 'Proceed to prepare insurance contract' corresponds to multiple response steps: 'Update quote status in system', 'Record reason for rejection if provided', and 'Close quote request'.\n",
      "\n",
      "Activity: Prepare insurance contract\n",
      "Ground Truth Steps:\n",
      "  - [1] Insurer prepares the insurance contract\n",
      "Response Steps:\n",
      "  - [1] Retrieve accepted quote details\n",
      "  - [2] Draft insurance contract\n",
      "  - [3] Include all agreed terms and conditions\n",
      "  - [4] Review contract for accuracy and completeness\n",
      "  - [5] Obtain necessary internal approvals\n",
      "  - [6] Send contract to client for review and signature\n",
      "Confidence: 80%\n",
      "Explanation: The ground truth step 'Insurer prepares the insurance contract' corresponds to multiple response steps: 'Retrieve accepted quote details', 'Draft insurance contract', 'Include all agreed terms and conditions', 'Review contract for accuracy and completeness', 'Obtain necessary internal approvals', and 'Send contract to client for review and signature'.\n",
      "\n",
      "\n",
      "\n",
      "Match Type: Functional Equivalence\n",
      "Activity: Evaluate insurance quote\n",
      "Ground Truth Steps:\n",
      "  - [1] Insurer evaluates insurance quote\n",
      "Response Steps:\n",
      "  - [1] Receive client's quote request\n",
      "Confidence: 80%\n",
      "Explanation: The ground truth step 'Insurer evaluates insurance quote' is functionally equivalent to the response step 'Receive client's quote request'. Although the wording is different, both steps describe the action of receiving and processing a quote request.\n",
      "\n",
      "Activity: Decision\n",
      "Ground Truth Steps:\n",
      "  - [1] Insurer makes a decision on the quote\n",
      "Response Steps:\n",
      "  - [1] Review client's information and requirements\n",
      "Confidence: 80%\n",
      "Explanation: The ground truth step 'Insurer makes a decision on the quote' is functionally equivalent to the response step 'Review client's information and requirements'. Although the wording is different, both steps involve assessing the information and making a decision.\n",
      "\n",
      "Activity: Accept quote\n",
      "Ground Truth Steps:\n",
      "  - [1] Insurer accepts the quote\n",
      "Response Steps:\n",
      "  - [1] Receive quote from insurer\n",
      "Confidence: 80%\n",
      "Explanation: The ground truth step 'Insurer accepts the quote' is functionally equivalent to the response step 'Receive quote from insurer'. Although the wording is different, both steps describe the action of receiving the quote from the insurer.\n",
      "\n",
      "\n",
      "\n",
      "Match Type: Process Alternative\n",
      "Activity: Decision\n",
      "Ground Truth Steps:\n",
      "  - [2] If accepted, proceed to accept quote\n",
      "Response Steps:\n",
      "  - [6] Send quote to client\n",
      "Confidence: 70%\n",
      "Explanation: The ground truth step 'If accepted, proceed to accept quote' represents a process alternative to the response step 'Send quote to client'. Both steps involve the action of accepting the quote, but the process differs. The ground truth step implies that there are additional steps involved in accepting the quote, while the response step focuses on the final action of sending the quote to the client.\n",
      "\n",
      "\n",
      "\n",
      "Match Type: No Match\n",
      "Activity: Decision\n",
      "Ground Truth Steps:\n",
      "  - [3] If rejected, proceed to reject quote\n",
      "Response Steps:\n",
      "Confidence: 0%\n",
      "Explanation: The ground truth step 'If rejected, proceed to reject quote' does not have a corresponding step in the response. This indicates a mismatch between the two decompositions, as the response does not provide a specific step for handling a rejected quote.\n",
      "\n",
      "Activity: Quote ready\n",
      "Ground Truth Steps:\n",
      "  - [1] Insurer determines if the quote is ready\n",
      "Response Steps:\n",
      "  - [1] Receive client's acceptance notification\n",
      "Confidence: 0%\n",
      "Explanation: The ground truth step 'Insurer determines if the quote is ready' does not have a corresponding step in the response.\n",
      "\n",
      "Activity: Quote ready\n",
      "Ground Truth Steps:\n",
      "  - [3] If not ready, proceed to receive rejection\n",
      "Response Steps:\n",
      "  - [3] Initiate contract preparation process\n",
      "Confidence: 0%\n",
      "Explanation: The ground truth step 'If not ready, proceed to receive rejection' does not have a corresponding step in the response.\n",
      "\n",
      "\n",
      "\n",
      "Analysis of Unmatched Ground Truth Steps:\n",
      "Analysis of Unmatched Response Steps:\n",
      "Activity: Evaluate insurance quote, Step: [2] Log request in system\n",
      "Reason: There is no corresponding step in the ground truth for logging the request in the system.\n",
      "\n",
      "Activity: Evaluate insurance quote, Step: [3] Assign request to appropriate department or agent\n",
      "Reason: There is no corresponding step in the ground truth for assigning the request to the appropriate department or agent.\n",
      "\n",
      "Activity: Decision, Step: [2] Assess risk factors\n",
      "Reason: There is no corresponding step in the ground truth for assessing risk factors.\n",
      "\n",
      "Activity: Decision, Step: [3] Calculate premium based on risk assessment\n",
      "Reason: There is no corresponding step in the ground truth for calculating premium based on risk assessment.\n",
      "\n",
      "Activity: Decision, Step: [4] Determine coverage details\n",
      "Reason: There is no corresponding step in the ground truth for determining coverage details.\n",
      "\n",
      "Granularity Issues Identified:\n",
      "Activity: Request insurance quote\n",
      "Ground Truth Steps:\n",
      "  - [1] Client requests insurance quote\n",
      "Response Steps:\n",
      "  - [1] Identify insurance needs\n",
      "  - [2] Gather necessary personal and property information\n",
      "  - [3] Contact insurer or fill out online quote request form\n",
      "  - [4] Submit quote request\n",
      "Explanation: The ground truth step 'Client requests insurance quote' is more granular than the response steps. It corresponds to the combination of response steps 1, 2, 3, and 4.\n",
      "\n",
      "Activity: Decision\n",
      "Ground Truth Steps:\n",
      "  - [3] If rejected, proceed to reject quote\n",
      "Response Steps:\n",
      "Explanation: The ground truth step 'If rejected, proceed to reject quote' does not have a corresponding step in the response. This indicates a mismatch between the two decompositions, as the response does not provide a specific step for handling a rejected quote.\n",
      "\n",
      "Activity: Receive acceptance\n",
      "Ground Truth Steps:\n",
      "  - [2] Proceed to prepare insurance contract\n",
      "Response Steps:\n",
      "  - [2] Update quote status in system\n",
      "  - [3] Record reason for rejection if provided\n",
      "  - [4] Close quote request\n",
      "Explanation: The ground truth step 'Proceed to prepare insurance contract' corresponds to multiple response steps: 'Update quote status in system', 'Record reason for rejection if provided', and 'Close quote request'.\n",
      "\n",
      "Activity: Prepare insurance contract\n",
      "Ground Truth Steps:\n",
      "  - [1] Insurer prepares the insurance contract\n",
      "Response Steps:\n",
      "  - [1] Retrieve accepted quote details\n",
      "  - [2] Draft insurance contract\n",
      "  - [3] Include all agreed terms and conditions\n",
      "  - [4] Review contract for accuracy and completeness\n",
      "  - [5] Obtain necessary internal approvals\n",
      "  - [6] Send contract to client for review and signature\n",
      "Explanation: The ground truth step 'Insurer prepares the insurance contract' corresponds to multiple response steps: 'Retrieve accepted quote details', 'Draft insurance contract', 'Include all agreed terms and conditions', 'Review contract for accuracy and completeness', 'Obtain necessary internal approvals', and 'Send contract to client for review and signature'.\n",
      "\n"
     ]
    }
   ],
   "source": [
    "def main():\n",
    "    logging.info(f\"Processing with model: {model_name}\")\n",
    "    \n",
    "    sectors = get_sectors()\n",
    "    for sector in sectors:\n",
    "        if \"sme\" in model_settings.get(\"role_description\",\"\"):\n",
    "            components = ABPromptComponents.from_dict(model_settings)\n",
    "            components.role_description = components.role_description[sector]\n",
    "            activity_breakdown_gpt = ActivityBreakdownComponentsGPT(components)\n",
    "        activities = get_activities(sector)\n",
    "        for activity in activities:\n",
    "            \n",
    "            breakdown_activity(sector, activity, activity_breakdown_gpt, model_name)\n",
    "\n",
    "if __name__ == \"__main__\":\n",
    "    main()"
   ]
  }
 ],
 "metadata": {
  "kernelspec": {
   "display_name": "nw3",
   "language": "python",
   "name": "python3"
  },
  "language_info": {
   "codemirror_mode": {
    "name": "ipython",
    "version": 3
   },
   "file_extension": ".py",
   "mimetype": "text/x-python",
   "name": "python",
   "nbconvert_exporter": "python",
   "pygments_lexer": "ipython3",
   "version": "3.9.15"
  }
 },
 "nbformat": 4,
 "nbformat_minor": 2
}

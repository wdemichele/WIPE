{
    "cells": [
        {
            "cell_type": "code",
            "execution_count": 3,
            "metadata": {},
            "outputs": [
                {
                    "name": "stdout",
                    "output_type": "stream",
                    "text": [
                        "Model Comparison Table:\n",
                        "                                                           Accuracy  Macro Avg F1  Weighted Avg F1  Cohen's Kappa   VA F1  BVA F1  NVA F1  Avg Process Accuracy  Avg Process F1\n",
                        "GPT-3.5-Value-Classification-Neutral_Analyst_Basic             0.5613        0.3392           0.5669         0.2076  0.5967  0.5811  0.1791                0.5456          0.2673\n",
                        "GPT-3.5-Value-Classification-Customer_Advocate_ValueFocused    0.5780        0.3122           0.5576         0.2176  0.6591  0.4989  0.0909                0.5723          0.2901\n",
                        "GPT-3.5-Value-Classification-Lean_Expert_Detailed              0.5588        0.3876           0.5466         0.2089  0.6335  0.4867  0.4301                0.5536          0.2961\n",
                        "GPT-3.5-Value-Classification-Lean_Expert_Minimal               0.5627        0.2854           0.5456         0.2112  0.6579  0.4837  0.0000                0.5589          0.2676\n",
                        "GPT-3.5-Value-Classification-Business_Consultant_Strategic     0.5397        0.2980           0.5320         0.1613  0.6154  0.4882  0.0882                0.5370          0.2893\n",
                        "GPT-3.5-Value-Classification-Neutral_Analyst_Comprehensive     0.5275        0.2883           0.5006         0.1409  0.6365  0.4056  0.1111                0.5333          0.2806\n",
                        "GPT-3.5-Value-Classification-Process_Engineer_Detailed         0.5093        0.2681           0.4698         0.1326  0.6431  0.3437  0.0857                0.5132          0.2367\n",
                        "GPT-3.5-Value-Classification-Process_Engineer_Technical        0.4915        0.3338           0.4561         0.1357  0.6242  0.3174  0.3937                0.4857          0.2124\n",
                        "GPT-3.5-Value-Model                                            0.4594        0.2277           0.3937         0.0413  0.6062  0.2333  0.0714                0.4579          0.1942\n",
                        "\n",
                        "Comparison table saved to test/results/overall\\model_comparison.csv\n"
                    ]
                }
            ],
            "source": [
                "import sys\n",
                "import os\n",
                "root_path = os.path.abspath(os.path.join(os.getcwd(), \"..\"))\n",
                "sys.path.append(root_path)\n",
                "import json\n",
                "import pandas as pd\n",
                "\n",
                "ROOT_DIR = r\"C:\\Projects\\Research\\SWEEP\\SWEEP\"\n",
                "\n",
                "def read_json_file(file_path):\n",
                "    with open(file_path, 'r') as f:\n",
                "        return json.load(f)\n",
                "\n",
                "def extract_key_metrics(data):\n",
                "    return {\n",
                "        'Accuracy': data['accuracy'],\n",
                "        'Macro Avg F1': data['macro_avg_f1_score'],\n",
                "        'Weighted Avg F1': data['weighted_avg_f1_score'],\n",
                "        'Cohen\\'s Kappa': data['cohens_kappa'],\n",
                "        'VA F1': data['class_metrics']['VA']['f1_score'],\n",
                "        'BVA F1': data['class_metrics']['BVA']['f1_score'],\n",
                "        'NVA F1': data['class_metrics']['NVA']['f1_score'],\n",
                "        'Avg Process Accuracy': data['process_level_metrics']['avg_accuracy'],\n",
                "        'Avg Process F1': data['process_level_metrics']['avg_f1_score']\n",
                "    }\n",
                "\n",
                "def create_comparison_table(results_dir):\n",
                "    model_metrics = {}\n",
                "    \n",
                "    for filename in os.listdir(results_dir):\n",
                "        if filename.endswith('_overall_results.json'):\n",
                "            model_name = filename.replace('_overall_results.json', '')\n",
                "            file_path = os.path.join(results_dir, filename)\n",
                "            data = read_json_file(file_path)\n",
                "            model_metrics[model_name] = extract_key_metrics(data)\n",
                "    \n",
                "    df = pd.DataFrame(model_metrics).T\n",
                "    df = df.sort_values('Weighted Avg F1', ascending=False)\n",
                "    \n",
                "    # Round all values to 4 decimal places\n",
                "    df = df.round(4)\n",
                "    \n",
                "    return df\n",
                "\n",
                "def main():\n",
                "    results_dir = os.path.join(ROOT_DIR, 'test/results/overall')\n",
                "    comparison_table = create_comparison_table(results_dir)\n",
                "    \n",
                "    print(\"Model Comparison Table:\")\n",
                "    print(comparison_table.to_string())\n",
                "    \n",
                "    # Optionally, save to CSV\n",
                "    csv_name = 'model_comparison.csv'\n",
                "    csv_path = os.path.join(results_dir, csv_name)\n",
                "    comparison_table.to_csv(csv_path)\n",
                "    print(f\"\\nComparison table saved to {csv_path}\")\n",
                "\n",
                "if __name__ == \"__main__\":\n",
                "    main()"
            ]
        },
        {
            "cell_type": "code",
            "execution_count": null,
            "metadata": {},
            "outputs": [],
            "source": []
        }
    ],
    "metadata": {
        "kernelspec": {
            "display_name": "nw3",
            "language": "python",
            "name": "python3"
        },
        "language_info": {
            "codemirror_mode": {
                "name": "ipython",
                "version": 3
            },
            "file_extension": ".py",
            "mimetype": "text/x-python",
            "name": "python",
            "nbconvert_exporter": "python",
            "pygments_lexer": "ipython3",
            "version": "3.9.15"
        }
    },
    "nbformat": 4,
    "nbformat_minor": 2
}
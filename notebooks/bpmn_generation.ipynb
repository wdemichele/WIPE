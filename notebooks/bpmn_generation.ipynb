{
 "cells": [
  {
   "cell_type": "code",
   "execution_count": 1,
   "metadata": {},
   "outputs": [],
   "source": [
    "import sys\n",
    "import os\n",
    "root_path = os.path.abspath(os.path.join(os.getcwd(), \"..\"))\n",
    "sys.path.append(root_path)"
   ]
  },
  {
   "cell_type": "code",
   "execution_count": 2,
   "metadata": {},
   "outputs": [
    {
     "name": "stdout",
     "output_type": "stream",
     "text": [
      "graph TD\n",
      "    A([Receive loan application]) --> B[Initial eligibility check]\n",
      "    B -->|eligible| C{XORGateway}\n",
      "    B -->|not eligible| Z([Application ineligible])\n",
      "    C -->|eligible| D{ParallelGateway}\n",
      "    D --> E[Credit history check]\n",
      "    D --> F[Check applicant's income sources]\n",
      "    D --> G[Appraisal of property to be mortgaged]\n",
      "    E --> H{XORGateway}\n",
      "    F --> H\n",
      "    G --> I{XORGateway}\n",
      "    H --> J[Assess applicant's credit risk]\n",
      "    I -->|mortgageable| K[Appraise other collateral]\n",
      "    I -->|not mortgageable| L{XORGateway}\n",
      "    L --> M[Customer informed]\n",
      "    M --> Z\n",
      "    K --> N{ParallelGateway}\n",
      "    J --> N\n",
      "    N --> O[Loan risk assessment]\n",
      "    O --> P([Risk assessed])\n"
     ]
    }
   ],
   "source": [
    "from src.bpmn_generation import BPMNGenerationGPT\n",
    "import os\n",
    "ROOT_DIR = r\"C:\\Projects\\Research\\SWEEP\\SWEEP\"\n",
    "\n",
    "sector = \"banking\"\n",
    "activity = \"loan_risk_assessment\"\n",
    "\n",
    "bpmn_generator = BPMNGenerationGPT()\n",
    "folder_path = os.path.join(ROOT_DIR, f\"data\\\\{sector}\\\\{activity}\")\n",
    "image_name = f\"{activity}_diagram.png\"\n",
    "original_image_path = os.path.join(folder_path, image_name)\n",
    "mermaid_code = bpmn_generator.generate_bpmn(original_image_path)    \n",
    "if mermaid_code:\n",
    "    print(mermaid_code)\n",
    "else:\n",
    "    print(\"Failed to generate BPMN notation.\")"
   ]
  },
  {
   "cell_type": "code",
   "execution_count": 3,
   "metadata": {},
   "outputs": [
    {
     "name": "stdout",
     "output_type": "stream",
     "text": [
      "Image generated successfully: C:\\Projects\\Research\\SWEEP\\SWEEP\\test\\results\\value_classification\\banking\\loan_risk_assessment\\loan_risk_assessment_diagram_generated.png\n"
     ]
    }
   ],
   "source": [
    "from src.bpmn_generation import MermaidImageGenerator\n",
    "\n",
    "flow_image_generator = MermaidImageGenerator(mmdc_path=r\"C:\\Users\\wmichele\\AppData\\Roaming\\npm\\mmdc.cmd\")\n",
    "\n",
    "# get the diagram name from the image path\n",
    "diagram_name = image_name.split(\".\")[0] + \"_generated.png\"\n",
    "result_path = os.path.join(ROOT_DIR, f\"test\\\\results\\\\bpmn_generation\\\\{sector}\\\\{activity}\")\n",
    "\n",
    "generated_image_path = os.path.join(result_path, diagram_name)\n",
    "success = flow_image_generator.generate_image(mermaid_code, generated_image_path)"
   ]
  },
  {
   "cell_type": "code",
   "execution_count": 1,
   "metadata": {},
   "outputs": [],
   "source": [
    "from src.bpmn_generation import BPMNGenerationEvaluatorGPT\n",
    "\n",
    "evaluator = BPMNGenerationEvaluatorGPT()\n",
    "\n",
    "equivalance, revisions = evaluator.evaluate_bpmn(original_image_path, generated_image_path)\n",
    "\n",
    "if revisions:\n",
    "    print(\"Evaluation Result:\")\n",
    "    print(f\"equivalance: {equivalance}\")\n",
    "    \n",
    "    print(revisions)\n",
    "else:\n",
    "    print(\"Failed to evaluate BPMN diagrams.\")"
   ]
  },
  {
   "cell_type": "code",
   "execution_count": 5,
   "metadata": {},
   "outputs": [],
   "source": [
    "def revise_and_evaluate_bpmn(original_image_path, current_mermaid_code, result_path, image_name, iteration=0, max_iterations=3):\n",
    "    \"\"\"\n",
    "    Recursively revise and evaluate BPMN diagrams.\n",
    "    \n",
    "    :param original_image_path: Path to the original image\n",
    "    :param current_mermaid_code: Current Mermaid code to revise\n",
    "    :param result_path: Path to the folder for saving generated images\n",
    "    :param image_name: Name of the image file\n",
    "    :param iteration: Current iteration count\n",
    "    :param max_iterations: Maximum number of iterations allowed\n",
    "    :return: Tuple of (final_equivalence, final_mermaid_code, final_revisions)\n",
    "    \"\"\"\n",
    "    if iteration >= max_iterations:\n",
    "        print(f\"Reached maximum iterations ({max_iterations}). Stopping revision process.\")\n",
    "        return False, current_mermaid_code, \"Max iterations reached. Further manual review may be needed.\"\n",
    "\n",
    "    # Generate image from current Mermaid code\n",
    "    revised_diagram_name = f\"{image_name.split('.')[0]}_generated_revised_{iteration}.png\"\n",
    "    generated_revised_image_path = os.path.join(result_path, revised_diagram_name)\n",
    "    success = flow_image_generator.generate_image(current_mermaid_code, generated_revised_image_path)\n",
    "\n",
    "    if not success:\n",
    "        print(f\"Failed to generate image for iteration {iteration}.\")\n",
    "        return False, current_mermaid_code, \"Failed to generate image\"\n",
    "\n",
    "    # Evaluate the revised BPMN\n",
    "    equivalence, revisions = evaluator.evaluate_bpmn(original_image_path, generated_revised_image_path)\n",
    "\n",
    "    print(f\"\\nIteration {iteration + 1} Evaluation Result:\")\n",
    "    print(f\"Equivalence: {equivalence}\")\n",
    "    print(revisions)\n",
    "\n",
    "    if equivalence:\n",
    "        return True, current_mermaid_code, revisions\n",
    "\n",
    "    # If not equivalent, revise the BPMN\n",
    "    updated_mermaid_code = bpmn_generator.revise_bpmn(revisions)\n",
    "\n",
    "    if updated_mermaid_code:\n",
    "        print(f\"\\nUpdated Mermaid Code (Iteration {iteration + 1}):\")\n",
    "        print(updated_mermaid_code)\n",
    "    else:\n",
    "        print(f\"Failed to generate BPMN notation in iteration {iteration + 1}.\")\n",
    "        return False, current_mermaid_code, \"Failed to generate updated BPMN notation\"\n",
    "\n",
    "    # Recursive call\n",
    "    return revise_and_evaluate_bpmn(\n",
    "        original_image_path, updated_mermaid_code, \n",
    "        result_path, image_name, iteration + 1, max_iterations\n",
    "    )"
   ]
  },
  {
   "cell_type": "code",
   "execution_count": 6,
   "metadata": {},
   "outputs": [],
   "source": [
    "if not equivalance:\n",
    "    final_equivalence, final_mermaid_code, final_revisions = revise_and_evaluate_bpmn(original_image_path, mermaid_code, result_path, image_name, iteration=0, max_iterations=3)"
   ]
  }
 ],
 "metadata": {
  "kernelspec": {
   "display_name": "nw3",
   "language": "python",
   "name": "python3"
  },
  "language_info": {
   "codemirror_mode": {
    "name": "ipython",
    "version": 3
   },
   "file_extension": ".py",
   "mimetype": "text/x-python",
   "name": "python",
   "nbconvert_exporter": "python",
   "pygments_lexer": "ipython3",
   "version": "3.9.15"
  }
 },
 "nbformat": 4,
 "nbformat_minor": 2
}
